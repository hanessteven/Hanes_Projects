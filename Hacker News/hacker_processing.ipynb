{
 "cells": [
  {
   "cell_type": "markdown",
   "metadata": {
    "collapsed": true,
    "pycharm": {
     "name": "#%% md\n"
    }
   },
   "source": [
    "# Hacker News"
   ]
  },
  {
   "cell_type": "code",
   "execution_count": 201,
   "outputs": [],
   "source": [
    "# IMPORTS\n",
    "import pandas as pd\n",
    "import seaborn as sns\n",
    "import os\n",
    "import matplotlib.pyplot as plt\n",
    "import datetime as dt\n",
    "\n"
   ],
   "metadata": {
    "collapsed": false,
    "pycharm": {
     "name": "#%%\n"
    }
   }
  },
  {
   "cell_type": "code",
   "source": [
    "raw = pd.read_csv(r'HN_posts_year_to_Sep_26_2016.csv')\n",
    "\n",
    "raw.head()"
   ],
   "metadata": {
    "collapsed": false,
    "pycharm": {
     "name": "#%%\n"
    }
   },
   "execution_count": 202,
   "outputs": [
    {
     "data": {
      "text/plain": "         id                                              title  \\\n0  12579008  You have two days to comment if you want stem ...   \n1  12579005                         SQLAR  the SQLite Archiver   \n2  12578997  What if we just printed a flatscreen televisio...   \n3  12578989                                  algorithmic music   \n4  12578979  How the Data Vault Enables the Next-Gen Data W...   \n\n                                                 url  num_points  \\\n0  http://www.regulations.gov/document?D=FDA-2015...           1   \n1   https://www.sqlite.org/sqlar/doc/trunk/README.md           1   \n2  https://medium.com/vanmoof/our-secrets-out-f21...           1   \n3  http://cacm.acm.org/magazines/2011/7/109891-al...           1   \n4  https://www.talend.com/blog/2016/05/12/talend-...           1   \n\n   num_comments        author      created_at  \n0             0       altstar  9/26/2016 3:26  \n1             0      blacksqr  9/26/2016 3:24  \n2             0  pavel_lishin  9/26/2016 3:19  \n3             0  poindontcare  9/26/2016 3:16  \n4             0   markgainor1  9/26/2016 3:14  ",
      "text/html": "<div>\n<style scoped>\n    .dataframe tbody tr th:only-of-type {\n        vertical-align: middle;\n    }\n\n    .dataframe tbody tr th {\n        vertical-align: top;\n    }\n\n    .dataframe thead th {\n        text-align: right;\n    }\n</style>\n<table border=\"1\" class=\"dataframe\">\n  <thead>\n    <tr style=\"text-align: right;\">\n      <th></th>\n      <th>id</th>\n      <th>title</th>\n      <th>url</th>\n      <th>num_points</th>\n      <th>num_comments</th>\n      <th>author</th>\n      <th>created_at</th>\n    </tr>\n  </thead>\n  <tbody>\n    <tr>\n      <th>0</th>\n      <td>12579008</td>\n      <td>You have two days to comment if you want stem ...</td>\n      <td>http://www.regulations.gov/document?D=FDA-2015...</td>\n      <td>1</td>\n      <td>0</td>\n      <td>altstar</td>\n      <td>9/26/2016 3:26</td>\n    </tr>\n    <tr>\n      <th>1</th>\n      <td>12579005</td>\n      <td>SQLAR  the SQLite Archiver</td>\n      <td>https://www.sqlite.org/sqlar/doc/trunk/README.md</td>\n      <td>1</td>\n      <td>0</td>\n      <td>blacksqr</td>\n      <td>9/26/2016 3:24</td>\n    </tr>\n    <tr>\n      <th>2</th>\n      <td>12578997</td>\n      <td>What if we just printed a flatscreen televisio...</td>\n      <td>https://medium.com/vanmoof/our-secrets-out-f21...</td>\n      <td>1</td>\n      <td>0</td>\n      <td>pavel_lishin</td>\n      <td>9/26/2016 3:19</td>\n    </tr>\n    <tr>\n      <th>3</th>\n      <td>12578989</td>\n      <td>algorithmic music</td>\n      <td>http://cacm.acm.org/magazines/2011/7/109891-al...</td>\n      <td>1</td>\n      <td>0</td>\n      <td>poindontcare</td>\n      <td>9/26/2016 3:16</td>\n    </tr>\n    <tr>\n      <th>4</th>\n      <td>12578979</td>\n      <td>How the Data Vault Enables the Next-Gen Data W...</td>\n      <td>https://www.talend.com/blog/2016/05/12/talend-...</td>\n      <td>1</td>\n      <td>0</td>\n      <td>markgainor1</td>\n      <td>9/26/2016 3:14</td>\n    </tr>\n  </tbody>\n</table>\n</div>"
     },
     "execution_count": 202,
     "metadata": {},
     "output_type": "execute_result"
    }
   ]
  },
  {
   "cell_type": "markdown",
   "source": [
    "remove posts without comments\n"
   ],
   "metadata": {
    "collapsed": false,
    "pycharm": {
     "name": "#%% md\n"
    }
   }
  },
  {
   "cell_type": "code",
   "source": [
    "raw.drop(raw.loc[raw['num_comments'] == 0].index, inplace=True)"
   ],
   "metadata": {
    "collapsed": false,
    "pycharm": {
     "name": "#%%\n"
    }
   },
   "execution_count": 203,
   "outputs": []
  },
  {
   "cell_type": "code",
   "source": [
    "raw.reset_index(inplace=True, drop=True)\n",
    "raw.head()\n"
   ],
   "metadata": {
    "collapsed": false,
    "pycharm": {
     "name": "#%%\n"
    }
   },
   "execution_count": 204,
   "outputs": [
    {
     "data": {
      "text/plain": "         id                                              title  \\\n0  12578975                      Saving the Hassle of Shopping   \n1  12578908  Ask HN: What TLD do you use for local developm...   \n2  12578822    Amazons Algorithms Dont Find You the Best Deals   \n3  12578694  Emergency dose of epinephrine that does not co...   \n4  12578624  Phone Makers Could Cut Off Drivers. So Why Don...   \n\n                                                 url  num_points  \\\n0  https://blog.menswr.com/2016/09/07/whats-new-w...           1   \n1                                                NaN           4   \n2  https://www.technologyreview.com/s/602442/amaz...           1   \n3                   http://m.imgur.com/gallery/th6Ua           2   \n4  http://www.nytimes.com/2016/09/25/technology/p...           4   \n\n   num_comments       author      created_at  \n0             1        bdoux  9/26/2016 3:13  \n1             7      Sevrene  9/26/2016 2:53  \n2             1    yarapavan  9/26/2016 2:26  \n3             1  dredmorbius  9/26/2016 1:54  \n4             1        danso  9/26/2016 1:37  ",
      "text/html": "<div>\n<style scoped>\n    .dataframe tbody tr th:only-of-type {\n        vertical-align: middle;\n    }\n\n    .dataframe tbody tr th {\n        vertical-align: top;\n    }\n\n    .dataframe thead th {\n        text-align: right;\n    }\n</style>\n<table border=\"1\" class=\"dataframe\">\n  <thead>\n    <tr style=\"text-align: right;\">\n      <th></th>\n      <th>id</th>\n      <th>title</th>\n      <th>url</th>\n      <th>num_points</th>\n      <th>num_comments</th>\n      <th>author</th>\n      <th>created_at</th>\n    </tr>\n  </thead>\n  <tbody>\n    <tr>\n      <th>0</th>\n      <td>12578975</td>\n      <td>Saving the Hassle of Shopping</td>\n      <td>https://blog.menswr.com/2016/09/07/whats-new-w...</td>\n      <td>1</td>\n      <td>1</td>\n      <td>bdoux</td>\n      <td>9/26/2016 3:13</td>\n    </tr>\n    <tr>\n      <th>1</th>\n      <td>12578908</td>\n      <td>Ask HN: What TLD do you use for local developm...</td>\n      <td>NaN</td>\n      <td>4</td>\n      <td>7</td>\n      <td>Sevrene</td>\n      <td>9/26/2016 2:53</td>\n    </tr>\n    <tr>\n      <th>2</th>\n      <td>12578822</td>\n      <td>Amazons Algorithms Dont Find You the Best Deals</td>\n      <td>https://www.technologyreview.com/s/602442/amaz...</td>\n      <td>1</td>\n      <td>1</td>\n      <td>yarapavan</td>\n      <td>9/26/2016 2:26</td>\n    </tr>\n    <tr>\n      <th>3</th>\n      <td>12578694</td>\n      <td>Emergency dose of epinephrine that does not co...</td>\n      <td>http://m.imgur.com/gallery/th6Ua</td>\n      <td>2</td>\n      <td>1</td>\n      <td>dredmorbius</td>\n      <td>9/26/2016 1:54</td>\n    </tr>\n    <tr>\n      <th>4</th>\n      <td>12578624</td>\n      <td>Phone Makers Could Cut Off Drivers. So Why Don...</td>\n      <td>http://www.nytimes.com/2016/09/25/technology/p...</td>\n      <td>4</td>\n      <td>1</td>\n      <td>danso</td>\n      <td>9/26/2016 1:37</td>\n    </tr>\n  </tbody>\n</table>\n</div>"
     },
     "execution_count": 204,
     "metadata": {},
     "output_type": "execute_result"
    }
   ]
  },
  {
   "cell_type": "markdown",
   "source": [
    "Explore Data\n",
    "\n",
    "- id: The unique identifier from Hacker News for the post\n",
    "- title: The title of the post\n",
    "- url: The URL that the posts links to, if it the post has a URL\n",
    "- num_points: The number of points the post acquired, calculated as the total number of upvotes minus the total number of downvotes\n",
    "- num_comments: The number of comments that were made on the post\n",
    "- author: The username of the person who submitted the post\n",
    "- created_at: The date and time at which the post was submitted"
   ],
   "metadata": {
    "collapsed": false,
    "pycharm": {
     "name": "#%% md\n"
    }
   }
  },
  {
   "cell_type": "code",
   "source": [
    "raw.describe()"
   ],
   "metadata": {
    "collapsed": false,
    "pycharm": {
     "name": "#%%\n"
    }
   },
   "execution_count": 205,
   "outputs": [
    {
     "data": {
      "text/plain": "                 id    num_points  num_comments\ncount  8.040100e+04  80401.000000  80401.000000\nmean   1.131508e+07     48.388677     23.790264\nstd    6.951544e+05    104.517216     54.343983\nmin    1.017691e+07      1.000000      1.000000\n25%    1.069970e+07      3.000000      1.000000\n50%    1.128317e+07      9.000000      3.000000\n75%    1.191912e+07     52.000000     20.000000\nmax    1.257898e+07   5771.000000   2531.000000",
      "text/html": "<div>\n<style scoped>\n    .dataframe tbody tr th:only-of-type {\n        vertical-align: middle;\n    }\n\n    .dataframe tbody tr th {\n        vertical-align: top;\n    }\n\n    .dataframe thead th {\n        text-align: right;\n    }\n</style>\n<table border=\"1\" class=\"dataframe\">\n  <thead>\n    <tr style=\"text-align: right;\">\n      <th></th>\n      <th>id</th>\n      <th>num_points</th>\n      <th>num_comments</th>\n    </tr>\n  </thead>\n  <tbody>\n    <tr>\n      <th>count</th>\n      <td>8.040100e+04</td>\n      <td>80401.000000</td>\n      <td>80401.000000</td>\n    </tr>\n    <tr>\n      <th>mean</th>\n      <td>1.131508e+07</td>\n      <td>48.388677</td>\n      <td>23.790264</td>\n    </tr>\n    <tr>\n      <th>std</th>\n      <td>6.951544e+05</td>\n      <td>104.517216</td>\n      <td>54.343983</td>\n    </tr>\n    <tr>\n      <th>min</th>\n      <td>1.017691e+07</td>\n      <td>1.000000</td>\n      <td>1.000000</td>\n    </tr>\n    <tr>\n      <th>25%</th>\n      <td>1.069970e+07</td>\n      <td>3.000000</td>\n      <td>1.000000</td>\n    </tr>\n    <tr>\n      <th>50%</th>\n      <td>1.128317e+07</td>\n      <td>9.000000</td>\n      <td>3.000000</td>\n    </tr>\n    <tr>\n      <th>75%</th>\n      <td>1.191912e+07</td>\n      <td>52.000000</td>\n      <td>20.000000</td>\n    </tr>\n    <tr>\n      <th>max</th>\n      <td>1.257898e+07</td>\n      <td>5771.000000</td>\n      <td>2531.000000</td>\n    </tr>\n  </tbody>\n</table>\n</div>"
     },
     "execution_count": 205,
     "metadata": {},
     "output_type": "execute_result"
    }
   ]
  },
  {
   "cell_type": "code",
   "execution_count": 206,
   "outputs": [],
   "source": [
    "def get_cat(series: pd.Series, empty_flag: bool) -> str:\n",
    "    \"\"\"\n",
    "    :param series: a pandas series of data (should be of one data type)\n",
    "    :param empty_flag: a boolean to call out an empty column (containing all NaNs)\n",
    "    :return: a string that is the 'category of the datatype'\n",
    "\n",
    "    This function will take a given series and return a generalized category for the datatype.\n",
    "    This is necessary for readability as df.dtypes will return ungrouped types (i.e. float64, int64)\n",
    "    as well as return some options that do not provide much insight (i.e. object)\n",
    "    \"\"\"\n",
    "    if empty_flag:  # Catch Empty Columns\n",
    "        return 'Empty'\n",
    "    elif pd.api.types.is_numeric_dtype(series):\n",
    "        return 'Numerical'\n",
    "    elif pd.api.types.is_datetime64_dtype(series):\n",
    "        return 'Date'\n",
    "    elif pd.api.types.is_bool_dtype(series):\n",
    "        return 'Boolean'\n",
    "    elif pd.api.types.is_categorical_dtype(series):\n",
    "        return 'Categorical'\n",
    "    elif pd.api.types.is_string_dtype(series):\n",
    "        return 'Text'\n",
    "    else:  # Catches all others for review\n",
    "        return 'Unknown'\n",
    "\n",
    "\n",
    "def col_categories(data: pd.DataFrame):\n",
    "    \"\"\"\n",
    "    :param data: a pandas Dataframe consisting of columns of data you want to explore their categories\n",
    "    :return: None\n",
    "    Prints the column name and data type of each column in the dataframe\n",
    "    \"\"\"\n",
    "    if data.dropna().empty:  # Catches Error\n",
    "        raise ValueError('DataFrame Provided Contains is either empty or only contains NaNs')\n",
    "        # sys.exit(1)\n",
    "    for col in data.columns:  # For Each Column\n",
    "        if data[col].dropna().empty:  # Catch Empty Columns\n",
    "            empty = True  # Set Flag\n",
    "        else:\n",
    "            empty = False  # Set Flag\n",
    "        count = data[col].nunique()\n",
    "        perc_null = 100*data[col].isnull().sum()/len(data)\n",
    "        print(col, ': ', get_cat(data[col], empty), os.linesep, ' -- #Unique: ', count, '-- %Null: ', perc_null)"
   ],
   "metadata": {
    "collapsed": false,
    "pycharm": {
     "name": "#%%\n"
    }
   }
  },
  {
   "cell_type": "code",
   "execution_count": 207,
   "outputs": [
    {
     "name": "stdout",
     "output_type": "stream",
     "text": [
      "id :  Numerical \r\n",
      "  -- #Unique:  80401 -- %Null:  0.0\n",
      "title :  Text \r\n",
      "  -- #Unique:  78137 -- %Null:  0.0\n",
      "url :  Text \r\n",
      "  -- #Unique:  67755 -- %Null:  12.110545888732727\n",
      "num_points :  Numerical \r\n",
      "  -- #Unique:  911 -- %Null:  0.0\n",
      "num_comments :  Numerical \r\n",
      "  -- #Unique:  547 -- %Null:  0.0\n",
      "author :  Text \r\n",
      "  -- #Unique:  26595 -- %Null:  0.0\n",
      "created_at :  Text \r\n",
      "  -- #Unique:  74053 -- %Null:  0.0\n"
     ]
    }
   ],
   "source": [
    "col_categories(raw)\n"
   ],
   "metadata": {
    "collapsed": false,
    "pycharm": {
     "name": "#%%\n"
    }
   }
  },
  {
   "cell_type": "code",
   "execution_count": 208,
   "outputs": [
    {
     "data": {
      "text/plain": "<matplotlib.axes._subplots.AxesSubplot at 0x1afc7e7d448>"
     },
     "execution_count": 208,
     "metadata": {},
     "output_type": "execute_result"
    },
    {
     "data": {
      "text/plain": "<Figure size 432x288 with 2 Axes>",
      "image/png": "[encoded data removed]"
     },
     "metadata": {
      "needs_background": "light"
     },
     "output_type": "display_data"
    }
   ],
   "source": [
    "# Features to generate a visual\n",
    "features = ['num_points', 'num_comments']\n",
    "corr_matrix = raw[features].corr()\n",
    "sns.heatmap(corr_matrix, annot=True)\n",
    "\n"
   ],
   "metadata": {
    "collapsed": false,
    "pycharm": {
     "name": "#%%\n"
    }
   }
  },
  {
   "cell_type": "markdown",
   "source": [
    "We're specifically interested in posts whose titles begin with either Ask HN or Show HN.\n",
    "Users submit Ask HN posts to ask the Hacker News community a specific question\n",
    "\n",
    "users submit Show HN posts to show the Hacker News community a project, product, or just generally something interesting\n",
    "\n",
    "Goal:\n",
    "Do Ask HN or Show HN receive more comments on average?\n",
    "Do posts created at a certain time receive more comments on average?\n"
   ],
   "metadata": {
    "collapsed": false,
    "pycharm": {
     "name": "#%% md\n"
    }
   }
  },
  {
   "cell_type": "code",
   "execution_count": 209,
   "outputs": [],
   "source": [
    "def p_type(row: pd.DataFrame) -> str:\n",
    "    \"\"\"\n",
    "    a simple function to create a categorical variable based off if the post in question\n",
    "    is a Ask_HN, Show_HN, or Other Post Types\n",
    "    :param row: pd.DataFrame of length 1 (aka a row)\n",
    "    :return: cat - a string containing the correct category\n",
    "    \"\"\"\n",
    "    title = row.title.lower()\n",
    "    if title.startswith('ask hn'):\n",
    "        cat = 'ask'\n",
    "    elif title.startswith('show hn'):\n",
    "        cat = 'show'\n",
    "    else:\n",
    "        cat = 'other'\n",
    "    return cat"
   ],
   "metadata": {
    "collapsed": false,
    "pycharm": {
     "name": "#%%\n"
    }
   }
  },
  {
   "cell_type": "code",
   "execution_count": 210,
   "outputs": [
    {
     "data": {
      "text/plain": "         id                                              title  \\\n0  12578975                      Saving the Hassle of Shopping   \n1  12578908  Ask HN: What TLD do you use for local developm...   \n2  12578822    Amazons Algorithms Dont Find You the Best Deals   \n3  12578694  Emergency dose of epinephrine that does not co...   \n4  12578624  Phone Makers Could Cut Off Drivers. So Why Don...   \n\n                                                 url  num_points  \\\n0  https://blog.menswr.com/2016/09/07/whats-new-w...           1   \n1                                                NaN           4   \n2  https://www.technologyreview.com/s/602442/amaz...           1   \n3                   http://m.imgur.com/gallery/th6Ua           2   \n4  http://www.nytimes.com/2016/09/25/technology/p...           4   \n\n   num_comments       author      created_at post_type  \n0             1        bdoux  9/26/2016 3:13     other  \n1             7      Sevrene  9/26/2016 2:53       ask  \n2             1    yarapavan  9/26/2016 2:26     other  \n3             1  dredmorbius  9/26/2016 1:54     other  \n4             1        danso  9/26/2016 1:37     other  ",
      "text/html": "<div>\n<style scoped>\n    .dataframe tbody tr th:only-of-type {\n        vertical-align: middle;\n    }\n\n    .dataframe tbody tr th {\n        vertical-align: top;\n    }\n\n    .dataframe thead th {\n        text-align: right;\n    }\n</style>\n<table border=\"1\" class=\"dataframe\">\n  <thead>\n    <tr style=\"text-align: right;\">\n      <th></th>\n      <th>id</th>\n      <th>title</th>\n      <th>url</th>\n      <th>num_points</th>\n      <th>num_comments</th>\n      <th>author</th>\n      <th>created_at</th>\n      <th>post_type</th>\n    </tr>\n  </thead>\n  <tbody>\n    <tr>\n      <th>0</th>\n      <td>12578975</td>\n      <td>Saving the Hassle of Shopping</td>\n      <td>https://blog.menswr.com/2016/09/07/whats-new-w...</td>\n      <td>1</td>\n      <td>1</td>\n      <td>bdoux</td>\n      <td>9/26/2016 3:13</td>\n      <td>other</td>\n    </tr>\n    <tr>\n      <th>1</th>\n      <td>12578908</td>\n      <td>Ask HN: What TLD do you use for local developm...</td>\n      <td>NaN</td>\n      <td>4</td>\n      <td>7</td>\n      <td>Sevrene</td>\n      <td>9/26/2016 2:53</td>\n      <td>ask</td>\n    </tr>\n    <tr>\n      <th>2</th>\n      <td>12578822</td>\n      <td>Amazons Algorithms Dont Find You the Best Deals</td>\n      <td>https://www.technologyreview.com/s/602442/amaz...</td>\n      <td>1</td>\n      <td>1</td>\n      <td>yarapavan</td>\n      <td>9/26/2016 2:26</td>\n      <td>other</td>\n    </tr>\n    <tr>\n      <th>3</th>\n      <td>12578694</td>\n      <td>Emergency dose of epinephrine that does not co...</td>\n      <td>http://m.imgur.com/gallery/th6Ua</td>\n      <td>2</td>\n      <td>1</td>\n      <td>dredmorbius</td>\n      <td>9/26/2016 1:54</td>\n      <td>other</td>\n    </tr>\n    <tr>\n      <th>4</th>\n      <td>12578624</td>\n      <td>Phone Makers Could Cut Off Drivers. So Why Don...</td>\n      <td>http://www.nytimes.com/2016/09/25/technology/p...</td>\n      <td>4</td>\n      <td>1</td>\n      <td>danso</td>\n      <td>9/26/2016 1:37</td>\n      <td>other</td>\n    </tr>\n  </tbody>\n</table>\n</div>"
     },
     "execution_count": 210,
     "metadata": {},
     "output_type": "execute_result"
    }
   ],
   "source": [
    "raw['post_type'] = raw.apply(p_type, axis=1)\n",
    "raw.head()\n"
   ],
   "metadata": {
    "collapsed": false,
    "pycharm": {
     "name": "#%%\n"
    }
   }
  },
  {
   "cell_type": "markdown",
   "source": [
    "review category"
   ],
   "metadata": {
    "collapsed": false,
    "pycharm": {
     "name": "#%% md\n"
    }
   }
  },
  {
   "cell_type": "code",
   "source": [
    "raw.post_type.value_counts()"
   ],
   "metadata": {
    "collapsed": false,
    "pycharm": {
     "name": "#%%\n"
    }
   },
   "execution_count": 211,
   "outputs": [
    {
     "data": {
      "text/plain": "other    68431\nask       6911\nshow      5059\nName: post_type, dtype: int64"
     },
     "execution_count": 211,
     "metadata": {},
     "output_type": "execute_result"
    }
   ]
  },
  {
   "cell_type": "markdown",
   "source": [
    "now to look num_comments based on post category"
   ],
   "metadata": {
    "collapsed": false,
    "pycharm": {
     "name": "#%% md\n"
    }
   }
  },
  {
   "cell_type": "code",
   "execution_count": 212,
   "outputs": [
    {
     "data": {
      "text/plain": "                     id  num_points  num_comments\npost_type                                        \nask        1.139844e+07   14.404572     13.744176\nother      1.130769e+07   53.430039     25.838319\nshow       1.130112e+07   26.621269      9.810832",
      "text/html": "<div>\n<style scoped>\n    .dataframe tbody tr th:only-of-type {\n        vertical-align: middle;\n    }\n\n    .dataframe tbody tr th {\n        vertical-align: top;\n    }\n\n    .dataframe thead th {\n        text-align: right;\n    }\n</style>\n<table border=\"1\" class=\"dataframe\">\n  <thead>\n    <tr style=\"text-align: right;\">\n      <th></th>\n      <th>id</th>\n      <th>num_points</th>\n      <th>num_comments</th>\n    </tr>\n    <tr>\n      <th>post_type</th>\n      <th></th>\n      <th></th>\n      <th></th>\n    </tr>\n  </thead>\n  <tbody>\n    <tr>\n      <th>ask</th>\n      <td>1.139844e+07</td>\n      <td>14.404572</td>\n      <td>13.744176</td>\n    </tr>\n    <tr>\n      <th>other</th>\n      <td>1.130769e+07</td>\n      <td>53.430039</td>\n      <td>25.838319</td>\n    </tr>\n    <tr>\n      <th>show</th>\n      <td>1.130112e+07</td>\n      <td>26.621269</td>\n      <td>9.810832</td>\n    </tr>\n  </tbody>\n</table>\n</div>"
     },
     "execution_count": 212,
     "metadata": {},
     "output_type": "execute_result"
    }
   ],
   "source": [
    "raw.groupby('post_type').mean()\n"
   ],
   "metadata": {
    "collapsed": false,
    "pycharm": {
     "name": "#%%\n"
    }
   }
  },
  {
   "cell_type": "markdown",
   "source": [
    "look at distributions now\n"
   ],
   "metadata": {
    "collapsed": false,
    "pycharm": {
     "name": "#%% md\n"
    }
   }
  },
  {
   "cell_type": "code",
   "execution_count": 213,
   "outputs": [
    {
     "data": {
      "text/plain": "Text(0.5, 1.0, 'Show Hacker Net')"
     },
     "execution_count": 213,
     "metadata": {},
     "output_type": "execute_result"
    },
    {
     "data": {
      "text/plain": "<Figure size 1440x720 with 4 Axes>",
      "image/png": "[encoded data removed]"
     },
     "metadata": {
      "needs_background": "light"
     },
     "output_type": "display_data"
    }
   ],
   "source": [
    "fig, (ax1, ax2) = plt.subplots(ncols=2, figsize=(20, 10))\n",
    "\n",
    "x1 = raw.num_comments.loc[raw['post_type'] == 'ask']\n",
    "y1 = raw.num_points.loc[raw['post_type'] == 'ask']\n",
    "x2 = raw.num_comments.loc[raw['post_type'] == 'show']\n",
    "y2 = raw.num_points.loc[raw['post_type'] == 'show']\n",
    "\n",
    "\n",
    "ax1 = sns.kdeplot(x1, y1, shade=True, cmap='Blues', cbar=True, ax=ax1)\n",
    "ax2 = sns.kdeplot(x2, y2, shade=True, cmap='Reds', cbar=True, ax=ax2)\n",
    "\n",
    "# Formating Plots\n",
    "ax1.set_xlim(0, 35)\n",
    "ax1.set_ylim(0, 50)\n",
    "ax2.set_xlim(0, 35)\n",
    "ax2.set_ylim(0, 50)\n",
    "ax1.set_title('Ask Hacker Net')\n",
    "ax2.set_title('Show Hacker Net')\n"
   ],
   "metadata": {
    "collapsed": false,
    "pycharm": {
     "name": "#%%\n"
    }
   }
  },
  {
   "cell_type": "markdown",
   "source": [
    "Evaluate if specific times are better for accruing comments and/or points"
   ],
   "metadata": {
    "collapsed": false,
    "pycharm": {
     "name": "#%% md\n"
    }
   }
  },
  {
   "cell_type": "code",
   "execution_count": 228,
   "outputs": [],
   "source": [
    "def time_parse(row: pd.DataFrame):\n",
    "    dat = dt.datetime.strptime(row[6], '%m/%d/%Y %H:%M')\n",
    "    return int(dat.hour), dt.datetime.strftime(dat, '%A')\n"
   ],
   "metadata": {
    "collapsed": false,
    "pycharm": {
     "name": "#%%\n"
    }
   }
  },
  {
   "cell_type": "code",
   "source": [
    "raw[['hour','DOW']] = raw.apply(time_parse, axis=1, result_type='expand')\n",
    "raw.head()"
   ],
   "metadata": {
    "collapsed": false,
    "pycharm": {
     "name": "#%%\n"
    }
   },
   "execution_count": 229,
   "outputs": [
    {
     "data": {
      "text/plain": "         id                                              title  \\\n0  12578975                      Saving the Hassle of Shopping   \n1  12578908  Ask HN: What TLD do you use for local developm...   \n2  12578822    Amazons Algorithms Dont Find You the Best Deals   \n3  12578694  Emergency dose of epinephrine that does not co...   \n4  12578624  Phone Makers Could Cut Off Drivers. So Why Don...   \n\n                                                 url  num_points  \\\n0  https://blog.menswr.com/2016/09/07/whats-new-w...           1   \n1                                                NaN           4   \n2  https://www.technologyreview.com/s/602442/amaz...           1   \n3                   http://m.imgur.com/gallery/th6Ua           2   \n4  http://www.nytimes.com/2016/09/25/technology/p...           4   \n\n   num_comments       author      created_at post_type  hour     DOW  \n0             1        bdoux  9/26/2016 3:13     other     3  Monday  \n1             7      Sevrene  9/26/2016 2:53       ask     2  Monday  \n2             1    yarapavan  9/26/2016 2:26     other     2  Monday  \n3             1  dredmorbius  9/26/2016 1:54     other     1  Monday  \n4             1        danso  9/26/2016 1:37     other     1  Monday  ",
      "text/html": "<div>\n<style scoped>\n    .dataframe tbody tr th:only-of-type {\n        vertical-align: middle;\n    }\n\n    .dataframe tbody tr th {\n        vertical-align: top;\n    }\n\n    .dataframe thead th {\n        text-align: right;\n    }\n</style>\n<table border=\"1\" class=\"dataframe\">\n  <thead>\n    <tr style=\"text-align: right;\">\n      <th></th>\n      <th>id</th>\n      <th>title</th>\n      <th>url</th>\n      <th>num_points</th>\n      <th>num_comments</th>\n      <th>author</th>\n      <th>created_at</th>\n      <th>post_type</th>\n      <th>hour</th>\n      <th>DOW</th>\n    </tr>\n  </thead>\n  <tbody>\n    <tr>\n      <th>0</th>\n      <td>12578975</td>\n      <td>Saving the Hassle of Shopping</td>\n      <td>https://blog.menswr.com/2016/09/07/whats-new-w...</td>\n      <td>1</td>\n      <td>1</td>\n      <td>bdoux</td>\n      <td>9/26/2016 3:13</td>\n      <td>other</td>\n      <td>3</td>\n      <td>Monday</td>\n    </tr>\n    <tr>\n      <th>1</th>\n      <td>12578908</td>\n      <td>Ask HN: What TLD do you use for local developm...</td>\n      <td>NaN</td>\n      <td>4</td>\n      <td>7</td>\n      <td>Sevrene</td>\n      <td>9/26/2016 2:53</td>\n      <td>ask</td>\n      <td>2</td>\n      <td>Monday</td>\n    </tr>\n    <tr>\n      <th>2</th>\n      <td>12578822</td>\n      <td>Amazons Algorithms Dont Find You the Best Deals</td>\n      <td>https://www.technologyreview.com/s/602442/amaz...</td>\n      <td>1</td>\n      <td>1</td>\n      <td>yarapavan</td>\n      <td>9/26/2016 2:26</td>\n      <td>other</td>\n      <td>2</td>\n      <td>Monday</td>\n    </tr>\n    <tr>\n      <th>3</th>\n      <td>12578694</td>\n      <td>Emergency dose of epinephrine that does not co...</td>\n      <td>http://m.imgur.com/gallery/th6Ua</td>\n      <td>2</td>\n      <td>1</td>\n      <td>dredmorbius</td>\n      <td>9/26/2016 1:54</td>\n      <td>other</td>\n      <td>1</td>\n      <td>Monday</td>\n    </tr>\n    <tr>\n      <th>4</th>\n      <td>12578624</td>\n      <td>Phone Makers Could Cut Off Drivers. So Why Don...</td>\n      <td>http://www.nytimes.com/2016/09/25/technology/p...</td>\n      <td>4</td>\n      <td>1</td>\n      <td>danso</td>\n      <td>9/26/2016 1:37</td>\n      <td>other</td>\n      <td>1</td>\n      <td>Monday</td>\n    </tr>\n  </tbody>\n</table>\n</div>"
     },
     "execution_count": 229,
     "metadata": {},
     "output_type": "execute_result"
    }
   ]
  },
  {
   "cell_type": "markdown",
   "source": [
    "Now we can look at comments & points by these new categories\n"
   ],
   "metadata": {
    "collapsed": false,
    "pycharm": {
     "name": "#%% md\n"
    }
   }
  },
  {
   "cell_type": "code",
   "execution_count": 242,
   "outputs": [
    {
     "data": {
      "text/plain": "                id  num_points  num_comments\nhour                                        \n15    1.139044e+07   29.312634     39.668094\n13    1.146015e+07   23.769939     22.223926\n12    1.150927e+07   16.529197     15.452555\n10    1.148643e+07   16.707763     13.757991\n17    1.140383e+07   16.962871     13.730198\n2     1.129974e+07   12.634361     13.198238\n14    1.144215e+07   13.682540     13.153439\n4     1.131523e+07   13.704301     12.688172\n8     1.154304e+07   13.810526     12.431579\n22    1.132837e+07   11.996516     11.749129\n20    1.136217e+07   10.992347     11.382653\n11    1.148432e+07   10.908367     11.143426\n5     1.139602e+07   11.975758     11.139394\n21    1.142169e+07   11.896806     11.056511\n18    1.139266e+07   14.535398     10.789823\n16    1.132889e+07   13.691566     10.761446\n3     1.130451e+07   11.495283     10.160377\n7     1.148078e+07   12.261146     10.095541\n0     1.132835e+07   11.753247      9.857143\n19    1.135271e+07   10.880952      9.414286\n1     1.142986e+07   11.394619      9.367713\n6     1.139778e+07   10.982955      9.017045\n9     1.143175e+07    9.517045      8.392045\n23    1.136393e+07    9.065217      8.322464",
      "text/html": "<div>\n<style scoped>\n    .dataframe tbody tr th:only-of-type {\n        vertical-align: middle;\n    }\n\n    .dataframe tbody tr th {\n        vertical-align: top;\n    }\n\n    .dataframe thead th {\n        text-align: right;\n    }\n</style>\n<table border=\"1\" class=\"dataframe\">\n  <thead>\n    <tr style=\"text-align: right;\">\n      <th></th>\n      <th>id</th>\n      <th>num_points</th>\n      <th>num_comments</th>\n    </tr>\n    <tr>\n      <th>hour</th>\n      <th></th>\n      <th></th>\n      <th></th>\n    </tr>\n  </thead>\n  <tbody>\n    <tr>\n      <th>15</th>\n      <td>1.139044e+07</td>\n      <td>29.312634</td>\n      <td>39.668094</td>\n    </tr>\n    <tr>\n      <th>13</th>\n      <td>1.146015e+07</td>\n      <td>23.769939</td>\n      <td>22.223926</td>\n    </tr>\n    <tr>\n      <th>12</th>\n      <td>1.150927e+07</td>\n      <td>16.529197</td>\n      <td>15.452555</td>\n    </tr>\n    <tr>\n      <th>10</th>\n      <td>1.148643e+07</td>\n      <td>16.707763</td>\n      <td>13.757991</td>\n    </tr>\n    <tr>\n      <th>17</th>\n      <td>1.140383e+07</td>\n      <td>16.962871</td>\n      <td>13.730198</td>\n    </tr>\n    <tr>\n      <th>2</th>\n      <td>1.129974e+07</td>\n      <td>12.634361</td>\n      <td>13.198238</td>\n    </tr>\n    <tr>\n      <th>14</th>\n      <td>1.144215e+07</td>\n      <td>13.682540</td>\n      <td>13.153439</td>\n    </tr>\n    <tr>\n      <th>4</th>\n      <td>1.131523e+07</td>\n      <td>13.704301</td>\n      <td>12.688172</td>\n    </tr>\n    <tr>\n      <th>8</th>\n      <td>1.154304e+07</td>\n      <td>13.810526</td>\n      <td>12.431579</td>\n    </tr>\n    <tr>\n      <th>22</th>\n      <td>1.132837e+07</td>\n      <td>11.996516</td>\n      <td>11.749129</td>\n    </tr>\n    <tr>\n      <th>20</th>\n      <td>1.136217e+07</td>\n      <td>10.992347</td>\n      <td>11.382653</td>\n    </tr>\n    <tr>\n      <th>11</th>\n      <td>1.148432e+07</td>\n      <td>10.908367</td>\n      <td>11.143426</td>\n    </tr>\n    <tr>\n      <th>5</th>\n      <td>1.139602e+07</td>\n      <td>11.975758</td>\n      <td>11.139394</td>\n    </tr>\n    <tr>\n      <th>21</th>\n      <td>1.142169e+07</td>\n      <td>11.896806</td>\n      <td>11.056511</td>\n    </tr>\n    <tr>\n      <th>18</th>\n      <td>1.139266e+07</td>\n      <td>14.535398</td>\n      <td>10.789823</td>\n    </tr>\n    <tr>\n      <th>16</th>\n      <td>1.132889e+07</td>\n      <td>13.691566</td>\n      <td>10.761446</td>\n    </tr>\n    <tr>\n      <th>3</th>\n      <td>1.130451e+07</td>\n      <td>11.495283</td>\n      <td>10.160377</td>\n    </tr>\n    <tr>\n      <th>7</th>\n      <td>1.148078e+07</td>\n      <td>12.261146</td>\n      <td>10.095541</td>\n    </tr>\n    <tr>\n      <th>0</th>\n      <td>1.132835e+07</td>\n      <td>11.753247</td>\n      <td>9.857143</td>\n    </tr>\n    <tr>\n      <th>19</th>\n      <td>1.135271e+07</td>\n      <td>10.880952</td>\n      <td>9.414286</td>\n    </tr>\n    <tr>\n      <th>1</th>\n      <td>1.142986e+07</td>\n      <td>11.394619</td>\n      <td>9.367713</td>\n    </tr>\n    <tr>\n      <th>6</th>\n      <td>1.139778e+07</td>\n      <td>10.982955</td>\n      <td>9.017045</td>\n    </tr>\n    <tr>\n      <th>9</th>\n      <td>1.143175e+07</td>\n      <td>9.517045</td>\n      <td>8.392045</td>\n    </tr>\n    <tr>\n      <th>23</th>\n      <td>1.136393e+07</td>\n      <td>9.065217</td>\n      <td>8.322464</td>\n    </tr>\n  </tbody>\n</table>\n</div>"
     },
     "execution_count": 242,
     "metadata": {},
     "output_type": "execute_result"
    }
   ],
   "source": [
    "raw.loc[raw.post_type == 'ask'].groupby(['hour']).mean().sort_values(by='num_comments', ascending=False)"
   ],
   "metadata": {
    "collapsed": false,
    "pycharm": {
     "name": "#%%\n"
    }
   }
  },
  {
   "cell_type": "code",
   "execution_count": 243,
   "outputs": [
    {
     "data": {
      "text/plain": "                     id  num_points  num_comments       hour\nDOW                                                         \nFriday     1.142396e+07   16.403541     16.339236  13.089469\nSunday     1.134104e+07   19.009126     15.707953  13.177314\nMonday     1.138489e+07   15.628159     15.587545  13.719314\nSaturday   1.142378e+07   13.854494     12.683310  13.292439\nTuesday    1.141208e+07   10.953153     12.194595  13.048649\nThursday   1.138881e+07   12.172314     12.099710  13.064860\nWednesday  1.140619e+07   13.949062     11.804290  13.348525",
      "text/html": "<div>\n<style scoped>\n    .dataframe tbody tr th:only-of-type {\n        vertical-align: middle;\n    }\n\n    .dataframe tbody tr th {\n        vertical-align: top;\n    }\n\n    .dataframe thead th {\n        text-align: right;\n    }\n</style>\n<table border=\"1\" class=\"dataframe\">\n  <thead>\n    <tr style=\"text-align: right;\">\n      <th></th>\n      <th>id</th>\n      <th>num_points</th>\n      <th>num_comments</th>\n      <th>hour</th>\n    </tr>\n    <tr>\n      <th>DOW</th>\n      <th></th>\n      <th></th>\n      <th></th>\n      <th></th>\n    </tr>\n  </thead>\n  <tbody>\n    <tr>\n      <th>Friday</th>\n      <td>1.142396e+07</td>\n      <td>16.403541</td>\n      <td>16.339236</td>\n      <td>13.089469</td>\n    </tr>\n    <tr>\n      <th>Sunday</th>\n      <td>1.134104e+07</td>\n      <td>19.009126</td>\n      <td>15.707953</td>\n      <td>13.177314</td>\n    </tr>\n    <tr>\n      <th>Monday</th>\n      <td>1.138489e+07</td>\n      <td>15.628159</td>\n      <td>15.587545</td>\n      <td>13.719314</td>\n    </tr>\n    <tr>\n      <th>Saturday</th>\n      <td>1.142378e+07</td>\n      <td>13.854494</td>\n      <td>12.683310</td>\n      <td>13.292439</td>\n    </tr>\n    <tr>\n      <th>Tuesday</th>\n      <td>1.141208e+07</td>\n      <td>10.953153</td>\n      <td>12.194595</td>\n      <td>13.048649</td>\n    </tr>\n    <tr>\n      <th>Thursday</th>\n      <td>1.138881e+07</td>\n      <td>12.172314</td>\n      <td>12.099710</td>\n      <td>13.064860</td>\n    </tr>\n    <tr>\n      <th>Wednesday</th>\n      <td>1.140619e+07</td>\n      <td>13.949062</td>\n      <td>11.804290</td>\n      <td>13.348525</td>\n    </tr>\n  </tbody>\n</table>\n</div>"
     },
     "execution_count": 243,
     "metadata": {},
     "output_type": "execute_result"
    }
   ],
   "source": [
    "raw.loc[raw.post_type == 'ask'].groupby('DOW').mean().sort_values(by='num_comments', ascending=False)"
   ],
   "metadata": {
    "collapsed": false,
    "pycharm": {
     "name": "#%%\n"
    }
   }
  },
  {
   "cell_type": "code",
   "execution_count": 244,
   "outputs": [
    {
     "data": {
      "text/plain": "                id  num_points  num_comments\nhour                                        \n12    1.132902e+07   33.566667     12.030000\n11    1.138066e+07   31.565789     10.583333\n23    1.122807e+07   30.398649      9.756757\n19    1.128289e+07   29.800000     10.337037\n6     1.141236e+07   29.378947      9.515789\n14    1.131006e+07   28.531722     11.598187\n13    1.128629e+07   28.511976      9.922156\n18    1.128235e+07   28.408360     10.424437\n0     1.129621e+07   27.645390      9.099291\n4     1.128173e+07   26.488889     10.866667\n15    1.124553e+07   26.173469      9.755102\n16    1.128149e+07   26.159383      9.688946\n8     1.132680e+07   25.981250     11.068750\n17    1.132541e+07   25.527027      8.745946\n21    1.119920e+07   25.076555      8.416268\n20    1.127360e+07   24.813008      8.873984\n10    1.142924e+07   23.891026      7.871795\n22    1.128302e+07   23.250000      7.552083\n7     1.139859e+07   23.149606     12.417323\n2     1.119840e+07   22.625000     10.346154\n9     1.131993e+07   20.841772      8.930380\n1     1.131303e+07   19.103704      7.451852\n5     1.139243e+07   19.078947      7.789474\n3     1.133833e+07   18.567010      9.628866",
      "text/html": "<div>\n<style scoped>\n    .dataframe tbody tr th:only-of-type {\n        vertical-align: middle;\n    }\n\n    .dataframe tbody tr th {\n        vertical-align: top;\n    }\n\n    .dataframe thead th {\n        text-align: right;\n    }\n</style>\n<table border=\"1\" class=\"dataframe\">\n  <thead>\n    <tr style=\"text-align: right;\">\n      <th></th>\n      <th>id</th>\n      <th>num_points</th>\n      <th>num_comments</th>\n    </tr>\n    <tr>\n      <th>hour</th>\n      <th></th>\n      <th></th>\n      <th></th>\n    </tr>\n  </thead>\n  <tbody>\n    <tr>\n      <th>12</th>\n      <td>1.132902e+07</td>\n      <td>33.566667</td>\n      <td>12.030000</td>\n    </tr>\n    <tr>\n      <th>11</th>\n      <td>1.138066e+07</td>\n      <td>31.565789</td>\n      <td>10.583333</td>\n    </tr>\n    <tr>\n      <th>23</th>\n      <td>1.122807e+07</td>\n      <td>30.398649</td>\n      <td>9.756757</td>\n    </tr>\n    <tr>\n      <th>19</th>\n      <td>1.128289e+07</td>\n      <td>29.800000</td>\n      <td>10.337037</td>\n    </tr>\n    <tr>\n      <th>6</th>\n      <td>1.141236e+07</td>\n      <td>29.378947</td>\n      <td>9.515789</td>\n    </tr>\n    <tr>\n      <th>14</th>\n      <td>1.131006e+07</td>\n      <td>28.531722</td>\n      <td>11.598187</td>\n    </tr>\n    <tr>\n      <th>13</th>\n      <td>1.128629e+07</td>\n      <td>28.511976</td>\n      <td>9.922156</td>\n    </tr>\n    <tr>\n      <th>18</th>\n      <td>1.128235e+07</td>\n      <td>28.408360</td>\n      <td>10.424437</td>\n    </tr>\n    <tr>\n      <th>0</th>\n      <td>1.129621e+07</td>\n      <td>27.645390</td>\n      <td>9.099291</td>\n    </tr>\n    <tr>\n      <th>4</th>\n      <td>1.128173e+07</td>\n      <td>26.488889</td>\n      <td>10.866667</td>\n    </tr>\n    <tr>\n      <th>15</th>\n      <td>1.124553e+07</td>\n      <td>26.173469</td>\n      <td>9.755102</td>\n    </tr>\n    <tr>\n      <th>16</th>\n      <td>1.128149e+07</td>\n      <td>26.159383</td>\n      <td>9.688946</td>\n    </tr>\n    <tr>\n      <th>8</th>\n      <td>1.132680e+07</td>\n      <td>25.981250</td>\n      <td>11.068750</td>\n    </tr>\n    <tr>\n      <th>17</th>\n      <td>1.132541e+07</td>\n      <td>25.527027</td>\n      <td>8.745946</td>\n    </tr>\n    <tr>\n      <th>21</th>\n      <td>1.119920e+07</td>\n      <td>25.076555</td>\n      <td>8.416268</td>\n    </tr>\n    <tr>\n      <th>20</th>\n      <td>1.127360e+07</td>\n      <td>24.813008</td>\n      <td>8.873984</td>\n    </tr>\n    <tr>\n      <th>10</th>\n      <td>1.142924e+07</td>\n      <td>23.891026</td>\n      <td>7.871795</td>\n    </tr>\n    <tr>\n      <th>22</th>\n      <td>1.128302e+07</td>\n      <td>23.250000</td>\n      <td>7.552083</td>\n    </tr>\n    <tr>\n      <th>7</th>\n      <td>1.139859e+07</td>\n      <td>23.149606</td>\n      <td>12.417323</td>\n    </tr>\n    <tr>\n      <th>2</th>\n      <td>1.119840e+07</td>\n      <td>22.625000</td>\n      <td>10.346154</td>\n    </tr>\n    <tr>\n      <th>9</th>\n      <td>1.131993e+07</td>\n      <td>20.841772</td>\n      <td>8.930380</td>\n    </tr>\n    <tr>\n      <th>1</th>\n      <td>1.131303e+07</td>\n      <td>19.103704</td>\n      <td>7.451852</td>\n    </tr>\n    <tr>\n      <th>5</th>\n      <td>1.139243e+07</td>\n      <td>19.078947</td>\n      <td>7.789474</td>\n    </tr>\n    <tr>\n      <th>3</th>\n      <td>1.133833e+07</td>\n      <td>18.567010</td>\n      <td>9.628866</td>\n    </tr>\n  </tbody>\n</table>\n</div>"
     },
     "execution_count": 244,
     "metadata": {},
     "output_type": "execute_result"
    }
   ],
   "source": [
    "raw.loc[raw.post_type == 'show'].groupby('hour').mean().sort_values(by='num_points', ascending=False)"
   ],
   "metadata": {
    "collapsed": false,
    "pycharm": {
     "name": "#%%\n"
    }
   }
  },
  {
   "cell_type": "code",
   "execution_count": 245,
   "outputs": [
    {
     "data": {
      "text/plain": "                     id  num_points  num_comments       hour\nDOW                                                         \nFriday     1.130958e+07   28.977578     10.417040  13.248132\nMonday     1.129868e+07   27.472941     10.024706  13.438824\nSunday     1.131540e+07   26.652720      8.571130  13.583682\nTuesday    1.129222e+07   26.336700      9.419753  13.363636\nThursday   1.131579e+07   26.180723      9.971084  13.590361\nWednesday  1.127797e+07   25.639418     10.230683  13.571109\nSaturday   1.131455e+07   24.792411      9.466518  13.734375",
      "text/html": "<div>\n<style scoped>\n    .dataframe tbody tr th:only-of-type {\n        vertical-align: middle;\n    }\n\n    .dataframe tbody tr th {\n        vertical-align: top;\n    }\n\n    .dataframe thead th {\n        text-align: right;\n    }\n</style>\n<table border=\"1\" class=\"dataframe\">\n  <thead>\n    <tr style=\"text-align: right;\">\n      <th></th>\n      <th>id</th>\n      <th>num_points</th>\n      <th>num_comments</th>\n      <th>hour</th>\n    </tr>\n    <tr>\n      <th>DOW</th>\n      <th></th>\n      <th></th>\n      <th></th>\n      <th></th>\n    </tr>\n  </thead>\n  <tbody>\n    <tr>\n      <th>Friday</th>\n      <td>1.130958e+07</td>\n      <td>28.977578</td>\n      <td>10.417040</td>\n      <td>13.248132</td>\n    </tr>\n    <tr>\n      <th>Monday</th>\n      <td>1.129868e+07</td>\n      <td>27.472941</td>\n      <td>10.024706</td>\n      <td>13.438824</td>\n    </tr>\n    <tr>\n      <th>Sunday</th>\n      <td>1.131540e+07</td>\n      <td>26.652720</td>\n      <td>8.571130</td>\n      <td>13.583682</td>\n    </tr>\n    <tr>\n      <th>Tuesday</th>\n      <td>1.129222e+07</td>\n      <td>26.336700</td>\n      <td>9.419753</td>\n      <td>13.363636</td>\n    </tr>\n    <tr>\n      <th>Thursday</th>\n      <td>1.131579e+07</td>\n      <td>26.180723</td>\n      <td>9.971084</td>\n      <td>13.590361</td>\n    </tr>\n    <tr>\n      <th>Wednesday</th>\n      <td>1.127797e+07</td>\n      <td>25.639418</td>\n      <td>10.230683</td>\n      <td>13.571109</td>\n    </tr>\n    <tr>\n      <th>Saturday</th>\n      <td>1.131455e+07</td>\n      <td>24.792411</td>\n      <td>9.466518</td>\n      <td>13.734375</td>\n    </tr>\n  </tbody>\n</table>\n</div>"
     },
     "execution_count": 245,
     "metadata": {},
     "output_type": "execute_result"
    }
   ],
   "source": [
    "raw.loc[raw.post_type == 'show'].groupby('DOW').mean().sort_values(by='num_points', ascending=False)"
   ],
   "metadata": {
    "collapsed": false,
    "pycharm": {
     "name": "#%%\n"
    }
   }
  },
  {
   "cell_type": "markdown",
   "source": [
    "\n",
    "Recap findings and make suggestion on how to post to get the most benefit by post type"
   ],
   "metadata": {
    "collapsed": false,
    "pycharm": {
     "name": "#%% md\n"
    }
   }
  }
 ],
 "metadata": {
  "kernelspec": {
   "display_name": "Python 3",
   "language": "python",
   "name": "python3"
  },
  "language_info": {
   "codemirror_mode": {
    "name": "ipython",
    "version": 2
   },
   "file_extension": ".py",
   "mimetype": "text/x-python",
   "name": "python",
   "nbconvert_exporter": "python",
   "pygments_lexer": "ipython2",
   "version": "2.7.6"
  }
 },
 "nbformat": 4,
 "nbformat_minor": 0
}