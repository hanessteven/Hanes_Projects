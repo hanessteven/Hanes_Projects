{
 "cells": [
  {
   "cell_type": "markdown",
   "metadata": {
    "collapsed": true,
    "pycharm": {
     "name": "#%% md\n"
    }
   },
   "source": [
    "#Test\n"
   ]
  },
  {
   "cell_type": "code",
   "execution_count": 1,
   "outputs": [],
   "source": [
    "from sklearn import preprocessing\n",
    "import pandas as pd\n",
    "import numpy as np\n",
    "import prince\n",
    "import seaborn as sns\n",
    "from kmodes.kprototypes import KPrototypes\n",
    "import matplotlib.pyplot as plt\n",
    "from matplotlib import style\n",
    "style.use(\"fivethirtyeight\")\n",
    "colors = ['b', 'orange', 'g', 'r', 'c', 'm', 'y', 'k', 'Brown', 'ForestGreen']\n",
    "%matplotlib inline"
   ],
   "metadata": {
    "collapsed": false,
    "pycharm": {
     "name": "#%%\n"
    }
   }
  },
  {
   "cell_type": "markdown",
   "source": [
    "First we read the data and view the data"
   ],
   "metadata": {
    "collapsed": false,
    "pycharm": {
     "name": "#%% md\n"
    }
   }
  },
  {
   "cell_type": "code",
   "execution_count": 2,
   "outputs": [
    {
     "data": {
      "text/plain": "   SK_ID_CURR NAME_CONTRACT_TYPE CODE_GENDER FLAG_OWN_CAR FLAG_OWN_REALTY  \\\n0      100002         Cash loans           M            N               Y   \n1      100003         Cash loans           F            N               N   \n2      100004    Revolving loans           M            Y               Y   \n3      100006         Cash loans           F            N               Y   \n4      100007         Cash loans           M            N               Y   \n\n   CNT_CHILDREN  AMT_INCOME_TOTAL  AMT_CREDIT  AMT_ANNUITY  AMT_GOODS_PRICE  \\\n0             0          202500.0    406597.5      24700.5         351000.0   \n1             0          270000.0   1293502.5      35698.5        1129500.0   \n2             0           67500.0    135000.0       6750.0         135000.0   \n3             0          135000.0    312682.5      29686.5         297000.0   \n4             0          121500.0    513000.0      21865.5         513000.0   \n\n   ... FLAG_DOCUMENT_18 FLAG_DOCUMENT_19 FLAG_DOCUMENT_20 FLAG_DOCUMENT_21  \\\n0  ...                0                0                0                0   \n1  ...                0                0                0                0   \n2  ...                0                0                0                0   \n3  ...                0                0                0                0   \n4  ...                0                0                0                0   \n\n  AMT_REQ_CREDIT_BUREAU_HOUR  AMT_REQ_CREDIT_BUREAU_DAY  \\\n0                        0.0                        0.0   \n1                        0.0                        0.0   \n2                        0.0                        0.0   \n3                        NaN                        NaN   \n4                        0.0                        0.0   \n\n   AMT_REQ_CREDIT_BUREAU_WEEK  AMT_REQ_CREDIT_BUREAU_MON  \\\n0                         0.0                        0.0   \n1                         0.0                        0.0   \n2                         0.0                        0.0   \n3                         NaN                        NaN   \n4                         0.0                        0.0   \n\n   AMT_REQ_CREDIT_BUREAU_QRT  AMT_REQ_CREDIT_BUREAU_YEAR  \n0                        0.0                         1.0  \n1                        0.0                         0.0  \n2                        0.0                         0.0  \n3                        NaN                         NaN  \n4                        0.0                         0.0  \n\n[5 rows x 121 columns]",
      "text/html": "<div>\n<style scoped>\n    .dataframe tbody tr th:only-of-type {\n        vertical-align: middle;\n    }\n\n    .dataframe tbody tr th {\n        vertical-align: top;\n    }\n\n    .dataframe thead th {\n        text-align: right;\n    }\n</style>\n<table border=\"1\" class=\"dataframe\">\n  <thead>\n    <tr style=\"text-align: right;\">\n      <th></th>\n      <th>SK_ID_CURR</th>\n      <th>NAME_CONTRACT_TYPE</th>\n      <th>CODE_GENDER</th>\n      <th>FLAG_OWN_CAR</th>\n      <th>FLAG_OWN_REALTY</th>\n      <th>CNT_CHILDREN</th>\n      <th>AMT_INCOME_TOTAL</th>\n      <th>AMT_CREDIT</th>\n      <th>AMT_ANNUITY</th>\n      <th>AMT_GOODS_PRICE</th>\n      <th>...</th>\n      <th>FLAG_DOCUMENT_18</th>\n      <th>FLAG_DOCUMENT_19</th>\n      <th>FLAG_DOCUMENT_20</th>\n      <th>FLAG_DOCUMENT_21</th>\n      <th>AMT_REQ_CREDIT_BUREAU_HOUR</th>\n      <th>AMT_REQ_CREDIT_BUREAU_DAY</th>\n      <th>AMT_REQ_CREDIT_BUREAU_WEEK</th>\n      <th>AMT_REQ_CREDIT_BUREAU_MON</th>\n      <th>AMT_REQ_CREDIT_BUREAU_QRT</th>\n      <th>AMT_REQ_CREDIT_BUREAU_YEAR</th>\n    </tr>\n  </thead>\n  <tbody>\n    <tr>\n      <th>0</th>\n      <td>100002</td>\n      <td>Cash loans</td>\n      <td>M</td>\n      <td>N</td>\n      <td>Y</td>\n      <td>0</td>\n      <td>202500.0</td>\n      <td>406597.5</td>\n      <td>24700.5</td>\n      <td>351000.0</td>\n      <td>...</td>\n      <td>0</td>\n      <td>0</td>\n      <td>0</td>\n      <td>0</td>\n      <td>0.0</td>\n      <td>0.0</td>\n      <td>0.0</td>\n      <td>0.0</td>\n      <td>0.0</td>\n      <td>1.0</td>\n    </tr>\n    <tr>\n      <th>1</th>\n      <td>100003</td>\n      <td>Cash loans</td>\n      <td>F</td>\n      <td>N</td>\n      <td>N</td>\n      <td>0</td>\n      <td>270000.0</td>\n      <td>1293502.5</td>\n      <td>35698.5</td>\n      <td>1129500.0</td>\n      <td>...</td>\n      <td>0</td>\n      <td>0</td>\n      <td>0</td>\n      <td>0</td>\n      <td>0.0</td>\n      <td>0.0</td>\n      <td>0.0</td>\n      <td>0.0</td>\n      <td>0.0</td>\n      <td>0.0</td>\n    </tr>\n    <tr>\n      <th>2</th>\n      <td>100004</td>\n      <td>Revolving loans</td>\n      <td>M</td>\n      <td>Y</td>\n      <td>Y</td>\n      <td>0</td>\n      <td>67500.0</td>\n      <td>135000.0</td>\n      <td>6750.0</td>\n      <td>135000.0</td>\n      <td>...</td>\n      <td>0</td>\n      <td>0</td>\n      <td>0</td>\n      <td>0</td>\n      <td>0.0</td>\n      <td>0.0</td>\n      <td>0.0</td>\n      <td>0.0</td>\n      <td>0.0</td>\n      <td>0.0</td>\n    </tr>\n    <tr>\n      <th>3</th>\n      <td>100006</td>\n      <td>Cash loans</td>\n      <td>F</td>\n      <td>N</td>\n      <td>Y</td>\n      <td>0</td>\n      <td>135000.0</td>\n      <td>312682.5</td>\n      <td>29686.5</td>\n      <td>297000.0</td>\n      <td>...</td>\n      <td>0</td>\n      <td>0</td>\n      <td>0</td>\n      <td>0</td>\n      <td>NaN</td>\n      <td>NaN</td>\n      <td>NaN</td>\n      <td>NaN</td>\n      <td>NaN</td>\n      <td>NaN</td>\n    </tr>\n    <tr>\n      <th>4</th>\n      <td>100007</td>\n      <td>Cash loans</td>\n      <td>M</td>\n      <td>N</td>\n      <td>Y</td>\n      <td>0</td>\n      <td>121500.0</td>\n      <td>513000.0</td>\n      <td>21865.5</td>\n      <td>513000.0</td>\n      <td>...</td>\n      <td>0</td>\n      <td>0</td>\n      <td>0</td>\n      <td>0</td>\n      <td>0.0</td>\n      <td>0.0</td>\n      <td>0.0</td>\n      <td>0.0</td>\n      <td>0.0</td>\n      <td>0.0</td>\n    </tr>\n  </tbody>\n</table>\n<p>5 rows × 121 columns</p>\n</div>"
     },
     "execution_count": 2,
     "metadata": {},
     "output_type": "execute_result"
    }
   ],
   "source": [
    "data = pd.read_csv(r'Home_Loan_App.csv')\n",
    "data.head()"
   ],
   "metadata": {
    "collapsed": false,
    "pycharm": {
     "name": "#%%\n"
    }
   }
  },
  {
   "cell_type": "code",
   "execution_count": 3,
   "outputs": [],
   "source": [
    "def get_cat(series: pd.Series, empty_flag: bool) -> str:\n",
    "    \"\"\"\n",
    "    :param series: a pandas series of data (should be of one data type)\n",
    "    :param empty_flag: a boolean to call out an empty column (containing all NaNs)\n",
    "    :return: a string that is the 'category of the datatype'\n",
    "\n",
    "    This function will take a given series and return a generalized category for the datatype.\n",
    "    This is necessary for readability as df.dtypes will return ungrouped types (i.e. float64, int64)\n",
    "    as well as return some options that do not provide much insight (i.e. object)\n",
    "    \"\"\"\n",
    "    if empty_flag:  # Catch Empty Columns\n",
    "        return 'Empty'\n",
    "    elif pd.api.types.is_numeric_dtype(series):\n",
    "        return 'Numerical'\n",
    "    elif pd.api.types.is_datetime64_dtype(series):\n",
    "        return 'Date'\n",
    "    elif pd.api.types.is_bool_dtype(series):\n",
    "        return 'Boolean'\n",
    "    elif pd.api.types.is_categorical_dtype(series):\n",
    "        return 'Categorical'\n",
    "    elif pd.api.types.is_string_dtype(series):\n",
    "        return 'Text'\n",
    "    else:  # Catches all others for review\n",
    "        return 'Unknown'\n",
    "\n",
    "\n",
    "def col_categories(data: pd.DataFrame):\n",
    "    \"\"\"\n",
    "    :param data: a pandas Dataframe consisting of columns of data you want to explore their categories\n",
    "    :return: None\n",
    "    Prints the column name and data type of each column in the dataframe\n",
    "    \"\"\"\n",
    "    if data.dropna().empty:  # Catches Error\n",
    "        raise ValueError('DataFrame Provided Contains is either empty or only contains NaNs')\n",
    "        # sys.exit(1)\n",
    "    for col in data.columns:  # For Each Column\n",
    "        if data[col].dropna().empty:  # Catch Empty Columns\n",
    "            empty = True  # Set Flag\n",
    "        else:\n",
    "            empty = False  # Set Flag\n",
    "        count = data[col].nunique()\n",
    "        print(col, ': ', get_cat(data[col], empty), ' -- #Unique: ', count)  # Print and Call Column Categories"
   ],
   "metadata": {
    "collapsed": false,
    "pycharm": {
     "name": "#%%\n"
    }
   }
  },
  {
   "cell_type": "code",
   "execution_count": 4,
   "outputs": [
    {
     "name": "stdout",
     "output_type": "stream",
     "text": [
      "SK_ID_CURR :  Numerical  -- #Unique:  307511\n",
      "NAME_CONTRACT_TYPE :  Text  -- #Unique:  2\n",
      "CODE_GENDER :  Text  -- #Unique:  3\n",
      "FLAG_OWN_CAR :  Text  -- #Unique:  2\n",
      "FLAG_OWN_REALTY :  Text  -- #Unique:  2\n",
      "CNT_CHILDREN :  Numerical  -- #Unique:  15\n",
      "AMT_INCOME_TOTAL :  Numerical  -- #Unique:  2548\n",
      "AMT_CREDIT :  Numerical  -- #Unique:  5603\n",
      "AMT_ANNUITY :  Numerical  -- #Unique:  13672\n",
      "AMT_GOODS_PRICE :  Numerical  -- #Unique:  1002\n",
      "NAME_TYPE_SUITE :  Text  -- #Unique:  7\n",
      "NAME_INCOME_TYPE :  Text  -- #Unique:  8\n",
      "NAME_EDUCATION_TYPE :  Text  -- #Unique:  5\n",
      "NAME_FAMILY_STATUS :  Text  -- #Unique:  6\n",
      "NAME_HOUSING_TYPE :  Text  -- #Unique:  6\n",
      "REGION_POPULATION_RELATIVE :  Numerical  -- #Unique:  81\n",
      "DAYS_BIRTH :  Numerical  -- #Unique:  17460\n",
      "DAYS_EMPLOYED :  Numerical  -- #Unique:  12574\n",
      "DAYS_REGISTRATION :  Numerical  -- #Unique:  15688\n",
      "DAYS_ID_PUBLISH :  Numerical  -- #Unique:  6168\n",
      "OWN_CAR_AGE :  Numerical  -- #Unique:  62\n",
      "FLAG_MOBIL :  Numerical  -- #Unique:  2\n",
      "FLAG_EMP_PHONE :  Numerical  -- #Unique:  2\n",
      "FLAG_WORK_PHONE :  Numerical  -- #Unique:  2\n",
      "FLAG_CONT_MOBILE :  Numerical  -- #Unique:  2\n",
      "FLAG_PHONE :  Numerical  -- #Unique:  2\n",
      "FLAG_EMAIL :  Numerical  -- #Unique:  2\n",
      "OCCUPATION_TYPE :  Text  -- #Unique:  18\n",
      "CNT_FAM_MEMBERS :  Numerical  -- #Unique:  17\n",
      "REGION_RATING_CLIENT :  Numerical  -- #Unique:  3\n",
      "REGION_RATING_CLIENT_W_CITY :  Numerical  -- #Unique:  3\n",
      "WEEKDAY_APPR_PROCESS_START :  Text  -- #Unique:  7\n",
      "HOUR_APPR_PROCESS_START :  Numerical  -- #Unique:  24\n",
      "REG_REGION_NOT_LIVE_REGION :  Numerical  -- #Unique:  2\n",
      "REG_REGION_NOT_WORK_REGION :  Numerical  -- #Unique:  2\n",
      "LIVE_REGION_NOT_WORK_REGION :  Numerical  -- #Unique:  2\n",
      "REG_CITY_NOT_LIVE_CITY :  Numerical  -- #Unique:  2\n",
      "REG_CITY_NOT_WORK_CITY :  Numerical  -- #Unique:  2\n",
      "LIVE_CITY_NOT_WORK_CITY :  Numerical  -- #Unique:  2\n",
      "ORGANIZATION_TYPE :  Text  -- #Unique:  58\n",
      "EXT_SOURCE_1 :  Numerical  -- #Unique:  114584\n",
      "EXT_SOURCE_2 :  Numerical  -- #Unique:  119828\n",
      "EXT_SOURCE_3 :  Numerical  -- #Unique:  814\n",
      "APARTMENTS_AVG :  Numerical  -- #Unique:  2339\n",
      "BASEMENTAREA_AVG :  Numerical  -- #Unique:  3780\n",
      "YEARS_BEGINEXPLUATATION_AVG :  Numerical  -- #Unique:  285\n",
      "YEARS_BUILD_AVG :  Numerical  -- #Unique:  149\n",
      "COMMONAREA_AVG :  Numerical  -- #Unique:  3181\n",
      "ELEVATORS_AVG :  Numerical  -- #Unique:  257\n",
      "ENTRANCES_AVG :  Numerical  -- #Unique:  285\n",
      "FLOORSMAX_AVG :  Numerical  -- #Unique:  403\n",
      "FLOORSMIN_AVG :  Numerical  -- #Unique:  305\n",
      "LANDAREA_AVG :  Numerical  -- #Unique:  3527\n",
      "LIVINGAPARTMENTS_AVG :  Numerical  -- #Unique:  1868\n",
      "LIVINGAREA_AVG :  Numerical  -- #Unique:  5199\n",
      "NONLIVINGAPARTMENTS_AVG :  Numerical  -- #Unique:  386\n",
      "NONLIVINGAREA_AVG :  Numerical  -- #Unique:  3290\n",
      "APARTMENTS_MODE :  Numerical  -- #Unique:  760\n",
      "BASEMENTAREA_MODE :  Numerical  -- #Unique:  3841\n",
      "YEARS_BEGINEXPLUATATION_MODE :  Numerical  -- #Unique:  221\n",
      "YEARS_BUILD_MODE :  Numerical  -- #Unique:  154\n",
      "COMMONAREA_MODE :  Numerical  -- #Unique:  3128\n",
      "ELEVATORS_MODE :  Numerical  -- #Unique:  26\n",
      "ENTRANCES_MODE :  Numerical  -- #Unique:  30\n",
      "FLOORSMAX_MODE :  Numerical  -- #Unique:  25\n",
      "FLOORSMIN_MODE :  Numerical  -- #Unique:  25\n",
      "LANDAREA_MODE :  Numerical  -- #Unique:  3563\n",
      "LIVINGAPARTMENTS_MODE :  Numerical  -- #Unique:  736\n",
      "LIVINGAREA_MODE :  Numerical  -- #Unique:  5301\n",
      "NONLIVINGAPARTMENTS_MODE :  Numerical  -- #Unique:  167\n",
      "NONLIVINGAREA_MODE :  Numerical  -- #Unique:  3327\n",
      "APARTMENTS_MEDI :  Numerical  -- #Unique:  1148\n",
      "BASEMENTAREA_MEDI :  Numerical  -- #Unique:  3772\n",
      "YEARS_BEGINEXPLUATATION_MEDI :  Numerical  -- #Unique:  245\n",
      "YEARS_BUILD_MEDI :  Numerical  -- #Unique:  151\n",
      "COMMONAREA_MEDI :  Numerical  -- #Unique:  3202\n",
      "ELEVATORS_MEDI :  Numerical  -- #Unique:  46\n",
      "ENTRANCES_MEDI :  Numerical  -- #Unique:  46\n",
      "FLOORSMAX_MEDI :  Numerical  -- #Unique:  49\n",
      "FLOORSMIN_MEDI :  Numerical  -- #Unique:  47\n",
      "LANDAREA_MEDI :  Numerical  -- #Unique:  3560\n",
      "LIVINGAPARTMENTS_MEDI :  Numerical  -- #Unique:  1097\n",
      "LIVINGAREA_MEDI :  Numerical  -- #Unique:  5281\n",
      "NONLIVINGAPARTMENTS_MEDI :  Numerical  -- #Unique:  214\n",
      "NONLIVINGAREA_MEDI :  Numerical  -- #Unique:  3323\n",
      "FONDKAPREMONT_MODE :  Text  -- #Unique:  4\n",
      "HOUSETYPE_MODE :  Text  -- #Unique:  3\n",
      "TOTALAREA_MODE :  Numerical  -- #Unique:  5116\n",
      "WALLSMATERIAL_MODE :  Text  -- #Unique:  7\n",
      "EMERGENCYSTATE_MODE :  Text  -- #Unique:  2\n",
      "OBS_30_CNT_SOCIAL_CIRCLE :  Numerical  -- #Unique:  33\n",
      "DEF_30_CNT_SOCIAL_CIRCLE :  Numerical  -- #Unique:  10\n",
      "OBS_60_CNT_SOCIAL_CIRCLE :  Numerical  -- #Unique:  33\n",
      "DEF_60_CNT_SOCIAL_CIRCLE :  Numerical  -- #Unique:  9\n",
      "DAYS_LAST_PHONE_CHANGE :  Numerical  -- #Unique:  3773\n",
      "FLAG_DOCUMENT_2 :  Numerical  -- #Unique:  2\n",
      "FLAG_DOCUMENT_3 :  Numerical  -- #Unique:  2\n",
      "FLAG_DOCUMENT_4 :  Numerical  -- #Unique:  2\n",
      "FLAG_DOCUMENT_5 :  Numerical  -- #Unique:  2\n",
      "FLAG_DOCUMENT_6 :  Numerical  -- #Unique:  2\n",
      "FLAG_DOCUMENT_7 :  Numerical  -- #Unique:  2\n",
      "FLAG_DOCUMENT_8 :  Numerical  -- #Unique:  2\n",
      "FLAG_DOCUMENT_9 :  Numerical  -- #Unique:  2\n",
      "FLAG_DOCUMENT_10 :  Numerical  -- #Unique:  2\n",
      "FLAG_DOCUMENT_11 :  Numerical  -- #Unique:  2\n",
      "FLAG_DOCUMENT_12 :  Numerical  -- #Unique:  2\n",
      "FLAG_DOCUMENT_13 :  Numerical  -- #Unique:  2\n",
      "FLAG_DOCUMENT_14 :  Numerical  -- #Unique:  2\n",
      "FLAG_DOCUMENT_15 :  Numerical  -- #Unique:  2\n",
      "FLAG_DOCUMENT_16 :  Numerical  -- #Unique:  2\n",
      "FLAG_DOCUMENT_17 :  Numerical  -- #Unique:  2\n",
      "FLAG_DOCUMENT_18 :  Numerical  -- #Unique:  2\n",
      "FLAG_DOCUMENT_19 :  Numerical  -- #Unique:  2\n",
      "FLAG_DOCUMENT_20 :  Numerical  -- #Unique:  2\n",
      "FLAG_DOCUMENT_21 :  Numerical  -- #Unique:  2\n",
      "AMT_REQ_CREDIT_BUREAU_HOUR :  Numerical  -- #Unique:  5\n",
      "AMT_REQ_CREDIT_BUREAU_DAY :  Numerical  -- #Unique:  9\n",
      "AMT_REQ_CREDIT_BUREAU_WEEK :  Numerical  -- #Unique:  9\n",
      "AMT_REQ_CREDIT_BUREAU_MON :  Numerical  -- #Unique:  24\n",
      "AMT_REQ_CREDIT_BUREAU_QRT :  Numerical  -- #Unique:  11\n",
      "AMT_REQ_CREDIT_BUREAU_YEAR :  Numerical  -- #Unique:  25\n"
     ]
    }
   ],
   "source": [
    "col_categories(data)\n"
   ],
   "metadata": {
    "collapsed": false,
    "pycharm": {
     "name": "#%%\n"
    }
   }
  },
  {
   "cell_type": "markdown",
   "source": [
    "Explain what we see, flags as numerical (but are binary) should be fine in our cluster\n",
    "\n",
    "Lets look through a few of the variables to see the distribution (numerical with few options so\n",
    "that our visuals are clean)\n"
   ],
   "metadata": {
    "collapsed": false,
    "pycharm": {
     "name": "#%% md\n"
    }
   }
  },
  {
   "cell_type": "code",
   "execution_count": 5,
   "outputs": [
    {
     "data": {
      "text/plain": "array([[<matplotlib.axes._subplots.AxesSubplot object at 0x000001E24A40CF88>,\n        <matplotlib.axes._subplots.AxesSubplot object at 0x000001E24A453E08>],\n       [<matplotlib.axes._subplots.AxesSubplot object at 0x000001E24A475C48>,\n        <matplotlib.axes._subplots.AxesSubplot object at 0x000001E24A4A2B08>]],\n      dtype=object)"
     },
     "execution_count": 5,
     "metadata": {},
     "output_type": "execute_result"
    },
    {
     "data": {
      "text/plain": "<Figure size 432x288 with 4 Axes>",
      "image/png": "[encoded data removed]"
     },
     "metadata": {
      "needs_background": "light"
     },
     "output_type": "display_data"
    }
   ],
   "source": [
    "data[['CNT_CHILDREN', 'AMT_CREDIT', 'DAYS_BIRTH', 'OBS_30_CNT_SOCIAL_CIRCLE']].hist()\n"
   ],
   "metadata": {
    "collapsed": false,
    "pycharm": {
     "name": "#%%\n"
    }
   }
  },
  {
   "cell_type": "code",
   "execution_count": 6,
   "outputs": [
    {
     "name": "stdout",
     "output_type": "stream",
     "text": [
      "-------Percentage of Null values count------\n",
      "SK_ID_CURR --> 0.0\n",
      "NAME_CONTRACT_TYPE --> 0.0\n",
      "CODE_GENDER --> 0.0\n",
      "FLAG_OWN_CAR --> 0.0\n",
      "FLAG_OWN_REALTY --> 0.0\n",
      "CNT_CHILDREN --> 0.0\n",
      "AMT_INCOME_TOTAL --> 0.0\n",
      "AMT_CREDIT --> 0.0\n",
      "AMT_ANNUITY --> 0.0039022994299390914\n",
      "AMT_GOODS_PRICE --> 0.09040327012692229\n",
      "NAME_TYPE_SUITE --> 0.42014757195677555\n",
      "NAME_INCOME_TYPE --> 0.0\n",
      "NAME_EDUCATION_TYPE --> 0.0\n",
      "NAME_FAMILY_STATUS --> 0.0\n",
      "NAME_HOUSING_TYPE --> 0.0\n",
      "REGION_POPULATION_RELATIVE --> 0.0\n",
      "DAYS_BIRTH --> 0.0\n",
      "DAYS_EMPLOYED --> 0.0\n",
      "DAYS_REGISTRATION --> 0.0\n",
      "DAYS_ID_PUBLISH --> 0.0\n",
      "OWN_CAR_AGE --> 65.9908100848425\n",
      "FLAG_MOBIL --> 0.0\n",
      "FLAG_EMP_PHONE --> 0.0\n",
      "FLAG_WORK_PHONE --> 0.0\n",
      "FLAG_CONT_MOBILE --> 0.0\n",
      "FLAG_PHONE --> 0.0\n",
      "FLAG_EMAIL --> 0.0\n",
      "OCCUPATION_TYPE --> 31.345545362604916\n",
      "CNT_FAM_MEMBERS --> 0.000650383238323182\n",
      "REGION_RATING_CLIENT --> 0.0\n",
      "REGION_RATING_CLIENT_W_CITY --> 0.0\n",
      "WEEKDAY_APPR_PROCESS_START --> 0.0\n",
      "HOUR_APPR_PROCESS_START --> 0.0\n",
      "REG_REGION_NOT_LIVE_REGION --> 0.0\n",
      "REG_REGION_NOT_WORK_REGION --> 0.0\n",
      "LIVE_REGION_NOT_WORK_REGION --> 0.0\n",
      "REG_CITY_NOT_LIVE_CITY --> 0.0\n",
      "REG_CITY_NOT_WORK_CITY --> 0.0\n",
      "LIVE_CITY_NOT_WORK_CITY --> 0.0\n",
      "ORGANIZATION_TYPE --> 0.0\n",
      "EXT_SOURCE_1 --> 56.38107254699832\n",
      "EXT_SOURCE_2 --> 0.21462646864665003\n",
      "EXT_SOURCE_3 --> 19.825307062186393\n",
      "APARTMENTS_AVG --> 50.749729277977046\n",
      "BASEMENTAREA_AVG --> 58.515955526794166\n",
      "YEARS_BEGINEXPLUATATION_AVG --> 48.781019215572776\n",
      "YEARS_BUILD_AVG --> 66.49778381911541\n",
      "COMMONAREA_AVG --> 69.87229725115525\n",
      "ELEVATORS_AVG --> 53.29597965601231\n",
      "ENTRANCES_AVG --> 50.34876801155081\n",
      "FLOORSMAX_AVG --> 49.76082156410665\n",
      "FLOORSMIN_AVG --> 67.84862980511267\n",
      "LANDAREA_AVG --> 59.376737742714894\n",
      "LIVINGAPARTMENTS_AVG --> 68.35495315614726\n",
      "LIVINGAREA_AVG --> 50.193326417591564\n",
      "NONLIVINGAPARTMENTS_AVG --> 69.43296337366793\n",
      "NONLIVINGAREA_AVG --> 55.17916432257708\n",
      "APARTMENTS_MODE --> 50.749729277977046\n",
      "BASEMENTAREA_MODE --> 58.515955526794166\n",
      "YEARS_BEGINEXPLUATATION_MODE --> 48.781019215572776\n",
      "YEARS_BUILD_MODE --> 66.49778381911541\n",
      "COMMONAREA_MODE --> 69.87229725115525\n",
      "ELEVATORS_MODE --> 53.29597965601231\n",
      "ENTRANCES_MODE --> 50.34876801155081\n",
      "FLOORSMAX_MODE --> 49.76082156410665\n",
      "FLOORSMIN_MODE --> 67.84862980511267\n",
      "LANDAREA_MODE --> 59.376737742714894\n",
      "LIVINGAPARTMENTS_MODE --> 68.35495315614726\n",
      "LIVINGAREA_MODE --> 50.193326417591564\n",
      "NONLIVINGAPARTMENTS_MODE --> 69.43296337366793\n",
      "NONLIVINGAREA_MODE --> 55.17916432257708\n",
      "APARTMENTS_MEDI --> 50.749729277977046\n",
      "BASEMENTAREA_MEDI --> 58.515955526794166\n",
      "YEARS_BEGINEXPLUATATION_MEDI --> 48.781019215572776\n",
      "YEARS_BUILD_MEDI --> 66.49778381911541\n",
      "COMMONAREA_MEDI --> 69.87229725115525\n",
      "ELEVATORS_MEDI --> 53.29597965601231\n",
      "ENTRANCES_MEDI --> 50.34876801155081\n",
      "FLOORSMAX_MEDI --> 49.76082156410665\n",
      "FLOORSMIN_MEDI --> 67.84862980511267\n",
      "LANDAREA_MEDI --> 59.376737742714894\n",
      "LIVINGAPARTMENTS_MEDI --> 68.35495315614726\n",
      "LIVINGAREA_MEDI --> 50.193326417591564\n",
      "NONLIVINGAPARTMENTS_MEDI --> 69.43296337366793\n",
      "NONLIVINGAREA_MEDI --> 55.17916432257708\n",
      "FONDKAPREMONT_MODE --> 68.38617155158677\n",
      "HOUSETYPE_MODE --> 50.176091261776\n",
      "TOTALAREA_MODE --> 48.26851722377411\n",
      "WALLSMATERIAL_MODE --> 50.8407829313423\n",
      "EMERGENCYSTATE_MODE --> 47.39830445089769\n",
      "OBS_30_CNT_SOCIAL_CIRCLE --> 0.3320206431639844\n",
      "DEF_30_CNT_SOCIAL_CIRCLE --> 0.3320206431639844\n",
      "OBS_60_CNT_SOCIAL_CIRCLE --> 0.3320206431639844\n",
      "DEF_60_CNT_SOCIAL_CIRCLE --> 0.3320206431639844\n",
      "DAYS_LAST_PHONE_CHANGE --> 0.000325191619161591\n",
      "FLAG_DOCUMENT_2 --> 0.0\n",
      "FLAG_DOCUMENT_3 --> 0.0\n",
      "FLAG_DOCUMENT_4 --> 0.0\n",
      "FLAG_DOCUMENT_5 --> 0.0\n",
      "FLAG_DOCUMENT_6 --> 0.0\n",
      "FLAG_DOCUMENT_7 --> 0.0\n",
      "FLAG_DOCUMENT_8 --> 0.0\n",
      "FLAG_DOCUMENT_9 --> 0.0\n",
      "FLAG_DOCUMENT_10 --> 0.0\n",
      "FLAG_DOCUMENT_11 --> 0.0\n",
      "FLAG_DOCUMENT_12 --> 0.0\n",
      "FLAG_DOCUMENT_13 --> 0.0\n",
      "FLAG_DOCUMENT_14 --> 0.0\n",
      "FLAG_DOCUMENT_15 --> 0.0\n",
      "FLAG_DOCUMENT_16 --> 0.0\n",
      "FLAG_DOCUMENT_17 --> 0.0\n",
      "FLAG_DOCUMENT_18 --> 0.0\n",
      "FLAG_DOCUMENT_19 --> 0.0\n",
      "FLAG_DOCUMENT_20 --> 0.0\n",
      "FLAG_DOCUMENT_21 --> 0.0\n",
      "AMT_REQ_CREDIT_BUREAU_HOUR --> 13.501630835970095\n",
      "AMT_REQ_CREDIT_BUREAU_DAY --> 13.501630835970095\n",
      "AMT_REQ_CREDIT_BUREAU_WEEK --> 13.501630835970095\n",
      "AMT_REQ_CREDIT_BUREAU_MON --> 13.501630835970095\n",
      "AMT_REQ_CREDIT_BUREAU_QRT --> 13.501630835970095\n",
      "AMT_REQ_CREDIT_BUREAU_YEAR --> 13.501630835970095\n"
     ]
    }
   ],
   "source": [
    "print(\"-------Percentage of Null values count------\")\n",
    "for feature in data.columns.values:\n",
    "    print(feature,\"-->\",100*data[feature].isnull().sum()/len(data))\n"
   ],
   "metadata": {
    "collapsed": false,
    "pycharm": {
     "name": "#%%\n"
    }
   }
  },
  {
   "cell_type": "markdown",
   "source": [
    "lots of missing features, but most still have atleast 35% values, so we will not be\n",
    "removing any full features"
   ],
   "metadata": {
    "collapsed": false,
    "pycharm": {
     "name": "#%% md\n"
    }
   }
  },
  {
   "cell_type": "code",
   "execution_count": 7,
   "outputs": [],
   "source": [
    "# Drop the columns/rows where all elements are nan:\n",
    "data.dropna(axis=1, how='all', inplace=True)\n",
    "data.dropna(axis=0, inplace=True)  # For future should instead impute these\n",
    "\n",
    "# Step 2: shall I standardise the data?\n",
    "# What is the magnitude of data range?\n",
    "# Only numerical variables needs to be scaled because catagorical variable cannot be scaled\n",
    "\n",
    "num_col = data.select_dtypes(include=np.number).columns.tolist()\n",
    "num_col.remove('SK_ID_CURR')"
   ],
   "metadata": {
    "collapsed": false,
    "pycharm": {
     "name": "#%%\n"
    }
   }
  },
  {
   "cell_type": "code",
   "execution_count": 8,
   "outputs": [],
   "source": [
    "for i in num_col:\n",
    "    data[i] = preprocessing.StandardScaler().fit_transform(data[[i]])"
   ],
   "metadata": {
    "collapsed": false,
    "pycharm": {
     "name": "#%%\n"
    }
   }
  },
  {
   "cell_type": "markdown",
   "source": [
    "Onto clustering, explain why not kmean or kmode - mixed data type\n",
    "explain algo\n"
   ],
   "metadata": {
    "collapsed": false,
    "pycharm": {
     "name": "#%% md\n"
    }
   }
  },
  {
   "cell_type": "code",
   "execution_count": 9,
   "outputs": [],
   "source": [
    "X = data[data.columns.values[1:]].values\n",
    "cat_col = list(set(data.columns) - set(num_col))\n",
    "cat_col.remove('SK_ID_CURR')\n",
    "cat_col = sorted([data.columns.get_loc(c) -1 for c in cat_col if c in data])\n"
   ],
   "metadata": {
    "collapsed": false,
    "pycharm": {
     "name": "#%%\n"
    }
   }
  },
  {
   "cell_type": "code",
   "execution_count": null,
   "outputs": [],
   "source": [
    "#Choosing optimal K\n",
    "cost = []\n",
    "for num_clusters in list(range(1,14)):\n",
    "    kproto = KPrototypes(n_clusters=num_clusters, init='Cao', n_jobs=-2)\n",
    "    kproto.fit_predict(X, categorical=cat_col)\n",
    "    cost.append(kproto.cost_)\n",
    "\n",
    "plt.plot(cost)"
   ],
   "metadata": {
    "collapsed": false,
    "pycharm": {
     "name": "#%%\n",
     "is_executing": true
    }
   }
  },
  {
   "cell_type": "code",
   "execution_count": null,
   "outputs": [],
   "source": [
    "kproto = KPrototypes(n_clusters=6, init='Cao')\n",
    "clusters = kproto.fit_predict(X, categorical=cat_col)\n",
    "\n"
   ],
   "metadata": {
    "collapsed": false,
    "pycharm": {
     "name": "#%%\n",
     "is_executing": true
    }
   }
  },
  {
   "cell_type": "code",
   "execution_count": null,
   "outputs": [],
   "source": [
    "data['Cluster'] = kproto.labels_\n",
    "sns.barplot(x=data.index, y = data['Cluster'])\n"
   ],
   "metadata": {
    "collapsed": false,
    "pycharm": {
     "name": "#%%\n",
     "is_executing": true
    }
   }
  },
  {
   "cell_type": "markdown",
   "source": [
    "Step 4: Dimensionality Reduction ###\n",
    "Now we want to visualize the data from n diminesiton to 2 dimesion so we have to reduce the dimensionality of the\n",
    "data.since our data has both categorical and numerical values so we have to use \"facotor analysis for mixed data\" technique\n",
    "\"Prince\" package has this implementation"
   ],
   "metadata": {
    "collapsed": false,
    "pycharm": {
     "name": "#%% md\n"
    }
   }
  },
  {
   "cell_type": "code",
   "execution_count": null,
   "outputs": [],
   "source": [
    "famd = prince.FAMD(n_components=2, n_iter=3, copy=True, check_input=True, engine='auto')\n",
    "famd = famd.fit(data)\n",
    "\n",
    "ax = famd.plot_row_coordinates(data, ax=None, figsize=(12, 12), x_component=0, y_component=1,ellipse_outline=False,\n",
    "                               ellipse_fill=True, show_points=True, color_labels=data['Cluster'])\n",
    "\n",
    "\n",
    "\n"
   ],
   "metadata": {
    "collapsed": false,
    "pycharm": {
     "name": "#%%\n",
     "is_executing": true
    }
   }
  },
  {
   "cell_type": "code",
   "execution_count": null,
   "outputs": [],
   "source": [
    "# # Step 5: profile the clusters (for a target variable)\n",
    "# data.groupby('Cluster')['Rx'].mean().reset_index()"
   ],
   "metadata": {
    "collapsed": false,
    "pycharm": {
     "name": "#%%\n",
     "is_executing": true
    }
   }
  }
 ],
 "metadata": {
  "kernelspec": {
   "display_name": "Python 3",
   "language": "python",
   "name": "python3"
  },
  "language_info": {
   "codemirror_mode": {
    "name": "ipython",
    "version": 2
   },
   "file_extension": ".py",
   "mimetype": "text/x-python",
   "name": "python",
   "nbconvert_exporter": "python",
   "pygments_lexer": "ipython2",
   "version": "2.7.6"
  }
 },
 "nbformat": 4,
 "nbformat_minor": 0
}