{
 "cells": [
  {
   "cell_type": "markdown",
   "metadata": {
    "collapsed": true,
    "pycharm": {
     "name": "#%% md\n"
    }
   },
   "source": [
    "# Profitable Apps \n",
    "For this project we will assume the role of a data analyst for a mobile app development company.\n",
    "**Our goal is to build a free app that generates revenue by new ad views.**  This implies that the more users who\n",
    "see the add/install the app, the more revenue we will generate.\n",
    "\n",
    "\n",
    "This project will involve analyzing available app store data to find predictors of an app being likely to attract\n",
    " new users.  Assuming we find good indicators for number of installs, we will attempt to build a predictive model that \n",
    " given early ratings could tell us whether the app is likely to have a lot of installs or not."
   ]
  },
  {
   "cell_type": "markdown",
   "metadata": {
    "pycharm": {
     "name": "#%% md\n"
    }
   },
   "source": [
    "## Opening and Exploring the Data\n",
    "*We will be working with a dataset from 2018 as it was readily available.  It consists or approximately 10k+ apps from \n",
    "the Google App markets.  This dataset is available via Kaggle at the below link*\n",
    "- [Google Play Store Data](https://www.kaggle.com/lava18/google-play-store-apps)\n",
    "\n",
    "\n",
    "Using this sample of the true dataset should suffice at achieving our goal without making the investment to collect \n",
    "a larger dataset.  It is important to note the assumption that the marketplace hasn't changed in the time period in \n",
    "following the dataset.  In a production environment this would only serve as a proof of concept and an opportunity\n",
    "to gain some domain knowledge on feature importance.\n",
    "\n",
    "**Lets start by opening the data set**"
   ]
  },
  {
   "cell_type": "code",
   "execution_count": 1,
   "metadata": {
    "pycharm": {
     "name": "#%% \n"
    }
   },
   "outputs": [],
   "source": [
    "# IMPORTS #\n",
    "import pandas as pd\n",
    "import numpy as np\n",
    "import seaborn as sns\n",
    "import os\n",
    "import re\n",
    "import jenkspy\n",
    "import matplotlib.pyplot as plt\n",
    "from sklearn.tree import DecisionTreeClassifier\n",
    "from sklearn.model_selection import train_test_split, RandomizedSearchCV\n",
    "from sklearn.metrics import precision_score, recall_score, roc_auc_score, roc_curve\n",
    "from sklearn.metrics import confusion_matrix\n",
    "import itertools\n",
    "from sklearn.ensemble import RandomForestClassifier\n",
    "from sklearn.preprocessing import binarize\n",
    "\n",
    "\n",
    "\n",
    "\n",
    "google_raw = pd.read_csv(r'RawData/googleplaystore.csv')  # Read the csv file into a pandas Dataframe\n"
   ]
  },
  {
   "cell_type": "markdown",
   "metadata": {
    "pycharm": {
     "name": "#%% md\n"
    }
   },
   "source": [
    "One thing to always be conscious of is where your data is coming from.  In our case, the Google Dataset from Kaggle has \n",
    "a discussion section and one top discussion involves an inaccuracy in our data.  Apparently the 'Life Made Wi-Fi \n",
    "Touchscreen Photo Frame' app has invalid data.  In this case, since it is such a small sample of our data, we will just\n",
    "remove it."
   ]
  },
  {
   "cell_type": "code",
   "execution_count": 2,
   "metadata": {
    "pycharm": {
     "name": "#%%\n"
    }
   },
   "outputs": [
    {
     "name": "stdout",
     "output_type": "stream",
     "text": [
      "                                           App Category  Rating Reviews  \\\n",
      "10472  Life Made WI-Fi Touchscreen Photo Frame      1.9    19.0    3.0M   \n",
      "\n",
      "         Size Installs Type     Price Content Rating     Genres Last Updated  \\\n",
      "10472  1,000+     Free    0  Everyone            NaN  11-Feb-18       1.0.19   \n",
      "\n",
      "      Current Ver Android Ver  \n",
      "10472  4.0 and up         NaN  \n"
     ]
    }
   ],
   "source": [
    "print(google_raw.loc[[10472]])  # After verifying we have the correct index, drop it using .drop\n",
    "df = google_raw.drop(google_raw.index[10472])"
   ]
  },
  {
   "cell_type": "markdown",
   "metadata": {
    "pycharm": {
     "name": "#%% md\n"
    }
   },
   "source": [
    "## Cleaning the Data and Creating Features\n",
    "\n",
    "Now that we have dropped the advised row of incorrect data, we should spend some time ourselves checking against common\n",
    "issues associated with unknown datasets.  The first area to check is for duplicate entries in our dataset. Since our\n",
    "dataset is defined at the app level, we can check this by checking for duplicate application names."
   ]
  },
  {
   "cell_type": "code",
   "execution_count": 3,
   "metadata": {
    "pycharm": {
     "name": "#%%\n"
    }
   },
   "outputs": [
    {
     "data": {
      "text/plain": "['10 Best Foods for You',\n '1800 Contacts - Lens Store',\n '2017 EMRA Antibiotic Guide',\n '21-Day Meditation Experience',\n '365Scores - Live Scores',\n '420 BZ Budeze Delivery',\n '8 Ball Pool',\n '8fit Workouts & Meal Planner',\n '95Live -SG#1 Live Streaming App',\n 'A Manual of Acupuncture']"
     },
     "execution_count": 3,
     "metadata": {},
     "output_type": "execute_result"
    }
   ],
   "source": [
    "dups = df[df.duplicated(['App'])].App  # Create a DF and then filter to a Series of all Duplicated App Names\n",
    "sorted(set(dups))[:10]  # Convert to a set to remove duplicates, sort them and print out the first 10 for review"
   ]
  },
  {
   "cell_type": "markdown",
   "metadata": {
    "pycharm": {
     "name": "#%% md\n"
    }
   },
   "source": [
    "As we can see, there are quite a few duplicate entries in our dataset.  Now that we see a preview of some examples \n",
    "we can take a look at their raw data to see if and where their differences are."
   ]
  },
  {
   "cell_type": "code",
   "execution_count": 4,
   "metadata": {
    "pycharm": {
     "name": "#%%\n"
    }
   },
   "outputs": [
    {
     "data": {
      "text/plain": "                        App            Category  Rating Reviews  Size  \\\n1393  10 Best Foods for You  HEALTH_AND_FITNESS     4.0    2490  3.8M   \n1407  10 Best Foods for You  HEALTH_AND_FITNESS     4.0    2490  3.8M   \n\n      Installs  Type Price Content Rating            Genres Last Updated  \\\n1393  500,000+  Free     0   Everyone 10+  Health & Fitness    17-Feb-17   \n1407  500,000+  Free     0   Everyone 10+  Health & Fitness    17-Feb-17   \n\n     Current Ver   Android Ver  \n1393         1.9  2.3.3 and up  \n1407         1.9  2.3.3 and up  ",
      "text/html": "<div>\n<style scoped>\n    .dataframe tbody tr th:only-of-type {\n        vertical-align: middle;\n    }\n\n    .dataframe tbody tr th {\n        vertical-align: top;\n    }\n\n    .dataframe thead th {\n        text-align: right;\n    }\n</style>\n<table border=\"1\" class=\"dataframe\">\n  <thead>\n    <tr style=\"text-align: right;\">\n      <th></th>\n      <th>App</th>\n      <th>Category</th>\n      <th>Rating</th>\n      <th>Reviews</th>\n      <th>Size</th>\n      <th>Installs</th>\n      <th>Type</th>\n      <th>Price</th>\n      <th>Content Rating</th>\n      <th>Genres</th>\n      <th>Last Updated</th>\n      <th>Current Ver</th>\n      <th>Android Ver</th>\n    </tr>\n  </thead>\n  <tbody>\n    <tr>\n      <th>1393</th>\n      <td>10 Best Foods for You</td>\n      <td>HEALTH_AND_FITNESS</td>\n      <td>4.0</td>\n      <td>2490</td>\n      <td>3.8M</td>\n      <td>500,000+</td>\n      <td>Free</td>\n      <td>0</td>\n      <td>Everyone 10+</td>\n      <td>Health &amp; Fitness</td>\n      <td>17-Feb-17</td>\n      <td>1.9</td>\n      <td>2.3.3 and up</td>\n    </tr>\n    <tr>\n      <th>1407</th>\n      <td>10 Best Foods for You</td>\n      <td>HEALTH_AND_FITNESS</td>\n      <td>4.0</td>\n      <td>2490</td>\n      <td>3.8M</td>\n      <td>500,000+</td>\n      <td>Free</td>\n      <td>0</td>\n      <td>Everyone 10+</td>\n      <td>Health &amp; Fitness</td>\n      <td>17-Feb-17</td>\n      <td>1.9</td>\n      <td>2.3.3 and up</td>\n    </tr>\n  </tbody>\n</table>\n</div>"
     },
     "execution_count": 4,
     "metadata": {},
     "output_type": "execute_result"
    }
   ],
   "source": [
    "df[df.App == '10 Best Foods for You']  # Lookup the App by Name"
   ]
  },
  {
   "cell_type": "code",
   "execution_count": 5,
   "metadata": {
    "pycharm": {
     "name": "#%% \n"
    }
   },
   "outputs": [
    {
     "data": {
      "text/plain": "            App Category  Rating   Reviews                Size  \\\n2545  Instagram   SOCIAL     4.5  66577313  Varies with device   \n2604  Instagram   SOCIAL     4.5  66577446  Varies with device   \n2611  Instagram   SOCIAL     4.5  66577313  Varies with device   \n3909  Instagram   SOCIAL     4.5  66509917  Varies with device   \n\n            Installs  Type Price Content Rating  Genres Last Updated  \\\n2545  1,000,000,000+  Free     0           Teen  Social    31-Jul-18   \n2604  1,000,000,000+  Free     0           Teen  Social    31-Jul-18   \n2611  1,000,000,000+  Free     0           Teen  Social    31-Jul-18   \n3909  1,000,000,000+  Free     0           Teen  Social    31-Jul-18   \n\n             Current Ver         Android Ver  \n2545  Varies with device  Varies with device  \n2604  Varies with device  Varies with device  \n2611  Varies with device  Varies with device  \n3909  Varies with device  Varies with device  ",
      "text/html": "<div>\n<style scoped>\n    .dataframe tbody tr th:only-of-type {\n        vertical-align: middle;\n    }\n\n    .dataframe tbody tr th {\n        vertical-align: top;\n    }\n\n    .dataframe thead th {\n        text-align: right;\n    }\n</style>\n<table border=\"1\" class=\"dataframe\">\n  <thead>\n    <tr style=\"text-align: right;\">\n      <th></th>\n      <th>App</th>\n      <th>Category</th>\n      <th>Rating</th>\n      <th>Reviews</th>\n      <th>Size</th>\n      <th>Installs</th>\n      <th>Type</th>\n      <th>Price</th>\n      <th>Content Rating</th>\n      <th>Genres</th>\n      <th>Last Updated</th>\n      <th>Current Ver</th>\n      <th>Android Ver</th>\n    </tr>\n  </thead>\n  <tbody>\n    <tr>\n      <th>2545</th>\n      <td>Instagram</td>\n      <td>SOCIAL</td>\n      <td>4.5</td>\n      <td>66577313</td>\n      <td>Varies with device</td>\n      <td>1,000,000,000+</td>\n      <td>Free</td>\n      <td>0</td>\n      <td>Teen</td>\n      <td>Social</td>\n      <td>31-Jul-18</td>\n      <td>Varies with device</td>\n      <td>Varies with device</td>\n    </tr>\n    <tr>\n      <th>2604</th>\n      <td>Instagram</td>\n      <td>SOCIAL</td>\n      <td>4.5</td>\n      <td>66577446</td>\n      <td>Varies with device</td>\n      <td>1,000,000,000+</td>\n      <td>Free</td>\n      <td>0</td>\n      <td>Teen</td>\n      <td>Social</td>\n      <td>31-Jul-18</td>\n      <td>Varies with device</td>\n      <td>Varies with device</td>\n    </tr>\n    <tr>\n      <th>2611</th>\n      <td>Instagram</td>\n      <td>SOCIAL</td>\n      <td>4.5</td>\n      <td>66577313</td>\n      <td>Varies with device</td>\n      <td>1,000,000,000+</td>\n      <td>Free</td>\n      <td>0</td>\n      <td>Teen</td>\n      <td>Social</td>\n      <td>31-Jul-18</td>\n      <td>Varies with device</td>\n      <td>Varies with device</td>\n    </tr>\n    <tr>\n      <th>3909</th>\n      <td>Instagram</td>\n      <td>SOCIAL</td>\n      <td>4.5</td>\n      <td>66509917</td>\n      <td>Varies with device</td>\n      <td>1,000,000,000+</td>\n      <td>Free</td>\n      <td>0</td>\n      <td>Teen</td>\n      <td>Social</td>\n      <td>31-Jul-18</td>\n      <td>Varies with device</td>\n      <td>Varies with device</td>\n    </tr>\n  </tbody>\n</table>\n</div>"
     },
     "execution_count": 5,
     "metadata": {},
     "output_type": "execute_result"
    }
   ],
   "source": [
    "df[df.App == 'Instagram']  # Lookup the App by Name"
   ]
  },
  {
   "cell_type": "markdown",
   "metadata": {
    "pycharm": {
     "name": "#%% md\n"
    }
   },
   "source": [
    "Through some quick investigation it is clear that the area in which there are often differences in the duplicated apps \n",
    "is in the total number of reviews given to that app.  There are a few options here, but I believe the most efficient use\n",
    " of our time is to go with the App with the highest review count.  \n",
    " "
   ]
  },
  {
   "cell_type": "code",
   "execution_count": 6,
   "metadata": {
    "pycharm": {
     "name": "#%% \n"
    }
   },
   "outputs": [
    {
     "name": "stdout",
     "output_type": "stream",
     "text": [
      "[]\n"
     ]
    },
    {
     "data": {
      "text/plain": "            App Category  Rating   Reviews                Size  \\\n2604  Instagram   SOCIAL     4.5  66577446  Varies with device   \n\n            Installs  Type Price Content Rating  Genres Last Updated  \\\n2604  1,000,000,000+  Free     0           Teen  Social    31-Jul-18   \n\n             Current Ver         Android Ver  \n2604  Varies with device  Varies with device  ",
      "text/html": "<div>\n<style scoped>\n    .dataframe tbody tr th:only-of-type {\n        vertical-align: middle;\n    }\n\n    .dataframe tbody tr th {\n        vertical-align: top;\n    }\n\n    .dataframe thead th {\n        text-align: right;\n    }\n</style>\n<table border=\"1\" class=\"dataframe\">\n  <thead>\n    <tr style=\"text-align: right;\">\n      <th></th>\n      <th>App</th>\n      <th>Category</th>\n      <th>Rating</th>\n      <th>Reviews</th>\n      <th>Size</th>\n      <th>Installs</th>\n      <th>Type</th>\n      <th>Price</th>\n      <th>Content Rating</th>\n      <th>Genres</th>\n      <th>Last Updated</th>\n      <th>Current Ver</th>\n      <th>Android Ver</th>\n    </tr>\n  </thead>\n  <tbody>\n    <tr>\n      <th>2604</th>\n      <td>Instagram</td>\n      <td>SOCIAL</td>\n      <td>4.5</td>\n      <td>66577446</td>\n      <td>Varies with device</td>\n      <td>1,000,000,000+</td>\n      <td>Free</td>\n      <td>0</td>\n      <td>Teen</td>\n      <td>Social</td>\n      <td>31-Jul-18</td>\n      <td>Varies with device</td>\n      <td>Varies with device</td>\n    </tr>\n  </tbody>\n</table>\n</div>"
     },
     "execution_count": 6,
     "metadata": {},
     "output_type": "execute_result"
    }
   ],
   "source": [
    "df.sort_values(by=['Reviews'], inplace=True, ascending=False)  # Sort rows by highest reviews to lowest\n",
    "# Remove any duplicate App names, keeping the first occurrence\n",
    "df.drop_duplicates(subset='App', keep='first', inplace=True)\n",
    "\n",
    "# Check for dups again to confirm they were removed\n",
    "dups = df[df.duplicated(['App'])].App\n",
    "print(sorted(set(dups))[:10])\n",
    "\n",
    "df[df.App == 'Instagram']  # Verify we removed all dups keeping the highest review count"
   ]
  },
  {
   "cell_type": "markdown",
   "metadata": {
    "pycharm": {
     "name": "#%% md\n"
    }
   },
   "source": [
    "As we can now see we have removed all duplicate App names from our Google dataset.  We've also displayed the results \n",
    "for instagram so that we can check we removed duplicates correctly.\n",
    "\n",
    "The next step seems to be to start analyzing the data from our slightly cleaned set.  **However, if we keep the goal \n",
    "of this project in mind, we will remember that we do not care about paid or Non-English apps.**  Our goal is to make a \n",
    "free, english friendly app.  it is important to remove these other apps from our dataset early on so that we do not\n",
    "consider their values as valid while cleaning and eventually feature engineering."
   ]
  },
  {
   "cell_type": "code",
   "execution_count": 7,
   "metadata": {
    "pycharm": {
     "name": "#%%\n"
    }
   },
   "outputs": [
    {
     "data": {
      "text/plain": "                                    App          Category  Rating Reviews  \\\n2989             GollerCepte Live Score            SPORTS     4.2    9992   \n4970       Ad Block REMOVER - NEED ROOT             TOOLS     3.3     999   \n2723                SnipSnap Coupon App          SHOPPING     4.2    9975   \n3079  US Open Tennis Championships 2018            SPORTS     4.0    9971   \n3229                         DreamTrips  TRAVEL_AND_LOCAL     4.7    9971   \n\n     Size    Installs  Type Price Content Rating          Genres Last Updated  \\\n2989  31M  1,000,000+  Free     0       Everyone          Sports    23-May-18   \n4970  91k    100,000+  Free     0       Everyone           Tools    17-Dec-13   \n2723  18M  1,000,000+  Free     0       Everyone        Shopping    22-Jan-18   \n3079  33M  1,000,000+  Free     0       Everyone          Sports     5-Jun-18   \n3229  22M    500,000+  Free     0           Teen  Travel & Local     6-Aug-18   \n\n     Current Ver Android Ver  \n2989         6.5  4.1 and up  \n4970         3.2  2.2 and up  \n2723         1.4  4.3 and up  \n3079         7.1  5.0 and up  \n3229      1.28.1  5.0 and up  ",
      "text/html": "<div>\n<style scoped>\n    .dataframe tbody tr th:only-of-type {\n        vertical-align: middle;\n    }\n\n    .dataframe tbody tr th {\n        vertical-align: top;\n    }\n\n    .dataframe thead th {\n        text-align: right;\n    }\n</style>\n<table border=\"1\" class=\"dataframe\">\n  <thead>\n    <tr style=\"text-align: right;\">\n      <th></th>\n      <th>App</th>\n      <th>Category</th>\n      <th>Rating</th>\n      <th>Reviews</th>\n      <th>Size</th>\n      <th>Installs</th>\n      <th>Type</th>\n      <th>Price</th>\n      <th>Content Rating</th>\n      <th>Genres</th>\n      <th>Last Updated</th>\n      <th>Current Ver</th>\n      <th>Android Ver</th>\n    </tr>\n  </thead>\n  <tbody>\n    <tr>\n      <th>2989</th>\n      <td>GollerCepte Live Score</td>\n      <td>SPORTS</td>\n      <td>4.2</td>\n      <td>9992</td>\n      <td>31M</td>\n      <td>1,000,000+</td>\n      <td>Free</td>\n      <td>0</td>\n      <td>Everyone</td>\n      <td>Sports</td>\n      <td>23-May-18</td>\n      <td>6.5</td>\n      <td>4.1 and up</td>\n    </tr>\n    <tr>\n      <th>4970</th>\n      <td>Ad Block REMOVER - NEED ROOT</td>\n      <td>TOOLS</td>\n      <td>3.3</td>\n      <td>999</td>\n      <td>91k</td>\n      <td>100,000+</td>\n      <td>Free</td>\n      <td>0</td>\n      <td>Everyone</td>\n      <td>Tools</td>\n      <td>17-Dec-13</td>\n      <td>3.2</td>\n      <td>2.2 and up</td>\n    </tr>\n    <tr>\n      <th>2723</th>\n      <td>SnipSnap Coupon App</td>\n      <td>SHOPPING</td>\n      <td>4.2</td>\n      <td>9975</td>\n      <td>18M</td>\n      <td>1,000,000+</td>\n      <td>Free</td>\n      <td>0</td>\n      <td>Everyone</td>\n      <td>Shopping</td>\n      <td>22-Jan-18</td>\n      <td>1.4</td>\n      <td>4.3 and up</td>\n    </tr>\n    <tr>\n      <th>3079</th>\n      <td>US Open Tennis Championships 2018</td>\n      <td>SPORTS</td>\n      <td>4.0</td>\n      <td>9971</td>\n      <td>33M</td>\n      <td>1,000,000+</td>\n      <td>Free</td>\n      <td>0</td>\n      <td>Everyone</td>\n      <td>Sports</td>\n      <td>5-Jun-18</td>\n      <td>7.1</td>\n      <td>5.0 and up</td>\n    </tr>\n    <tr>\n      <th>3229</th>\n      <td>DreamTrips</td>\n      <td>TRAVEL_AND_LOCAL</td>\n      <td>4.7</td>\n      <td>9971</td>\n      <td>22M</td>\n      <td>500,000+</td>\n      <td>Free</td>\n      <td>0</td>\n      <td>Teen</td>\n      <td>Travel &amp; Local</td>\n      <td>6-Aug-18</td>\n      <td>1.28.1</td>\n      <td>5.0 and up</td>\n    </tr>\n  </tbody>\n</table>\n</div>"
     },
     "execution_count": 7,
     "metadata": {},
     "output_type": "execute_result"
    }
   ],
   "source": [
    "def is_english(row: pd.DataFrame, met: str, flag: int) -> bool:\n",
    "    \"\"\"\n",
    "    :param row: a row from a pandas dataFrame\n",
    "    :param met: a column header to determine the column checking\n",
    "    :param flag: an int provided to serve as the threshold for how many non-ASCII characters are allowed\n",
    "    :return: a boolean that returns True if it is english\n",
    "    \n",
    "    This function uses python's built-in ord function to find out the corresponding number of each character.\n",
    "    English characters (including punc) are encoded as ASCII standard, meaning each character should fall within 0 and\n",
    "    127.  However there are instances where english apps use non ASCII characters (emojis, dashes, etc..)  Due to this \n",
    "    we will set a threshold for the number of non-ASCII characters the string can have.\n",
    "    \n",
    "    TODO: may be worth having the threshold provided systematically based on length of string, etc..\n",
    "    \"\"\"\n",
    "    non_ascii = 0  # Establish counter\n",
    "    for char in row[met]:  # For each character in the string\n",
    "        if ord(char) > 127:  # If non-english\n",
    "            non_ascii += 1  # add 1 to the counter\n",
    "    \n",
    "    if non_ascii > flag:  # Post Loop, if counter above threshold, return False\n",
    "        return False\n",
    "    else:\n",
    "        return True\n",
    "    \n",
    "df = df[df.apply(is_english, axis=1, met='App', flag=3) == True]  # Apply is_enlgish function row by row on the App col\n",
    "df.head()"
   ]
  },
  {
   "cell_type": "markdown",
   "metadata": {
    "pycharm": {
     "name": "#%% md\n"
    }
   },
   "source": [
    "Removing price is much simpler, as we have a categorical variable for Free Vs Paid in our dataset.  It is important in \n",
    "these situation to check your classifying variables.  So we should look to see if there are cases in which the App is \n",
    "labeled as paid, but appears to have no cost."
   ]
  },
  {
   "cell_type": "code",
   "execution_count": 8,
   "metadata": {
    "pycharm": {
     "name": "#%%\n"
    }
   },
   "outputs": [
    {
     "name": "stdout",
     "output_type": "stream",
     "text": [
      "Empty DataFrame\n",
      "Columns: [App, Category, Rating, Reviews, Size, Installs, Type, Price, Content Rating, Genres, Last Updated, Current Ver, Android Ver]\n",
      "Index: []\n"
     ]
    },
    {
     "data": {
      "text/plain": "array(['Free', nan], dtype=object)"
     },
     "execution_count": 8,
     "metadata": {},
     "output_type": "execute_result"
    }
   ],
   "source": [
    "# Check to ensure there are not invalid cases of this classification variable\n",
    "invalid = df[(df.Price == '0') & (df.Type == 'Paid')]\n",
    "print(invalid)\n",
    "\n",
    "# Double Check that all we have remaining is \"Free\" apps\n",
    "df = df[df.Type != 'Paid']\n",
    "df.Type.unique()"
   ]
  },
  {
   "cell_type": "markdown",
   "metadata": {},
   "source": [
    "To make further data exploration easier we will start by exploring the columns and the data types contained\n",
    "in each column."
   ]
  },
  {
   "cell_type": "code",
   "execution_count": 9,
   "metadata": {
    "pycharm": {
     "name": "#%%\n"
    }
   },
   "outputs": [],
   "source": [
    "def get_cat(series: pd.Series, empty_flag: bool) -> str:\n",
    "    \"\"\"\n",
    "    :param series: a pandas series of data (should be of one data type)\n",
    "    :param empty_flag: a boolean to call out an empty column (containing all NaNs)\n",
    "    :return: a string that is the 'category of the datatype'\n",
    "    \n",
    "    This function will take a given series and return a generalized category for the datatype.\n",
    "    This is necessary for readability as df.dtypes will return ungrouped types (i.e. float64, int64)\n",
    "    as well as return some options that do not provide much insight (i.e. object)\n",
    "    \"\"\"\n",
    "    if empty_flag:  # Catch Empty Columns\n",
    "        return 'Empty'\n",
    "    elif pd.api.types.is_numeric_dtype(series):\n",
    "        return 'Numerical'\n",
    "    elif pd.api.types.is_datetime64_dtype(series):\n",
    "        return 'Date'\n",
    "    elif pd.api.types.is_bool_dtype(series):\n",
    "        return 'Boolean'\n",
    "    elif pd.api.types.is_categorical_dtype(series):\n",
    "        return 'Categorical'\n",
    "    elif pd.api.types.is_string_dtype(series):\n",
    "        return 'Text'\n",
    "    else:  # Catches all others for review\n",
    "        return 'Unknown'\n",
    "\n",
    "\n",
    "def col_categories(data: pd.DataFrame):\n",
    "    \"\"\"\n",
    "    :param data: a pandas Dataframe consisting of columns of data you want to explore their categories\n",
    "    :return: None\n",
    "    Prints the column name and data type of each column in the dataframe \n",
    "    \"\"\"\n",
    "    if data.dropna().empty:  # Catches Error\n",
    "        raise ValueError('DataFrame Provided Contains is either empty or only contains NaNs') \n",
    "        # sys.exit(1)\n",
    "    for col in data.columns:  # For Each Column\n",
    "        if data[col].dropna().empty:  # Catch Empty Columns\n",
    "            empty = True  # Set Flag\n",
    "        else:\n",
    "            empty = False  # Set Flag\n",
    "        print(col, ': ', get_cat(data[col], empty))  # Print and Call Column Categories"
   ]
  },
  {
   "cell_type": "code",
   "execution_count": 10,
   "metadata": {
    "pycharm": {
     "name": "#%%\n"
    }
   },
   "outputs": [
    {
     "name": "stdout",
     "output_type": "stream",
     "text": [
      "Google Data\n",
      "App :  Text\n",
      "Category :  Text\n",
      "Rating :  Numerical\n",
      "Reviews :  Text\n",
      "Size :  Text\n",
      "Installs :  Text\n",
      "Type :  Text\n",
      "Price :  Text\n",
      "Content Rating :  Text\n",
      "Genres :  Text\n",
      "Last Updated :  Text\n",
      "Current Ver :  Text\n",
      "Android Ver :  Text\n"
     ]
    }
   ],
   "source": [
    "# Call col_categories to get an understanding of our Datasets \n",
    "print('Google Data')\n",
    "col_categories(df)\n"
   ]
  },
  {
   "cell_type": "markdown",
   "metadata": {
    "pycharm": {
     "name": "#%% md\n"
    }
   },
   "source": [
    "Now that we have cleaned up our dataset a little, we can seem some areas where we may be suspicious of the data type \n",
    "returned to us.  For example, \"Category\" in the Google data could potentially be converted into a categorical variables. \n",
    "While making these conversions may not be the most crucial step we will do here today, it serves as a good step to \n",
    "ensure later on you can grab data by type. Even for metrics we may not end up using, it is reasonable to do some basic \n",
    "level of cleaning and converting so that this data can be exported and saved for future uses (which may need the other \n",
    "features)\n",
    "\n",
    "**The first step is to confirm our assumptions on data types by looking at samples of the data.**"
   ]
  },
  {
   "cell_type": "code",
   "execution_count": 11,
   "metadata": {
    "pycharm": {
     "name": "#%%\n"
    }
   },
   "outputs": [
    {
     "data": {
      "text/plain": "                                    App          Category  Rating Reviews  \\\n2989             GollerCepte Live Score            SPORTS     4.2    9992   \n4970       Ad Block REMOVER - NEED ROOT             TOOLS     3.3     999   \n2723                SnipSnap Coupon App          SHOPPING     4.2    9975   \n3079  US Open Tennis Championships 2018            SPORTS     4.0    9971   \n3229                         DreamTrips  TRAVEL_AND_LOCAL     4.7    9971   \n\n     Size    Installs  Type Price Content Rating          Genres Last Updated  \\\n2989  31M  1,000,000+  Free     0       Everyone          Sports    23-May-18   \n4970  91k    100,000+  Free     0       Everyone           Tools    17-Dec-13   \n2723  18M  1,000,000+  Free     0       Everyone        Shopping    22-Jan-18   \n3079  33M  1,000,000+  Free     0       Everyone          Sports     5-Jun-18   \n3229  22M    500,000+  Free     0           Teen  Travel & Local     6-Aug-18   \n\n     Current Ver Android Ver  \n2989         6.5  4.1 and up  \n4970         3.2  2.2 and up  \n2723         1.4  4.3 and up  \n3079         7.1  5.0 and up  \n3229      1.28.1  5.0 and up  ",
      "text/html": "<div>\n<style scoped>\n    .dataframe tbody tr th:only-of-type {\n        vertical-align: middle;\n    }\n\n    .dataframe tbody tr th {\n        vertical-align: top;\n    }\n\n    .dataframe thead th {\n        text-align: right;\n    }\n</style>\n<table border=\"1\" class=\"dataframe\">\n  <thead>\n    <tr style=\"text-align: right;\">\n      <th></th>\n      <th>App</th>\n      <th>Category</th>\n      <th>Rating</th>\n      <th>Reviews</th>\n      <th>Size</th>\n      <th>Installs</th>\n      <th>Type</th>\n      <th>Price</th>\n      <th>Content Rating</th>\n      <th>Genres</th>\n      <th>Last Updated</th>\n      <th>Current Ver</th>\n      <th>Android Ver</th>\n    </tr>\n  </thead>\n  <tbody>\n    <tr>\n      <th>2989</th>\n      <td>GollerCepte Live Score</td>\n      <td>SPORTS</td>\n      <td>4.2</td>\n      <td>9992</td>\n      <td>31M</td>\n      <td>1,000,000+</td>\n      <td>Free</td>\n      <td>0</td>\n      <td>Everyone</td>\n      <td>Sports</td>\n      <td>23-May-18</td>\n      <td>6.5</td>\n      <td>4.1 and up</td>\n    </tr>\n    <tr>\n      <th>4970</th>\n      <td>Ad Block REMOVER - NEED ROOT</td>\n      <td>TOOLS</td>\n      <td>3.3</td>\n      <td>999</td>\n      <td>91k</td>\n      <td>100,000+</td>\n      <td>Free</td>\n      <td>0</td>\n      <td>Everyone</td>\n      <td>Tools</td>\n      <td>17-Dec-13</td>\n      <td>3.2</td>\n      <td>2.2 and up</td>\n    </tr>\n    <tr>\n      <th>2723</th>\n      <td>SnipSnap Coupon App</td>\n      <td>SHOPPING</td>\n      <td>4.2</td>\n      <td>9975</td>\n      <td>18M</td>\n      <td>1,000,000+</td>\n      <td>Free</td>\n      <td>0</td>\n      <td>Everyone</td>\n      <td>Shopping</td>\n      <td>22-Jan-18</td>\n      <td>1.4</td>\n      <td>4.3 and up</td>\n    </tr>\n    <tr>\n      <th>3079</th>\n      <td>US Open Tennis Championships 2018</td>\n      <td>SPORTS</td>\n      <td>4.0</td>\n      <td>9971</td>\n      <td>33M</td>\n      <td>1,000,000+</td>\n      <td>Free</td>\n      <td>0</td>\n      <td>Everyone</td>\n      <td>Sports</td>\n      <td>5-Jun-18</td>\n      <td>7.1</td>\n      <td>5.0 and up</td>\n    </tr>\n    <tr>\n      <th>3229</th>\n      <td>DreamTrips</td>\n      <td>TRAVEL_AND_LOCAL</td>\n      <td>4.7</td>\n      <td>9971</td>\n      <td>22M</td>\n      <td>500,000+</td>\n      <td>Free</td>\n      <td>0</td>\n      <td>Teen</td>\n      <td>Travel &amp; Local</td>\n      <td>6-Aug-18</td>\n      <td>1.28.1</td>\n      <td>5.0 and up</td>\n    </tr>\n  </tbody>\n</table>\n</div>"
     },
     "execution_count": 11,
     "metadata": {},
     "output_type": "execute_result"
    }
   ],
   "source": [
    "# Look at the first few rows of our data\n",
    "df.head()"
   ]
  },
  {
   "cell_type": "markdown",
   "metadata": {
    "pycharm": {
     "name": "#%% md\n"
    }
   },
   "source": [
    "*The user should be looking at more than the first 5 rows of data to get a good understanding of the data, this \n",
    "amount is just used for readability*\n",
    "\n",
    "### As we expected, we have a few areas worth converting/cleaning:\n",
    "- **Category**\n",
    "    - From Text to Category\n",
    "- **Size** - Seems like there are 2 Options \n",
    "    - Try converting to a numerical and impute the \"Varies By Size\"\n",
    "    - Explore the distribution of this metric to see if we can create ranges and thus categories\n",
    "- **Installs**\n",
    "    - From Text to Categorical\n",
    "- **Type**\n",
    "    - From Text to Categorical\n",
    "- **Content Rating**\n",
    "    - From Text to Categorical\n",
    "- **Genre**\n",
    "    - Multiple Entry Text, split on ; - Will probably be worth to dummify the variable to turn them into multiple binary\n",
    "    variables\n",
    "- **Last Updated**\n",
    "    - From Text to Date\n",
    "\n",
    "*Current Version and Android Version Required are not something I will be working with as I think those categories are \n",
    "more complicated in their feature engineering, and we want to prioritize our time in the most effective way.*"
   ]
  },
  {
   "cell_type": "code",
   "execution_count": 12,
   "metadata": {
    "pycharm": {
     "name": "#%%\n"
    }
   },
   "outputs": [
    {
     "name": "stdout",
     "output_type": "stream",
     "text": [
      "Google Data\n",
      "App :  Text\n",
      "Category :  Categorical\n",
      "Rating :  Numerical\n",
      "Reviews :  Numerical\n",
      "Size :  Text\n",
      "Installs :  Categorical\n",
      "Type :  Categorical\n",
      "Price :  Text\n",
      "Content Rating :  Categorical\n",
      "Genres :  Text\n",
      "Last Updated :  Text\n",
      "Current Ver :  Text\n",
      "Android Ver :  Text\n"
     ]
    }
   ],
   "source": [
    "# Simple Text to Categorical Conversion\n",
    "df['Category'] = pd.Categorical(df.Category)\n",
    "df['Installs'] = pd.Categorical(df.Installs)\n",
    "df['Type'] = pd.Categorical(df.Type)\n",
    "df['Content Rating'] = pd.Categorical(df['Content Rating'])\n",
    "df['Reviews'] = df['Reviews'].astype('int')\n",
    "\n",
    "#  Recall our Original Col DataType Function\n",
    "print('Google Data')\n",
    "col_categories(df)"
   ]
  },
  {
   "cell_type": "markdown",
   "metadata": {
    "pycharm": {
     "name": "#%% md\n"
    }
   },
   "source": [
    "Now we have completed the one step conversion of data types, we can move onto the more complicated.  We will\n",
    "start by analyzing the Size Category.  I believe the best process will be to first analyze the data we have for google.\n",
    "\n",
    "By examining the data in the CSV file we can see they have a standard data structure format. We can use regular \n",
    "expressions to analyze this more."
   ]
  },
  {
   "cell_type": "code",
   "execution_count": 13,
   "metadata": {
    "pycharm": {
     "name": "#%%\n"
    }
   },
   "outputs": [
    {
     "data": {
      "text/plain": "{'Varies with device'}"
     },
     "execution_count": 13,
     "metadata": {},
     "output_type": "execute_result"
    }
   ],
   "source": [
    "def patt_out(row: pd.DataFrame, met:str, patt:str, result:list):\n",
    "    \"\"\"\n",
    "    :param row: row supplied by the apply function\n",
    "    :param met: the column of interest from the row\n",
    "    :param patt: Regex pattern that is the standard format\n",
    "    :param result: a list to append to all of the non-standard format responses for investigation\n",
    "    :return: None\n",
    "    \n",
    "    This function serves to find those values from a given row/column that do not fit a regex format supplied.\n",
    "    This can be used to ensure we are not missing some odd values during out data cleaning.\n",
    "    \n",
    "    TODO: Convert to a bigData Approach using Pyspark for scalability \n",
    "    \"\"\"\n",
    "    pattern = re.compile(patt)\n",
    "    if not pattern.match(row[met]):\n",
    "        result.append(row.Size)\n",
    "    return None\n",
    "\n",
    "\n",
    "mismatch = list()  # Initiate a list to contain results\n",
    "regexp = '(\\d+(?:\\.\\d+)?([Mk])$)'  # Looks for any int or float\n",
    "# Applies the pattern outlier function row by row\n",
    "df.apply(patt_out, axis=1, met='Size', patt=regexp, result = mismatch)\n",
    "mismatch = set(mismatch)  # Removes Duplicates by Converting to a Set\n",
    "mismatch"
   ]
  },
  {
   "cell_type": "markdown",
   "metadata": {
    "pycharm": {
     "name": "#%% md\n"
    }
   },
   "source": [
    "**As you can see through our investigation of our data format for the Size column, everything follows the pattern:**\n",
    "- A Numeric Followed by 'M' for megabyte or 'k' for kilobyte\n",
    "- A Categorical Variable of 'Varies with device'\n",
    "\n",
    "Now to really get this feature into a category datatype we have to convert those with k or M to their corresponding \n",
    "number of bytes (shared unit)."
   ]
  },
  {
   "cell_type": "code",
   "execution_count": 14,
   "metadata": {
    "pycharm": {
     "name": "#%%\n"
    }
   },
   "outputs": [
    {
     "data": {
      "text/plain": "count      7708.000000\nmean      20523.375000\nstd       21809.168961\nmin           8.500000\n25%        4700.000000\n50%       12000.000000\n75%       28000.000000\nmax      100000.000000\nName: Size, dtype: float64"
     },
     "execution_count": 14,
     "metadata": {},
     "output_type": "execute_result"
    }
   ],
   "source": [
    "def convert_bytes(val:str) -> float:\n",
    "    \"\"\"\n",
    "    :param val: Values from a Series containing either a 'M' or 'k' to signify the unit of bytes\n",
    "    :return: converted to bytes value as a float\n",
    "    \n",
    "    This function serves to determine the byte units implied by the string and convert to raw kilobytes for comparison\n",
    "    \"\"\"\n",
    "    if val == 'Varies with device':\n",
    "        return 0.0\n",
    "    if val[-1] == 'M':\n",
    "        return float(val[:-1]) * 1000  # Multiply by 1000 to convert to kb\n",
    "    if val[-1] == 'k':\n",
    "        return float(val[:-1])\n",
    "\n",
    "sizes = df[df.Size != 'Varies with device'].Size  # Creates a series of all sizes we have data on\n",
    "sizes = sizes.apply(convert_bytes)  # Converts the sizes to the same unit, kilobytes\n",
    "\n",
    "sizes.describe()  # View General Descriptive Statistics"
   ]
  },
  {
   "cell_type": "markdown",
   "metadata": {
    "pycharm": {
     "name": "#%% md\n"
    }
   },
   "source": [
    "Now we can see some basic descriptive statistics from this metric, we can start to gain insight on how we\n",
    "should categorize this variable.  Of interest we can see the average size is approx. 20,000 kb for our apps, however \n",
    "the variance in this metric is very high as well with a standard deviation of almost 22,000 kb.  Due to this I find it \n",
    "may be valuable to get a better look at the distribution of this metric."
   ]
  },
  {
   "cell_type": "code",
   "execution_count": 15,
   "metadata": {
    "pycharm": {
     "name": "#%%\n"
    }
   },
   "outputs": [
    {
     "data": {
      "text/plain": "Text(0.5, 1.0, 'Google App Size Distribution')"
     },
     "execution_count": 15,
     "metadata": {},
     "output_type": "execute_result"
    },
    {
     "data": {
      "text/plain": "<Figure size 432x288 with 1 Axes>",
      "image/png": "[encoded data removed]"
     },
     "metadata": {
      "needs_background": "light"
     },
     "output_type": "display_data"
    }
   ],
   "source": [
    "ax = sns.kdeplot(sizes, shade=False, legend=None)  # Create a Subplot to get the Kernel Density Estimation Plot\n",
    "lines = ax.get_lines()[0]  # Grab the lin objects from the kde\n",
    "x, y = lines.get_data()  # convert line into x & y coords\n",
    "\n",
    "# Color fill the visual based on percentile - Default Interpolation\n",
    "ax.fill_between(x, y, where = x <= np.percentile(sizes, 25), color='r', alpha=0.5)\n",
    "ax.fill_between(x, y, where = (x > np.percentile(sizes, 25)) & \n",
    "                              (x < np.percentile(sizes, 75)), color='y', alpha=0.5)\n",
    "ax.fill_between(x, y, where = x >= np.percentile(sizes, 75), color='g', alpha=0.5)\n",
    "\n",
    "# Add vertical lines to signify the percentiles we shaded by\n",
    "ax.vlines(x = np.percentile(sizes, 25), ymin=0, ymax=np.interp(np.percentile(sizes, 25), x, y))\n",
    "ax.vlines(x = np.percentile(sizes, 75), ymin=0, ymax=np.interp(np.percentile(sizes, 75), x, y))\n",
    "ax.vlines(x = np.percentile(sizes, 50), ymin=0, ymax=np.interp(np.percentile(sizes, 50), x, y), color='r')\n",
    "\n",
    "#Add Data Labels for our lines to avoid confusion\n",
    "ax.text(np.percentile(sizes, 25), np.interp(np.percentile(sizes, 25), x, y), '25th Perc.')\n",
    "ax.text(np.percentile(sizes, 50), np.interp(np.percentile(sizes, 50), x, y), 'Median')\n",
    "ax.text(np.percentile(sizes, 75), np.interp(np.percentile(sizes, 75), x, y), '75th Perc.')\n",
    "\n",
    "ax.set_title('Google App Size Distribution')  # Add a title"
   ]
  },
  {
   "cell_type": "markdown",
   "metadata": {
    "pycharm": {
     "name": "#%% md\n"
    }
   },
   "source": [
    "As we can see in the above Kernel Density Plot (used as an approximation of the PDF) the size data is heavily skewed to \n",
    "left and smaller apps.  This will mean that there is much more variation in the upper percentiles when it comes to App \n",
    "size.  There are two main ways people tend to lean when presented with this type of situation.  \n",
    "- That you have so many apps clustered together on the small side that we need additional categories on that side to \n",
    "see the true nuance.\n",
    "- Since there is so much variance (large spread) at the top percentiles we will want to have extra categories on that \n",
    "side of the distribution to account for different behavior.\n",
    "\n",
    "In cases like these I always find it beneficial to apply Fisher-Jenks algorithm first to help confirm the insight \n",
    "we've gained from our early analysis.  While this algorithm will find the natural breaking points for us in the data, \n",
    "we want to evaluate the distribution both with and without outliers."
   ]
  },
  {
   "cell_type": "code",
   "execution_count": 16,
   "metadata": {
    "pycharm": {
     "name": "#%%\n"
    }
   },
   "outputs": [
    {
     "name": "stdout",
     "output_type": "stream",
     "text": [
      "\r\n",
      " Outliers Not Removed\n",
      "10 Percentile 2500.0\n",
      "20 Percentile 3900.0\n",
      "30 Percentile 5800.0\n",
      "40 Percentile 8500.0\n",
      "50 Percentile 12000.0\n",
      "60 Percentile 17000.0\n",
      "70 Percentile 25000.0\n",
      "80 Percentile 34000.0\n",
      "90 Percentile 52000.0\n",
      "\r\n",
      " FJ breaks [8.5, 10000.0, 23000.0, 42000.0, 69000.0, 100000.0]\n",
      "\r\n",
      " Outliers Removed\n",
      "10 Percentile 2300.0\n",
      "20 Percentile 3500.0\n",
      "30 Percentile 5000.0\n",
      "40 Percentile 7100.0\n",
      "50 Percentile 9800.0\n",
      "60 Percentile 13000.0\n",
      "70 Percentile 18000.0\n",
      "80 Percentile 25000.0\n",
      "90 Percentile 32000.0\n",
      "\r\n",
      " FJ breaks [8.5, 6400.0, 13000.0, 22000.0, 33000.0, 46000.0]\n"
     ]
    }
   ],
   "source": [
    "#Inner Quartile Range\n",
    "IQR = (np.percentile(sizes, 75) - np.percentile(sizes, 25))  # Establish the Inner Quartile Range\n",
    "upper_bound = np.percentile(sizes, 50) + (IQR * 1.5)\n",
    "lower_bound = np.percentile(sizes, 50) - (IQR * 1.5)\n",
    "\n",
    "sizes_trim = sizes[(sizes >= lower_bound) & (sizes <= upper_bound)]  # Trim off sizes outside our range\n",
    "\n",
    "# Print Results of each Percentile\n",
    "print(os.linesep, 'Outliers Not Removed')\n",
    "for i in range(0, 9):\n",
    "    print ((i + 1)*10, 'Percentile', np.percentile(sizes, (i +1)*10))\n",
    "\n",
    "# Establish the natural breaking points using Fisher-Jenks\n",
    "breaks = jenkspy.jenks_breaks(sizes, nb_class=5)\n",
    "print(os.linesep, 'FJ breaks', breaks)  # Print the Break Points\n",
    "\n",
    "# Print percentiles with outliers removed\n",
    "print(os.linesep, 'Outliers Removed')\n",
    "for i in range(0, 9):\n",
    "    print ((i + 1)*10, 'Percentile', np.percentile(sizes_trim, (i +1)*10))\n",
    "\n",
    "# Establish and print breaks using fisher-jenks algo with outliers removed \n",
    "breaks = jenkspy.jenks_breaks(sizes_trim, nb_class=5)\n",
    "print(os.linesep, 'FJ breaks', breaks)\n"
   ]
  },
  {
   "cell_type": "markdown",
   "metadata": {
    "pycharm": {
     "name": "#%% md\n"
    }
   },
   "source": [
    "Using the inner quartile range (*1.5) method to remove outliers has removed approx. 12% of our apps based on size. \n",
    "With a quick scan we can see that essentially they were all on the upper limits, however this seems like a large \n",
    "percentage of outliers.\n",
    "\n",
    "While it is unconventional, I think the appropriate action here is to keep outliers in but make a footnote of their \n",
    "inclusion.  In this case I will use the Fisher-Jenks results without outliers to build my categories, but then \n",
    "include the ranges when outliers are included, stating these are outliers."
   ]
  },
  {
   "cell_type": "code",
   "execution_count": 17,
   "metadata": {
    "pycharm": {
     "name": "#%%\n"
    }
   },
   "outputs": [],
   "source": [
    "df['Size_Conv'] = df.Size.apply(convert_bytes)  # Convert bytes into a numeric column for investigation\n",
    "\n",
    "# Establish ranges \n",
    "criteria = df.Size_Conv.between(0, 8.5), df.Size_Conv.between(8.5, 6401), df.Size_Conv.between(6401, 13001), \\\n",
    "           df.Size_Conv.between(13001, 22001), df.Size_Conv.between(22001, 33001), df.Size_Conv.between(33001, 46001), \\\n",
    "           df.Size_Conv.between(46001, 69001), df.Size_Conv.between(69001, 100001)\n",
    "# Establish values associated with ranges\n",
    "values = [1, 2, 3, 4, 5, 6, 7, 8]\n",
    "\n",
    "#Apply the classification into it's own column\n",
    "df['Size_Class'] = np.select(criteria, values, 0)\n",
    "df['Size_Class'] = pd.Categorical(df.Size_Class)"
   ]
  },
  {
   "cell_type": "markdown",
   "metadata": {
    "pycharm": {
     "name": "#%% md\n"
    }
   },
   "source": [
    "Now we are down to the last two columns in our list for cleaning/converting.  First we will tackle 'Genre' which \n",
    "appears to be stored as a semi-colon separated list.  Our previous datatype search lets us know that it is stored \n",
    "as a string/text.  So, we will have to separate these genres and convert them into binary variables.  This is often \n",
    "referred to as 'One hot encoding\".  Thankfully Pandas has a somewhat simple process for doing so.  We will also take \n",
    "the necessary steps to encode our other categorical predictors"
   ]
  },
  {
   "cell_type": "code",
   "execution_count": 18,
   "metadata": {
    "pycharm": {
     "name": "#%% \n"
    }
   },
   "outputs": [
    {
     "data": {
      "text/plain": "                                                  App Category  Rating  \\\n2094  Basketball FRVR - Shoot the Hoop and Slam Dunk!   FAMILY     4.5   \n\n      Reviews                Size  Installs  Type Price Content Rating  \\\n2094     4076  Varies with device  100,000+  Free     0       Everyone   \n\n                         Genres  ... Category_TOOLS Category_TRAVEL_AND_LOCAL  \\\n2094  Sports;Action & Adventure  ...              0                         0   \n\n     Category_VIDEO_PLAYERS  Category_WEATHER ContentRating_Adults only 18+  \\\n2094                      0                 0                             0   \n\n      ContentRating_Everyone  ContentRating_Everyone 10+  \\\n2094                       1                           0   \n\n      ContentRating_Mature 17+  ContentRating_Teen  ContentRating_Unrated  \n2094                         0                   0                      0  \n\n[1 rows x 107 columns]",
      "text/html": "<div>\n<style scoped>\n    .dataframe tbody tr th:only-of-type {\n        vertical-align: middle;\n    }\n\n    .dataframe tbody tr th {\n        vertical-align: top;\n    }\n\n    .dataframe thead th {\n        text-align: right;\n    }\n</style>\n<table border=\"1\" class=\"dataframe\">\n  <thead>\n    <tr style=\"text-align: right;\">\n      <th></th>\n      <th>App</th>\n      <th>Category</th>\n      <th>Rating</th>\n      <th>Reviews</th>\n      <th>Size</th>\n      <th>Installs</th>\n      <th>Type</th>\n      <th>Price</th>\n      <th>Content Rating</th>\n      <th>Genres</th>\n      <th>...</th>\n      <th>Category_TOOLS</th>\n      <th>Category_TRAVEL_AND_LOCAL</th>\n      <th>Category_VIDEO_PLAYERS</th>\n      <th>Category_WEATHER</th>\n      <th>ContentRating_Adults only 18+</th>\n      <th>ContentRating_Everyone</th>\n      <th>ContentRating_Everyone 10+</th>\n      <th>ContentRating_Mature 17+</th>\n      <th>ContentRating_Teen</th>\n      <th>ContentRating_Unrated</th>\n    </tr>\n  </thead>\n  <tbody>\n    <tr>\n      <th>2094</th>\n      <td>Basketball FRVR - Shoot the Hoop and Slam Dunk!</td>\n      <td>FAMILY</td>\n      <td>4.5</td>\n      <td>4076</td>\n      <td>Varies with device</td>\n      <td>100,000+</td>\n      <td>Free</td>\n      <td>0</td>\n      <td>Everyone</td>\n      <td>Sports;Action &amp; Adventure</td>\n      <td>...</td>\n      <td>0</td>\n      <td>0</td>\n      <td>0</td>\n      <td>0</td>\n      <td>0</td>\n      <td>1</td>\n      <td>0</td>\n      <td>0</td>\n      <td>0</td>\n      <td>0</td>\n    </tr>\n  </tbody>\n</table>\n<p>1 rows × 107 columns</p>\n</div>"
     },
     "execution_count": 18,
     "metadata": {},
     "output_type": "execute_result"
    }
   ],
   "source": [
    "# Separate the genres column on ';' and then use the get_dummies to turn into binary variables\n",
    "# Then we will rename each column as \"Genre_\" and whatever the genre names.  Last we concat this back to our\n",
    "# original dataframe so we have all the data together\n",
    "df = pd.concat([df, df.Genres.str.get_dummies(sep=';').rename(lambda c: 'Genre_' + c, axis='columns'),\n",
    "                df.Category.str.get_dummies(sep=',').rename(lambda c: 'Category_' + c, axis='columns'),\n",
    "                df['Content Rating'].str.get_dummies(sep=',').rename(lambda c: 'ContentRating_' + c, axis='columns')],\n",
    "               axis=1)\n",
    "\n",
    "\n",
    "# Check to ensure the genres were one hot encoded\n",
    "df[df.App == 'Basketball FRVR - Shoot the Hoop and Slam Dunk!']"
   ]
  },
  {
   "cell_type": "markdown",
   "metadata": {
    "pycharm": {
     "name": "#%% md\n"
    }
   },
   "source": [
    "Now these have been encoded as binary variables, we gain the opportunity to feature engineer if a game has one or\n",
    "multiple genres."
   ]
  },
  {
   "cell_type": "code",
   "execution_count": 19,
   "metadata": {
    "pycharm": {
     "name": "#%%\n"
    }
   },
   "outputs": [
    {
     "data": {
      "text/plain": "                                    App          Category  Rating  Reviews  \\\n2989             GollerCepte Live Score            SPORTS     4.2     9992   \n4970       Ad Block REMOVER - NEED ROOT             TOOLS     3.3      999   \n2723                SnipSnap Coupon App          SHOPPING     4.2     9975   \n3079  US Open Tennis Championships 2018            SPORTS     4.0     9971   \n3229                         DreamTrips  TRAVEL_AND_LOCAL     4.7     9971   \n\n     Size    Installs  Type Price Content Rating          Genres  ...  \\\n2989  31M  1,000,000+  Free     0       Everyone          Sports  ...   \n4970  91k    100,000+  Free     0       Everyone           Tools  ...   \n2723  18M  1,000,000+  Free     0       Everyone        Shopping  ...   \n3079  33M  1,000,000+  Free     0       Everyone          Sports  ...   \n3229  22M    500,000+  Free     0           Teen  Travel & Local  ...   \n\n     Category_TRAVEL_AND_LOCAL Category_VIDEO_PLAYERS Category_WEATHER  \\\n2989                         0                      0                0   \n4970                         0                      0                0   \n2723                         0                      0                0   \n3079                         0                      0                0   \n3229                         1                      0                0   \n\n      ContentRating_Adults only 18+ ContentRating_Everyone  \\\n2989                              0                      1   \n4970                              0                      1   \n2723                              0                      1   \n3079                              0                      1   \n3229                              0                      0   \n\n      ContentRating_Everyone 10+  ContentRating_Mature 17+  \\\n2989                           0                         0   \n4970                           0                         0   \n2723                           0                         0   \n3079                           0                         0   \n3229                           0                         0   \n\n      ContentRating_Teen  ContentRating_Unrated  multi_gen  \n2989                   0                      0          0  \n4970                   0                      0          0  \n2723                   0                      0          0  \n3079                   0                      0          0  \n3229                   1                      0          0  \n\n[5 rows x 108 columns]",
      "text/html": "<div>\n<style scoped>\n    .dataframe tbody tr th:only-of-type {\n        vertical-align: middle;\n    }\n\n    .dataframe tbody tr th {\n        vertical-align: top;\n    }\n\n    .dataframe thead th {\n        text-align: right;\n    }\n</style>\n<table border=\"1\" class=\"dataframe\">\n  <thead>\n    <tr style=\"text-align: right;\">\n      <th></th>\n      <th>App</th>\n      <th>Category</th>\n      <th>Rating</th>\n      <th>Reviews</th>\n      <th>Size</th>\n      <th>Installs</th>\n      <th>Type</th>\n      <th>Price</th>\n      <th>Content Rating</th>\n      <th>Genres</th>\n      <th>...</th>\n      <th>Category_TRAVEL_AND_LOCAL</th>\n      <th>Category_VIDEO_PLAYERS</th>\n      <th>Category_WEATHER</th>\n      <th>ContentRating_Adults only 18+</th>\n      <th>ContentRating_Everyone</th>\n      <th>ContentRating_Everyone 10+</th>\n      <th>ContentRating_Mature 17+</th>\n      <th>ContentRating_Teen</th>\n      <th>ContentRating_Unrated</th>\n      <th>multi_gen</th>\n    </tr>\n  </thead>\n  <tbody>\n    <tr>\n      <th>2989</th>\n      <td>GollerCepte Live Score</td>\n      <td>SPORTS</td>\n      <td>4.2</td>\n      <td>9992</td>\n      <td>31M</td>\n      <td>1,000,000+</td>\n      <td>Free</td>\n      <td>0</td>\n      <td>Everyone</td>\n      <td>Sports</td>\n      <td>...</td>\n      <td>0</td>\n      <td>0</td>\n      <td>0</td>\n      <td>0</td>\n      <td>1</td>\n      <td>0</td>\n      <td>0</td>\n      <td>0</td>\n      <td>0</td>\n      <td>0</td>\n    </tr>\n    <tr>\n      <th>4970</th>\n      <td>Ad Block REMOVER - NEED ROOT</td>\n      <td>TOOLS</td>\n      <td>3.3</td>\n      <td>999</td>\n      <td>91k</td>\n      <td>100,000+</td>\n      <td>Free</td>\n      <td>0</td>\n      <td>Everyone</td>\n      <td>Tools</td>\n      <td>...</td>\n      <td>0</td>\n      <td>0</td>\n      <td>0</td>\n      <td>0</td>\n      <td>1</td>\n      <td>0</td>\n      <td>0</td>\n      <td>0</td>\n      <td>0</td>\n      <td>0</td>\n    </tr>\n    <tr>\n      <th>2723</th>\n      <td>SnipSnap Coupon App</td>\n      <td>SHOPPING</td>\n      <td>4.2</td>\n      <td>9975</td>\n      <td>18M</td>\n      <td>1,000,000+</td>\n      <td>Free</td>\n      <td>0</td>\n      <td>Everyone</td>\n      <td>Shopping</td>\n      <td>...</td>\n      <td>0</td>\n      <td>0</td>\n      <td>0</td>\n      <td>0</td>\n      <td>1</td>\n      <td>0</td>\n      <td>0</td>\n      <td>0</td>\n      <td>0</td>\n      <td>0</td>\n    </tr>\n    <tr>\n      <th>3079</th>\n      <td>US Open Tennis Championships 2018</td>\n      <td>SPORTS</td>\n      <td>4.0</td>\n      <td>9971</td>\n      <td>33M</td>\n      <td>1,000,000+</td>\n      <td>Free</td>\n      <td>0</td>\n      <td>Everyone</td>\n      <td>Sports</td>\n      <td>...</td>\n      <td>0</td>\n      <td>0</td>\n      <td>0</td>\n      <td>0</td>\n      <td>1</td>\n      <td>0</td>\n      <td>0</td>\n      <td>0</td>\n      <td>0</td>\n      <td>0</td>\n    </tr>\n    <tr>\n      <th>3229</th>\n      <td>DreamTrips</td>\n      <td>TRAVEL_AND_LOCAL</td>\n      <td>4.7</td>\n      <td>9971</td>\n      <td>22M</td>\n      <td>500,000+</td>\n      <td>Free</td>\n      <td>0</td>\n      <td>Teen</td>\n      <td>Travel &amp; Local</td>\n      <td>...</td>\n      <td>1</td>\n      <td>0</td>\n      <td>0</td>\n      <td>0</td>\n      <td>0</td>\n      <td>0</td>\n      <td>0</td>\n      <td>1</td>\n      <td>0</td>\n      <td>0</td>\n    </tr>\n  </tbody>\n</table>\n<p>5 rows × 108 columns</p>\n</div>"
     },
     "execution_count": 19,
     "metadata": {},
     "output_type": "execute_result"
    }
   ],
   "source": [
    "df['multi_gen'] = df.loc[:, df.columns.str.startswith('Genre_')].sum(axis=1)  # Sum the Genres Column\n",
    "df.loc[df.multi_gen < 2, 'multi_gen'] = 0  # Map single genres to False\n",
    "df.loc[df.multi_gen >= 2, 'multi_gen'] = 1  # Map multi genres to true\n",
    "\n",
    "\n",
    "df.head()"
   ]
  },
  {
   "cell_type": "markdown",
   "metadata": {
    "pycharm": {
     "name": "#%% md\n"
    }
   },
   "source": [
    "We will also create a column for rounding ratings to it's closest 0.5 score as this may end up being useful for\n",
    "analysis later."
   ]
  },
  {
   "cell_type": "code",
   "execution_count": 20,
   "metadata": {
    "pycharm": {
     "name": "#%%\n"
    }
   },
   "outputs": [],
   "source": [
    "df['rating_round'] = round(df.Rating * 2) / 2  # Rounds the rating to the closest 0.5x\n",
    "\n"
   ]
  },
  {
   "cell_type": "markdown",
   "metadata": {
    "pycharm": {
     "name": "#%% md\n"
    }
   },
   "source": [
    "Converting Last Updated to a date is fairly simple as long as you know the date format your data is currently in.\n",
    "In this case we want to convert it to a datetime variable using to_datetime and the format = %d-%b-%y"
   ]
  },
  {
   "cell_type": "code",
   "execution_count": 21,
   "metadata": {
    "pycharm": {
     "name": "#%%\n"
    }
   },
   "outputs": [
    {
     "data": {
      "text/plain": "2989   2018-05-23\n4970   2013-12-17\n2723   2018-01-22\n3079   2018-06-05\n3229   2018-08-06\nName: Last Updated, dtype: datetime64[ns]"
     },
     "execution_count": 21,
     "metadata": {},
     "output_type": "execute_result"
    }
   ],
   "source": [
    "df['Last Updated'] = pd.to_datetime(df['Last Updated'], format='%d-%b-%y')  # Convert text to Datetime\n",
    "df['Last Updated'].head()  # Verify that the data has been converted correctly"
   ]
  },
  {
   "cell_type": "markdown",
   "metadata": {
    "pycharm": {
     "name": "#%% md\n"
    }
   },
   "source": [
    "***At this point our Google Play Market data has been cleaned/converted and stands ready for analysis***\n",
    "\n",
    "We will export this to our RawData folder in case we need to reference it outside of this notebook."
   ]
  },
  {
   "cell_type": "code",
   "execution_count": 22,
   "metadata": {
    "pycharm": {
     "name": "#%%\n"
    }
   },
   "outputs": [],
   "source": [
    "df.to_csv(r'RawData/google_cleaned.csv', index=False)  # Export df without index to CSV"
   ]
  },
  {
   "cell_type": "markdown",
   "metadata": {
    "pycharm": {
     "name": "#%% md\n"
    }
   },
   "source": [
    "## Building Labels to Define Success\n",
    "If we are are going to complete any sort of feature selection or basic supervised learning \n",
    "action, we need to have labels to train to. "
   ]
  },
  {
   "cell_type": "code",
   "execution_count": 23,
   "metadata": {
    "pycharm": {
     "name": "#%%\n"
    }
   },
   "outputs": [
    {
     "data": {
      "text/plain": "<matplotlib.axes._subplots.AxesSubplot at 0x161afb72688>"
     },
     "execution_count": 23,
     "metadata": {},
     "output_type": "execute_result"
    },
    {
     "data": {
      "text/plain": "<Figure size 432x288 with 1 Axes>",
      "image/png": "[encoded data removed]"
     },
     "metadata": {
      "needs_background": "light"
     },
     "output_type": "display_data"
    }
   ],
   "source": [
    "sns.countplot(x='Installs', data=df)  # Basic Count Plot of our Install Metric"
   ]
  },
  {
   "cell_type": "markdown",
   "metadata": {},
   "source": [
    "As we can see from this messy visual, the installs variable may need to be cleaned up.  Since this is a categorical variable\n",
    "based of numerics, they have a natural order. \n",
    "\n",
    "Since the data does not seem to be standardized, we may need to create a dictionary to save the correct order from \n",
    "checking the original data.  We know there are 21 categories, so it is not too hard to order.  \n"
   ]
  },
  {
   "cell_type": "code",
   "execution_count": 24,
   "metadata": {
    "pycharm": {
     "name": "#%% \n"
    }
   },
   "outputs": [
    {
     "data": {
      "text/plain": "{'0': [0, 0],\n '0+': [1, 0],\n '1+': [2, 0],\n '5+': [3, 0],\n '10+': [4, 0],\n '50+': [5, 0],\n '100+': [6, 0],\n '500+': [7, 0],\n '1,000+': [8, 0],\n '5,000+': [9, 0],\n '10,000+': [10, 0],\n '50,000+': [11, 0],\n '100,000+': [12, 0],\n '500,000+': [13, 0],\n '1,000,000+': [14, 0],\n '5,000,000+': [15, 0],\n '10,000,000+': [16, 0],\n '50,000,000+': [17, 0],\n '100,000,000+': [18, 0],\n '500,000,000+': [19, 0],\n '1,000,000,000+': [20, 0]}"
     },
     "execution_count": 24,
     "metadata": {},
     "output_type": "execute_result"
    }
   ],
   "source": [
    "# Ordered list of installs\n",
    "inst = ['0','0+','1+','5+','10+','50+','100+','500+','1,000+','5,000+','10,000+','50,000+','100,000+','500,000+',\n",
    "        '1,000,000+','5,000,000+','10,000,000+','50,000,000+','100,000,000+','500,000,000+','1,000,000,000+']\n",
    "\n",
    "installs = {}  # Init a Dict to hold order and count\n",
    "for i, cat in enumerate(inst): # Loop through list\n",
    "    installs[cat] = [i, 0]  # establish the keys and values (order) and an empty count\n",
    "    \n",
    "installs"
   ]
  },
  {
   "cell_type": "markdown",
   "metadata": {
    "pycharm": {
     "name": "#%% md\n"
    }
   },
   "source": [
    "Now we have a dictionary of install categories and it is ordered by size.  We will now add a second value to each key \n",
    "with their counts from the dataset.  This should serve as a better visual for us to make our labels from."
   ]
  },
  {
   "cell_type": "code",
   "execution_count": 25,
   "metadata": {
    "pycharm": {
     "name": "#%% \n"
    }
   },
   "outputs": [
    {
     "data": {
      "text/plain": "{'0': [0, 1],\n '0+': [1, 4],\n '1+': [2, 45],\n '5+': [3, 70],\n '10+': [4, 314],\n '50+': [5, 170],\n '100+': [6, 613],\n '500+': [7, 288],\n '1,000+': [8, 744],\n '5,000+': [9, 400],\n '10,000+': [10, 904],\n '50,000+': [11, 423],\n '100,000+': [12, 1024],\n '500,000+': [13, 494],\n '1,000,000+': [14, 1395],\n '5,000,000+': [15, 606],\n '10,000,000+': [16, 932],\n '50,000,000+': [17, 203],\n '100,000,000+': [18, 188],\n '500,000,000+': [19, 24],\n '1,000,000,000+': [20, 20]}"
     },
     "execution_count": 25,
     "metadata": {},
     "output_type": "execute_result"
    }
   ],
   "source": [
    "for i in df.Installs:\n",
    "    installs[i][1] += 1  # for each key we come across increment the count value by one\n",
    "    \n",
    "installs  # Preview installs"
   ]
  },
  {
   "cell_type": "markdown",
   "metadata": {
    "pycharm": {
     "name": "#%% md\n"
    }
   },
   "source": [
    "Now we can see the distribution of our install groups, too keep this simple we should maybe define our labels to \n",
    "be based off of a certain percentile of responses.  We know we have approx. 8,800 responses, so we can easily break \n",
    "this distribution into Quarters (Approx. 2,200 responses per quartile).  We are okay with rough estimates here as\n",
    "we are just investigating the current market.  We need some way to define a 'true' label, so we start with basic and \n",
    "see our results. \n",
    "\n",
    "1,000+ & Below: 2249 Responses (25.4 perc)\n",
    "5,000+ - 100,000+: 2751 Responses (56.4 perc)\n",
    "500,000+ - 5,000,000+: 2495 Responses (84.6 perc)\n",
    "10,000,000+ - 1,000,000,000+: 1367 Responses (100 perc)\n",
    "\n",
    "As you can see this does not work out well, but we can now have a starting point at least.  If we start the label of \n",
    "success at anything 10,000,000+ or above, we now know we are grabbing the top 43.6% of apps as far as installs go."
   ]
  },
  {
   "cell_type": "code",
   "execution_count": 26,
   "metadata": {
    "pycharm": {
     "name": "#%%\n"
    }
   },
   "outputs": [
    {
     "data": {
      "text/plain": "                                    App          Category  Rating  Reviews  \\\n2989             GollerCepte Live Score            SPORTS     4.2     9992   \n4970       Ad Block REMOVER - NEED ROOT             TOOLS     3.3      999   \n2723                SnipSnap Coupon App          SHOPPING     4.2     9975   \n3079  US Open Tennis Championships 2018            SPORTS     4.0     9971   \n3229                         DreamTrips  TRAVEL_AND_LOCAL     4.7     9971   \n\n     Size    Installs  Type Price Content Rating          Genres  ...  \\\n2989  31M  1,000,000+  Free     0       Everyone          Sports  ...   \n4970  91k    100,000+  Free     0       Everyone           Tools  ...   \n2723  18M  1,000,000+  Free     0       Everyone        Shopping  ...   \n3079  33M  1,000,000+  Free     0       Everyone          Sports  ...   \n3229  22M    500,000+  Free     0           Teen  Travel & Local  ...   \n\n     Category_WEATHER ContentRating_Adults only 18+ ContentRating_Everyone  \\\n2989                0                             0                      1   \n4970                0                             0                      1   \n2723                0                             0                      1   \n3079                0                             0                      1   \n3229                0                             0                      0   \n\n      ContentRating_Everyone 10+ ContentRating_Mature 17+  ContentRating_Teen  \\\n2989                           0                        0                   0   \n4970                           0                        0                   0   \n2723                           0                        0                   0   \n3079                           0                        0                   0   \n3229                           0                        0                   1   \n\n      ContentRating_Unrated  multi_gen  rating_round  label  \n2989                      0          0           4.0   True  \n4970                      0          0           3.5  False  \n2723                      0          0           4.0   True  \n3079                      0          0           4.0   True  \n3229                      0          0           4.5   True  \n\n[5 rows x 110 columns]",
      "text/html": "<div>\n<style scoped>\n    .dataframe tbody tr th:only-of-type {\n        vertical-align: middle;\n    }\n\n    .dataframe tbody tr th {\n        vertical-align: top;\n    }\n\n    .dataframe thead th {\n        text-align: right;\n    }\n</style>\n<table border=\"1\" class=\"dataframe\">\n  <thead>\n    <tr style=\"text-align: right;\">\n      <th></th>\n      <th>App</th>\n      <th>Category</th>\n      <th>Rating</th>\n      <th>Reviews</th>\n      <th>Size</th>\n      <th>Installs</th>\n      <th>Type</th>\n      <th>Price</th>\n      <th>Content Rating</th>\n      <th>Genres</th>\n      <th>...</th>\n      <th>Category_WEATHER</th>\n      <th>ContentRating_Adults only 18+</th>\n      <th>ContentRating_Everyone</th>\n      <th>ContentRating_Everyone 10+</th>\n      <th>ContentRating_Mature 17+</th>\n      <th>ContentRating_Teen</th>\n      <th>ContentRating_Unrated</th>\n      <th>multi_gen</th>\n      <th>rating_round</th>\n      <th>label</th>\n    </tr>\n  </thead>\n  <tbody>\n    <tr>\n      <th>2989</th>\n      <td>GollerCepte Live Score</td>\n      <td>SPORTS</td>\n      <td>4.2</td>\n      <td>9992</td>\n      <td>31M</td>\n      <td>1,000,000+</td>\n      <td>Free</td>\n      <td>0</td>\n      <td>Everyone</td>\n      <td>Sports</td>\n      <td>...</td>\n      <td>0</td>\n      <td>0</td>\n      <td>1</td>\n      <td>0</td>\n      <td>0</td>\n      <td>0</td>\n      <td>0</td>\n      <td>0</td>\n      <td>4.0</td>\n      <td>True</td>\n    </tr>\n    <tr>\n      <th>4970</th>\n      <td>Ad Block REMOVER - NEED ROOT</td>\n      <td>TOOLS</td>\n      <td>3.3</td>\n      <td>999</td>\n      <td>91k</td>\n      <td>100,000+</td>\n      <td>Free</td>\n      <td>0</td>\n      <td>Everyone</td>\n      <td>Tools</td>\n      <td>...</td>\n      <td>0</td>\n      <td>0</td>\n      <td>1</td>\n      <td>0</td>\n      <td>0</td>\n      <td>0</td>\n      <td>0</td>\n      <td>0</td>\n      <td>3.5</td>\n      <td>False</td>\n    </tr>\n    <tr>\n      <th>2723</th>\n      <td>SnipSnap Coupon App</td>\n      <td>SHOPPING</td>\n      <td>4.2</td>\n      <td>9975</td>\n      <td>18M</td>\n      <td>1,000,000+</td>\n      <td>Free</td>\n      <td>0</td>\n      <td>Everyone</td>\n      <td>Shopping</td>\n      <td>...</td>\n      <td>0</td>\n      <td>0</td>\n      <td>1</td>\n      <td>0</td>\n      <td>0</td>\n      <td>0</td>\n      <td>0</td>\n      <td>0</td>\n      <td>4.0</td>\n      <td>True</td>\n    </tr>\n    <tr>\n      <th>3079</th>\n      <td>US Open Tennis Championships 2018</td>\n      <td>SPORTS</td>\n      <td>4.0</td>\n      <td>9971</td>\n      <td>33M</td>\n      <td>1,000,000+</td>\n      <td>Free</td>\n      <td>0</td>\n      <td>Everyone</td>\n      <td>Sports</td>\n      <td>...</td>\n      <td>0</td>\n      <td>0</td>\n      <td>1</td>\n      <td>0</td>\n      <td>0</td>\n      <td>0</td>\n      <td>0</td>\n      <td>0</td>\n      <td>4.0</td>\n      <td>True</td>\n    </tr>\n    <tr>\n      <th>3229</th>\n      <td>DreamTrips</td>\n      <td>TRAVEL_AND_LOCAL</td>\n      <td>4.7</td>\n      <td>9971</td>\n      <td>22M</td>\n      <td>500,000+</td>\n      <td>Free</td>\n      <td>0</td>\n      <td>Teen</td>\n      <td>Travel &amp; Local</td>\n      <td>...</td>\n      <td>0</td>\n      <td>0</td>\n      <td>0</td>\n      <td>0</td>\n      <td>0</td>\n      <td>1</td>\n      <td>0</td>\n      <td>0</td>\n      <td>4.5</td>\n      <td>True</td>\n    </tr>\n  </tbody>\n</table>\n<p>5 rows × 110 columns</p>\n</div>"
     },
     "execution_count": 26,
     "metadata": {},
     "output_type": "execute_result"
    }
   ],
   "source": [
    "succ_group = [k for k, v in installs.items() if v[0]>=13]  # Create binary label for any install category with index 16+\n",
    "\n",
    "df['label'] = df.Installs.isin(succ_group)  # Attach labels to the dataframe\n",
    "\n",
    "# df.to_csv(r'RawData/google_labeled.csv', index=False)\n",
    "df.head()"
   ]
  },
  {
   "cell_type": "markdown",
   "metadata": {
    "pycharm": {
     "name": "#%% md\n"
    }
   },
   "source": [
    "## Analyzing our Data\n",
    "Now, lets look at the labels for success that we defined and see if we can gain any insight into what type of apps meet \n",
    "our criteria."
   ]
  },
  {
   "cell_type": "code",
   "execution_count": 27,
   "metadata": {
    "pycharm": {
     "name": "#%%\n"
    }
   },
   "outputs": [
    {
     "data": {
      "text/plain": "                  label      \n                   mean count\nCategory                     \nENTERTAINMENT  0.869048    84\nPHOTOGRAPHY    0.704981   261\nEDUCATION      0.701923   104\nGAME           0.685681   859\nWEATHER        0.676056    71",
      "text/html": "<div>\n<style scoped>\n    .dataframe tbody tr th:only-of-type {\n        vertical-align: middle;\n    }\n\n    .dataframe tbody tr th {\n        vertical-align: top;\n    }\n\n    .dataframe thead tr th {\n        text-align: left;\n    }\n\n    .dataframe thead tr:last-of-type th {\n        text-align: right;\n    }\n</style>\n<table border=\"1\" class=\"dataframe\">\n  <thead>\n    <tr>\n      <th></th>\n      <th colspan=\"2\" halign=\"left\">label</th>\n    </tr>\n    <tr>\n      <th></th>\n      <th>mean</th>\n      <th>count</th>\n    </tr>\n    <tr>\n      <th>Category</th>\n      <th></th>\n      <th></th>\n    </tr>\n  </thead>\n  <tbody>\n    <tr>\n      <th>ENTERTAINMENT</th>\n      <td>0.869048</td>\n      <td>84</td>\n    </tr>\n    <tr>\n      <th>PHOTOGRAPHY</th>\n      <td>0.704981</td>\n      <td>261</td>\n    </tr>\n    <tr>\n      <th>EDUCATION</th>\n      <td>0.701923</td>\n      <td>104</td>\n    </tr>\n    <tr>\n      <th>GAME</th>\n      <td>0.685681</td>\n      <td>859</td>\n    </tr>\n    <tr>\n      <th>WEATHER</th>\n      <td>0.676056</td>\n      <td>71</td>\n    </tr>\n  </tbody>\n</table>\n</div>"
     },
     "execution_count": 27,
     "metadata": {},
     "output_type": "execute_result"
    }
   ],
   "source": [
    "temp = df[['Category','label']].groupby('Category').agg(['mean', 'count'])  # Group and Aggregate on our label\n",
    "temp.sort_values(('label', 'mean'), ascending=False)[:5]  # Sort and show results"
   ]
  },
  {
   "cell_type": "markdown",
   "metadata": {
    "pycharm": {
     "name": "#%% md\n"
    }
   },
   "source": [
    "As we can see from a basic average of our labels the top 5 app Categories are:\n",
    "- Photography\n",
    "- Entertainment\n",
    "- Game\n",
    "- Education\n",
    "- Weather\n",
    "\n",
    "This is showing that our top categories have a \"success\" rate of approx. 67 - 87%\n",
    "It is also to note the sizes of each group.  While they are not our largest categories I believe they \n",
    "are of sufficient size for this analysis.\n",
    "\n",
    "Now we will move onto doing this same process for some of our other features"
   ]
  },
  {
   "cell_type": "code",
   "execution_count": 28,
   "metadata": {
    "pycharm": {
     "name": "#%%\n"
    }
   },
   "outputs": [
    {
     "data": {
      "text/plain": "                    label      \n                     mean count\nContent Rating                 \nAdults only 18+  1.000000     3\nEveryone 10+     0.665517   290\nTeen             0.563265   980\nMature 17+       0.525606   371\nEveryone         0.404518  7216",
      "text/html": "<div>\n<style scoped>\n    .dataframe tbody tr th:only-of-type {\n        vertical-align: middle;\n    }\n\n    .dataframe tbody tr th {\n        vertical-align: top;\n    }\n\n    .dataframe thead tr th {\n        text-align: left;\n    }\n\n    .dataframe thead tr:last-of-type th {\n        text-align: right;\n    }\n</style>\n<table border=\"1\" class=\"dataframe\">\n  <thead>\n    <tr>\n      <th></th>\n      <th colspan=\"2\" halign=\"left\">label</th>\n    </tr>\n    <tr>\n      <th></th>\n      <th>mean</th>\n      <th>count</th>\n    </tr>\n    <tr>\n      <th>Content Rating</th>\n      <th></th>\n      <th></th>\n    </tr>\n  </thead>\n  <tbody>\n    <tr>\n      <th>Adults only 18+</th>\n      <td>1.000000</td>\n      <td>3</td>\n    </tr>\n    <tr>\n      <th>Everyone 10+</th>\n      <td>0.665517</td>\n      <td>290</td>\n    </tr>\n    <tr>\n      <th>Teen</th>\n      <td>0.563265</td>\n      <td>980</td>\n    </tr>\n    <tr>\n      <th>Mature 17+</th>\n      <td>0.525606</td>\n      <td>371</td>\n    </tr>\n    <tr>\n      <th>Everyone</th>\n      <td>0.404518</td>\n      <td>7216</td>\n    </tr>\n  </tbody>\n</table>\n</div>"
     },
     "execution_count": 28,
     "metadata": {},
     "output_type": "execute_result"
    }
   ],
   "source": [
    "temp = df[['Content Rating','label']].groupby('Content Rating').agg(['mean', 'count'])  # Group and aggregate on label\n",
    "temp.sort_values(('label', 'mean'), ascending=False)[:5]  # Sort and show results"
   ]
  },
  {
   "cell_type": "markdown",
   "metadata": {
    "pycharm": {
     "name": "#%% md\n"
    }
   },
   "source": [
    "Of interest, it seems that games rated for young kids (teens) appear to have the highest chance of success.\n",
    "Though due to the unbalanced data groupings it may only be fair to say that having a rating outside of\n",
    "'Everyone' is the best practice.  Due to this I would suggest some level of slightly mature content appropriate for\n",
    "young teens."
   ]
  },
  {
   "cell_type": "code",
   "execution_count": 29,
   "metadata": {
    "pycharm": {
     "name": "#%%\n"
    }
   },
   "outputs": [
    {
     "data": {
      "text/plain": "               label      \n                mean count\nSize_Class                \n1           0.817316  1155\n8           0.719388   392\n7           0.675627   558\n6           0.541391   604\n5           0.422315   959\n4           0.410619  1130\n3           0.335938  1536\n2           0.216377  2528",
      "text/html": "<div>\n<style scoped>\n    .dataframe tbody tr th:only-of-type {\n        vertical-align: middle;\n    }\n\n    .dataframe tbody tr th {\n        vertical-align: top;\n    }\n\n    .dataframe thead tr th {\n        text-align: left;\n    }\n\n    .dataframe thead tr:last-of-type th {\n        text-align: right;\n    }\n</style>\n<table border=\"1\" class=\"dataframe\">\n  <thead>\n    <tr>\n      <th></th>\n      <th colspan=\"2\" halign=\"left\">label</th>\n    </tr>\n    <tr>\n      <th></th>\n      <th>mean</th>\n      <th>count</th>\n    </tr>\n    <tr>\n      <th>Size_Class</th>\n      <th></th>\n      <th></th>\n    </tr>\n  </thead>\n  <tbody>\n    <tr>\n      <th>1</th>\n      <td>0.817316</td>\n      <td>1155</td>\n    </tr>\n    <tr>\n      <th>8</th>\n      <td>0.719388</td>\n      <td>392</td>\n    </tr>\n    <tr>\n      <th>7</th>\n      <td>0.675627</td>\n      <td>558</td>\n    </tr>\n    <tr>\n      <th>6</th>\n      <td>0.541391</td>\n      <td>604</td>\n    </tr>\n    <tr>\n      <th>5</th>\n      <td>0.422315</td>\n      <td>959</td>\n    </tr>\n    <tr>\n      <th>4</th>\n      <td>0.410619</td>\n      <td>1130</td>\n    </tr>\n    <tr>\n      <th>3</th>\n      <td>0.335938</td>\n      <td>1536</td>\n    </tr>\n    <tr>\n      <th>2</th>\n      <td>0.216377</td>\n      <td>2528</td>\n    </tr>\n  </tbody>\n</table>\n</div>"
     },
     "execution_count": 29,
     "metadata": {},
     "output_type": "execute_result"
    }
   ],
   "source": [
    "temp = df[['Size_Class','label']].groupby('Size_Class').agg(['mean', 'count'])  # Group and aggregate on our label\n",
    "temp.sort_values(('label', 'mean'), ascending=False)  # Sort & show results"
   ]
  },
  {
   "cell_type": "markdown",
   "metadata": {
    "pycharm": {
     "name": "#%% md\n"
    }
   },
   "source": [
    "We can see clearly there are two things going on here. The smallest Apps (Category 1) appear to be very \n",
    "successful at garnering installs.  It seems likely that these are utility apps, meant to accomplish one small\n",
    "goal.  After that there is a clear pattern that the larger Apps appear to be the most successful.\n",
    "\n",
    "So my take away here is that there are probably two types of successful app strategies, create a utility app \n",
    "that provides small amounts of functionality OR build an large app that provides a very large experience.\n"
   ]
  },
  {
   "cell_type": "code",
   "execution_count": 30,
   "metadata": {
    "pycharm": {
     "name": "#%%\n"
    }
   },
   "outputs": [
    {
     "data": {
      "text/plain": "                 label      \n                  mean count\nrating_round                \n4.5           0.622054  3437\n4.0           0.543665  2439\n3.5           0.364512   727\n3.0           0.170909   275\n5.0           0.140316   506\n2.5           0.082474    97\n2.0           0.078431    51\n1.0           0.000000    15\n1.5           0.000000    17",
      "text/html": "<div>\n<style scoped>\n    .dataframe tbody tr th:only-of-type {\n        vertical-align: middle;\n    }\n\n    .dataframe tbody tr th {\n        vertical-align: top;\n    }\n\n    .dataframe thead tr th {\n        text-align: left;\n    }\n\n    .dataframe thead tr:last-of-type th {\n        text-align: right;\n    }\n</style>\n<table border=\"1\" class=\"dataframe\">\n  <thead>\n    <tr>\n      <th></th>\n      <th colspan=\"2\" halign=\"left\">label</th>\n    </tr>\n    <tr>\n      <th></th>\n      <th>mean</th>\n      <th>count</th>\n    </tr>\n    <tr>\n      <th>rating_round</th>\n      <th></th>\n      <th></th>\n    </tr>\n  </thead>\n  <tbody>\n    <tr>\n      <th>4.5</th>\n      <td>0.622054</td>\n      <td>3437</td>\n    </tr>\n    <tr>\n      <th>4.0</th>\n      <td>0.543665</td>\n      <td>2439</td>\n    </tr>\n    <tr>\n      <th>3.5</th>\n      <td>0.364512</td>\n      <td>727</td>\n    </tr>\n    <tr>\n      <th>3.0</th>\n      <td>0.170909</td>\n      <td>275</td>\n    </tr>\n    <tr>\n      <th>5.0</th>\n      <td>0.140316</td>\n      <td>506</td>\n    </tr>\n    <tr>\n      <th>2.5</th>\n      <td>0.082474</td>\n      <td>97</td>\n    </tr>\n    <tr>\n      <th>2.0</th>\n      <td>0.078431</td>\n      <td>51</td>\n    </tr>\n    <tr>\n      <th>1.0</th>\n      <td>0.000000</td>\n      <td>15</td>\n    </tr>\n    <tr>\n      <th>1.5</th>\n      <td>0.000000</td>\n      <td>17</td>\n    </tr>\n  </tbody>\n</table>\n</div>"
     },
     "execution_count": 30,
     "metadata": {},
     "output_type": "execute_result"
    }
   ],
   "source": [
    "temp = df[['rating_round','label']].groupby('rating_round').agg(['mean', 'count'])  # Group & Agg on our label\n",
    "temp.sort_values(('label', 'mean'), ascending=False)  # Sort and show results"
   ]
  },
  {
   "cell_type": "markdown",
   "metadata": {
    "pycharm": {
     "name": "#%% md\n"
    }
   },
   "source": [
    "Interestingly we can see that ratings seems to have a strong correlation with our success criteria except\n",
    "the 5.0 ratings appear to be throwing it off.  It seems fair to say that the only apps that receive such high\n",
    "ratings are those that do not have a lot of opinions (low reviews and installs).\n",
    "\n",
    "Moving on to dig into the genre category is more complicated as some apps can have multiple genres.  We\n",
    "already handled this using one hot encoding, but now lets look at the success rates of apps depending on\n",
    "genres.  We will be removing any genre that doesn't have at least 100 apps to limit the categories."
   ]
  },
  {
   "cell_type": "code",
   "execution_count": 31,
   "metadata": {
    "pycharm": {
     "name": "#%%\n"
    }
   },
   "outputs": [
    {
     "data": {
      "text/plain": "{'Genre_Racing': [0.8076923076923077, 104],\n 'Genre_Arcade': [0.7329545454545454, 176],\n 'Genre_Action': [0.7147887323943662, 284],\n 'Genre_Photography': [0.7049808429118773, 261],\n 'Genre_Casual': [0.6602870813397129, 209],\n 'Genre_Shopping': [0.6231155778894473, 199],\n 'Genre_Puzzle': [0.6229508196721312, 122],\n 'Genre_Simulation': [0.5968586387434555, 191],\n 'Genre_Video Players & Editors': [0.5625, 160],\n 'Genre_Communication': [0.5173611111111112, 288],\n 'Genre_Health & Fitness': [0.5127272727272727, 275],\n 'Genre_Food & Drink': [0.509090909090909, 110],\n 'Genre_Travel & Local': [0.4927536231884058, 207],\n 'Genre_Social': [0.4830508474576271, 236],\n 'Genre_Productivity': [0.463768115942029, 345],\n 'Genre_Maps & Navigation': [0.4596774193548387, 124],\n 'Genre_Sports': [0.44983818770226536, 309],\n 'Genre_Personalization': [0.42857142857142855, 294],\n 'Genre_Tools': [0.3991989319092123, 749],\n 'Genre_Entertainment': [0.3655536028119508, 569],\n 'Genre_News & Magazines': [0.3629032258064516, 248],\n 'Genre_Books & Reference': [0.3612565445026178, 191],\n 'Genre_Finance': [0.3323170731707317, 328],\n 'Genre_Dating': [0.3090909090909091, 165],\n 'Genre_Lifestyle': [0.2881844380403458, 347],\n 'Genre_Education': [0.2604166666666667, 576],\n 'Genre_Business': [0.1891891891891892, 407],\n 'Genre_Medical': [0.09615384615384616, 312]}"
     },
     "execution_count": 31,
     "metadata": {},
     "output_type": "execute_result"
    }
   ],
   "source": [
    "genres = df.loc[:, df.columns.str.startswith('Genre_')].columns  # Genre Column list\n",
    "results = {}  # Init dict\n",
    "for i, col in enumerate(genres):  # Loop through columns\n",
    "    temp = df[df[col] == 1]  # init temp df containing only that genre's apps\n",
    "    met = temp.label.mean()  # Establish the mean of the success labels\n",
    "    cnt = len(temp)  # establish how many apps fit that genre\n",
    "    if cnt < 100:  # Filter our results to only contain 100 or more apps\n",
    "        continue\n",
    "    else:\n",
    "        results[col] = [met, cnt]  # create a key and append values\n",
    "\n",
    "# Sort the dict by it's first item in reverse order\n",
    "results = {k: v for k, v in sorted(results.items(), key=lambda item: item[1],reverse=True)}\n",
    "results  # Preview results"
   ]
  },
  {
   "cell_type": "markdown",
   "metadata": {
    "pycharm": {
     "name": "#%% md\n"
    }
   },
   "source": [
    "We can now see that certain genres appear to be very successful in garnering installs at a high rate:\n",
    "- Racing\n",
    "- Arcade\n",
    "- Action\n",
    "- Photography\n",
    "- Casual\n",
    "\n",
    "## Initial Findings\n",
    "Through our cleaning, feature engineering and basic analysis we can clearly say that we have the ability to\n",
    "narrow down the scope to what types of apps would be most successful.  For example, we know that a **Casual Racing\n",
    "Game App that is large (offer a very robust experience) and has good early reviews should be quite successful**\n",
    "\n",
    "However, our goal isn't to just make one suggestion to our designers but to be able to make numerous or even\n",
    "take ideas and provide feedback on whether we believe it will garner a lot of installs or not.  To do this\n",
    "we will take our labels of success and our features and see if we can establish a predictive model that could\n",
    "take basic features of the App including reviews from a test group and determine if the app is likely to be\n",
    "installed at a large scale."
   ]
  },
  {
   "cell_type": "markdown",
   "metadata": {
    "pycharm": {
     "name": "#%% md\n"
    }
   },
   "source": [
    "## Predictive Model\n",
    "\n",
    "Now it is time to trim off the unnecessary columns from our data set so that we can convert our df into valid arrays \n",
    "for our model.  We will be removing both size_cat and rating_round as they are likely to be\n",
    "collinear with size_class & ratings,  This will lower the sparsity of the data and should result\n",
    "in a more efficient model.\n",
    "\n",
    "It is also important to determine what we would consider to be successful for our model.  In this situation\n",
    "it is always good to know what type of model we would like:\n",
    "- Sensitive\n",
    "- Specific\n",
    "\n",
    "This will let us know how to tune our model.  In this case it seems to be more common to be looking\n",
    "for a specific model.  This means that we will not often make False predictions of success but\n",
    "this may come at the cost of missing some successful apps.  This ensures that we are very confident\n",
    "of our prediction for success, but not necessarily confident in our prediction of unsuccessful.\n",
    "\n",
    "In this case it makes sense that we want to be correct when we predict success at least 85% of the time,\n",
    "but we also want to make sure we are not missing too many successful app ideas, meaning we will\n",
    "still want a decent sensitivity (maybe 50%).\n"
   ]
  },
  {
   "cell_type": "code",
   "execution_count": 32,
   "metadata": {
    "pycharm": {
     "name": "#%%\n"
    }
   },
   "outputs": [
    {
     "data": {
      "text/plain": "      Rating  Size_Conv  Genre_Action  Genre_Action & Adventure  \\\n2989     4.2    31000.0             0                         0   \n4970     3.3       91.0             0                         0   \n2723     4.2    18000.0             0                         0   \n3079     4.0    33000.0             0                         0   \n3229     4.7    22000.0             0                         0   \n\n      Genre_Adventure  Genre_Arcade  Genre_Art & Design  \\\n2989                0             0                   0   \n4970                0             0                   0   \n2723                0             0                   0   \n3079                0             0                   0   \n3229                0             0                   0   \n\n      Genre_Auto & Vehicles  Genre_Beauty  Genre_Board  ...  \\\n2989                      0             0            0  ...   \n4970                      0             0            0  ...   \n2723                      0             0            0  ...   \n3079                      0             0            0  ...   \n3229                      0             0            0  ...   \n\n      Category_VIDEO_PLAYERS  Category_WEATHER  ContentRating_Adults only 18+  \\\n2989                       0                 0                              0   \n4970                       0                 0                              0   \n2723                       0                 0                              0   \n3079                       0                 0                              0   \n3229                       0                 0                              0   \n\n      ContentRating_Everyone  ContentRating_Everyone 10+  \\\n2989                       1                           0   \n4970                       1                           0   \n2723                       1                           0   \n3079                       1                           0   \n3229                       0                           0   \n\n      ContentRating_Mature 17+  ContentRating_Teen  ContentRating_Unrated  \\\n2989                         0                   0                      0   \n4970                         0                   0                      0   \n2723                         0                   0                      0   \n3079                         0                   0                      0   \n3229                         0                   1                      0   \n\n      multi_gen  label  \n2989          0   True  \n4970          0  False  \n2723          0   True  \n3079          0   True  \n3229          0   True  \n\n[5 rows x 96 columns]",
      "text/html": "<div>\n<style scoped>\n    .dataframe tbody tr th:only-of-type {\n        vertical-align: middle;\n    }\n\n    .dataframe tbody tr th {\n        vertical-align: top;\n    }\n\n    .dataframe thead th {\n        text-align: right;\n    }\n</style>\n<table border=\"1\" class=\"dataframe\">\n  <thead>\n    <tr style=\"text-align: right;\">\n      <th></th>\n      <th>Rating</th>\n      <th>Size_Conv</th>\n      <th>Genre_Action</th>\n      <th>Genre_Action &amp; Adventure</th>\n      <th>Genre_Adventure</th>\n      <th>Genre_Arcade</th>\n      <th>Genre_Art &amp; Design</th>\n      <th>Genre_Auto &amp; Vehicles</th>\n      <th>Genre_Beauty</th>\n      <th>Genre_Board</th>\n      <th>...</th>\n      <th>Category_VIDEO_PLAYERS</th>\n      <th>Category_WEATHER</th>\n      <th>ContentRating_Adults only 18+</th>\n      <th>ContentRating_Everyone</th>\n      <th>ContentRating_Everyone 10+</th>\n      <th>ContentRating_Mature 17+</th>\n      <th>ContentRating_Teen</th>\n      <th>ContentRating_Unrated</th>\n      <th>multi_gen</th>\n      <th>label</th>\n    </tr>\n  </thead>\n  <tbody>\n    <tr>\n      <th>2989</th>\n      <td>4.2</td>\n      <td>31000.0</td>\n      <td>0</td>\n      <td>0</td>\n      <td>0</td>\n      <td>0</td>\n      <td>0</td>\n      <td>0</td>\n      <td>0</td>\n      <td>0</td>\n      <td>...</td>\n      <td>0</td>\n      <td>0</td>\n      <td>0</td>\n      <td>1</td>\n      <td>0</td>\n      <td>0</td>\n      <td>0</td>\n      <td>0</td>\n      <td>0</td>\n      <td>True</td>\n    </tr>\n    <tr>\n      <th>4970</th>\n      <td>3.3</td>\n      <td>91.0</td>\n      <td>0</td>\n      <td>0</td>\n      <td>0</td>\n      <td>0</td>\n      <td>0</td>\n      <td>0</td>\n      <td>0</td>\n      <td>0</td>\n      <td>...</td>\n      <td>0</td>\n      <td>0</td>\n      <td>0</td>\n      <td>1</td>\n      <td>0</td>\n      <td>0</td>\n      <td>0</td>\n      <td>0</td>\n      <td>0</td>\n      <td>False</td>\n    </tr>\n    <tr>\n      <th>2723</th>\n      <td>4.2</td>\n      <td>18000.0</td>\n      <td>0</td>\n      <td>0</td>\n      <td>0</td>\n      <td>0</td>\n      <td>0</td>\n      <td>0</td>\n      <td>0</td>\n      <td>0</td>\n      <td>...</td>\n      <td>0</td>\n      <td>0</td>\n      <td>0</td>\n      <td>1</td>\n      <td>0</td>\n      <td>0</td>\n      <td>0</td>\n      <td>0</td>\n      <td>0</td>\n      <td>True</td>\n    </tr>\n    <tr>\n      <th>3079</th>\n      <td>4.0</td>\n      <td>33000.0</td>\n      <td>0</td>\n      <td>0</td>\n      <td>0</td>\n      <td>0</td>\n      <td>0</td>\n      <td>0</td>\n      <td>0</td>\n      <td>0</td>\n      <td>...</td>\n      <td>0</td>\n      <td>0</td>\n      <td>0</td>\n      <td>1</td>\n      <td>0</td>\n      <td>0</td>\n      <td>0</td>\n      <td>0</td>\n      <td>0</td>\n      <td>True</td>\n    </tr>\n    <tr>\n      <th>3229</th>\n      <td>4.7</td>\n      <td>22000.0</td>\n      <td>0</td>\n      <td>0</td>\n      <td>0</td>\n      <td>0</td>\n      <td>0</td>\n      <td>0</td>\n      <td>0</td>\n      <td>0</td>\n      <td>...</td>\n      <td>0</td>\n      <td>0</td>\n      <td>0</td>\n      <td>0</td>\n      <td>0</td>\n      <td>0</td>\n      <td>1</td>\n      <td>0</td>\n      <td>0</td>\n      <td>True</td>\n    </tr>\n  </tbody>\n</table>\n<p>5 rows × 96 columns</p>\n</div>"
     },
     "execution_count": 32,
     "metadata": {},
     "output_type": "execute_result"
    }
   ],
   "source": [
    "remove = ['App', 'Category', 'Size', 'Installs', 'Type', 'Price', 'Content Rating', 'Genres', 'Last Updated',\n",
    "          'Current Ver', 'Android Ver', 'Reviews', 'rating_round', 'Size_Class']  # Establish list of unnecessary cols\n",
    "\n",
    "\n",
    "df.drop(remove, axis=1, inplace=True)  # Drop Col list\n",
    "df.head()"
   ]
  },
  {
   "cell_type": "markdown",
   "metadata": {
    "pycharm": {
     "name": "#%% md\n"
    }
   },
   "source": [
    "In this case I usually find it valuable to start with a simple model such as a Decision tree to\n",
    "evaluate the likelihood of success.  From there we can go more advance (Ensemble) such as a random forest, but\n",
    "I want to ensure to start as a decision tree also for its ability to return feature importance.\n",
    "\n",
    "Even if we cannot build a successful model, the feature importance can prove as useful insight for\n",
    "our app developers even if this is too complicated of a problem for our current dataset.\n",
    "\n",
    "### Decision Tree\n",
    "We will first separate our labels from our DF so that we can split the data by the 80/20 rule.\n",
    "This will provide us with both datasets for training the model and testing it's performance, but\n",
    "also the labels to do so.\n"
   ]
  },
  {
   "cell_type": "code",
   "execution_count": 33,
   "metadata": {
    "pycharm": {
     "name": "#%% \n"
    }
   },
   "outputs": [],
   "source": [
    "RSEED=500  # Establish a seed\n",
    "\n",
    "# Create our Labels\n",
    "labels = np.array(df.pop('label'))\n",
    "\n",
    "# Split our data by 80/20 rule\n",
    "train, test, train_labels, test_labels = train_test_split(df, labels, stratify=labels, test_size=0.20, random_state=RSEED)"
   ]
  },
  {
   "cell_type": "markdown",
   "metadata": {
    "pycharm": {
     "name": "#%% md\n"
    }
   },
   "source": [
    "In our care the only issue we may have with our data is missing values in the rating field.  There\n",
    "are many ways to handle this but for this project I think it makes most sense to replace those missing ratings\n",
    "with the average results for each set."
   ]
  },
  {
   "cell_type": "code",
   "execution_count": 34,
   "metadata": {
    "pycharm": {
     "name": "#%%\n"
    }
   },
   "outputs": [
    {
     "name": "stderr",
     "output_type": "stream",
     "text": [
      "c:\\users\\hanes\\ideaprojects\\venv\\dataquest64\\lib\\site-packages\\pandas\\core\\generic.py:5303: SettingWithCopyWarning: \n",
      "A value is trying to be set on a copy of a slice from a DataFrame.\n",
      "Try using .loc[row_indexer,col_indexer] = value instead\n",
      "\n",
      "See the caveats in the documentation: https://pandas.pydata.org/pandas-docs/stable/user_guide/indexing.html#returning-a-view-versus-a-copy\n",
      "  self[name] = value\n"
     ]
    }
   ],
   "source": [
    "# Impute ratings column for missing values\n",
    "train.Rating = train.Rating.fillna(train.Rating.mean())\n",
    "test.Rating = test.Rating.fillna(test.Rating.mean())\n",
    "\n",
    "# Features for feature importances\n",
    "features = list(train.columns)"
   ]
  },
  {
   "cell_type": "code",
   "execution_count": 35,
   "metadata": {
    "pycharm": {
     "name": "#%%\n"
    }
   },
   "outputs": [
    {
     "data": {
      "text/plain": "(7089, 95)"
     },
     "execution_count": 35,
     "metadata": {},
     "output_type": "execute_result"
    }
   ],
   "source": [
    "# Preview the size of our train set\n",
    "train.shape"
   ]
  },
  {
   "cell_type": "code",
   "execution_count": 36,
   "metadata": {
    "pycharm": {
     "name": "#%%\n"
    }
   },
   "outputs": [
    {
     "data": {
      "text/plain": "(1773, 95)"
     },
     "execution_count": 36,
     "metadata": {},
     "output_type": "execute_result"
    }
   ],
   "source": [
    "# Preview the size of our test set\n",
    "test.shape"
   ]
  },
  {
   "cell_type": "markdown",
   "metadata": {
    "pycharm": {
     "name": "#%% md\n"
    }
   },
   "source": [
    "Now that we have prepared our data, it is time to train the tree\n"
   ]
  },
  {
   "cell_type": "code",
   "execution_count": 37,
   "metadata": {
    "pycharm": {
     "name": "#%%\n"
    }
   },
   "outputs": [
    {
     "name": "stdout",
     "output_type": "stream",
     "text": [
      "Decision tree has 3799 nodes with maximum depth 49.\n"
     ]
    }
   ],
   "source": [
    "# train the tree\n",
    "tree = DecisionTreeClassifier(random_state=RSEED)  # Establish a tree using our seed\n",
    "\n",
    "tree.fit(train, train_labels)  # Train the tree\n",
    "\n",
    "# Basic Tree Information\n",
    "print(f'Decision tree has {tree.tree_.node_count} nodes with maximum depth {tree.tree_.max_depth}.')"
   ]
  },
  {
   "cell_type": "markdown",
   "metadata": {
    "pycharm": {
     "name": "#%% md\n"
    }
   },
   "source": [
    "We will now make predictions and grab the predicted probabilities for both sets\n"
   ]
  },
  {
   "cell_type": "code",
   "execution_count": 38,
   "metadata": {
    "pycharm": {
     "name": "#%%\n"
    }
   },
   "outputs": [],
   "source": [
    "# Establish the probabilities of fitting into the class\n",
    "train_probs = tree.predict_proba(train)[:, 1]\n",
    "probs = tree.predict_proba(test)[:, 1]\n",
    "\n",
    "# Make the predictions\n",
    "train_predictions = tree.predict(train)\n",
    "predictions = tree.predict(test)"
   ]
  },
  {
   "cell_type": "markdown",
   "metadata": {
    "pycharm": {
     "name": "#%% md\n"
    }
   },
   "source": [
    "Now we can review our initial accuracy scores and evaluate our model's performance.  We will create\n",
    "a function to evaluate our models performance because we will have to refer back to it several times\n",
    "throughout this project.\n"
   ]
  },
  {
   "cell_type": "code",
   "execution_count": 39,
   "metadata": {
    "pycharm": {
     "name": "#%%\n"
    }
   },
   "outputs": [],
   "source": [
    "\"\"\"Compare machine learning model to baseline performance.\n",
    "Computes statistics and shows ROC curve.\"\"\"\n",
    "def evaluate_model(predictions, probs, train_predictions, train_probs):\n",
    "    \"\"\"\n",
    "    :param predictions: Test Predicitions from our model\n",
    "    :param probs: Test probabilities from our model\n",
    "    :param train_predictions: Train Predicitions from our model\n",
    "    :param train_probs: Train probabilities from our model\n",
    "    :return: None\n",
    "\n",
    "    This will take our test results from our model and compare them to baseline and training\n",
    "    results.  it will calculate precision and recall (specificity and Sensitivity) as well\n",
    "    as display the ROC curve\n",
    "    \"\"\"\n",
    "    baseline = {}\n",
    "    \n",
    "    baseline['recall'] = recall_score(test_labels, [1 for _ in range(len(test_labels))])\n",
    "    baseline['precision'] = precision_score(test_labels, [1 for _ in range(len(test_labels))])\n",
    "    baseline['roc'] = 0.5\n",
    "    \n",
    "    results = {}\n",
    "    \n",
    "    results['recall'] = recall_score(test_labels, predictions)\n",
    "    results['precision'] = precision_score(test_labels, predictions)\n",
    "    results['roc'] = roc_auc_score(test_labels, probs)\n",
    "    \n",
    "    train_results = {}\n",
    "    train_results['recall'] = recall_score(train_labels, train_predictions)\n",
    "    train_results['precision'] = precision_score(train_labels, train_predictions)\n",
    "    train_results['roc'] = roc_auc_score(train_labels, train_probs)\n",
    "    \n",
    "    for metric in ['recall', 'precision', 'roc']:\n",
    "        print(f'{metric.capitalize()} Baseline: {round(baseline[metric], 2)} Test: {round(results[metric], 2)} Train: {round(train_results[metric], 2)}')\n",
    "    \n",
    "    # Calculate false positive rates and true positive rates\n",
    "    base_fpr, base_tpr, _ = roc_curve(test_labels, [1 for _ in range(len(test_labels))])\n",
    "    model_fpr, model_tpr, _ = roc_curve(test_labels, probs)\n",
    "    \n",
    "    plt.figure(figsize = (8, 6))\n",
    "    plt.rcParams['font.size'] = 16\n",
    "    \n",
    "    # Plot both curves\n",
    "    plt.plot(base_fpr, base_tpr, 'b', label = 'baseline')\n",
    "    plt.plot(model_fpr, model_tpr, 'r', label = 'model')\n",
    "    plt.legend()\n",
    "    plt.xlabel('False Positive Rate'); plt.ylabel('True Positive Rate'); plt.title('ROC Curves');\n",
    "\n"
   ]
  },
  {
   "cell_type": "code",
   "execution_count": 40,
   "metadata": {
    "pycharm": {
     "name": "#%%\n"
    }
   },
   "outputs": [
    {
     "name": "stdout",
     "output_type": "stream",
     "text": [
      "Recall Baseline: 1.0 Test: 0.7 Train: 0.97\n",
      "Precision Baseline: 0.44 Test: 0.69 Train: 0.99\n",
      "Roc Baseline: 0.5 Test: 0.73 Train: 1.0\n"
     ]
    },
    {
     "data": {
      "text/plain": "<Figure size 576x432 with 1 Axes>",
      "image/png": "[encoded data removed]"
     },
     "metadata": {
      "needs_background": "light"
     },
     "output_type": "display_data"
    }
   ],
   "source": [
    "evaluate_model(predictions, probs, train_predictions, train_probs)"
   ]
  },
  {
   "cell_type": "markdown",
   "metadata": {
    "pycharm": {
     "name": "#%% md\n"
    }
   },
   "source": [
    "Now that we have a baseline of accuracy for our model it is often useful to visualize the confusion\n",
    "matrix for review of our findings.  We will create a function to do this as we will refer back to\n",
    "this several times throughout the project."
   ]
  },
  {
   "cell_type": "code",
   "execution_count": 41,
   "metadata": {
    "pycharm": {
     "name": "#%%\n"
    }
   },
   "outputs": [],
   "source": [
    "def plot_confusion_matrix(cm, classes,\n",
    "                          normalize=False,\n",
    "                          title='Confusion matrix',\n",
    "                          cmap=plt.cm.Oranges):\n",
    "    \"\"\"\n",
    "    :param cm: Our Confusion Matric\n",
    "    :param classes: Our Classes we are prediciting\n",
    "    :param normalize: Represent as a range from 0 - 1\n",
    "    :param title: Title of the plot\n",
    "    :param cmap: Color Map to plot with\n",
    "    :return: Returns the TP, FP, TN, FN results from our Confuision Matrix\n",
    "     This function prints and plots the confusion matrix.\n",
    "        Normalization can be applied by setting `normalize=True`.\n",
    "        Source: http://scikit-learn.org/stable/auto_examples/model_selection/plot_confusion_matrix.html\n",
    "\n",
    "    \"\"\"\n",
    "    if normalize:  # Establish whether to normalize or not\n",
    "        cm = cm.astype('float') / cm.sum(axis=1)[:, np.newaxis]\n",
    "        print(\"Normalized confusion matrix\")\n",
    "    else:\n",
    "        print('Confusion matrix, without normalization')\n",
    "\n",
    "    # print(cm)\n",
    "\n",
    "    # plt confusion matrix\n",
    "    plt.figure(figsize = (10, 10))\n",
    "    plt.imshow(cm, interpolation='nearest', cmap=cmap)\n",
    "    plt.title(title, size = 24)\n",
    "    plt.colorbar(aspect=4)\n",
    "    tick_marks = np.arange(len(classes))\n",
    "    plt.xticks(tick_marks, classes, rotation=45, size = 14)\n",
    "    plt.yticks(tick_marks, classes, size = 14)\n",
    "\n",
    "    # Establishes format\n",
    "    fmt = '.2f' if normalize else 'd'\n",
    "    thresh = cm.max() / 2.\n",
    "    \n",
    "    # Labeling the plot\n",
    "    for i, j in itertools.product(range(cm.shape[0]), range(cm.shape[1])):\n",
    "        plt.text(j, i, format(cm[i, j], fmt), fontsize = 20,\n",
    "                 horizontalalignment=\"center\",\n",
    "                 color=\"white\" if cm[i, j] > thresh else \"black\")\n",
    "        \n",
    "    plt.grid(None)\n",
    "    plt.tight_layout()\n",
    "    plt.ylabel('True label', size = 18)\n",
    "    plt.xlabel('Predicted label', size = 18)\n",
    "    \n",
    "    return cm[1, 1], cm[0,0], cm[0, 1], cm[1, 0]"
   ]
  },
  {
   "cell_type": "code",
   "execution_count": 42,
   "metadata": {
    "pycharm": {
     "name": "#%%\n"
    }
   },
   "outputs": [
    {
     "name": "stdout",
     "output_type": "stream",
     "text": [
      "Confusion matrix, without normalization\n",
      "Overall, how often the model is incorrect. \r\n",
      " Classification Error:  0.2662154540327129\n"
     ]
    },
    {
     "data": {
      "text/plain": "<Figure size 720x720 with 2 Axes>",
      "image/png": "[encoded data removed]"
     },
     "metadata": {
      "needs_background": "light"
     },
     "output_type": "display_data"
    }
   ],
   "source": [
    "# Init a Confusion Matrix from our test results\n",
    "cm = confusion_matrix(test_labels, predictions)\n",
    "\n",
    "# Display the confusion Matrix and return the Quadrant results\n",
    "TP, TN, FP, FN = plot_confusion_matrix(cm, classes = ['Unsuccessful App', 'Successful App'],\n",
    "                      title = 'App Confusion Matrix')\n",
    "\n",
    "# Print Classification Error Score\n",
    "print('Overall, how often the model is incorrect.',os.linesep, 'Classification Error: ', ((FP + FN)/float(TP + TN + FP + FN)))"
   ]
  },
  {
   "cell_type": "markdown",
   "metadata": {
    "pycharm": {
     "name": "#%% md\n"
    }
   },
   "source": [
    "Now that we understand our model's performance we can start looking into which features drove\n",
    "our models decisions the most.  To do this we need to compute the feature importance for each\n",
    "feature.  Thankfully decision trees have this feature built into their library"
   ]
  },
  {
   "cell_type": "code",
   "execution_count": 43,
   "metadata": {
    "pycharm": {
     "name": "#%%\n"
    }
   },
   "outputs": [
    {
     "data": {
      "text/plain": "                   feature  importance\n1                Size_Conv    0.422818\n0                   Rating    0.272743\n89  ContentRating_Everyone    0.019759\n66         Category_FAMILY    0.016327\n31           Genre_Medical    0.012099",
      "text/html": "<div>\n<style scoped>\n    .dataframe tbody tr th:only-of-type {\n        vertical-align: middle;\n    }\n\n    .dataframe tbody tr th {\n        vertical-align: top;\n    }\n\n    .dataframe thead th {\n        text-align: right;\n    }\n</style>\n<table border=\"1\" class=\"dataframe\">\n  <thead>\n    <tr style=\"text-align: right;\">\n      <th></th>\n      <th>feature</th>\n      <th>importance</th>\n    </tr>\n  </thead>\n  <tbody>\n    <tr>\n      <th>1</th>\n      <td>Size_Conv</td>\n      <td>0.422818</td>\n    </tr>\n    <tr>\n      <th>0</th>\n      <td>Rating</td>\n      <td>0.272743</td>\n    </tr>\n    <tr>\n      <th>89</th>\n      <td>ContentRating_Everyone</td>\n      <td>0.019759</td>\n    </tr>\n    <tr>\n      <th>66</th>\n      <td>Category_FAMILY</td>\n      <td>0.016327</td>\n    </tr>\n    <tr>\n      <th>31</th>\n      <td>Genre_Medical</td>\n      <td>0.012099</td>\n    </tr>\n  </tbody>\n</table>\n</div>"
     },
     "execution_count": 43,
     "metadata": {},
     "output_type": "execute_result"
    }
   ],
   "source": [
    "# Create a feature importance dataframe for review\n",
    "fi = pd.DataFrame({'feature': features,\n",
    "                   'importance': tree.feature_importances_}).\\\n",
    "                    sort_values('importance', ascending = False)\n",
    "fi.head()\n"
   ]
  },
  {
   "cell_type": "markdown",
   "metadata": {
    "pycharm": {
     "name": "#%% md\n"
    }
   },
   "source": [
    "From here we can see that two features make up big indicators for a high number of installs:\n",
    "- Size\n",
    "- Rating\n",
    "\n",
    "After that our features are much less important in making these decisions.  While\n",
    "these results are somewhat promising (Classification Error of 26%), we likely can\n",
    "improve our results by lowering our bias and increasing our variance.  To do\n",
    "so it makes sense to go for an ensemble model such as a random forest.\n",
    "\n",
    "Random forests are similar to decision trees in that we are still in the realm of trees\n",
    "to make these models.  However, Random Forest doesn't use all the features we provide it\n",
    "in the same way a decision tree does.  Instead, it randomly selects features and subsets\n",
    "of the data to build multiple small decision trees (hence a forest) and then it averages\n",
    "all the results (probability of being classified as a high install app) and makes a classification.\n",
    "\n",
    "We start by training our new ensemble model.\n",
    "\n"
   ]
  },
  {
   "cell_type": "code",
   "execution_count": 44,
   "metadata": {
    "pycharm": {
     "name": "#%%\n"
    }
   },
   "outputs": [
    {
     "name": "stderr",
     "output_type": "stream",
     "text": [
      "[Parallel(n_jobs=-1)]: Using backend ThreadingBackend with 16 concurrent workers.\n",
      "[Parallel(n_jobs=-1)]: Done  18 tasks      | elapsed:    0.0s\n",
      "[Parallel(n_jobs=-1)]: Done 100 out of 100 | elapsed:    0.1s finished\n"
     ]
    },
    {
     "data": {
      "text/plain": "RandomForestClassifier(max_features='sqrt', n_jobs=-1, random_state=500,\n                       verbose=1)"
     },
     "execution_count": 44,
     "metadata": {},
     "output_type": "execute_result"
    }
   ],
   "source": [
    "# Create the model with 100 trees\n",
    "model = RandomForestClassifier(n_estimators=100, \n",
    "                               random_state=RSEED, \n",
    "                               max_features = 'sqrt',\n",
    "                               n_jobs=-1, verbose = 1)\n",
    "\n",
    "# Fit on training data\n",
    "model.fit(train, train_labels)"
   ]
  },
  {
   "cell_type": "markdown",
   "metadata": {
    "pycharm": {
     "name": "#%% md\n"
    }
   },
   "source": [
    "It is usually a good practice to gain the basic statistics of your trees (max depth, node count, etc..) so\n",
    "that you can accurately have an idea of the size and scope of the forest you're creating."
   ]
  },
  {
   "cell_type": "code",
   "execution_count": null,
   "outputs": [],
   "source": [
    "#Initiate lists to capture the tree's descriptors\n",
    "n_nodes = []\n",
    "max_depths = []\n",
    "\n",
    "# For each individual tree append it's descriptor\n",
    "for ind_tree in model.estimators_:\n",
    "    n_nodes.append(ind_tree.tree_.node_count)\n",
    "    max_depths.append(ind_tree.tree_.max_depth)\n",
    "    \n",
    "print(f'Average number of nodes {int(np.mean(n_nodes))}')\n",
    "print(f'Average maximum depth {int(np.mean(max_depths))}')"
   ],
   "metadata": {
    "collapsed": false,
    "pycharm": {
     "name": "#%%\n"
    }
   }
  },
  {
   "cell_type": "code",
   "execution_count": 46,
   "metadata": {
    "pycharm": {
     "name": "#%%\n"
    }
   },
   "outputs": [
    {
     "name": "stderr",
     "output_type": "stream",
     "text": [
      "[Parallel(n_jobs=16)]: Using backend ThreadingBackend with 16 concurrent workers.\n",
      "[Parallel(n_jobs=16)]: Done  18 tasks      | elapsed:    0.0s\n",
      "[Parallel(n_jobs=16)]: Done 100 out of 100 | elapsed:    0.0s finished\n",
      "[Parallel(n_jobs=16)]: Using backend ThreadingBackend with 16 concurrent workers.\n",
      "[Parallel(n_jobs=16)]: Done  18 tasks      | elapsed:    0.0s\n",
      "[Parallel(n_jobs=16)]: Done 100 out of 100 | elapsed:    0.0s finished\n",
      "[Parallel(n_jobs=16)]: Using backend ThreadingBackend with 16 concurrent workers.\n",
      "[Parallel(n_jobs=16)]: Done  18 tasks      | elapsed:    0.0s\n",
      "[Parallel(n_jobs=16)]: Done 100 out of 100 | elapsed:    0.0s finished\n",
      "[Parallel(n_jobs=16)]: Using backend ThreadingBackend with 16 concurrent workers.\n",
      "[Parallel(n_jobs=16)]: Done  18 tasks      | elapsed:    0.0s\n",
      "[Parallel(n_jobs=16)]: Done 100 out of 100 | elapsed:    0.0s finished\n"
     ]
    }
   ],
   "source": [
    "# Gather our predictions and probabilities\n",
    "train_rf_predictions = model.predict(train)\n",
    "train_rf_probs = model.predict_proba(train)[:, 1]\n",
    "\n",
    "rf_predictions = model.predict(test)\n",
    "rf_probs = model.predict_proba(test)[:, 1]"
   ]
  },
  {
   "cell_type": "markdown",
   "metadata": {
    "pycharm": {
     "name": "#%% md\n"
    }
   },
   "source": [
    "Now we can evaluate this model to see the improvements we've made.  Sometimes these\n",
    "improvements are most evident in the confusion matrix, so we will also produce that."
   ]
  },
  {
   "cell_type": "code",
   "execution_count": null,
   "outputs": [],
   "source": [
    "evaluate_model(rf_predictions, rf_probs, train_rf_predictions, train_rf_probs)"
   ],
   "metadata": {
    "collapsed": false,
    "pycharm": {
     "name": "#%%\n"
    }
   }
  },
  {
   "cell_type": "code",
   "execution_count": 48,
   "metadata": {
    "pycharm": {
     "name": "#%%\n"
    }
   },
   "outputs": [
    {
     "name": "stdout",
     "output_type": "stream",
     "text": [
      "Confusion matrix, without normalization\n",
      "Overall, how often the model is incorrect. \r\n",
      " Classification Error:  0.242526790750141\n"
     ]
    },
    {
     "data": {
      "text/plain": "<Figure size 720x720 with 2 Axes>",
      "image/png": "[encoded data removed]"
     },
     "metadata": {
      "needs_background": "light"
     },
     "output_type": "display_data"
    }
   ],
   "source": [
    "\n",
    "cm = confusion_matrix(test_labels, rf_predictions)\n",
    "TP, TN, FP, FN = plot_confusion_matrix(cm, classes = ['Unsuccessful App', 'Successful App'],\n",
    "                      title = 'App Confusion Matrix')\n",
    "print('Overall, how often the model is incorrect.',os.linesep, 'Classification Error: ', ((FP + FN)/float(TP + TN + FP + FN)))\n"
   ]
  },
  {
   "cell_type": "code",
   "execution_count": 49,
   "metadata": {
    "pycharm": {
     "name": "#%%\n"
    }
   },
   "outputs": [
    {
     "data": {
      "text/plain": "                   feature  importance\n1                Size_Conv    0.436469\n0                   Rating    0.308295\n69           Category_GAME    0.013973\n94               multi_gen    0.011682\n89  ContentRating_Everyone    0.011505\n66         Category_FAMILY    0.011208\n20         Genre_Education    0.010474\n31           Genre_Medical    0.007203\n92      ContentRating_Teen    0.006822\n75        Category_MEDICAL    0.006696",
      "text/html": "<div>\n<style scoped>\n    .dataframe tbody tr th:only-of-type {\n        vertical-align: middle;\n    }\n\n    .dataframe tbody tr th {\n        vertical-align: top;\n    }\n\n    .dataframe thead th {\n        text-align: right;\n    }\n</style>\n<table border=\"1\" class=\"dataframe\">\n  <thead>\n    <tr style=\"text-align: right;\">\n      <th></th>\n      <th>feature</th>\n      <th>importance</th>\n    </tr>\n  </thead>\n  <tbody>\n    <tr>\n      <th>1</th>\n      <td>Size_Conv</td>\n      <td>0.436469</td>\n    </tr>\n    <tr>\n      <th>0</th>\n      <td>Rating</td>\n      <td>0.308295</td>\n    </tr>\n    <tr>\n      <th>69</th>\n      <td>Category_GAME</td>\n      <td>0.013973</td>\n    </tr>\n    <tr>\n      <th>94</th>\n      <td>multi_gen</td>\n      <td>0.011682</td>\n    </tr>\n    <tr>\n      <th>89</th>\n      <td>ContentRating_Everyone</td>\n      <td>0.011505</td>\n    </tr>\n    <tr>\n      <th>66</th>\n      <td>Category_FAMILY</td>\n      <td>0.011208</td>\n    </tr>\n    <tr>\n      <th>20</th>\n      <td>Genre_Education</td>\n      <td>0.010474</td>\n    </tr>\n    <tr>\n      <th>31</th>\n      <td>Genre_Medical</td>\n      <td>0.007203</td>\n    </tr>\n    <tr>\n      <th>92</th>\n      <td>ContentRating_Teen</td>\n      <td>0.006822</td>\n    </tr>\n    <tr>\n      <th>75</th>\n      <td>Category_MEDICAL</td>\n      <td>0.006696</td>\n    </tr>\n  </tbody>\n</table>\n</div>"
     },
     "execution_count": 49,
     "metadata": {},
     "output_type": "execute_result"
    }
   ],
   "source": [
    "fi_model = pd.DataFrame({'feature': features,\n",
    "                   'importance': model.feature_importances_}).\\\n",
    "                    sort_values('importance', ascending = False)\n",
    "fi_model.head(10)\n"
   ]
  },
  {
   "cell_type": "code",
   "execution_count": 50,
   "metadata": {
    "pycharm": {
     "name": "#%%\n"
    }
   },
   "outputs": [
    {
     "name": "stdout",
     "output_type": "stream",
     "text": [
      "Fitting 3 folds for each of 10 candidates, totalling 30 fits\n"
     ]
    },
    {
     "name": "stderr",
     "output_type": "stream",
     "text": [
      "[Parallel(n_jobs=-1)]: Using backend LokyBackend with 16 concurrent workers.\n",
      "[Parallel(n_jobs=-1)]: Done  30 out of  30 | elapsed:    4.7s remaining:    0.0s\n",
      "[Parallel(n_jobs=-1)]: Done  30 out of  30 | elapsed:    4.7s finished\n"
     ]
    },
    {
     "data": {
      "text/plain": "RandomizedSearchCV(cv=3, estimator=RandomForestClassifier(random_state=500),\n                   n_jobs=-1,\n                   param_distributions={'bootstrap': [True, False],\n                                        'max_depth': [None, 3, 3, 3, 4, 4, 4, 5,\n                                                      5, 5, 6, 6, 6, 7, 7, 7, 8,\n                                                      8, 8, 9, 9, 9, 10, 10, 10,\n                                                      11, 11, 12, 12, 12, ...],\n                                        'max_features': ['auto', 'sqrt', None,\n                                                         0.5, 0.6, 0.7,\n                                                         0.7999999999999999,\n                                                         0.8999999999999999],\n                                        'max_leaf_nodes': [None, 10, 10, 10, 10,\n                                                           10, 10, 10, 10, 10,\n                                                           10, 10, 10, 10, 11,\n                                                           11, 11, 11, 11, 11,\n                                                           11, 11, 11, 11, 11,\n                                                           11, 12, 12, 12, 12, ...],\n                                        'min_samples_split': [2, 5, 10],\n                                        'n_estimators': array([ 10,  13,  17,  21,  25,  29,  33,  37,  41,  44,  48,  52,  56,\n        60,  64,  68,  72,  75,  79,  83,  87,  91,  95,  99, 103, 106,\n       110, 114, 118, 122, 126, 130, 134, 137, 141, 145, 149, 153, 157,\n       161, 165, 168, 172, 176, 180, 184, 188, 192, 196, 200])},\n                   random_state=500, scoring='roc_auc', verbose=1)"
     },
     "execution_count": 50,
     "metadata": {},
     "output_type": "execute_result"
    }
   ],
   "source": [
    "# Hyperparameter grid\n",
    "param_grid = {\n",
    "    'n_estimators': np.linspace(10, 200).astype(int),\n",
    "    'max_depth': [None] + list(np.linspace(3, 20).astype(int)),\n",
    "    'max_features': ['auto', 'sqrt', None] + list(np.arange(0.5, 1, 0.1)),\n",
    "    'max_leaf_nodes': [None] + list(np.linspace(10, 50, 500).astype(int)),\n",
    "    'min_samples_split': [2, 5, 10],\n",
    "    'bootstrap': [True, False]\n",
    "}\n",
    "\n",
    "# Estimator for use in random search\n",
    "estimator = RandomForestClassifier(random_state = RSEED)\n",
    "\n",
    "# Create the random search model\n",
    "rs = RandomizedSearchCV(estimator, param_grid, n_jobs = -1, \n",
    "                        scoring = 'roc_auc', cv = 3, \n",
    "                        n_iter = 10, verbose = 1, random_state=RSEED)\n",
    "\n",
    "# Fit \n",
    "rs.fit(train, train_labels)"
   ]
  },
  {
   "cell_type": "code",
   "execution_count": 51,
   "metadata": {
    "pycharm": {
     "name": "#%%\n"
    }
   },
   "outputs": [
    {
     "data": {
      "text/plain": "{'n_estimators': 37,\n 'min_samples_split': 10,\n 'max_leaf_nodes': 42,\n 'max_features': 0.5,\n 'max_depth': 15,\n 'bootstrap': True}"
     },
     "execution_count": 51,
     "metadata": {},
     "output_type": "execute_result"
    }
   ],
   "source": [
    "rs.best_params_\n"
   ]
  },
  {
   "cell_type": "code",
   "execution_count": 52,
   "metadata": {
    "pycharm": {
     "name": "#%%\n"
    }
   },
   "outputs": [],
   "source": [
    "best_model = rs.best_estimator_"
   ]
  },
  {
   "cell_type": "code",
   "execution_count": 53,
   "metadata": {
    "pycharm": {
     "name": "#%%\n"
    }
   },
   "outputs": [],
   "source": [
    "train_rf_predictions = best_model.predict(train)\n",
    "train_rf_probs = best_model.predict_proba(train)[:, 1]\n",
    "\n",
    "rf_predictions = best_model.predict(test)\n",
    "rf_probs = best_model.predict_proba(test)[:, 1]"
   ]
  },
  {
   "cell_type": "code",
   "execution_count": 54,
   "metadata": {
    "pycharm": {
     "name": "#%%\n"
    }
   },
   "outputs": [
    {
     "name": "stdout",
     "output_type": "stream",
     "text": [
      "Average number of nodes 83\n",
      "Average maximum depth 12\n"
     ]
    }
   ],
   "source": [
    "n_nodes = []\n",
    "max_depths = []\n",
    "\n",
    "for ind_tree in best_model.estimators_:\n",
    "    n_nodes.append(ind_tree.tree_.node_count)\n",
    "    max_depths.append(ind_tree.tree_.max_depth)\n",
    "    \n",
    "print(f'Average number of nodes {int(np.mean(n_nodes))}')\n",
    "print(f'Average maximum depth {int(np.mean(max_depths))}')\n"
   ]
  },
  {
   "cell_type": "code",
   "execution_count": 55,
   "metadata": {
    "pycharm": {
     "name": "#%%\n"
    }
   },
   "outputs": [
    {
     "name": "stdout",
     "output_type": "stream",
     "text": [
      "Recall Baseline: 1.0 Test: 0.73 Train: 0.76\n",
      "Precision Baseline: 0.44 Test: 0.72 Train: 0.75\n",
      "Roc Baseline: 0.5 Test: 0.85 Train: 0.88\n"
     ]
    },
    {
     "data": {
      "text/plain": "<Figure size 576x432 with 1 Axes>",
      "image/png": "[encoded data removed]"
     },
     "metadata": {
      "needs_background": "light"
     },
     "output_type": "display_data"
    }
   ],
   "source": [
    "evaluate_model(rf_predictions, rf_probs, train_rf_predictions, train_rf_probs)"
   ]
  },
  {
   "cell_type": "code",
   "execution_count": 56,
   "metadata": {
    "pycharm": {
     "name": "#%% \n"
    }
   },
   "outputs": [
    {
     "name": "stdout",
     "output_type": "stream",
     "text": [
      "Confusion matrix, without normalization\n",
      "Overall, how often the model is incorrect. \r\n",
      " Classification Error:  0.24027072758037224\n"
     ]
    },
    {
     "data": {
      "text/plain": "<Figure size 720x720 with 2 Axes>",
      "image/png": "[encoded data removed]"
     },
     "metadata": {
      "needs_background": "light"
     },
     "output_type": "display_data"
    }
   ],
   "source": [
    "cm = confusion_matrix(test_labels, rf_predictions)\n",
    "TP, TN, FP, FN = plot_confusion_matrix(cm, classes = ['Unsuccessful App', 'Successful App'],\n",
    "                      title = 'App Confusion Matrix')\n",
    "print('Overall, how often the model is incorrect.',os.linesep, 'Classification Error: ', ((FP + FN)/float(TP + TN + FP + FN)))\n"
   ]
  },
  {
   "cell_type": "code",
   "execution_count": 57,
   "metadata": {
    "pycharm": {
     "name": "#%%\n"
    }
   },
   "outputs": [
    {
     "name": "stdout",
     "output_type": "stream",
     "text": [
      "Threshold: 0.2\n",
      "Recall:  0.984\n",
      "Precision:  0.401\n",
      "\r\n",
      "\n",
      "Threshold: 0.25\n",
      "Recall:  0.953\n",
      "Precision:  0.508\n",
      "\r\n",
      "\n",
      "Threshold: 0.3\n",
      "Recall:  0.93\n",
      "Precision:  0.555\n",
      "\r\n",
      "\n",
      "Threshold: 0.35\n",
      "Recall:  0.881\n",
      "Precision:  0.615\n",
      "\r\n",
      "\n",
      "Threshold: 0.4\n",
      "Recall:  0.837\n",
      "Precision:  0.682\n",
      "\r\n",
      "\n",
      "Threshold: 0.45\n",
      "Recall:  0.798\n",
      "Precision:  0.73\n",
      "\r\n",
      "\n",
      "Threshold: 0.5\n",
      "Recall:  0.731\n",
      "Precision:  0.782\n",
      "\r\n",
      "\n",
      "Threshold: 0.55\n",
      "Recall:  0.666\n",
      "Precision:  0.832\n",
      "\r\n",
      "\n",
      "Threshold: 0.6\n",
      "Recall:  0.594\n",
      "Precision:  0.864\n",
      "\r\n",
      "\n",
      "Threshold: 0.65\n",
      "Recall:  0.492\n",
      "Precision:  0.909\n",
      "\r\n",
      "\n",
      "Threshold: 0.7\n",
      "Recall:  0.42\n",
      "Precision:  0.93\n",
      "\r\n",
      "\n",
      "Threshold: 0.75\n",
      "Recall:  0.351\n",
      "Precision:  0.947\n",
      "\r\n",
      "\n"
     ]
    }
   ],
   "source": [
    "fpr, tpr, thresholds = roc_curve(test_labels, rf_probs)\n",
    "\n",
    "def evaluate_thresh(threshold):\n",
    "    print('Recall: ', round(tpr[thresholds > threshold][-1], 3))\n",
    "    print('Precision: ', round(1 - fpr[thresholds > threshold][-1], 3))\n",
    "    print(os.linesep)\n",
    "\n",
    "for i in range(20, 80, 5):\n",
    "    print('Threshold: ' + str(round(i * 0.01, 2)))\n",
    "    evaluate_thresh(i*0.01)"
   ]
  },
  {
   "cell_type": "code",
   "execution_count": 58,
   "metadata": {
    "pycharm": {
     "name": "#%%\n"
    }
   },
   "outputs": [
    {
     "name": "stdout",
     "output_type": "stream",
     "text": [
      "Confusion matrix, without normalization\n",
      "Overall, how often the model is incorrect. \r\n",
      " Classification Error:  0.25380710659898476\n",
      "Recall:  0.5937904269081501\n",
      "Precision:  0.864\n"
     ]
    },
    {
     "data": {
      "text/plain": "<Figure size 720x720 with 2 Axes>",
      "image/png": "[encoded data removed]"
     },
     "metadata": {
      "needs_background": "light"
     },
     "output_type": "display_data"
    }
   ],
   "source": [
    "# Goal of 85% Precision\n",
    "new_threshold = 0.6\n",
    "\n",
    "y_pred_class = binarize(rf_probs.reshape(-1, 1), threshold=new_threshold)\n",
    "cm = confusion_matrix(test_labels, y_pred_class)\n",
    "TP, TN, FP, FN = plot_confusion_matrix(cm, classes = ['Unsuccessful App', 'Successful App'],\n",
    "                      title = 'App Confusion Matrix')\n",
    "print('Overall, how often the model is incorrect.', os.linesep, 'Classification Error: ', ((FP + FN)/float(TP + TN + FP + FN)))\n",
    "print('Recall: ', TP / (FN + TP))\n",
    "print('Precision: ', TN / (TN + FP))\n",
    "\n"
   ]
  }
 ],
 "metadata": {
  "kernelspec": {
   "display_name": "Python 3",
   "language": "python",
   "name": "python3"
  },
  "language_info": {
   "codemirror_mode": {
    "name": "ipython",
    "version": 3
   },
   "file_extension": ".py",
   "mimetype": "text/x-python",
   "name": "python",
   "nbconvert_exporter": "python",
   "pygments_lexer": "ipython3",
   "version": "3.7.8"
  }
 },
 "nbformat": 4,
 "nbformat_minor": 1
}