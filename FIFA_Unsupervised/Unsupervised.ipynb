{
 "cells": [
  {
   "cell_type": "markdown",
   "metadata": {
    "collapsed": true,
    "pycharm": {
     "name": "#%% md\n"
    }
   },
   "source": [
    "# Unsupervised Learning of FIFA Midfielders\n",
    "\n",
    "The goal of this project is to act as an example of a basic clustering process.  At the end we\n",
    "will tackle dimensionality reduction for the sake of visualizing the cluster as well.\n",
    "\n",
    "### Clustering\n",
    "In a general sense Clustering Analysis is the grouping of data elements based on how similar they\n",
    "are to other data points.  One of the most popular (and basic) clustering algorithms is referred to as\n",
    "K-Means.  One of the downsides to K-Means is that it only deals with numerical features because it's algorthm\n",
    "relies heavily on the means of the found clusters.  If you are dealing instead with Categorical data\n",
    "one could use the very similar K-Modes clustering algorithm.  Last but not least, if dealing with mixed date\n",
    "(both numerical and categorical) one could use K-Prototype Clustering, which serves as a combination of K-Means for\n",
    "numerical features and K-Modes for categorical.\n",
    "\n",
    "We will talk about which clustering algorithm we used and why later on.\n",
    "\n",
    "### Opening & Exploring the Data\n"
   ]
  },
  {
   "cell_type": "code",
   "execution_count": 155,
   "outputs": [],
   "source": [
    "# IMPORTS\n",
    "from sklearn import preprocessing\n",
    "from scipy.spatial.distance import cdist\n",
    "from sklearn.cluster import KMeans\n",
    "import pandas as pd\n",
    "import numpy as np\n",
    "import prince\n",
    "import seaborn as sns\n",
    "import matplotlib.pyplot as plt\n",
    "from matplotlib import style\n",
    "style.use(\"fivethirtyeight\")\n",
    "colors = ['b', 'orange', 'g', 'r', 'c', 'm', 'y', 'k', 'Brown', 'ForestGreen']\n",
    "%matplotlib inline"
   ],
   "metadata": {
    "collapsed": false,
    "pycharm": {
     "name": "#%%\n"
    }
   }
  },
  {
   "cell_type": "markdown",
   "source": [
    "Now that we have imported our dependencies (python libraries) we can go ahead and load the data\n",
    "into a dataframe.  The dataset we are using today is built from EA's video game FIFA 2020.  It\n",
    "serves as a great source for player skill ratings, and is often very popular on kaggle for this\n",
    "reason.\n"
   ],
   "metadata": {
    "collapsed": false,
    "pycharm": {
     "name": "#%% md\n"
    }
   }
  },
  {
   "cell_type": "code",
   "execution_count": 156,
   "outputs": [
    {
     "data": {
      "text/plain": "   sofifa_id       short_name nationality                 club  overall  \\\n0     190871        Neymar Jr      Brazil  Paris Saint-Germain       92   \n1     192985     K. De Bruyne     Belgium      Manchester City       91   \n2     177003        L. Modrić     Croatia          Real Madrid       90   \n3     215914         N. Kanté      France              Chelsea       89   \n4     189511  Sergio Busquets       Spain         FC Barcelona       89   \n\n   potential team_position  age  height_cm  weight_kg  ...  \\\n0         92           CAM   27        175         68  ...   \n1         91           RCM   28        181         70  ...   \n2         90           RCM   33        172         66  ...   \n3         90           RCM   28        168         72  ...   \n4         89           CDM   30        189         76  ...   \n\n  mentality_penalties  mentality_composure  defending_marking  \\\n0                  90                   94                 27   \n1                  79                   91                 68   \n2                  82                   92                 68   \n3                  54                   85                 90   \n4                  60                   93                 90   \n\n   defending_standing_tackle  defending_sliding_tackle  goalkeeping_diving  \\\n0                         26                        29                   9   \n1                         58                        51                  15   \n2                         76                        71                  13   \n3                         91                        85                  15   \n4                         86                        80                   5   \n\n   goalkeeping_handling  goalkeeping_kicking  goalkeeping_positioning  \\\n0                     9                   15                       15   \n1                    13                    5                       10   \n2                     9                    7                       14   \n3                    12                   10                        7   \n4                     8                   13                        9   \n\n   goalkeeping_reflexes  \n0                    11  \n1                    13  \n2                     9  \n3                    10  \n4                    13  \n\n[5 rows x 45 columns]",
      "text/html": "<div>\n<style scoped>\n    .dataframe tbody tr th:only-of-type {\n        vertical-align: middle;\n    }\n\n    .dataframe tbody tr th {\n        vertical-align: top;\n    }\n\n    .dataframe thead th {\n        text-align: right;\n    }\n</style>\n<table border=\"1\" class=\"dataframe\">\n  <thead>\n    <tr style=\"text-align: right;\">\n      <th></th>\n      <th>sofifa_id</th>\n      <th>short_name</th>\n      <th>nationality</th>\n      <th>club</th>\n      <th>overall</th>\n      <th>potential</th>\n      <th>team_position</th>\n      <th>age</th>\n      <th>height_cm</th>\n      <th>weight_kg</th>\n      <th>...</th>\n      <th>mentality_penalties</th>\n      <th>mentality_composure</th>\n      <th>defending_marking</th>\n      <th>defending_standing_tackle</th>\n      <th>defending_sliding_tackle</th>\n      <th>goalkeeping_diving</th>\n      <th>goalkeeping_handling</th>\n      <th>goalkeeping_kicking</th>\n      <th>goalkeeping_positioning</th>\n      <th>goalkeeping_reflexes</th>\n    </tr>\n  </thead>\n  <tbody>\n    <tr>\n      <th>0</th>\n      <td>190871</td>\n      <td>Neymar Jr</td>\n      <td>Brazil</td>\n      <td>Paris Saint-Germain</td>\n      <td>92</td>\n      <td>92</td>\n      <td>CAM</td>\n      <td>27</td>\n      <td>175</td>\n      <td>68</td>\n      <td>...</td>\n      <td>90</td>\n      <td>94</td>\n      <td>27</td>\n      <td>26</td>\n      <td>29</td>\n      <td>9</td>\n      <td>9</td>\n      <td>15</td>\n      <td>15</td>\n      <td>11</td>\n    </tr>\n    <tr>\n      <th>1</th>\n      <td>192985</td>\n      <td>K. De Bruyne</td>\n      <td>Belgium</td>\n      <td>Manchester City</td>\n      <td>91</td>\n      <td>91</td>\n      <td>RCM</td>\n      <td>28</td>\n      <td>181</td>\n      <td>70</td>\n      <td>...</td>\n      <td>79</td>\n      <td>91</td>\n      <td>68</td>\n      <td>58</td>\n      <td>51</td>\n      <td>15</td>\n      <td>13</td>\n      <td>5</td>\n      <td>10</td>\n      <td>13</td>\n    </tr>\n    <tr>\n      <th>2</th>\n      <td>177003</td>\n      <td>L. Modrić</td>\n      <td>Croatia</td>\n      <td>Real Madrid</td>\n      <td>90</td>\n      <td>90</td>\n      <td>RCM</td>\n      <td>33</td>\n      <td>172</td>\n      <td>66</td>\n      <td>...</td>\n      <td>82</td>\n      <td>92</td>\n      <td>68</td>\n      <td>76</td>\n      <td>71</td>\n      <td>13</td>\n      <td>9</td>\n      <td>7</td>\n      <td>14</td>\n      <td>9</td>\n    </tr>\n    <tr>\n      <th>3</th>\n      <td>215914</td>\n      <td>N. Kanté</td>\n      <td>France</td>\n      <td>Chelsea</td>\n      <td>89</td>\n      <td>90</td>\n      <td>RCM</td>\n      <td>28</td>\n      <td>168</td>\n      <td>72</td>\n      <td>...</td>\n      <td>54</td>\n      <td>85</td>\n      <td>90</td>\n      <td>91</td>\n      <td>85</td>\n      <td>15</td>\n      <td>12</td>\n      <td>10</td>\n      <td>7</td>\n      <td>10</td>\n    </tr>\n    <tr>\n      <th>4</th>\n      <td>189511</td>\n      <td>Sergio Busquets</td>\n      <td>Spain</td>\n      <td>FC Barcelona</td>\n      <td>89</td>\n      <td>89</td>\n      <td>CDM</td>\n      <td>30</td>\n      <td>189</td>\n      <td>76</td>\n      <td>...</td>\n      <td>60</td>\n      <td>93</td>\n      <td>90</td>\n      <td>86</td>\n      <td>80</td>\n      <td>5</td>\n      <td>8</td>\n      <td>13</td>\n      <td>9</td>\n      <td>13</td>\n    </tr>\n  </tbody>\n</table>\n<p>5 rows × 45 columns</p>\n</div>"
     },
     "execution_count": 156,
     "metadata": {},
     "output_type": "execute_result"
    }
   ],
   "source": [
    "data = pd.read_csv(r'players_20.csv')\n",
    "data.head()\n"
   ],
   "metadata": {
    "collapsed": false,
    "pycharm": {
     "name": "#%%\n"
    }
   }
  },
  {
   "cell_type": "markdown",
   "source": [
    "We have a trimmed down version of this dataset so that we can streamline this process.  Normally\n",
    "in projects of this nature quite a bit of time is spent exploring all of the features to decide\n",
    "which metrics would be useful for clustering on.\n",
    "\n",
    "Feature selection is quite important to any machine learning algorithm, and understanding the domain\n",
    "is vital is making these decisions.  Since I was in a somewhat expedited process when putting this together\n",
    "I trimmed down the features from ym domain knowledge as a soccer fan.\n",
    "\n",
    "As you can see from our data preview, we have quite a few features still in our dataset.  If there\n",
    "was a specific goal behind this project it would be easier to limit the features even farther.\n",
    "\n",
    "*For example, if our goal was to see what countries produce the best midfielders we could cluster based\n",
    "solely on features the best midfielders exhibit and then after the process look at the clusters\n",
    "to see if there is a natural grouping of skill levels (low, mid, and highly skilled)*\n",
    "\n",
    "Next up in the exploration of our data is to understand the metrics we have:\n",
    "- Feature Name\n",
    "- Data Type\n",
    "- Unique Number of Values"
   ],
   "metadata": {
    "collapsed": false,
    "pycharm": {
     "name": "#%% md\n"
    }
   }
  },
  {
   "cell_type": "code",
   "execution_count": 157,
   "outputs": [],
   "source": [
    "def get_cat(series: pd.Series, empty_flag: bool) -> str:\n",
    "    \"\"\"\n",
    "    :param series: a pandas series of data (should be of one data type)\n",
    "    :param empty_flag: a boolean to call out an empty column (containing all NaNs)\n",
    "    :return: a string that is the 'category of the datatype'\n",
    "\n",
    "    This function will take a given series and return a generalized category for the datatype.\n",
    "    This is necessary for readability as df.dtypes will return ungrouped types (i.e. float64, int64)\n",
    "    as well as return some options that do not provide much insight (i.e. object)\n",
    "    \"\"\"\n",
    "    if empty_flag:  # Catch Empty Columns\n",
    "        return 'Empty'\n",
    "    elif pd.api.types.is_numeric_dtype(series):\n",
    "        return 'Numerical'\n",
    "    elif pd.api.types.is_datetime64_dtype(series):\n",
    "        return 'Date'\n",
    "    elif pd.api.types.is_bool_dtype(series):\n",
    "        return 'Boolean'\n",
    "    elif pd.api.types.is_categorical_dtype(series):\n",
    "        return 'Categorical'\n",
    "    elif pd.api.types.is_string_dtype(series):\n",
    "        return 'Text'\n",
    "    else:  # Catches all others for review\n",
    "        return 'Unknown'\n",
    "\n",
    "\n",
    "def col_categories(data: pd.DataFrame):\n",
    "    \"\"\"\n",
    "    :param data: a pandas Dataframe consisting of columns of data you want to explore their categories\n",
    "    :return: None\n",
    "    Prints the column name and data type of each column in the dataframe\n",
    "    \"\"\"\n",
    "    # if data.dropna().empty:  # Catches Error\n",
    "    #     raise ValueError('DataFrame Provided Contains is either empty or only contains NaNs')\n",
    "    #     # sys.exit(1)\n",
    "    for col in data.columns:  # For Each Column\n",
    "        if data[col].dropna().empty:  # Catch Empty Columns\n",
    "            empty = True  # Set Flag\n",
    "        else:\n",
    "            empty = False  # Set Flag\n",
    "        count = data[col].nunique()\n",
    "        print(col, ': ', get_cat(data[col], empty), ' -- #Unique: ', count)  # Print and Call Column Categories"
   ],
   "metadata": {
    "collapsed": false,
    "pycharm": {
     "name": "#%%\n"
    }
   }
  },
  {
   "cell_type": "code",
   "execution_count": 158,
   "outputs": [
    {
     "name": "stdout",
     "output_type": "stream",
     "text": [
      "sofifa_id :  Numerical  -- #Unique:  608\n",
      "short_name :  Text  -- #Unique:  603\n",
      "nationality :  Text  -- #Unique:  70\n",
      "club :  Text  -- #Unique:  274\n",
      "overall :  Numerical  -- #Unique:  28\n",
      "potential :  Numerical  -- #Unique:  20\n",
      "team_position :  Text  -- #Unique:  11\n",
      "age :  Numerical  -- #Unique:  20\n",
      "height_cm :  Numerical  -- #Unique:  34\n",
      "weight_kg :  Numerical  -- #Unique:  33\n",
      "player_traits :  Text  -- #Unique:  212\n",
      "attacking_crossing :  Numerical  -- #Unique:  54\n",
      "attacking_finishing :  Numerical  -- #Unique:  59\n",
      "attacking_heading_accuracy :  Numerical  -- #Unique:  55\n",
      "attacking_short_passing :  Numerical  -- #Unique:  36\n",
      "attacking_volleys :  Numerical  -- #Unique:  59\n",
      "skill_dribbling :  Numerical  -- #Unique:  42\n",
      "skill_curve :  Numerical  -- #Unique:  59\n",
      "skill_fk_accuracy :  Numerical  -- #Unique:  65\n",
      "skill_long_passing :  Numerical  -- #Unique:  48\n",
      "skill_ball_control :  Numerical  -- #Unique:  37\n",
      "movement_acceleration :  Numerical  -- #Unique:  55\n",
      "movement_sprint_speed :  Numerical  -- #Unique:  60\n",
      "movement_agility :  Numerical  -- #Unique:  52\n",
      "movement_reactions :  Numerical  -- #Unique:  42\n",
      "movement_balance :  Numerical  -- #Unique:  55\n",
      "power_shot_power :  Numerical  -- #Unique:  46\n",
      "power_jumping :  Numerical  -- #Unique:  61\n",
      "power_stamina :  Numerical  -- #Unique:  51\n",
      "power_strength :  Numerical  -- #Unique:  61\n",
      "power_long_shots :  Numerical  -- #Unique:  56\n",
      "mentality_aggression :  Numerical  -- #Unique:  69\n",
      "mentality_interceptions :  Numerical  -- #Unique:  76\n",
      "mentality_positioning :  Numerical  -- #Unique:  52\n",
      "mentality_vision :  Numerical  -- #Unique:  46\n",
      "mentality_penalties :  Numerical  -- #Unique:  58\n",
      "mentality_composure :  Numerical  -- #Unique:  46\n",
      "defending_marking :  Numerical  -- #Unique:  71\n",
      "defending_standing_tackle :  Numerical  -- #Unique:  75\n",
      "defending_sliding_tackle :  Numerical  -- #Unique:  75\n",
      "goalkeeping_diving :  Numerical  -- #Unique:  15\n",
      "goalkeeping_handling :  Numerical  -- #Unique:  15\n",
      "goalkeeping_kicking :  Numerical  -- #Unique:  16\n",
      "goalkeeping_positioning :  Numerical  -- #Unique:  15\n",
      "goalkeeping_reflexes :  Numerical  -- #Unique:  15\n"
     ]
    }
   ],
   "source": [
    "col_categories(data)"
   ],
   "metadata": {
    "collapsed": false,
    "pycharm": {
     "name": "#%%\n"
    }
   }
  },
  {
   "cell_type": "markdown",
   "source": [
    "Looking through the data we can gain some basic understanding of the dataset\n",
    "\n",
    "- sofifa_id is the player index\n",
    "- Nationality / Club / Position may be interesting to evaluate post cluster\n",
    "    - Clustering on these may take away the idea of these clusters signifying performance\n",
    "- Player traits is a comma separate list of categorical variables\n",
    "- Lots of goalkeeping features that we will not need for this Analysis\n",
    "- Overall & Potential are likely Collinear with some of the other stats, and should be removed\n",
    "for now\n",
    "\n",
    "\n",
    "So our data transformation is fairly simple in this case.  First we will separate our the metrics\n",
    "we want to compare post analysis into its own dataframe.  This will allow us to join these metrics\n",
    "back in after we have our results by merging on the player index."
   ],
   "metadata": {
    "collapsed": false,
    "pycharm": {
     "name": "#%% md\n"
    }
   }
  },
  {
   "cell_type": "code",
   "execution_count": 159,
   "outputs": [],
   "source": [
    "# Define the player DF for later merging\n",
    "player = data[['sofifa_id', 'short_name', 'nationality','club',\t'overall', 'potential',\t'team_position']]\n"
   ],
   "metadata": {
    "collapsed": false,
    "pycharm": {
     "name": "#%%\n"
    }
   }
  },
  {
   "cell_type": "markdown",
   "source": [
    "Next we will deal with the categorical variables we are interested in using.  There are two approaches\n",
    "we could take.\n",
    "- Use K-Prototype for mixed data since we have both numerical and categorical data\n",
    "- Convert our categorical data to numerical so that we can use K-Means\n",
    "\n",
    "In our dataset's case where there is really only one feature we are interested in that is categorical\n",
    "I find it better to just translate it to a numeric than use a much more complex and less efficient\n",
    "process.  So to convert this categorical data we will split the string (comma seperated list) and then\n",
    "\"dummify\" the categories.\n",
    "\n",
    "*Dummifying the variable means taking all the value options for this metric and making them their\n",
    "own feature that is now a binary (and numerical) feature.  Aka, If a player is a Long Shot Taker he\n",
    "will have a value of one in that column, and would have a zero if he did not have that trait.  it is\n",
    "often useful for people to think of this as a 'Flag'*"
   ],
   "metadata": {
    "collapsed": false,
    "pycharm": {
     "name": "#%% md\n"
    }
   }
  },
  {
   "cell_type": "code",
   "execution_count": 160,
   "outputs": [],
   "source": [
    "# Split on commas after converting to a string, and then dummify the variable renaming each column\n",
    "data = pd.concat([data,data.player_traits.str.get_dummies(sep=',').rename(lambda c: 'trait_' + c, axis='columns')],\n",
    "                 axis=1)"
   ],
   "metadata": {
    "collapsed": false,
    "pycharm": {
     "name": "#%%\n"
    }
   }
  },
  {
   "cell_type": "markdown",
   "source": [
    "Now the last big step we discussed is removing a lot of the columns we either converted or seperated\n",
    "into their own dataframe for joining in later.\n",
    "\n",
    "**Remember to not remove 'sofifa_id' as this serves as our key to merge the data back in later.**"
   ],
   "metadata": {
    "collapsed": false,
    "pycharm": {
     "name": "#%% md\n"
    }
   }
  },
  {
   "cell_type": "code",
   "execution_count": 161,
   "outputs": [],
   "source": [
    "data.drop(columns=['short_name', 'player_traits', 'nationality','club',\t'overall', 'defending_sliding_tackle',\t'team_position', 'potential'], inplace=True)"
   ],
   "metadata": {
    "collapsed": false,
    "pycharm": {
     "name": "#%%\n"
    }
   }
  },
  {
   "cell_type": "markdown",
   "source": [
    "Now lets re-evaluate the columns again"
   ],
   "metadata": {
    "collapsed": false,
    "pycharm": {
     "name": "#%% md\n"
    }
   }
  },
  {
   "cell_type": "code",
   "execution_count": 162,
   "outputs": [
    {
     "name": "stdout",
     "output_type": "stream",
     "text": [
      "sofifa_id :  Numerical  -- #Unique:  608\n",
      "age :  Numerical  -- #Unique:  20\n",
      "height_cm :  Numerical  -- #Unique:  34\n",
      "weight_kg :  Numerical  -- #Unique:  33\n",
      "attacking_crossing :  Numerical  -- #Unique:  54\n",
      "attacking_finishing :  Numerical  -- #Unique:  59\n",
      "attacking_heading_accuracy :  Numerical  -- #Unique:  55\n",
      "attacking_short_passing :  Numerical  -- #Unique:  36\n",
      "attacking_volleys :  Numerical  -- #Unique:  59\n",
      "skill_dribbling :  Numerical  -- #Unique:  42\n",
      "skill_curve :  Numerical  -- #Unique:  59\n",
      "skill_fk_accuracy :  Numerical  -- #Unique:  65\n",
      "skill_long_passing :  Numerical  -- #Unique:  48\n",
      "skill_ball_control :  Numerical  -- #Unique:  37\n",
      "movement_acceleration :  Numerical  -- #Unique:  55\n",
      "movement_sprint_speed :  Numerical  -- #Unique:  60\n",
      "movement_agility :  Numerical  -- #Unique:  52\n",
      "movement_reactions :  Numerical  -- #Unique:  42\n",
      "movement_balance :  Numerical  -- #Unique:  55\n",
      "power_shot_power :  Numerical  -- #Unique:  46\n",
      "power_jumping :  Numerical  -- #Unique:  61\n",
      "power_stamina :  Numerical  -- #Unique:  51\n",
      "power_strength :  Numerical  -- #Unique:  61\n",
      "power_long_shots :  Numerical  -- #Unique:  56\n",
      "mentality_aggression :  Numerical  -- #Unique:  69\n",
      "mentality_interceptions :  Numerical  -- #Unique:  76\n",
      "mentality_positioning :  Numerical  -- #Unique:  52\n",
      "mentality_vision :  Numerical  -- #Unique:  46\n",
      "mentality_penalties :  Numerical  -- #Unique:  58\n",
      "mentality_composure :  Numerical  -- #Unique:  46\n",
      "defending_marking :  Numerical  -- #Unique:  71\n",
      "defending_standing_tackle :  Numerical  -- #Unique:  75\n",
      "goalkeeping_diving :  Numerical  -- #Unique:  15\n",
      "goalkeeping_handling :  Numerical  -- #Unique:  15\n",
      "goalkeeping_kicking :  Numerical  -- #Unique:  16\n",
      "goalkeeping_positioning :  Numerical  -- #Unique:  15\n",
      "goalkeeping_reflexes :  Numerical  -- #Unique:  15\n",
      "trait_ Argues with Officials :  Numerical  -- #Unique:  2\n",
      "trait_ Avoids Using Weaker Foot :  Numerical  -- #Unique:  2\n",
      "trait_ Beat Offside Trap :  Numerical  -- #Unique:  2\n",
      "trait_ Crowd Favourite :  Numerical  -- #Unique:  2\n",
      "trait_ Diver :  Numerical  -- #Unique:  2\n",
      "trait_ Dives Into Tackles (CPU AI Only) :  Numerical  -- #Unique:  2\n",
      "trait_ Early Crosser :  Numerical  -- #Unique:  2\n",
      "trait_ Finesse Shot :  Numerical  -- #Unique:  2\n",
      "trait_ Giant Throw-in :  Numerical  -- #Unique:  2\n",
      "trait_ Injury Free :  Numerical  -- #Unique:  2\n",
      "trait_ Injury Prone :  Numerical  -- #Unique:  2\n",
      "trait_ Leadership :  Numerical  -- #Unique:  2\n",
      "trait_ Long Passer (CPU AI Only) :  Numerical  -- #Unique:  2\n",
      "trait_ Long Shot Taker (CPU AI Only) :  Numerical  -- #Unique:  2\n",
      "trait_ Long Throw-in :  Numerical  -- #Unique:  2\n",
      "trait_ Outside Foot Shot :  Numerical  -- #Unique:  2\n",
      "trait_ Power Free-Kick :  Numerical  -- #Unique:  2\n",
      "trait_ Selfish :  Numerical  -- #Unique:  2\n",
      "trait_ Skilled Dribbling :  Numerical  -- #Unique:  2\n",
      "trait_ Speed Dribbler (CPU AI Only) :  Numerical  -- #Unique:  2\n",
      "trait_Argues with Officials :  Numerical  -- #Unique:  2\n",
      "trait_Avoids Using Weaker Foot :  Numerical  -- #Unique:  2\n",
      "trait_Beat Offside Trap :  Numerical  -- #Unique:  2\n",
      "trait_Crowd Favourite :  Numerical  -- #Unique:  2\n",
      "trait_Diver :  Numerical  -- #Unique:  2\n",
      "trait_Dives Into Tackles (CPU AI Only) :  Numerical  -- #Unique:  2\n",
      "trait_Early Crosser :  Numerical  -- #Unique:  2\n",
      "trait_Finesse Shot :  Numerical  -- #Unique:  2\n",
      "trait_Giant Throw-in :  Numerical  -- #Unique:  2\n",
      "trait_Inflexible :  Numerical  -- #Unique:  2\n",
      "trait_Injury Free :  Numerical  -- #Unique:  2\n",
      "trait_Injury Prone :  Numerical  -- #Unique:  2\n",
      "trait_Leadership :  Numerical  -- #Unique:  2\n",
      "trait_Long Shot Taker (CPU AI Only) :  Numerical  -- #Unique:  2\n",
      "trait_Long Throw-in :  Numerical  -- #Unique:  2\n",
      "trait_Power Free-Kick :  Numerical  -- #Unique:  2\n",
      "trait_Selfish :  Numerical  -- #Unique:  2\n",
      "trait_Skilled Dribbling :  Numerical  -- #Unique:  2\n",
      "trait_Speed Dribbler (CPU AI Only) :  Numerical  -- #Unique:  2\n"
     ]
    }
   ],
   "source": [
    "col_categories(data)\n"
   ],
   "metadata": {
    "collapsed": false,
    "pycharm": {
     "name": "#%%\n"
    }
   }
  },
  {
   "cell_type": "markdown",
   "source": [
    "## Exploring the Data\n",
    "\n",
    "Now will serve as a good time to really dig into the data that will serve as our data in\n",
    "the clustering algorithm we apply.  I will not spend too much effort in this process since it\n",
    "is not related to an actual business issue and instead is to be used as a teaching aide.  However,\n",
    "I will provide a few examples of how you could explore this data\n",
    "- Distribution Analysis through Visuals\n",
    "    - Histograms\n",
    "    - Probability Density Functions\n",
    "- Descriptive Statistics of the features\n",
    "- Correlation Heat Maps to understand Relationships\n"
   ],
   "metadata": {
    "collapsed": false,
    "pycharm": {
     "name": "#%% md\n"
    }
   }
  },
  {
   "cell_type": "code",
   "execution_count": 163,
   "outputs": [
    {
     "data": {
      "text/plain": "array([[<matplotlib.axes._subplots.AxesSubplot object at 0x0000011176EA0E48>,\n        <matplotlib.axes._subplots.AxesSubplot object at 0x0000011176810948>],\n       [<matplotlib.axes._subplots.AxesSubplot object at 0x0000011176AFAD88>,\n        <matplotlib.axes._subplots.AxesSubplot object at 0x0000011176B519C8>]],\n      dtype=object)"
     },
     "execution_count": 163,
     "metadata": {},
     "output_type": "execute_result"
    },
    {
     "data": {
      "text/plain": "<Figure size 432x288 with 4 Axes>",
      "image/png": "[encoded data removed]"
     },
     "metadata": {
      "needs_background": "light"
     },
     "output_type": "display_data"
    }
   ],
   "source": [
    "# Create quick Histograms to understand the distribution of the metrics\n",
    "data[['age', 'height_cm', 'weight_kg', 'defending_standing_tackle']].hist()\n"
   ],
   "metadata": {
    "collapsed": false,
    "pycharm": {
     "name": "#%%\n"
    }
   }
  },
  {
   "cell_type": "code",
   "execution_count": 164,
   "outputs": [
    {
     "data": {
      "text/plain": "           sofifa_id         age   height_cm   weight_kg  attacking_crossing  \\\ncount     608.000000  608.000000  608.000000  608.000000          608.000000   \nmean   214725.598684   24.901316  178.888158   73.182566           67.815789   \nstd     24906.466818    3.709394    6.067494    6.224882            9.808493   \nmin     20775.000000   16.000000  161.000000   58.000000           33.000000   \n25%    202071.250000   22.000000  175.000000   69.000000           63.000000   \n50%    220748.500000   24.000000  179.000000   73.000000           68.000000   \n75%    232719.500000   27.000000  183.000000   77.000000           74.000000   \nmax    251221.000000   37.000000  197.000000   94.000000           93.000000   \n\n       attacking_finishing  attacking_heading_accuracy  \\\ncount           608.000000                  608.000000   \nmean             63.574013                   58.666118   \nstd              10.980038                   11.164136   \nmin              21.000000                   30.000000   \n25%              58.000000                   51.000000   \n50%              65.000000                   59.000000   \n75%              71.000000                   67.000000   \nmax              89.000000                   90.000000   \n\n       attacking_short_passing  attacking_volleys  skill_dribbling  ...  \\\ncount               608.000000         608.000000       608.000000  ...   \nmean                 76.623355          60.532895        75.485197  ...   \nstd                   6.147922          12.207793         7.069654  ...   \nmin                  44.000000          26.000000        37.000000  ...   \n25%                  73.000000          52.000000        72.000000  ...   \n50%                  77.000000          62.000000        76.000000  ...   \n75%                  81.000000          69.000000        80.000000  ...   \nmax                  92.000000          90.000000        96.000000  ...   \n\n       trait_Inflexible  trait_Injury Free  trait_Injury Prone  \\\ncount        608.000000         608.000000          608.000000   \nmean           0.004934           0.037829            0.065789   \nstd            0.070128           0.190939            0.248118   \nmin            0.000000           0.000000            0.000000   \n25%            0.000000           0.000000            0.000000   \n50%            0.000000           0.000000            0.000000   \n75%            0.000000           0.000000            0.000000   \nmax            1.000000           1.000000            1.000000   \n\n       trait_Leadership  trait_Long Shot Taker (CPU AI Only)  \\\ncount        608.000000                           608.000000   \nmean           0.064145                             0.003289   \nstd            0.245212                             0.057307   \nmin            0.000000                             0.000000   \n25%            0.000000                             0.000000   \n50%            0.000000                             0.000000   \n75%            0.000000                             0.000000   \nmax            1.000000                             1.000000   \n\n       trait_Long Throw-in  trait_Power Free-Kick  trait_Selfish  \\\ncount           608.000000             608.000000     608.000000   \nmean              0.026316               0.054276       0.146382   \nstd               0.160204               0.226749       0.353779   \nmin               0.000000               0.000000       0.000000   \n25%               0.000000               0.000000       0.000000   \n50%               0.000000               0.000000       0.000000   \n75%               0.000000               0.000000       0.000000   \nmax               1.000000               1.000000       1.000000   \n\n       trait_Skilled Dribbling  trait_Speed Dribbler (CPU AI Only)  \ncount               608.000000                          608.000000  \nmean                  0.001645                            0.008224  \nstd                   0.040555                            0.090385  \nmin                   0.000000                            0.000000  \n25%                   0.000000                            0.000000  \n50%                   0.000000                            0.000000  \n75%                   0.000000                            0.000000  \nmax                   1.000000                            1.000000  \n\n[8 rows x 76 columns]",
      "text/html": "<div>\n<style scoped>\n    .dataframe tbody tr th:only-of-type {\n        vertical-align: middle;\n    }\n\n    .dataframe tbody tr th {\n        vertical-align: top;\n    }\n\n    .dataframe thead th {\n        text-align: right;\n    }\n</style>\n<table border=\"1\" class=\"dataframe\">\n  <thead>\n    <tr style=\"text-align: right;\">\n      <th></th>\n      <th>sofifa_id</th>\n      <th>age</th>\n      <th>height_cm</th>\n      <th>weight_kg</th>\n      <th>attacking_crossing</th>\n      <th>attacking_finishing</th>\n      <th>attacking_heading_accuracy</th>\n      <th>attacking_short_passing</th>\n      <th>attacking_volleys</th>\n      <th>skill_dribbling</th>\n      <th>...</th>\n      <th>trait_Inflexible</th>\n      <th>trait_Injury Free</th>\n      <th>trait_Injury Prone</th>\n      <th>trait_Leadership</th>\n      <th>trait_Long Shot Taker (CPU AI Only)</th>\n      <th>trait_Long Throw-in</th>\n      <th>trait_Power Free-Kick</th>\n      <th>trait_Selfish</th>\n      <th>trait_Skilled Dribbling</th>\n      <th>trait_Speed Dribbler (CPU AI Only)</th>\n    </tr>\n  </thead>\n  <tbody>\n    <tr>\n      <th>count</th>\n      <td>608.000000</td>\n      <td>608.000000</td>\n      <td>608.000000</td>\n      <td>608.000000</td>\n      <td>608.000000</td>\n      <td>608.000000</td>\n      <td>608.000000</td>\n      <td>608.000000</td>\n      <td>608.000000</td>\n      <td>608.000000</td>\n      <td>...</td>\n      <td>608.000000</td>\n      <td>608.000000</td>\n      <td>608.000000</td>\n      <td>608.000000</td>\n      <td>608.000000</td>\n      <td>608.000000</td>\n      <td>608.000000</td>\n      <td>608.000000</td>\n      <td>608.000000</td>\n      <td>608.000000</td>\n    </tr>\n    <tr>\n      <th>mean</th>\n      <td>214725.598684</td>\n      <td>24.901316</td>\n      <td>178.888158</td>\n      <td>73.182566</td>\n      <td>67.815789</td>\n      <td>63.574013</td>\n      <td>58.666118</td>\n      <td>76.623355</td>\n      <td>60.532895</td>\n      <td>75.485197</td>\n      <td>...</td>\n      <td>0.004934</td>\n      <td>0.037829</td>\n      <td>0.065789</td>\n      <td>0.064145</td>\n      <td>0.003289</td>\n      <td>0.026316</td>\n      <td>0.054276</td>\n      <td>0.146382</td>\n      <td>0.001645</td>\n      <td>0.008224</td>\n    </tr>\n    <tr>\n      <th>std</th>\n      <td>24906.466818</td>\n      <td>3.709394</td>\n      <td>6.067494</td>\n      <td>6.224882</td>\n      <td>9.808493</td>\n      <td>10.980038</td>\n      <td>11.164136</td>\n      <td>6.147922</td>\n      <td>12.207793</td>\n      <td>7.069654</td>\n      <td>...</td>\n      <td>0.070128</td>\n      <td>0.190939</td>\n      <td>0.248118</td>\n      <td>0.245212</td>\n      <td>0.057307</td>\n      <td>0.160204</td>\n      <td>0.226749</td>\n      <td>0.353779</td>\n      <td>0.040555</td>\n      <td>0.090385</td>\n    </tr>\n    <tr>\n      <th>min</th>\n      <td>20775.000000</td>\n      <td>16.000000</td>\n      <td>161.000000</td>\n      <td>58.000000</td>\n      <td>33.000000</td>\n      <td>21.000000</td>\n      <td>30.000000</td>\n      <td>44.000000</td>\n      <td>26.000000</td>\n      <td>37.000000</td>\n      <td>...</td>\n      <td>0.000000</td>\n      <td>0.000000</td>\n      <td>0.000000</td>\n      <td>0.000000</td>\n      <td>0.000000</td>\n      <td>0.000000</td>\n      <td>0.000000</td>\n      <td>0.000000</td>\n      <td>0.000000</td>\n      <td>0.000000</td>\n    </tr>\n    <tr>\n      <th>25%</th>\n      <td>202071.250000</td>\n      <td>22.000000</td>\n      <td>175.000000</td>\n      <td>69.000000</td>\n      <td>63.000000</td>\n      <td>58.000000</td>\n      <td>51.000000</td>\n      <td>73.000000</td>\n      <td>52.000000</td>\n      <td>72.000000</td>\n      <td>...</td>\n      <td>0.000000</td>\n      <td>0.000000</td>\n      <td>0.000000</td>\n      <td>0.000000</td>\n      <td>0.000000</td>\n      <td>0.000000</td>\n      <td>0.000000</td>\n      <td>0.000000</td>\n      <td>0.000000</td>\n      <td>0.000000</td>\n    </tr>\n    <tr>\n      <th>50%</th>\n      <td>220748.500000</td>\n      <td>24.000000</td>\n      <td>179.000000</td>\n      <td>73.000000</td>\n      <td>68.000000</td>\n      <td>65.000000</td>\n      <td>59.000000</td>\n      <td>77.000000</td>\n      <td>62.000000</td>\n      <td>76.000000</td>\n      <td>...</td>\n      <td>0.000000</td>\n      <td>0.000000</td>\n      <td>0.000000</td>\n      <td>0.000000</td>\n      <td>0.000000</td>\n      <td>0.000000</td>\n      <td>0.000000</td>\n      <td>0.000000</td>\n      <td>0.000000</td>\n      <td>0.000000</td>\n    </tr>\n    <tr>\n      <th>75%</th>\n      <td>232719.500000</td>\n      <td>27.000000</td>\n      <td>183.000000</td>\n      <td>77.000000</td>\n      <td>74.000000</td>\n      <td>71.000000</td>\n      <td>67.000000</td>\n      <td>81.000000</td>\n      <td>69.000000</td>\n      <td>80.000000</td>\n      <td>...</td>\n      <td>0.000000</td>\n      <td>0.000000</td>\n      <td>0.000000</td>\n      <td>0.000000</td>\n      <td>0.000000</td>\n      <td>0.000000</td>\n      <td>0.000000</td>\n      <td>0.000000</td>\n      <td>0.000000</td>\n      <td>0.000000</td>\n    </tr>\n    <tr>\n      <th>max</th>\n      <td>251221.000000</td>\n      <td>37.000000</td>\n      <td>197.000000</td>\n      <td>94.000000</td>\n      <td>93.000000</td>\n      <td>89.000000</td>\n      <td>90.000000</td>\n      <td>92.000000</td>\n      <td>90.000000</td>\n      <td>96.000000</td>\n      <td>...</td>\n      <td>1.000000</td>\n      <td>1.000000</td>\n      <td>1.000000</td>\n      <td>1.000000</td>\n      <td>1.000000</td>\n      <td>1.000000</td>\n      <td>1.000000</td>\n      <td>1.000000</td>\n      <td>1.000000</td>\n      <td>1.000000</td>\n    </tr>\n  </tbody>\n</table>\n<p>8 rows × 76 columns</p>\n</div>"
     },
     "execution_count": 164,
     "metadata": {},
     "output_type": "execute_result"
    }
   ],
   "source": [
    "# Grab basic descriptive statistics for each numeric feature in the dataframe\n",
    "data.describe()\n",
    "\n",
    "# # Export for Review\n",
    "# data.describe().to_csv(r'descriptive_stat.csv')"
   ],
   "metadata": {
    "collapsed": false,
    "pycharm": {
     "name": "#%%\n"
    }
   }
  },
  {
   "cell_type": "code",
   "execution_count": 165,
   "outputs": [
    {
     "data": {
      "text/plain": "<matplotlib.axes._subplots.AxesSubplot at 0x111769a8ac8>"
     },
     "execution_count": 165,
     "metadata": {},
     "output_type": "execute_result"
    },
    {
     "data": {
      "text/plain": "<Figure size 432x288 with 2 Axes>",
      "image/png": "[encoded data removed]"
     },
     "metadata": {
      "needs_background": "light"
     },
     "output_type": "display_data"
    }
   ],
   "source": [
    "# # Export to CSV for review\n",
    "# data.corr().to_csv(r'Corr_Mat.csv')\n",
    "\n",
    "# Features to generate a visual\n",
    "features = ['attacking_crossing',\n",
    "            'attacking_finishing',\n",
    "            'attacking_heading_accuracy',\n",
    "            'attacking_short_passing',\n",
    "            'attacking_volleys',\n",
    "            'defending_standing_tackle']\n",
    "corr_matrix = data[features].corr()\n",
    "sns.heatmap(corr_matrix, annot=True)\n"
   ],
   "metadata": {
    "collapsed": false,
    "pycharm": {
     "name": "#%%\n"
    }
   }
  },
  {
   "cell_type": "markdown",
   "source": [
    "These are all opportunities to learn more about your dataset and may provide insight\n",
    "into solving certain problems that arise.  For example, we see that standing tackle has a negative\n",
    "correlation with finishing.\n",
    "\n",
    "This is one area we could possibly see become a differentiator for clustering.  You're either have\n",
    "defensive duties, or you don't as a midfielder, and those that do not have to potentially make up for it\n",
    "by scoring more goals.  We also see decently strong correlations between finishing and volleys,\n",
    "which could serve as a future indicator that we could reduce these variables to a single metric\n",
    "for the sake of dimensional reduction.\n",
    "\n",
    "Now that we have more understanding of our dataset, we can move onto areas that there may be issues.  Mainly\n",
    "referring to missing data in certain columns.  While some algorithms have techniques for this process\n",
    "other rely on the user imputing the results."
   ],
   "metadata": {
    "collapsed": false,
    "pycharm": {
     "name": "#%% md\n"
    }
   }
  },
  {
   "cell_type": "code",
   "execution_count": 166,
   "outputs": [
    {
     "name": "stdout",
     "output_type": "stream",
     "text": [
      "-------Percentage of Null values count------\n",
      "sofifa_id --> 0.0\n",
      "age --> 0.0\n",
      "height_cm --> 0.0\n",
      "weight_kg --> 0.0\n",
      "attacking_crossing --> 0.0\n",
      "attacking_finishing --> 0.0\n",
      "attacking_heading_accuracy --> 0.0\n",
      "attacking_short_passing --> 0.0\n",
      "attacking_volleys --> 0.0\n",
      "skill_dribbling --> 0.0\n",
      "skill_curve --> 0.0\n",
      "skill_fk_accuracy --> 0.0\n",
      "skill_long_passing --> 0.0\n",
      "skill_ball_control --> 0.0\n",
      "movement_acceleration --> 0.0\n",
      "movement_sprint_speed --> 0.0\n",
      "movement_agility --> 0.0\n",
      "movement_reactions --> 0.0\n",
      "movement_balance --> 0.0\n",
      "power_shot_power --> 0.0\n",
      "power_jumping --> 0.0\n",
      "power_stamina --> 0.0\n",
      "power_strength --> 0.0\n",
      "power_long_shots --> 0.0\n",
      "mentality_aggression --> 0.0\n",
      "mentality_interceptions --> 0.0\n",
      "mentality_positioning --> 0.0\n",
      "mentality_vision --> 0.0\n",
      "mentality_penalties --> 0.0\n",
      "mentality_composure --> 0.0\n",
      "defending_marking --> 0.0\n",
      "defending_standing_tackle --> 0.0\n",
      "goalkeeping_diving --> 0.0\n",
      "goalkeeping_handling --> 0.0\n",
      "goalkeeping_kicking --> 0.0\n",
      "goalkeeping_positioning --> 0.0\n",
      "goalkeeping_reflexes --> 0.0\n",
      "trait_ Argues with Officials --> 0.0\n",
      "trait_ Avoids Using Weaker Foot --> 0.0\n",
      "trait_ Beat Offside Trap --> 0.0\n",
      "trait_ Crowd Favourite --> 0.0\n",
      "trait_ Diver --> 0.0\n",
      "trait_ Dives Into Tackles (CPU AI Only) --> 0.0\n",
      "trait_ Early Crosser --> 0.0\n",
      "trait_ Finesse Shot --> 0.0\n",
      "trait_ Giant Throw-in --> 0.0\n",
      "trait_ Injury Free --> 0.0\n",
      "trait_ Injury Prone --> 0.0\n",
      "trait_ Leadership --> 0.0\n",
      "trait_ Long Passer (CPU AI Only) --> 0.0\n",
      "trait_ Long Shot Taker (CPU AI Only) --> 0.0\n",
      "trait_ Long Throw-in --> 0.0\n",
      "trait_ Outside Foot Shot --> 0.0\n",
      "trait_ Power Free-Kick --> 0.0\n",
      "trait_ Selfish --> 0.0\n",
      "trait_ Skilled Dribbling --> 0.0\n",
      "trait_ Speed Dribbler (CPU AI Only) --> 0.0\n",
      "trait_Argues with Officials --> 0.0\n",
      "trait_Avoids Using Weaker Foot --> 0.0\n",
      "trait_Beat Offside Trap --> 0.0\n",
      "trait_Crowd Favourite --> 0.0\n",
      "trait_Diver --> 0.0\n",
      "trait_Dives Into Tackles (CPU AI Only) --> 0.0\n",
      "trait_Early Crosser --> 0.0\n",
      "trait_Finesse Shot --> 0.0\n",
      "trait_Giant Throw-in --> 0.0\n",
      "trait_Inflexible --> 0.0\n",
      "trait_Injury Free --> 0.0\n",
      "trait_Injury Prone --> 0.0\n",
      "trait_Leadership --> 0.0\n",
      "trait_Long Shot Taker (CPU AI Only) --> 0.0\n",
      "trait_Long Throw-in --> 0.0\n",
      "trait_Power Free-Kick --> 0.0\n",
      "trait_Selfish --> 0.0\n",
      "trait_Skilled Dribbling --> 0.0\n",
      "trait_Speed Dribbler (CPU AI Only) --> 0.0\n"
     ]
    }
   ],
   "source": [
    "print(\"-------Percentage of Null values count------\")\n",
    "for feature in data.columns.values:\n",
    "    print(feature,\"-->\",100*data[feature].isnull().sum()/len(data))\n"
   ],
   "metadata": {
    "collapsed": false,
    "pycharm": {
     "name": "#%%\n"
    }
   }
  },
  {
   "cell_type": "markdown",
   "source": [
    "We are lucky that this dataset is so clean.  While I do not have to fill in any of these metrics I will\n",
    "give two possible solutions:\n",
    "- Numerical Data\n",
    "    - Replace with the mean of your set\n",
    "    - Turn missing data into a binary variable as well to evaluate if there is a bias to missing data\n",
    "- Categorical Data\n",
    "    - Replace with the mode of your set\n",
    "    - Make a category for missing data to see if there is bias in those rows with missing data\n",
    "\n",
    "We do not need to worry about that, but it is always nice to be sure by dropping any columns that\n",
    "are completely empty or rows that have ANY empty values.  If your data was full of missing data, I would\n",
    "not suggest such an extreme action, but in our case all of the data appears to be there so this\n",
    "will just serve as assurance."
   ],
   "metadata": {
    "collapsed": false,
    "pycharm": {
     "name": "#%% md\n"
    }
   }
  },
  {
   "cell_type": "code",
   "execution_count": 167,
   "outputs": [],
   "source": [
    "# Drop the columns/rows where all elements are nan:\n",
    "data.dropna(axis=1, how='all', inplace=True)\n",
    "data.dropna(axis=0, inplace=True)  # For future should instead impute these"
   ],
   "metadata": {
    "collapsed": false,
    "pycharm": {
     "name": "#%%\n"
    }
   }
  },
  {
   "cell_type": "markdown",
   "source": [
    "Now comes the question of should we standardize our numerical features.\n",
    "\n",
    "#### Standardization is the process of centering your feature around 0 with a standard deviation of 1\n",
    "\n",
    "In this case it does not make sense to standardize or normalize.  Since our features are already on mostly\n",
    "a comparable scale of 0 - 100 they are already in a state well suited for this project.  However,\n",
    "it is worth knowing the process in case you are analyzing datasets with vastly different scales.\n",
    "\n",
    "I will first establish a list of numerical columns and then apply a standardizer to the data.  It\n",
    "will be commented our for this project, but it is useful to know.  *We ignore categorical columns\n",
    "as they cannot be standardized*"
   ],
   "metadata": {
    "collapsed": false,
    "pycharm": {
     "name": "#%% md\n"
    }
   }
  },
  {
   "cell_type": "code",
   "execution_count": 168,
   "outputs": [],
   "source": [
    "# # Establish numerical columns, This becomes useful for K-Prototype as well\n",
    "# num_col = data.select_dtypes(include=np.number).columns.tolist()\n",
    "# num_col.remove('sofifa_id')\n",
    "\n",
    "# # For each numerical column transform the data to a standardize scale\n",
    "# for i in num_col:\n",
    "#     data[i] = preprocessing.StandardScaler().fit_transform(data[[i]])"
   ],
   "metadata": {
    "collapsed": false,
    "pycharm": {
     "name": "#%%\n"
    }
   }
  },
  {
   "cell_type": "markdown",
   "source": [
    "Now we will grab our data set in an array of values, this will remove column headers and\n",
    "set the data into a format we can use for our algorithm.\n"
   ],
   "metadata": {
    "collapsed": false,
    "pycharm": {
     "name": "#%% md\n"
    }
   }
  },
  {
   "cell_type": "code",
   "execution_count": 169,
   "outputs": [],
   "source": [
    "# Grab only the values as an array\n",
    "X = data[data.columns.values[1:]].values"
   ],
   "metadata": {
    "collapsed": false,
    "pycharm": {
     "name": "#%%\n"
    }
   }
  },
  {
   "cell_type": "markdown",
   "source": [
    "*It is important to remember that if we were going to use K-Modes or even more likely for this project,\n",
    "K-Prototype we would also need to establish a list of category columns by index.  The process\n",
    "of how to do this is commented out below:*"
   ],
   "metadata": {
    "collapsed": false,
    "pycharm": {
     "name": "#%% md\n"
    }
   }
  },
  {
   "cell_type": "code",
   "execution_count": 170,
   "outputs": [],
   "source": [
    "# # Utilize sets to remove duplicates and allow simple operations\n",
    "# cat_col = list(set(data.columns) - set(num_col))\n",
    "# cat_col.remove('sofifa_id')\n",
    "\n",
    "# # We need indexes for the K-Prototype algo, so we created a sorted list here\n",
    "# # We need to subtract 1 from the loc due to us removing the sofifa_id column from our array earlier (named X)\n",
    "# cat_col = sorted([data.columns.get_loc(c) - 1 for c in cat_col if c in data])\n"
   ],
   "metadata": {
    "collapsed": false,
    "pycharm": {
     "name": "#%%\n"
    }
   }
  },
  {
   "cell_type": "markdown",
   "source": [
    "Now we are almost ready to cluster.  Unfortunately one of the largest downsides to K-Means and alike algorithms\n",
    "is that they require the user to provide the number of clusters.  This is due to how the algoriothm works in which\n",
    "the process starts by picking arbitrary clusters in the data set, thus it needs to know how many to pick.\n",
    "\n",
    "To do this there is a technique generally accepted referred to as the **Elbow Method**\n",
    "You are essentially plotting the explained variation as a function of the number of clusters.\n",
    "To do this you have to run the algorithm numerous times to evaluate this metric.  If there\n",
    "is a good ability to cluster from the data set you should see a bench in the curve (often referred to as the\n",
    "elbow) in which lies the optimum amount of clusters.\n",
    "\n",
    "*Of note, if there is not an 'elbow' in your data it is possible that your data does not contain clusters.\n",
    "Or that this algorithm will not be able to pick up the cluster.  For example, the algorithm known as DBSCAN is\n",
    "useful in finding changes in density in a data set, this may be able to find clusters in your data where\n",
    "K-Means or Hierarchical will not.  This is why it is important to know your data and domain as best\n",
    "you can, because if you find no clusters you may have chosen the wrong method.*\n",
    "\n",
    "*For methods like K-Prototype, clustering is a much slower process than K-Means which is remarkably fast.\n",
    "Due to this I have commented out a simple sampling method one could use to be able to generate an estimate\n",
    "of the elbow method visual without waiting hours.  Be cognizant of the size variable because you want\n",
    "it to be large enough to be a good representation of the population, but small enough to allow quick processing.*"
   ],
   "metadata": {
    "collapsed": false,
    "pycharm": {
     "name": "#%% md\n"
    }
   }
  },
  {
   "cell_type": "code",
   "execution_count": 182,
   "outputs": [
    {
     "data": {
      "text/plain": "([<matplotlib.axis.XTick at 0x11176d15c88>,\n  <matplotlib.axis.XTick at 0x11176f656c8>,\n  <matplotlib.axis.XTick at 0x11176f0ac48>,\n  <matplotlib.axis.XTick at 0x11176fc54c8>,\n  <matplotlib.axis.XTick at 0x11176fc5b48>,\n  <matplotlib.axis.XTick at 0x11176fcb3c8>,\n  <matplotlib.axis.XTick at 0x11176fcbc48>,\n  <matplotlib.axis.XTick at 0x11176fad4c8>,\n  <matplotlib.axis.XTick at 0x11176fadd08>,\n  <matplotlib.axis.XTick at 0x11176fa4588>,\n  <matplotlib.axis.XTick at 0x11176fa4d88>,\n  <matplotlib.axis.XTick at 0x11176fb0748>,\n  <matplotlib.axis.XTick at 0x11176fb0f88>,\n  <matplotlib.axis.XTick at 0x11176fb0e08>,\n  <matplotlib.axis.XTick at 0x11176fc5b88>,\n  <matplotlib.axis.XTick at 0x11176fb5948>,\n  <matplotlib.axis.XTick at 0x11176fb8208>,\n  <matplotlib.axis.XTick at 0x11176fb8a08>,\n  <matplotlib.axis.XTick at 0x11176fc1288>,\n  <matplotlib.axis.XTick at 0x11176fc1ac8>],\n <a list of 20 Text major ticklabel objects>)"
     },
     "execution_count": 182,
     "metadata": {},
     "output_type": "execute_result"
    },
    {
     "data": {
      "text/plain": "<Figure size 432x288 with 1 Axes>",
      "image/png": "[encoded data removed]"
     },
     "metadata": {
      "needs_background": "light"
     },
     "output_type": "display_data"
    }
   ],
   "source": [
    "# # For Sampling\n",
    "# X = X[np.random.choice(len(X), size=300, replace=True,)]\n",
    "\n",
    "#Choosing optimal K\n",
    "cost = []\n",
    "for num_clusters in list(range(1,21)):\n",
    "    kmn = KMeans(n_clusters=num_clusters)\n",
    "    kmn.fit_predict(X)\n",
    "\n",
    "    # Numpy implementation of the average euclidean distance from points to their cluster midpoint (mean)\n",
    "    cost.append(sum(np.min(cdist(X, kmn.cluster_centers_, 'euclidean'), axis=1)) / X.shape[0])\n",
    "\n",
    "plt.plot(cost)\n",
    "plt.xticks(np.arange(0, 20, 1))"
   ],
   "metadata": {
    "collapsed": false,
    "pycharm": {
     "name": "#%%\n"
    }
   }
  },
  {
   "cell_type": "markdown",
   "source": [],
   "metadata": {
    "collapsed": false,
    "pycharm": {
     "name": "#%% md\n"
    }
   }
  },
  {
   "cell_type": "code",
   "execution_count": 172,
   "outputs": [],
   "source": [
    "kmn = KMeans(n_clusters=5)\n",
    "clusters = kmn.fit_predict(X)\n"
   ],
   "metadata": {
    "collapsed": false,
    "pycharm": {
     "name": "#%%\n"
    }
   }
  },
  {
   "cell_type": "code",
   "execution_count": 173,
   "outputs": [],
   "source": [
    "data['Cluster'] = kmn.labels_"
   ],
   "metadata": {
    "collapsed": false,
    "pycharm": {
     "name": "#%%\n"
    }
   }
  },
  {
   "cell_type": "code",
   "execution_count": 174,
   "outputs": [
    {
     "data": {
      "text/plain": "<matplotlib.axes._subplots.AxesSubplot at 0x11176efb7c8>"
     },
     "execution_count": 174,
     "metadata": {},
     "output_type": "execute_result"
    },
    {
     "data": {
      "text/plain": "<Figure size 432x288 with 1 Axes>",
      "image/png": "[encoded data removed]"
     },
     "metadata": {
      "needs_background": "light"
     },
     "output_type": "display_data"
    }
   ],
   "source": [
    "sns.countplot(x='Cluster', data = data)\n"
   ],
   "metadata": {
    "collapsed": false,
    "pycharm": {
     "name": "#%%\n"
    }
   }
  },
  {
   "cell_type": "markdown",
   "source": [
    "Step 4: Dimensionality Reduction ###\n",
    "Now we want to visualize the data from n diminesiton to 2 dimesion so we have to reduce the dimensionality of the\n",
    "data.since our data has both categorical and numerical values so we have to use \"factor analysis for mixed data\" technique\n",
    "\"Prince\" package has this implementation"
   ],
   "metadata": {
    "collapsed": false,
    "pycharm": {
     "name": "#%% md\n"
    }
   }
  },
  {
   "cell_type": "code",
   "execution_count": 175,
   "outputs": [
    {
     "data": {
      "text/plain": "             0         1\n0   -10.618878  1.654832\n1    -7.994449 -5.506886\n2    -7.198223 -2.366602\n3    -0.468328 -2.984680\n4     0.637165 -6.529905\n..         ...       ...\n603   2.461453  3.826034\n604   8.499120  8.419898\n605  10.244831  7.587253\n606   9.510532  5.672698\n607  10.369966  6.639582\n\n[608 rows x 2 columns]",
      "text/html": "<div>\n<style scoped>\n    .dataframe tbody tr th:only-of-type {\n        vertical-align: middle;\n    }\n\n    .dataframe tbody tr th {\n        vertical-align: top;\n    }\n\n    .dataframe thead th {\n        text-align: right;\n    }\n</style>\n<table border=\"1\" class=\"dataframe\">\n  <thead>\n    <tr style=\"text-align: right;\">\n      <th></th>\n      <th>0</th>\n      <th>1</th>\n    </tr>\n  </thead>\n  <tbody>\n    <tr>\n      <th>0</th>\n      <td>-10.618878</td>\n      <td>1.654832</td>\n    </tr>\n    <tr>\n      <th>1</th>\n      <td>-7.994449</td>\n      <td>-5.506886</td>\n    </tr>\n    <tr>\n      <th>2</th>\n      <td>-7.198223</td>\n      <td>-2.366602</td>\n    </tr>\n    <tr>\n      <th>3</th>\n      <td>-0.468328</td>\n      <td>-2.984680</td>\n    </tr>\n    <tr>\n      <th>4</th>\n      <td>0.637165</td>\n      <td>-6.529905</td>\n    </tr>\n    <tr>\n      <th>...</th>\n      <td>...</td>\n      <td>...</td>\n    </tr>\n    <tr>\n      <th>603</th>\n      <td>2.461453</td>\n      <td>3.826034</td>\n    </tr>\n    <tr>\n      <th>604</th>\n      <td>8.499120</td>\n      <td>8.419898</td>\n    </tr>\n    <tr>\n      <th>605</th>\n      <td>10.244831</td>\n      <td>7.587253</td>\n    </tr>\n    <tr>\n      <th>606</th>\n      <td>9.510532</td>\n      <td>5.672698</td>\n    </tr>\n    <tr>\n      <th>607</th>\n      <td>10.369966</td>\n      <td>6.639582</td>\n    </tr>\n  </tbody>\n</table>\n<p>608 rows × 2 columns</p>\n</div>"
     },
     "execution_count": 175,
     "metadata": {},
     "output_type": "execute_result"
    }
   ],
   "source": [
    "pca = prince.PCA(n_components=2, copy=True, check_input=True, engine='auto', n_iter=10, rescale_with_mean=True, rescale_with_std=True)\n",
    "pca = pca.fit(data.drop(columns=['sofifa_id','Cluster']))\n",
    "pca.row_coordinates(data.drop(columns=['sofifa_id','Cluster']))"
   ],
   "metadata": {
    "collapsed": false,
    "pycharm": {
     "name": "#%%\n"
    }
   }
  },
  {
   "cell_type": "code",
   "execution_count": 176,
   "outputs": [
    {
     "data": {
      "text/plain": "<Figure size 432x432 with 1 Axes>",
      "image/png": "[encoded data removed]"
     },
     "metadata": {
      "needs_background": "light"
     },
     "output_type": "display_data"
    }
   ],
   "source": [
    "ax = pca.plot_row_coordinates(data.drop(columns=['sofifa_id','Cluster']), ax=None, x_component=0, y_component=1, ellipse_outline=False,\n",
    "                               ellipse_fill=True, show_points=True, color_labels=data['Cluster'])\n",
    "\n",
    "\n",
    "\n"
   ],
   "metadata": {
    "collapsed": false,
    "pycharm": {
     "name": "#%%\n"
    }
   }
  },
  {
   "cell_type": "code",
   "execution_count": 177,
   "outputs": [],
   "source": [
    "# # Step 5: profile the clusters (for a target variable)\n",
    "# data.groupby('Cluster')['Rx'].mean().reset_index()\n",
    "data = pd.merge(left=data, right=player, how='left', on='sofifa_id')\n",
    "# data.to_csv(r'test.csv', index=False)"
   ],
   "metadata": {
    "collapsed": false,
    "pycharm": {
     "name": "#%%\n"
    }
   }
  },
  {
   "cell_type": "code",
   "execution_count": 178,
   "outputs": [
    {
     "data": {
      "text/plain": "   Cluster        age\n0        0  22.241071\n1        1  25.601351\n2        2  26.580952\n3        3  26.681818\n4        4  22.945946",
      "text/html": "<div>\n<style scoped>\n    .dataframe tbody tr th:only-of-type {\n        vertical-align: middle;\n    }\n\n    .dataframe tbody tr th {\n        vertical-align: top;\n    }\n\n    .dataframe thead th {\n        text-align: right;\n    }\n</style>\n<table border=\"1\" class=\"dataframe\">\n  <thead>\n    <tr style=\"text-align: right;\">\n      <th></th>\n      <th>Cluster</th>\n      <th>age</th>\n    </tr>\n  </thead>\n  <tbody>\n    <tr>\n      <th>0</th>\n      <td>0</td>\n      <td>22.241071</td>\n    </tr>\n    <tr>\n      <th>1</th>\n      <td>1</td>\n      <td>25.601351</td>\n    </tr>\n    <tr>\n      <th>2</th>\n      <td>2</td>\n      <td>26.580952</td>\n    </tr>\n    <tr>\n      <th>3</th>\n      <td>3</td>\n      <td>26.681818</td>\n    </tr>\n    <tr>\n      <th>4</th>\n      <td>4</td>\n      <td>22.945946</td>\n    </tr>\n  </tbody>\n</table>\n</div>"
     },
     "execution_count": 178,
     "metadata": {},
     "output_type": "execute_result"
    }
   ],
   "source": [
    "data.groupby('Cluster')['age'].mean().reset_index()"
   ],
   "metadata": {
    "collapsed": false,
    "pycharm": {
     "name": "#%%\n"
    }
   }
  },
  {
   "cell_type": "code",
   "execution_count": 179,
   "outputs": [
    {
     "data": {
      "text/plain": "   Cluster    overall\n0        0  71.830357\n1        1  78.425676\n2        2  79.857143\n3        3  78.613636\n4        4  72.837838",
      "text/html": "<div>\n<style scoped>\n    .dataframe tbody tr th:only-of-type {\n        vertical-align: middle;\n    }\n\n    .dataframe tbody tr th {\n        vertical-align: top;\n    }\n\n    .dataframe thead th {\n        text-align: right;\n    }\n</style>\n<table border=\"1\" class=\"dataframe\">\n  <thead>\n    <tr style=\"text-align: right;\">\n      <th></th>\n      <th>Cluster</th>\n      <th>overall</th>\n    </tr>\n  </thead>\n  <tbody>\n    <tr>\n      <th>0</th>\n      <td>0</td>\n      <td>71.830357</td>\n    </tr>\n    <tr>\n      <th>1</th>\n      <td>1</td>\n      <td>78.425676</td>\n    </tr>\n    <tr>\n      <th>2</th>\n      <td>2</td>\n      <td>79.857143</td>\n    </tr>\n    <tr>\n      <th>3</th>\n      <td>3</td>\n      <td>78.613636</td>\n    </tr>\n    <tr>\n      <th>4</th>\n      <td>4</td>\n      <td>72.837838</td>\n    </tr>\n  </tbody>\n</table>\n</div>"
     },
     "execution_count": 179,
     "metadata": {},
     "output_type": "execute_result"
    }
   ],
   "source": [
    "data.groupby('Cluster')['overall'].mean().reset_index()"
   ],
   "metadata": {
    "collapsed": false,
    "pycharm": {
     "name": "#%%\n"
    }
   }
  },
  {
   "cell_type": "code",
   "execution_count": 180,
   "outputs": [
    {
     "data": {
      "text/plain": "           sofifa_id         age   height_cm   weight_kg  attacking_crossing  \\\ncount     111.000000  111.000000  111.000000  111.000000          111.000000   \nmean   227043.765766   22.945946  180.504505   74.405405           57.225225   \nstd     14760.913270    2.478408    5.501857    6.036824           10.552625   \nmin    158438.000000   19.000000  167.000000   60.000000           33.000000   \n25%    220134.000000   21.000000  177.000000   70.000000           50.000000   \n50%    230681.000000   23.000000  181.000000   75.000000           58.000000   \n75%    237669.500000   24.000000  185.000000   79.000000           64.000000   \nmax    251221.000000   32.000000  193.000000   88.000000           79.000000   \n\n       attacking_finishing  attacking_heading_accuracy  \\\ncount           111.000000                  111.000000   \nmean             49.747748                   61.261261   \nstd              10.303105                    8.719583   \nmin              21.000000                   32.000000   \n25%              43.000000                   57.000000   \n50%              51.000000                   63.000000   \n75%              58.000000                   67.000000   \nmax              70.000000                   81.000000   \n\n       attacking_short_passing  attacking_volleys  skill_dribbling  ...  \\\ncount               111.000000         111.000000       111.000000  ...   \nmean                 73.558559          45.684685        68.234234  ...   \nstd                   3.716510           9.449369         6.108050  ...   \nmin                  65.000000          26.000000        37.000000  ...   \n25%                  71.000000          39.500000        65.000000  ...   \n50%                  74.000000          46.000000        69.000000  ...   \n75%                  76.000000          52.000000        72.500000  ...   \nmax                  85.000000          70.000000        79.000000  ...   \n\n       trait_Leadership  trait_Long Shot Taker (CPU AI Only)  \\\ncount        111.000000                                111.0   \nmean           0.063063                                  0.0   \nstd            0.244179                                  0.0   \nmin            0.000000                                  0.0   \n25%            0.000000                                  0.0   \n50%            0.000000                                  0.0   \n75%            0.000000                                  0.0   \nmax            1.000000                                  0.0   \n\n       trait_Long Throw-in  trait_Power Free-Kick  trait_Selfish  \\\ncount                111.0             111.000000     111.000000   \nmean                   0.0               0.009009       0.027027   \nstd                    0.0               0.094916       0.162898   \nmin                    0.0               0.000000       0.000000   \n25%                    0.0               0.000000       0.000000   \n50%                    0.0               0.000000       0.000000   \n75%                    0.0               0.000000       0.000000   \nmax                    0.0               1.000000       1.000000   \n\n       trait_Skilled Dribbling  trait_Speed Dribbler (CPU AI Only)  Cluster  \\\ncount                    111.0                          111.000000    111.0   \nmean                       0.0                            0.009009      4.0   \nstd                        0.0                            0.094916      0.0   \nmin                        0.0                            0.000000      4.0   \n25%                        0.0                            0.000000      4.0   \n50%                        0.0                            0.000000      4.0   \n75%                        0.0                            0.000000      4.0   \nmax                        0.0                            1.000000      4.0   \n\n          overall   potential  \ncount  111.000000  111.000000  \nmean    72.837838   80.234234  \nstd      3.049711    2.575955  \nmin     69.000000   77.000000  \n25%     70.000000   78.000000  \n50%     72.000000   80.000000  \n75%     75.000000   82.000000  \nmax     80.000000   88.000000  \n\n[8 rows x 79 columns]",
      "text/html": "<div>\n<style scoped>\n    .dataframe tbody tr th:only-of-type {\n        vertical-align: middle;\n    }\n\n    .dataframe tbody tr th {\n        vertical-align: top;\n    }\n\n    .dataframe thead th {\n        text-align: right;\n    }\n</style>\n<table border=\"1\" class=\"dataframe\">\n  <thead>\n    <tr style=\"text-align: right;\">\n      <th></th>\n      <th>sofifa_id</th>\n      <th>age</th>\n      <th>height_cm</th>\n      <th>weight_kg</th>\n      <th>attacking_crossing</th>\n      <th>attacking_finishing</th>\n      <th>attacking_heading_accuracy</th>\n      <th>attacking_short_passing</th>\n      <th>attacking_volleys</th>\n      <th>skill_dribbling</th>\n      <th>...</th>\n      <th>trait_Leadership</th>\n      <th>trait_Long Shot Taker (CPU AI Only)</th>\n      <th>trait_Long Throw-in</th>\n      <th>trait_Power Free-Kick</th>\n      <th>trait_Selfish</th>\n      <th>trait_Skilled Dribbling</th>\n      <th>trait_Speed Dribbler (CPU AI Only)</th>\n      <th>Cluster</th>\n      <th>overall</th>\n      <th>potential</th>\n    </tr>\n  </thead>\n  <tbody>\n    <tr>\n      <th>count</th>\n      <td>111.000000</td>\n      <td>111.000000</td>\n      <td>111.000000</td>\n      <td>111.000000</td>\n      <td>111.000000</td>\n      <td>111.000000</td>\n      <td>111.000000</td>\n      <td>111.000000</td>\n      <td>111.000000</td>\n      <td>111.000000</td>\n      <td>...</td>\n      <td>111.000000</td>\n      <td>111.0</td>\n      <td>111.0</td>\n      <td>111.000000</td>\n      <td>111.000000</td>\n      <td>111.0</td>\n      <td>111.000000</td>\n      <td>111.0</td>\n      <td>111.000000</td>\n      <td>111.000000</td>\n    </tr>\n    <tr>\n      <th>mean</th>\n      <td>227043.765766</td>\n      <td>22.945946</td>\n      <td>180.504505</td>\n      <td>74.405405</td>\n      <td>57.225225</td>\n      <td>49.747748</td>\n      <td>61.261261</td>\n      <td>73.558559</td>\n      <td>45.684685</td>\n      <td>68.234234</td>\n      <td>...</td>\n      <td>0.063063</td>\n      <td>0.0</td>\n      <td>0.0</td>\n      <td>0.009009</td>\n      <td>0.027027</td>\n      <td>0.0</td>\n      <td>0.009009</td>\n      <td>4.0</td>\n      <td>72.837838</td>\n      <td>80.234234</td>\n    </tr>\n    <tr>\n      <th>std</th>\n      <td>14760.913270</td>\n      <td>2.478408</td>\n      <td>5.501857</td>\n      <td>6.036824</td>\n      <td>10.552625</td>\n      <td>10.303105</td>\n      <td>8.719583</td>\n      <td>3.716510</td>\n      <td>9.449369</td>\n      <td>6.108050</td>\n      <td>...</td>\n      <td>0.244179</td>\n      <td>0.0</td>\n      <td>0.0</td>\n      <td>0.094916</td>\n      <td>0.162898</td>\n      <td>0.0</td>\n      <td>0.094916</td>\n      <td>0.0</td>\n      <td>3.049711</td>\n      <td>2.575955</td>\n    </tr>\n    <tr>\n      <th>min</th>\n      <td>158438.000000</td>\n      <td>19.000000</td>\n      <td>167.000000</td>\n      <td>60.000000</td>\n      <td>33.000000</td>\n      <td>21.000000</td>\n      <td>32.000000</td>\n      <td>65.000000</td>\n      <td>26.000000</td>\n      <td>37.000000</td>\n      <td>...</td>\n      <td>0.000000</td>\n      <td>0.0</td>\n      <td>0.0</td>\n      <td>0.000000</td>\n      <td>0.000000</td>\n      <td>0.0</td>\n      <td>0.000000</td>\n      <td>4.0</td>\n      <td>69.000000</td>\n      <td>77.000000</td>\n    </tr>\n    <tr>\n      <th>25%</th>\n      <td>220134.000000</td>\n      <td>21.000000</td>\n      <td>177.000000</td>\n      <td>70.000000</td>\n      <td>50.000000</td>\n      <td>43.000000</td>\n      <td>57.000000</td>\n      <td>71.000000</td>\n      <td>39.500000</td>\n      <td>65.000000</td>\n      <td>...</td>\n      <td>0.000000</td>\n      <td>0.0</td>\n      <td>0.0</td>\n      <td>0.000000</td>\n      <td>0.000000</td>\n      <td>0.0</td>\n      <td>0.000000</td>\n      <td>4.0</td>\n      <td>70.000000</td>\n      <td>78.000000</td>\n    </tr>\n    <tr>\n      <th>50%</th>\n      <td>230681.000000</td>\n      <td>23.000000</td>\n      <td>181.000000</td>\n      <td>75.000000</td>\n      <td>58.000000</td>\n      <td>51.000000</td>\n      <td>63.000000</td>\n      <td>74.000000</td>\n      <td>46.000000</td>\n      <td>69.000000</td>\n      <td>...</td>\n      <td>0.000000</td>\n      <td>0.0</td>\n      <td>0.0</td>\n      <td>0.000000</td>\n      <td>0.000000</td>\n      <td>0.0</td>\n      <td>0.000000</td>\n      <td>4.0</td>\n      <td>72.000000</td>\n      <td>80.000000</td>\n    </tr>\n    <tr>\n      <th>75%</th>\n      <td>237669.500000</td>\n      <td>24.000000</td>\n      <td>185.000000</td>\n      <td>79.000000</td>\n      <td>64.000000</td>\n      <td>58.000000</td>\n      <td>67.000000</td>\n      <td>76.000000</td>\n      <td>52.000000</td>\n      <td>72.500000</td>\n      <td>...</td>\n      <td>0.000000</td>\n      <td>0.0</td>\n      <td>0.0</td>\n      <td>0.000000</td>\n      <td>0.000000</td>\n      <td>0.0</td>\n      <td>0.000000</td>\n      <td>4.0</td>\n      <td>75.000000</td>\n      <td>82.000000</td>\n    </tr>\n    <tr>\n      <th>max</th>\n      <td>251221.000000</td>\n      <td>32.000000</td>\n      <td>193.000000</td>\n      <td>88.000000</td>\n      <td>79.000000</td>\n      <td>70.000000</td>\n      <td>81.000000</td>\n      <td>85.000000</td>\n      <td>70.000000</td>\n      <td>79.000000</td>\n      <td>...</td>\n      <td>1.000000</td>\n      <td>0.0</td>\n      <td>0.0</td>\n      <td>1.000000</td>\n      <td>1.000000</td>\n      <td>0.0</td>\n      <td>1.000000</td>\n      <td>4.0</td>\n      <td>80.000000</td>\n      <td>88.000000</td>\n    </tr>\n  </tbody>\n</table>\n<p>8 rows × 79 columns</p>\n</div>"
     },
     "execution_count": 180,
     "metadata": {},
     "output_type": "execute_result"
    }
   ],
   "source": [
    "data[data['Cluster'] == 4].describe()"
   ],
   "metadata": {
    "collapsed": false,
    "pycharm": {
     "name": "#%%\n"
    }
   }
  },
  {
   "cell_type": "code",
   "execution_count": 181,
   "outputs": [
    {
     "data": {
      "text/plain": "           sofifa_id         age   height_cm   weight_kg  attacking_crossing  \\\ncount     112.000000  112.000000  112.000000  112.000000          112.000000   \nmean   230158.089286   22.241071  175.178571   69.383929           65.151786   \nstd     12696.271912    2.050030    5.663562    5.383066            6.687638   \nmin    172049.000000   16.000000  161.000000   58.000000           39.000000   \n25%    224809.750000   21.000000  171.000000   65.750000           62.000000   \n50%    233143.000000   22.000000  175.000000   69.500000           65.500000   \n75%    239974.000000   24.000000  180.000000   72.000000           69.000000   \nmax    247000.000000   32.000000  190.000000   87.000000           80.000000   \n\n       attacking_finishing  attacking_heading_accuracy  \\\ncount           112.000000                  112.000000   \nmean             65.553571                   49.883929   \nstd               6.819209                    9.240282   \nmin              38.000000                   30.000000   \n25%              63.000000                   43.000000   \n50%              66.000000                   49.000000   \n75%              70.000000                   56.250000   \nmax              79.000000                   75.000000   \n\n       attacking_short_passing  attacking_volleys  skill_dribbling  ...  \\\ncount               112.000000         112.000000       112.000000  ...   \nmean                 69.419643          57.732143        74.723214  ...   \nstd                   5.530649           8.579236         6.613132  ...   \nmin                  44.000000          36.000000        42.000000  ...   \n25%                  67.000000          52.000000        73.000000  ...   \n50%                  70.000000          59.000000        76.000000  ...   \n75%                  73.000000          64.250000        78.000000  ...   \nmax                  83.000000          75.000000        87.000000  ...   \n\n       trait_Leadership  trait_Long Shot Taker (CPU AI Only)  \\\ncount        112.000000                                112.0   \nmean           0.008929                                  0.0   \nstd            0.094491                                  0.0   \nmin            0.000000                                  0.0   \n25%            0.000000                                  0.0   \n50%            0.000000                                  0.0   \n75%            0.000000                                  0.0   \nmax            1.000000                                  0.0   \n\n       trait_Long Throw-in  trait_Power Free-Kick  trait_Selfish  \\\ncount           112.000000             112.000000     112.000000   \nmean              0.008929               0.026786       0.232143   \nstd               0.094491               0.162182       0.424097   \nmin               0.000000               0.000000       0.000000   \n25%               0.000000               0.000000       0.000000   \n50%               0.000000               0.000000       0.000000   \n75%               0.000000               0.000000       0.000000   \nmax               1.000000               1.000000       1.000000   \n\n       trait_Skilled Dribbling  trait_Speed Dribbler (CPU AI Only)  Cluster  \\\ncount               112.000000                          112.000000    112.0   \nmean                  0.008929                            0.008929      0.0   \nstd                   0.094491                            0.094491      0.0   \nmin                   0.000000                            0.000000      0.0   \n25%                   0.000000                            0.000000      0.0   \n50%                   0.000000                            0.000000      0.0   \n75%                   0.000000                            0.000000      0.0   \nmax                   1.000000                            1.000000      0.0   \n\n          overall   potential  \ncount  112.000000  112.000000  \nmean    71.830357   79.946429  \nstd      4.736077    5.073939  \nmin     49.000000   53.000000  \n25%     70.000000   78.000000  \n50%     72.000000   80.000000  \n75%     74.000000   83.000000  \nmax     80.000000   87.000000  \n\n[8 rows x 79 columns]",
      "text/html": "<div>\n<style scoped>\n    .dataframe tbody tr th:only-of-type {\n        vertical-align: middle;\n    }\n\n    .dataframe tbody tr th {\n        vertical-align: top;\n    }\n\n    .dataframe thead th {\n        text-align: right;\n    }\n</style>\n<table border=\"1\" class=\"dataframe\">\n  <thead>\n    <tr style=\"text-align: right;\">\n      <th></th>\n      <th>sofifa_id</th>\n      <th>age</th>\n      <th>height_cm</th>\n      <th>weight_kg</th>\n      <th>attacking_crossing</th>\n      <th>attacking_finishing</th>\n      <th>attacking_heading_accuracy</th>\n      <th>attacking_short_passing</th>\n      <th>attacking_volleys</th>\n      <th>skill_dribbling</th>\n      <th>...</th>\n      <th>trait_Leadership</th>\n      <th>trait_Long Shot Taker (CPU AI Only)</th>\n      <th>trait_Long Throw-in</th>\n      <th>trait_Power Free-Kick</th>\n      <th>trait_Selfish</th>\n      <th>trait_Skilled Dribbling</th>\n      <th>trait_Speed Dribbler (CPU AI Only)</th>\n      <th>Cluster</th>\n      <th>overall</th>\n      <th>potential</th>\n    </tr>\n  </thead>\n  <tbody>\n    <tr>\n      <th>count</th>\n      <td>112.000000</td>\n      <td>112.000000</td>\n      <td>112.000000</td>\n      <td>112.000000</td>\n      <td>112.000000</td>\n      <td>112.000000</td>\n      <td>112.000000</td>\n      <td>112.000000</td>\n      <td>112.000000</td>\n      <td>112.000000</td>\n      <td>...</td>\n      <td>112.000000</td>\n      <td>112.0</td>\n      <td>112.000000</td>\n      <td>112.000000</td>\n      <td>112.000000</td>\n      <td>112.000000</td>\n      <td>112.000000</td>\n      <td>112.0</td>\n      <td>112.000000</td>\n      <td>112.000000</td>\n    </tr>\n    <tr>\n      <th>mean</th>\n      <td>230158.089286</td>\n      <td>22.241071</td>\n      <td>175.178571</td>\n      <td>69.383929</td>\n      <td>65.151786</td>\n      <td>65.553571</td>\n      <td>49.883929</td>\n      <td>69.419643</td>\n      <td>57.732143</td>\n      <td>74.723214</td>\n      <td>...</td>\n      <td>0.008929</td>\n      <td>0.0</td>\n      <td>0.008929</td>\n      <td>0.026786</td>\n      <td>0.232143</td>\n      <td>0.008929</td>\n      <td>0.008929</td>\n      <td>0.0</td>\n      <td>71.830357</td>\n      <td>79.946429</td>\n    </tr>\n    <tr>\n      <th>std</th>\n      <td>12696.271912</td>\n      <td>2.050030</td>\n      <td>5.663562</td>\n      <td>5.383066</td>\n      <td>6.687638</td>\n      <td>6.819209</td>\n      <td>9.240282</td>\n      <td>5.530649</td>\n      <td>8.579236</td>\n      <td>6.613132</td>\n      <td>...</td>\n      <td>0.094491</td>\n      <td>0.0</td>\n      <td>0.094491</td>\n      <td>0.162182</td>\n      <td>0.424097</td>\n      <td>0.094491</td>\n      <td>0.094491</td>\n      <td>0.0</td>\n      <td>4.736077</td>\n      <td>5.073939</td>\n    </tr>\n    <tr>\n      <th>min</th>\n      <td>172049.000000</td>\n      <td>16.000000</td>\n      <td>161.000000</td>\n      <td>58.000000</td>\n      <td>39.000000</td>\n      <td>38.000000</td>\n      <td>30.000000</td>\n      <td>44.000000</td>\n      <td>36.000000</td>\n      <td>42.000000</td>\n      <td>...</td>\n      <td>0.000000</td>\n      <td>0.0</td>\n      <td>0.000000</td>\n      <td>0.000000</td>\n      <td>0.000000</td>\n      <td>0.000000</td>\n      <td>0.000000</td>\n      <td>0.0</td>\n      <td>49.000000</td>\n      <td>53.000000</td>\n    </tr>\n    <tr>\n      <th>25%</th>\n      <td>224809.750000</td>\n      <td>21.000000</td>\n      <td>171.000000</td>\n      <td>65.750000</td>\n      <td>62.000000</td>\n      <td>63.000000</td>\n      <td>43.000000</td>\n      <td>67.000000</td>\n      <td>52.000000</td>\n      <td>73.000000</td>\n      <td>...</td>\n      <td>0.000000</td>\n      <td>0.0</td>\n      <td>0.000000</td>\n      <td>0.000000</td>\n      <td>0.000000</td>\n      <td>0.000000</td>\n      <td>0.000000</td>\n      <td>0.0</td>\n      <td>70.000000</td>\n      <td>78.000000</td>\n    </tr>\n    <tr>\n      <th>50%</th>\n      <td>233143.000000</td>\n      <td>22.000000</td>\n      <td>175.000000</td>\n      <td>69.500000</td>\n      <td>65.500000</td>\n      <td>66.000000</td>\n      <td>49.000000</td>\n      <td>70.000000</td>\n      <td>59.000000</td>\n      <td>76.000000</td>\n      <td>...</td>\n      <td>0.000000</td>\n      <td>0.0</td>\n      <td>0.000000</td>\n      <td>0.000000</td>\n      <td>0.000000</td>\n      <td>0.000000</td>\n      <td>0.000000</td>\n      <td>0.0</td>\n      <td>72.000000</td>\n      <td>80.000000</td>\n    </tr>\n    <tr>\n      <th>75%</th>\n      <td>239974.000000</td>\n      <td>24.000000</td>\n      <td>180.000000</td>\n      <td>72.000000</td>\n      <td>69.000000</td>\n      <td>70.000000</td>\n      <td>56.250000</td>\n      <td>73.000000</td>\n      <td>64.250000</td>\n      <td>78.000000</td>\n      <td>...</td>\n      <td>0.000000</td>\n      <td>0.0</td>\n      <td>0.000000</td>\n      <td>0.000000</td>\n      <td>0.000000</td>\n      <td>0.000000</td>\n      <td>0.000000</td>\n      <td>0.0</td>\n      <td>74.000000</td>\n      <td>83.000000</td>\n    </tr>\n    <tr>\n      <th>max</th>\n      <td>247000.000000</td>\n      <td>32.000000</td>\n      <td>190.000000</td>\n      <td>87.000000</td>\n      <td>80.000000</td>\n      <td>79.000000</td>\n      <td>75.000000</td>\n      <td>83.000000</td>\n      <td>75.000000</td>\n      <td>87.000000</td>\n      <td>...</td>\n      <td>1.000000</td>\n      <td>0.0</td>\n      <td>1.000000</td>\n      <td>1.000000</td>\n      <td>1.000000</td>\n      <td>1.000000</td>\n      <td>1.000000</td>\n      <td>0.0</td>\n      <td>80.000000</td>\n      <td>87.000000</td>\n    </tr>\n  </tbody>\n</table>\n<p>8 rows × 79 columns</p>\n</div>"
     },
     "execution_count": 181,
     "metadata": {},
     "output_type": "execute_result"
    }
   ],
   "source": [
    "data[data['Cluster'] == 0].describe()"
   ],
   "metadata": {
    "collapsed": false,
    "pycharm": {
     "name": "#%%\n"
    }
   }
  }
 ],
 "metadata": {
  "kernelspec": {
   "display_name": "Python 3",
   "language": "python",
   "name": "python3"
  },
  "language_info": {
   "codemirror_mode": {
    "name": "ipython",
    "version": 2
   },
   "file_extension": ".py",
   "mimetype": "text/x-python",
   "name": "python",
   "nbconvert_exporter": "python",
   "pygments_lexer": "ipython2",
   "version": "2.7.6"
  }
 },
 "nbformat": 4,
 "nbformat_minor": 0
}