{
 "cells": [
  {
   "cell_type": "markdown",
   "metadata": {
    "collapsed": true,
    "pycharm": {
     "name": "#%% md\n"
    }
   },
   "source": [
    "#Test\n"
   ]
  },
  {
   "cell_type": "code",
   "execution_count": 227,
   "outputs": [],
   "source": [
    "from sklearn import preprocessing\n",
    "from sklearn import metrics\n",
    "from scipy.spatial.distance import cdist\n",
    "from sklearn.cluster import KMeans\n",
    "import pandas as pd\n",
    "import numpy as np\n",
    "import prince\n",
    "import seaborn as sns\n",
    "from kmodes.kprototypes import KPrototypes\n",
    "import matplotlib.pyplot as plt\n",
    "from matplotlib import style\n",
    "style.use(\"fivethirtyeight\")\n",
    "colors = ['b', 'orange', 'g', 'r', 'c', 'm', 'y', 'k', 'Brown', 'ForestGreen']\n",
    "%matplotlib inline"
   ],
   "metadata": {
    "collapsed": false,
    "pycharm": {
     "name": "#%%\n"
    }
   }
  },
  {
   "cell_type": "markdown",
   "source": [
    "First we read the data and view the data"
   ],
   "metadata": {
    "collapsed": false,
    "pycharm": {
     "name": "#%% md\n"
    }
   }
  },
  {
   "cell_type": "code",
   "execution_count": 228,
   "outputs": [
    {
     "data": {
      "text/plain": "   sofifa_id       short_name nationality                 club  overall  \\\n0     190871        Neymar Jr      Brazil  Paris Saint-Germain       92   \n1     192985     K. De Bruyne     Belgium      Manchester City       91   \n2     177003        L. Modrić     Croatia          Real Madrid       90   \n3     215914         N. Kanté      France              Chelsea       89   \n4     189511  Sergio Busquets       Spain         FC Barcelona       89   \n\n   potential team_position  age  height_cm  weight_kg  ...  \\\n0         92           CAM   27        175         68  ...   \n1         91           RCM   28        181         70  ...   \n2         90           RCM   33        172         66  ...   \n3         90           RCM   28        168         72  ...   \n4         89           CDM   30        189         76  ...   \n\n  mentality_penalties  mentality_composure  defending_marking  \\\n0                  90                   94                 27   \n1                  79                   91                 68   \n2                  82                   92                 68   \n3                  54                   85                 90   \n4                  60                   93                 90   \n\n   defending_standing_tackle  defending_sliding_tackle  goalkeeping_diving  \\\n0                         26                        29                   9   \n1                         58                        51                  15   \n2                         76                        71                  13   \n3                         91                        85                  15   \n4                         86                        80                   5   \n\n   goalkeeping_handling  goalkeeping_kicking  goalkeeping_positioning  \\\n0                     9                   15                       15   \n1                    13                    5                       10   \n2                     9                    7                       14   \n3                    12                   10                        7   \n4                     8                   13                        9   \n\n   goalkeeping_reflexes  \n0                    11  \n1                    13  \n2                     9  \n3                    10  \n4                    13  \n\n[5 rows x 45 columns]",
      "text/html": "<div>\n<style scoped>\n    .dataframe tbody tr th:only-of-type {\n        vertical-align: middle;\n    }\n\n    .dataframe tbody tr th {\n        vertical-align: top;\n    }\n\n    .dataframe thead th {\n        text-align: right;\n    }\n</style>\n<table border=\"1\" class=\"dataframe\">\n  <thead>\n    <tr style=\"text-align: right;\">\n      <th></th>\n      <th>sofifa_id</th>\n      <th>short_name</th>\n      <th>nationality</th>\n      <th>club</th>\n      <th>overall</th>\n      <th>potential</th>\n      <th>team_position</th>\n      <th>age</th>\n      <th>height_cm</th>\n      <th>weight_kg</th>\n      <th>...</th>\n      <th>mentality_penalties</th>\n      <th>mentality_composure</th>\n      <th>defending_marking</th>\n      <th>defending_standing_tackle</th>\n      <th>defending_sliding_tackle</th>\n      <th>goalkeeping_diving</th>\n      <th>goalkeeping_handling</th>\n      <th>goalkeeping_kicking</th>\n      <th>goalkeeping_positioning</th>\n      <th>goalkeeping_reflexes</th>\n    </tr>\n  </thead>\n  <tbody>\n    <tr>\n      <th>0</th>\n      <td>190871</td>\n      <td>Neymar Jr</td>\n      <td>Brazil</td>\n      <td>Paris Saint-Germain</td>\n      <td>92</td>\n      <td>92</td>\n      <td>CAM</td>\n      <td>27</td>\n      <td>175</td>\n      <td>68</td>\n      <td>...</td>\n      <td>90</td>\n      <td>94</td>\n      <td>27</td>\n      <td>26</td>\n      <td>29</td>\n      <td>9</td>\n      <td>9</td>\n      <td>15</td>\n      <td>15</td>\n      <td>11</td>\n    </tr>\n    <tr>\n      <th>1</th>\n      <td>192985</td>\n      <td>K. De Bruyne</td>\n      <td>Belgium</td>\n      <td>Manchester City</td>\n      <td>91</td>\n      <td>91</td>\n      <td>RCM</td>\n      <td>28</td>\n      <td>181</td>\n      <td>70</td>\n      <td>...</td>\n      <td>79</td>\n      <td>91</td>\n      <td>68</td>\n      <td>58</td>\n      <td>51</td>\n      <td>15</td>\n      <td>13</td>\n      <td>5</td>\n      <td>10</td>\n      <td>13</td>\n    </tr>\n    <tr>\n      <th>2</th>\n      <td>177003</td>\n      <td>L. Modrić</td>\n      <td>Croatia</td>\n      <td>Real Madrid</td>\n      <td>90</td>\n      <td>90</td>\n      <td>RCM</td>\n      <td>33</td>\n      <td>172</td>\n      <td>66</td>\n      <td>...</td>\n      <td>82</td>\n      <td>92</td>\n      <td>68</td>\n      <td>76</td>\n      <td>71</td>\n      <td>13</td>\n      <td>9</td>\n      <td>7</td>\n      <td>14</td>\n      <td>9</td>\n    </tr>\n    <tr>\n      <th>3</th>\n      <td>215914</td>\n      <td>N. Kanté</td>\n      <td>France</td>\n      <td>Chelsea</td>\n      <td>89</td>\n      <td>90</td>\n      <td>RCM</td>\n      <td>28</td>\n      <td>168</td>\n      <td>72</td>\n      <td>...</td>\n      <td>54</td>\n      <td>85</td>\n      <td>90</td>\n      <td>91</td>\n      <td>85</td>\n      <td>15</td>\n      <td>12</td>\n      <td>10</td>\n      <td>7</td>\n      <td>10</td>\n    </tr>\n    <tr>\n      <th>4</th>\n      <td>189511</td>\n      <td>Sergio Busquets</td>\n      <td>Spain</td>\n      <td>FC Barcelona</td>\n      <td>89</td>\n      <td>89</td>\n      <td>CDM</td>\n      <td>30</td>\n      <td>189</td>\n      <td>76</td>\n      <td>...</td>\n      <td>60</td>\n      <td>93</td>\n      <td>90</td>\n      <td>86</td>\n      <td>80</td>\n      <td>5</td>\n      <td>8</td>\n      <td>13</td>\n      <td>9</td>\n      <td>13</td>\n    </tr>\n  </tbody>\n</table>\n<p>5 rows × 45 columns</p>\n</div>"
     },
     "execution_count": 228,
     "metadata": {},
     "output_type": "execute_result"
    }
   ],
   "source": [
    "data = pd.read_csv(r'players_20.csv')\n",
    "data.head()"
   ],
   "metadata": {
    "collapsed": false,
    "pycharm": {
     "name": "#%%\n"
    }
   }
  },
  {
   "cell_type": "code",
   "execution_count": 229,
   "outputs": [],
   "source": [
    "def get_cat(series: pd.Series, empty_flag: bool) -> str:\n",
    "    \"\"\"\n",
    "    :param series: a pandas series of data (should be of one data type)\n",
    "    :param empty_flag: a boolean to call out an empty column (containing all NaNs)\n",
    "    :return: a string that is the 'category of the datatype'\n",
    "\n",
    "    This function will take a given series and return a generalized category for the datatype.\n",
    "    This is necessary for readability as df.dtypes will return ungrouped types (i.e. float64, int64)\n",
    "    as well as return some options that do not provide much insight (i.e. object)\n",
    "    \"\"\"\n",
    "    if empty_flag:  # Catch Empty Columns\n",
    "        return 'Empty'\n",
    "    elif pd.api.types.is_numeric_dtype(series):\n",
    "        return 'Numerical'\n",
    "    elif pd.api.types.is_datetime64_dtype(series):\n",
    "        return 'Date'\n",
    "    elif pd.api.types.is_bool_dtype(series):\n",
    "        return 'Boolean'\n",
    "    elif pd.api.types.is_categorical_dtype(series):\n",
    "        return 'Categorical'\n",
    "    elif pd.api.types.is_string_dtype(series):\n",
    "        return 'Text'\n",
    "    else:  # Catches all others for review\n",
    "        return 'Unknown'\n",
    "\n",
    "\n",
    "def col_categories(data: pd.DataFrame):\n",
    "    \"\"\"\n",
    "    :param data: a pandas Dataframe consisting of columns of data you want to explore their categories\n",
    "    :return: None\n",
    "    Prints the column name and data type of each column in the dataframe\n",
    "    \"\"\"\n",
    "    # if data.dropna().empty:  # Catches Error\n",
    "    #     raise ValueError('DataFrame Provided Contains is either empty or only contains NaNs')\n",
    "    #     # sys.exit(1)\n",
    "    for col in data.columns:  # For Each Column\n",
    "        if data[col].dropna().empty:  # Catch Empty Columns\n",
    "            empty = True  # Set Flag\n",
    "        else:\n",
    "            empty = False  # Set Flag\n",
    "        count = data[col].nunique()\n",
    "        print(col, ': ', get_cat(data[col], empty), ' -- #Unique: ', count)  # Print and Call Column Categories"
   ],
   "metadata": {
    "collapsed": false,
    "pycharm": {
     "name": "#%%\n"
    }
   }
  },
  {
   "cell_type": "code",
   "execution_count": 230,
   "outputs": [
    {
     "name": "stdout",
     "output_type": "stream",
     "text": [
      "sofifa_id :  Numerical  -- #Unique:  608\n",
      "short_name :  Text  -- #Unique:  603\n",
      "nationality :  Text  -- #Unique:  70\n",
      "club :  Text  -- #Unique:  274\n",
      "overall :  Numerical  -- #Unique:  28\n",
      "potential :  Numerical  -- #Unique:  20\n",
      "team_position :  Text  -- #Unique:  11\n",
      "age :  Numerical  -- #Unique:  20\n",
      "height_cm :  Numerical  -- #Unique:  34\n",
      "weight_kg :  Numerical  -- #Unique:  33\n",
      "player_traits :  Text  -- #Unique:  212\n",
      "attacking_crossing :  Numerical  -- #Unique:  54\n",
      "attacking_finishing :  Numerical  -- #Unique:  59\n",
      "attacking_heading_accuracy :  Numerical  -- #Unique:  55\n",
      "attacking_short_passing :  Numerical  -- #Unique:  36\n",
      "attacking_volleys :  Numerical  -- #Unique:  59\n",
      "skill_dribbling :  Numerical  -- #Unique:  42\n",
      "skill_curve :  Numerical  -- #Unique:  59\n",
      "skill_fk_accuracy :  Numerical  -- #Unique:  65\n",
      "skill_long_passing :  Numerical  -- #Unique:  48\n",
      "skill_ball_control :  Numerical  -- #Unique:  37\n",
      "movement_acceleration :  Numerical  -- #Unique:  55\n",
      "movement_sprint_speed :  Numerical  -- #Unique:  60\n",
      "movement_agility :  Numerical  -- #Unique:  52\n",
      "movement_reactions :  Numerical  -- #Unique:  42\n",
      "movement_balance :  Numerical  -- #Unique:  55\n",
      "power_shot_power :  Numerical  -- #Unique:  46\n",
      "power_jumping :  Numerical  -- #Unique:  61\n",
      "power_stamina :  Numerical  -- #Unique:  51\n",
      "power_strength :  Numerical  -- #Unique:  61\n",
      "power_long_shots :  Numerical  -- #Unique:  56\n",
      "mentality_aggression :  Numerical  -- #Unique:  69\n",
      "mentality_interceptions :  Numerical  -- #Unique:  76\n",
      "mentality_positioning :  Numerical  -- #Unique:  52\n",
      "mentality_vision :  Numerical  -- #Unique:  46\n",
      "mentality_penalties :  Numerical  -- #Unique:  58\n",
      "mentality_composure :  Numerical  -- #Unique:  46\n",
      "defending_marking :  Numerical  -- #Unique:  71\n",
      "defending_standing_tackle :  Numerical  -- #Unique:  75\n",
      "defending_sliding_tackle :  Numerical  -- #Unique:  75\n",
      "goalkeeping_diving :  Numerical  -- #Unique:  15\n",
      "goalkeeping_handling :  Numerical  -- #Unique:  15\n",
      "goalkeeping_kicking :  Numerical  -- #Unique:  16\n",
      "goalkeeping_positioning :  Numerical  -- #Unique:  15\n",
      "goalkeeping_reflexes :  Numerical  -- #Unique:  15\n"
     ]
    }
   ],
   "source": [
    "col_categories(data)\n",
    "\n",
    "\n",
    "\n",
    "\n"
   ],
   "metadata": {
    "collapsed": false,
    "pycharm": {
     "name": "#%%\n"
    }
   }
  },
  {
   "cell_type": "markdown",
   "source": [
    "Explain what we see, flags as numerical (but are binary) should be fine in our cluster\n",
    "\n",
    "Lets look through a few of the variables to see the distribution (numerical with few options so\n",
    "that our visuals are clean)\n",
    "\n",
    "\n",
    "\n"
   ],
   "metadata": {
    "collapsed": false,
    "pycharm": {
     "name": "#%% md\n"
    }
   }
  },
  {
   "cell_type": "code",
   "execution_count": 231,
   "outputs": [
    {
     "name": "stdout",
     "output_type": "stream",
     "text": [
      "sofifa_id :  Numerical  -- #Unique:  608\n",
      "age :  Numerical  -- #Unique:  20\n",
      "height_cm :  Numerical  -- #Unique:  34\n",
      "weight_kg :  Numerical  -- #Unique:  33\n",
      "attacking_crossing :  Numerical  -- #Unique:  54\n",
      "attacking_finishing :  Numerical  -- #Unique:  59\n",
      "attacking_heading_accuracy :  Numerical  -- #Unique:  55\n",
      "attacking_short_passing :  Numerical  -- #Unique:  36\n",
      "attacking_volleys :  Numerical  -- #Unique:  59\n",
      "skill_dribbling :  Numerical  -- #Unique:  42\n",
      "skill_curve :  Numerical  -- #Unique:  59\n",
      "skill_fk_accuracy :  Numerical  -- #Unique:  65\n",
      "skill_long_passing :  Numerical  -- #Unique:  48\n",
      "skill_ball_control :  Numerical  -- #Unique:  37\n",
      "movement_acceleration :  Numerical  -- #Unique:  55\n",
      "movement_sprint_speed :  Numerical  -- #Unique:  60\n",
      "movement_agility :  Numerical  -- #Unique:  52\n",
      "movement_reactions :  Numerical  -- #Unique:  42\n",
      "movement_balance :  Numerical  -- #Unique:  55\n",
      "power_shot_power :  Numerical  -- #Unique:  46\n",
      "power_jumping :  Numerical  -- #Unique:  61\n",
      "power_stamina :  Numerical  -- #Unique:  51\n",
      "power_strength :  Numerical  -- #Unique:  61\n",
      "power_long_shots :  Numerical  -- #Unique:  56\n",
      "mentality_aggression :  Numerical  -- #Unique:  69\n",
      "mentality_interceptions :  Numerical  -- #Unique:  76\n",
      "mentality_positioning :  Numerical  -- #Unique:  52\n",
      "mentality_vision :  Numerical  -- #Unique:  46\n",
      "mentality_penalties :  Numerical  -- #Unique:  58\n",
      "mentality_composure :  Numerical  -- #Unique:  46\n",
      "defending_marking :  Numerical  -- #Unique:  71\n",
      "defending_standing_tackle :  Numerical  -- #Unique:  75\n",
      "defending_sliding_tackle :  Numerical  -- #Unique:  75\n",
      "goalkeeping_diving :  Numerical  -- #Unique:  15\n",
      "goalkeeping_handling :  Numerical  -- #Unique:  15\n",
      "goalkeeping_kicking :  Numerical  -- #Unique:  16\n",
      "goalkeeping_positioning :  Numerical  -- #Unique:  15\n",
      "goalkeeping_reflexes :  Numerical  -- #Unique:  15\n",
      "trait_ Argues with Officials :  Numerical  -- #Unique:  2\n",
      "trait_ Avoids Using Weaker Foot :  Numerical  -- #Unique:  2\n",
      "trait_ Beat Offside Trap :  Numerical  -- #Unique:  2\n",
      "trait_ Crowd Favourite :  Numerical  -- #Unique:  2\n",
      "trait_ Diver :  Numerical  -- #Unique:  2\n",
      "trait_ Dives Into Tackles (CPU AI Only) :  Numerical  -- #Unique:  2\n",
      "trait_ Early Crosser :  Numerical  -- #Unique:  2\n",
      "trait_ Finesse Shot :  Numerical  -- #Unique:  2\n",
      "trait_ Giant Throw-in :  Numerical  -- #Unique:  2\n",
      "trait_ Injury Free :  Numerical  -- #Unique:  2\n",
      "trait_ Injury Prone :  Numerical  -- #Unique:  2\n",
      "trait_ Leadership :  Numerical  -- #Unique:  2\n",
      "trait_ Long Passer (CPU AI Only) :  Numerical  -- #Unique:  2\n",
      "trait_ Long Shot Taker (CPU AI Only) :  Numerical  -- #Unique:  2\n",
      "trait_ Long Throw-in :  Numerical  -- #Unique:  2\n",
      "trait_ Outside Foot Shot :  Numerical  -- #Unique:  2\n",
      "trait_ Power Free-Kick :  Numerical  -- #Unique:  2\n",
      "trait_ Selfish :  Numerical  -- #Unique:  2\n",
      "trait_ Skilled Dribbling :  Numerical  -- #Unique:  2\n",
      "trait_ Speed Dribbler (CPU AI Only) :  Numerical  -- #Unique:  2\n",
      "trait_Argues with Officials :  Numerical  -- #Unique:  2\n",
      "trait_Avoids Using Weaker Foot :  Numerical  -- #Unique:  2\n",
      "trait_Beat Offside Trap :  Numerical  -- #Unique:  2\n",
      "trait_Crowd Favourite :  Numerical  -- #Unique:  2\n",
      "trait_Diver :  Numerical  -- #Unique:  2\n",
      "trait_Dives Into Tackles (CPU AI Only) :  Numerical  -- #Unique:  2\n",
      "trait_Early Crosser :  Numerical  -- #Unique:  2\n",
      "trait_Finesse Shot :  Numerical  -- #Unique:  2\n",
      "trait_Giant Throw-in :  Numerical  -- #Unique:  2\n",
      "trait_Inflexible :  Numerical  -- #Unique:  2\n",
      "trait_Injury Free :  Numerical  -- #Unique:  2\n",
      "trait_Injury Prone :  Numerical  -- #Unique:  2\n",
      "trait_Leadership :  Numerical  -- #Unique:  2\n",
      "trait_Long Shot Taker (CPU AI Only) :  Numerical  -- #Unique:  2\n",
      "trait_Long Throw-in :  Numerical  -- #Unique:  2\n",
      "trait_Power Free-Kick :  Numerical  -- #Unique:  2\n",
      "trait_Selfish :  Numerical  -- #Unique:  2\n",
      "trait_Skilled Dribbling :  Numerical  -- #Unique:  2\n",
      "trait_Speed Dribbler (CPU AI Only) :  Numerical  -- #Unique:  2\n"
     ]
    }
   ],
   "source": [
    "player = data[['sofifa_id', 'short_name', 'nationality','club',\t'overall', 'potential',\t'team_position']]\n",
    "\n",
    "data = pd.concat([data,data.player_traits.str.get_dummies(sep=',').rename(lambda c: 'trait_' + c, axis='columns')],\n",
    "                 axis=1)\n",
    "\n",
    "data.drop(columns=['short_name', 'player_traits', 'nationality','club',\t'overall', 'potential',\t'team_position'], inplace=True)\n",
    "\n",
    "\n",
    "col_categories(data)\n"
   ],
   "metadata": {
    "collapsed": false,
    "pycharm": {
     "name": "#%%\n"
    }
   }
  },
  {
   "cell_type": "code",
   "execution_count": 232,
   "outputs": [
    {
     "data": {
      "text/plain": "array([[<matplotlib.axes._subplots.AxesSubplot object at 0x0000011AF254BA08>,\n        <matplotlib.axes._subplots.AxesSubplot object at 0x0000011AF23DE948>],\n       [<matplotlib.axes._subplots.AxesSubplot object at 0x0000011AF23DDEC8>,\n        <matplotlib.axes._subplots.AxesSubplot object at 0x0000011AF2428AC8>]],\n      dtype=object)"
     },
     "execution_count": 232,
     "metadata": {},
     "output_type": "execute_result"
    },
    {
     "data": {
      "text/plain": "<Figure size 432x288 with 4 Axes>",
      "image/png": "[encoded data removed]"
     },
     "metadata": {
      "needs_background": "light"
     },
     "output_type": "display_data"
    }
   ],
   "source": [
    "\n",
    "\n",
    "data[['age', 'height_cm', 'weight_kg', 'power_strength']].hist()\n"
   ],
   "metadata": {
    "collapsed": false,
    "pycharm": {
     "name": "#%%\n"
    }
   }
  },
  {
   "cell_type": "code",
   "execution_count": 233,
   "outputs": [
    {
     "name": "stdout",
     "output_type": "stream",
     "text": [
      "-------Percentage of Null values count------\n",
      "sofifa_id --> 0.0\n",
      "age --> 0.0\n",
      "height_cm --> 0.0\n",
      "weight_kg --> 0.0\n",
      "attacking_crossing --> 0.0\n",
      "attacking_finishing --> 0.0\n",
      "attacking_heading_accuracy --> 0.0\n",
      "attacking_short_passing --> 0.0\n",
      "attacking_volleys --> 0.0\n",
      "skill_dribbling --> 0.0\n",
      "skill_curve --> 0.0\n",
      "skill_fk_accuracy --> 0.0\n",
      "skill_long_passing --> 0.0\n",
      "skill_ball_control --> 0.0\n",
      "movement_acceleration --> 0.0\n",
      "movement_sprint_speed --> 0.0\n",
      "movement_agility --> 0.0\n",
      "movement_reactions --> 0.0\n",
      "movement_balance --> 0.0\n",
      "power_shot_power --> 0.0\n",
      "power_jumping --> 0.0\n",
      "power_stamina --> 0.0\n",
      "power_strength --> 0.0\n",
      "power_long_shots --> 0.0\n",
      "mentality_aggression --> 0.0\n",
      "mentality_interceptions --> 0.0\n",
      "mentality_positioning --> 0.0\n",
      "mentality_vision --> 0.0\n",
      "mentality_penalties --> 0.0\n",
      "mentality_composure --> 0.0\n",
      "defending_marking --> 0.0\n",
      "defending_standing_tackle --> 0.0\n",
      "defending_sliding_tackle --> 0.0\n",
      "goalkeeping_diving --> 0.0\n",
      "goalkeeping_handling --> 0.0\n",
      "goalkeeping_kicking --> 0.0\n",
      "goalkeeping_positioning --> 0.0\n",
      "goalkeeping_reflexes --> 0.0\n",
      "trait_ Argues with Officials --> 0.0\n",
      "trait_ Avoids Using Weaker Foot --> 0.0\n",
      "trait_ Beat Offside Trap --> 0.0\n",
      "trait_ Crowd Favourite --> 0.0\n",
      "trait_ Diver --> 0.0\n",
      "trait_ Dives Into Tackles (CPU AI Only) --> 0.0\n",
      "trait_ Early Crosser --> 0.0\n",
      "trait_ Finesse Shot --> 0.0\n",
      "trait_ Giant Throw-in --> 0.0\n",
      "trait_ Injury Free --> 0.0\n",
      "trait_ Injury Prone --> 0.0\n",
      "trait_ Leadership --> 0.0\n",
      "trait_ Long Passer (CPU AI Only) --> 0.0\n",
      "trait_ Long Shot Taker (CPU AI Only) --> 0.0\n",
      "trait_ Long Throw-in --> 0.0\n",
      "trait_ Outside Foot Shot --> 0.0\n",
      "trait_ Power Free-Kick --> 0.0\n",
      "trait_ Selfish --> 0.0\n",
      "trait_ Skilled Dribbling --> 0.0\n",
      "trait_ Speed Dribbler (CPU AI Only) --> 0.0\n",
      "trait_Argues with Officials --> 0.0\n",
      "trait_Avoids Using Weaker Foot --> 0.0\n",
      "trait_Beat Offside Trap --> 0.0\n",
      "trait_Crowd Favourite --> 0.0\n",
      "trait_Diver --> 0.0\n",
      "trait_Dives Into Tackles (CPU AI Only) --> 0.0\n",
      "trait_Early Crosser --> 0.0\n",
      "trait_Finesse Shot --> 0.0\n",
      "trait_Giant Throw-in --> 0.0\n",
      "trait_Inflexible --> 0.0\n",
      "trait_Injury Free --> 0.0\n",
      "trait_Injury Prone --> 0.0\n",
      "trait_Leadership --> 0.0\n",
      "trait_Long Shot Taker (CPU AI Only) --> 0.0\n",
      "trait_Long Throw-in --> 0.0\n",
      "trait_Power Free-Kick --> 0.0\n",
      "trait_Selfish --> 0.0\n",
      "trait_Skilled Dribbling --> 0.0\n",
      "trait_Speed Dribbler (CPU AI Only) --> 0.0\n"
     ]
    }
   ],
   "source": [
    "print(\"-------Percentage of Null values count------\")\n",
    "for feature in data.columns.values:\n",
    "    print(feature,\"-->\",100*data[feature].isnull().sum()/len(data))\n"
   ],
   "metadata": {
    "collapsed": false,
    "pycharm": {
     "name": "#%%\n"
    }
   }
  },
  {
   "cell_type": "markdown",
   "source": [
    "lots of missing features, but most still have atleast 35% values, so we will not be\n",
    "removing any full features"
   ],
   "metadata": {
    "collapsed": false,
    "pycharm": {
     "name": "#%% md\n"
    }
   }
  },
  {
   "cell_type": "code",
   "execution_count": 234,
   "outputs": [],
   "source": [
    "# Drop the columns/rows where all elements are nan:\n",
    "data.dropna(axis=1, how='all', inplace=True)\n",
    "data.dropna(axis=0, inplace=True)  # For future should instead impute these\n",
    "\n",
    "# Step 2: shall I standardise the data?\n",
    "# What is the magnitude of data range?\n",
    "# Only numerical variables needs to be scaled because catagorical variable cannot be scaled\n",
    "\n",
    "num_col = data.select_dtypes(include=np.number).columns.tolist()\n",
    "num_col.remove('sofifa_id')"
   ],
   "metadata": {
    "collapsed": false,
    "pycharm": {
     "name": "#%%\n"
    }
   }
  },
  {
   "cell_type": "code",
   "execution_count": 235,
   "outputs": [],
   "source": [
    "# for i in num_col:\n",
    "#     data[i] = preprocessing.StandardScaler().fit_transform(data[[i]])"
   ],
   "metadata": {
    "collapsed": false,
    "pycharm": {
     "name": "#%%\n"
    }
   }
  },
  {
   "cell_type": "markdown",
   "source": [
    "Onto clustering, explain why not kmean or kmode - mixed data type\n",
    "explain algo\n"
   ],
   "metadata": {
    "collapsed": false,
    "pycharm": {
     "name": "#%% md\n"
    }
   }
  },
  {
   "cell_type": "code",
   "execution_count": 236,
   "outputs": [],
   "source": [
    "X = data[data.columns.values[1:]].values\n",
    "cat_col = list(set(data.columns) - set(num_col))\n",
    "cat_col.remove('sofifa_id')\n",
    "cat_col = sorted([data.columns.get_loc(c) - 1 for c in cat_col if c in data])\n"
   ],
   "metadata": {
    "collapsed": false,
    "pycharm": {
     "name": "#%%\n"
    }
   }
  },
  {
   "cell_type": "code",
   "execution_count": 237,
   "outputs": [
    {
     "data": {
      "text/plain": "[<matplotlib.lines.Line2D at 0x11af2034b08>]"
     },
     "execution_count": 237,
     "metadata": {},
     "output_type": "execute_result"
    },
    {
     "data": {
      "text/plain": "<Figure size 432x288 with 1 Axes>",
      "image/png": "[encoded data removed]"
     },
     "metadata": {
      "needs_background": "light"
     },
     "output_type": "display_data"
    }
   ],
   "source": [
    "# X2 = X[np.random.choice(len(X), size=300, replace=True,)]\n",
    "#Choosing optimal K\n",
    "cost = []\n",
    "for num_clusters in list(range(1,21)):\n",
    "    kmn = KMeans(n_clusters=num_clusters)\n",
    "    kmn.fit_predict(X)\n",
    "    cost.append(sum(np.min(cdist(X, kmn.cluster_centers_, 'euclidean'), axis=1)) / X.shape[0])\n",
    "\n",
    "plt.plot(cost)"
   ],
   "metadata": {
    "collapsed": false,
    "pycharm": {
     "name": "#%%\n"
    }
   }
  },
  {
   "cell_type": "markdown",
   "source": [],
   "metadata": {
    "collapsed": false,
    "pycharm": {
     "name": "#%% md\n"
    }
   }
  },
  {
   "cell_type": "code",
   "execution_count": 238,
   "outputs": [],
   "source": [
    "kmn = KMeans(n_clusters=5)\n",
    "clusters = kmn.fit_predict(X)\n"
   ],
   "metadata": {
    "collapsed": false,
    "pycharm": {
     "name": "#%%\n"
    }
   }
  },
  {
   "cell_type": "code",
   "execution_count": 239,
   "outputs": [],
   "source": [
    "data['Cluster'] = kmn.labels_"
   ],
   "metadata": {
    "collapsed": false,
    "pycharm": {
     "name": "#%%\n"
    }
   }
  },
  {
   "cell_type": "code",
   "execution_count": 240,
   "outputs": [
    {
     "data": {
      "text/plain": "<matplotlib.axes._subplots.AxesSubplot at 0x11af2016dc8>"
     },
     "execution_count": 240,
     "metadata": {},
     "output_type": "execute_result"
    },
    {
     "data": {
      "text/plain": "<Figure size 432x288 with 1 Axes>",
      "image/png": "[encoded data removed]"
     },
     "metadata": {
      "needs_background": "light"
     },
     "output_type": "display_data"
    }
   ],
   "source": [
    "sns.countplot(x='Cluster', data = data)\n"
   ],
   "metadata": {
    "collapsed": false,
    "pycharm": {
     "name": "#%%\n"
    }
   }
  },
  {
   "cell_type": "markdown",
   "source": [
    "Step 4: Dimensionality Reduction ###\n",
    "Now we want to visualize the data from n diminesiton to 2 dimesion so we have to reduce the dimensionality of the\n",
    "data.since our data has both categorical and numerical values so we have to use \"factor analysis for mixed data\" technique\n",
    "\"Prince\" package has this implementation"
   ],
   "metadata": {
    "collapsed": false,
    "pycharm": {
     "name": "#%% md\n"
    }
   }
  },
  {
   "cell_type": "code",
   "execution_count": 241,
   "outputs": [
    {
     "data": {
      "text/plain": "             0         1\n0   -10.838005  0.215108\n1    -7.190443 -6.467484\n2    -6.598744 -3.701581\n3     0.205770 -3.420727\n4     1.652341 -6.464604\n..         ...       ...\n603   1.766395  4.329493\n604   7.041760  9.795388\n605   8.638956  9.655253\n606   8.452732  7.215522\n607   8.874286  8.790294\n\n[608 rows x 2 columns]",
      "text/html": "<div>\n<style scoped>\n    .dataframe tbody tr th:only-of-type {\n        vertical-align: middle;\n    }\n\n    .dataframe tbody tr th {\n        vertical-align: top;\n    }\n\n    .dataframe thead th {\n        text-align: right;\n    }\n</style>\n<table border=\"1\" class=\"dataframe\">\n  <thead>\n    <tr style=\"text-align: right;\">\n      <th></th>\n      <th>0</th>\n      <th>1</th>\n    </tr>\n  </thead>\n  <tbody>\n    <tr>\n      <th>0</th>\n      <td>-10.838005</td>\n      <td>0.215108</td>\n    </tr>\n    <tr>\n      <th>1</th>\n      <td>-7.190443</td>\n      <td>-6.467484</td>\n    </tr>\n    <tr>\n      <th>2</th>\n      <td>-6.598744</td>\n      <td>-3.701581</td>\n    </tr>\n    <tr>\n      <th>3</th>\n      <td>0.205770</td>\n      <td>-3.420727</td>\n    </tr>\n    <tr>\n      <th>4</th>\n      <td>1.652341</td>\n      <td>-6.464604</td>\n    </tr>\n    <tr>\n      <th>...</th>\n      <td>...</td>\n      <td>...</td>\n    </tr>\n    <tr>\n      <th>603</th>\n      <td>1.766395</td>\n      <td>4.329493</td>\n    </tr>\n    <tr>\n      <th>604</th>\n      <td>7.041760</td>\n      <td>9.795388</td>\n    </tr>\n    <tr>\n      <th>605</th>\n      <td>8.638956</td>\n      <td>9.655253</td>\n    </tr>\n    <tr>\n      <th>606</th>\n      <td>8.452732</td>\n      <td>7.215522</td>\n    </tr>\n    <tr>\n      <th>607</th>\n      <td>8.874286</td>\n      <td>8.790294</td>\n    </tr>\n  </tbody>\n</table>\n<p>608 rows × 2 columns</p>\n</div>"
     },
     "execution_count": 241,
     "metadata": {},
     "output_type": "execute_result"
    }
   ],
   "source": [
    "pca = prince.PCA(n_components=2, copy=True, check_input=True, engine='auto', n_iter=10, rescale_with_mean=True, rescale_with_std=True)\n",
    "pca = pca.fit(data.drop(columns=['sofifa_id','Cluster']))\n",
    "pca.row_coordinates(data.drop(columns=['sofifa_id','Cluster']))"
   ],
   "metadata": {
    "collapsed": false,
    "pycharm": {
     "name": "#%%\n"
    }
   }
  },
  {
   "cell_type": "code",
   "execution_count": 242,
   "outputs": [
    {
     "data": {
      "text/plain": "<Figure size 432x432 with 1 Axes>",
      "image/png": "[encoded data removed]"
     },
     "metadata": {
      "needs_background": "light"
     },
     "output_type": "display_data"
    }
   ],
   "source": [
    "ax = pca.plot_row_coordinates(data.drop(columns=['sofifa_id','Cluster']), ax=None, x_component=0, y_component=1, ellipse_outline=False,\n",
    "                               ellipse_fill=True, show_points=True, color_labels=data['Cluster'])\n",
    "\n",
    "\n",
    "\n"
   ],
   "metadata": {
    "collapsed": false,
    "pycharm": {
     "name": "#%%\n"
    }
   }
  },
  {
   "cell_type": "code",
   "execution_count": 243,
   "outputs": [],
   "source": [
    "# # Step 5: profile the clusters (for a target variable)\n",
    "# data.groupby('Cluster')['Rx'].mean().reset_index()\n",
    "data = pd.merge(left=data, right=player, how='left', on='sofifa_id')\n",
    "data.to_csv(r'test.csv', index=False)"
   ],
   "metadata": {
    "collapsed": false,
    "pycharm": {
     "name": "#%%\n"
    }
   }
  },
  {
   "cell_type": "code",
   "execution_count": 249,
   "outputs": [
    {
     "data": {
      "text/plain": "   Cluster        age\n0        0  22.245283\n1        1  25.468354\n2        2  26.889764\n3        3  22.947368\n4        4  26.475728",
      "text/html": "<div>\n<style scoped>\n    .dataframe tbody tr th:only-of-type {\n        vertical-align: middle;\n    }\n\n    .dataframe tbody tr th {\n        vertical-align: top;\n    }\n\n    .dataframe thead th {\n        text-align: right;\n    }\n</style>\n<table border=\"1\" class=\"dataframe\">\n  <thead>\n    <tr style=\"text-align: right;\">\n      <th></th>\n      <th>Cluster</th>\n      <th>age</th>\n    </tr>\n  </thead>\n  <tbody>\n    <tr>\n      <th>0</th>\n      <td>0</td>\n      <td>22.245283</td>\n    </tr>\n    <tr>\n      <th>1</th>\n      <td>1</td>\n      <td>25.468354</td>\n    </tr>\n    <tr>\n      <th>2</th>\n      <td>2</td>\n      <td>26.889764</td>\n    </tr>\n    <tr>\n      <th>3</th>\n      <td>3</td>\n      <td>22.947368</td>\n    </tr>\n    <tr>\n      <th>4</th>\n      <td>4</td>\n      <td>26.475728</td>\n    </tr>\n  </tbody>\n</table>\n</div>"
     },
     "execution_count": 249,
     "metadata": {},
     "output_type": "execute_result"
    }
   ],
   "source": [
    "data.groupby('Cluster')['age'].mean().reset_index()"
   ],
   "metadata": {
    "collapsed": false,
    "pycharm": {
     "name": "#%%\n"
    }
   }
  },
  {
   "cell_type": "code",
   "execution_count": 250,
   "outputs": [
    {
     "data": {
      "text/plain": "   Cluster    overall\n0        0  71.783019\n1        1  78.050633\n2        2  78.929134\n3        3  72.868421\n4        4  79.873786",
      "text/html": "<div>\n<style scoped>\n    .dataframe tbody tr th:only-of-type {\n        vertical-align: middle;\n    }\n\n    .dataframe tbody tr th {\n        vertical-align: top;\n    }\n\n    .dataframe thead th {\n        text-align: right;\n    }\n</style>\n<table border=\"1\" class=\"dataframe\">\n  <thead>\n    <tr style=\"text-align: right;\">\n      <th></th>\n      <th>Cluster</th>\n      <th>overall</th>\n    </tr>\n  </thead>\n  <tbody>\n    <tr>\n      <th>0</th>\n      <td>0</td>\n      <td>71.783019</td>\n    </tr>\n    <tr>\n      <th>1</th>\n      <td>1</td>\n      <td>78.050633</td>\n    </tr>\n    <tr>\n      <th>2</th>\n      <td>2</td>\n      <td>78.929134</td>\n    </tr>\n    <tr>\n      <th>3</th>\n      <td>3</td>\n      <td>72.868421</td>\n    </tr>\n    <tr>\n      <th>4</th>\n      <td>4</td>\n      <td>79.873786</td>\n    </tr>\n  </tbody>\n</table>\n</div>"
     },
     "execution_count": 250,
     "metadata": {},
     "output_type": "execute_result"
    }
   ],
   "source": [
    "data.groupby('Cluster')['overall'].mean().reset_index()"
   ],
   "metadata": {
    "collapsed": false,
    "pycharm": {
     "name": "#%%\n"
    }
   }
  },
  {
   "cell_type": "code",
   "execution_count": 253,
   "outputs": [
    {
     "data": {
      "text/plain": "           sofifa_id         age   height_cm   weight_kg  attacking_crossing  \\\ncount     103.000000  103.000000  103.000000  103.000000          103.000000   \nmean   203758.291262   26.475728  177.359223   72.252427           76.019417   \nstd     32385.761768    4.028926    5.590353    5.540791            6.073053   \nmin     20775.000000   18.000000  163.000000   59.000000           64.000000   \n25%    189115.000000   23.500000  173.500000   68.000000           72.000000   \n50%    207734.000000   26.000000  178.000000   73.000000           76.000000   \n75%    226053.500000   29.500000  181.000000   75.000000           81.000000   \nmax    244369.000000   37.000000  193.000000   92.000000           91.000000   \n\n       attacking_finishing  attacking_heading_accuracy  \\\ncount           103.000000                  103.000000   \nmean             74.194175                   53.834951   \nstd               5.289757                   11.081779   \nmin              62.000000                   30.000000   \n25%              70.500000                   45.500000   \n50%              74.000000                   53.000000   \n75%              77.000000                   61.000000   \nmax              89.000000                   78.000000   \n\n       attacking_short_passing  attacking_volleys  skill_dribbling  ...  \\\ncount               103.000000         103.000000       103.000000  ...   \nmean                 78.213592          71.524272        82.077670  ...   \nstd                   4.847984           6.690416         4.538915  ...   \nmin                  68.000000          57.000000        71.000000  ...   \n25%                  75.000000          68.000000        80.000000  ...   \n50%                  78.000000          72.000000        82.000000  ...   \n75%                  81.500000          76.000000        85.000000  ...   \nmax                  92.000000          90.000000        96.000000  ...   \n\n       trait_Leadership  trait_Long Shot Taker (CPU AI Only)  \\\ncount             103.0                                103.0   \nmean                0.0                                  0.0   \nstd                 0.0                                  0.0   \nmin                 0.0                                  0.0   \n25%                 0.0                                  0.0   \n50%                 0.0                                  0.0   \n75%                 0.0                                  0.0   \nmax                 0.0                                  0.0   \n\n       trait_Long Throw-in  trait_Power Free-Kick  trait_Selfish  \\\ncount           103.000000              103.00000     103.000000   \nmean              0.067961                0.07767       0.300971   \nstd               0.252910                0.26896       0.460923   \nmin               0.000000                0.00000       0.000000   \n25%               0.000000                0.00000       0.000000   \n50%               0.000000                0.00000       0.000000   \n75%               0.000000                0.00000       1.000000   \nmax               1.000000                1.00000       1.000000   \n\n       trait_Skilled Dribbling  trait_Speed Dribbler (CPU AI Only)  Cluster  \\\ncount                    103.0                          103.000000    103.0   \nmean                       0.0                            0.009709      4.0   \nstd                        0.0                            0.098533      0.0   \nmin                        0.0                            0.000000      4.0   \n25%                        0.0                            0.000000      4.0   \n50%                        0.0                            0.000000      4.0   \n75%                        0.0                            0.000000      4.0   \nmax                        0.0                            1.000000      4.0   \n\n          overall   potential  \ncount  103.000000  103.000000  \nmean    79.873786   82.592233  \nstd      3.607399    3.687384  \nmin     73.000000   77.000000  \n25%     78.000000   80.000000  \n50%     79.000000   82.000000  \n75%     82.000000   86.000000  \nmax     92.000000   92.000000  \n\n[8 rows x 80 columns]",
      "text/html": "<div>\n<style scoped>\n    .dataframe tbody tr th:only-of-type {\n        vertical-align: middle;\n    }\n\n    .dataframe tbody tr th {\n        vertical-align: top;\n    }\n\n    .dataframe thead th {\n        text-align: right;\n    }\n</style>\n<table border=\"1\" class=\"dataframe\">\n  <thead>\n    <tr style=\"text-align: right;\">\n      <th></th>\n      <th>sofifa_id</th>\n      <th>age</th>\n      <th>height_cm</th>\n      <th>weight_kg</th>\n      <th>attacking_crossing</th>\n      <th>attacking_finishing</th>\n      <th>attacking_heading_accuracy</th>\n      <th>attacking_short_passing</th>\n      <th>attacking_volleys</th>\n      <th>skill_dribbling</th>\n      <th>...</th>\n      <th>trait_Leadership</th>\n      <th>trait_Long Shot Taker (CPU AI Only)</th>\n      <th>trait_Long Throw-in</th>\n      <th>trait_Power Free-Kick</th>\n      <th>trait_Selfish</th>\n      <th>trait_Skilled Dribbling</th>\n      <th>trait_Speed Dribbler (CPU AI Only)</th>\n      <th>Cluster</th>\n      <th>overall</th>\n      <th>potential</th>\n    </tr>\n  </thead>\n  <tbody>\n    <tr>\n      <th>count</th>\n      <td>103.000000</td>\n      <td>103.000000</td>\n      <td>103.000000</td>\n      <td>103.000000</td>\n      <td>103.000000</td>\n      <td>103.000000</td>\n      <td>103.000000</td>\n      <td>103.000000</td>\n      <td>103.000000</td>\n      <td>103.000000</td>\n      <td>...</td>\n      <td>103.0</td>\n      <td>103.0</td>\n      <td>103.000000</td>\n      <td>103.00000</td>\n      <td>103.000000</td>\n      <td>103.0</td>\n      <td>103.000000</td>\n      <td>103.0</td>\n      <td>103.000000</td>\n      <td>103.000000</td>\n    </tr>\n    <tr>\n      <th>mean</th>\n      <td>203758.291262</td>\n      <td>26.475728</td>\n      <td>177.359223</td>\n      <td>72.252427</td>\n      <td>76.019417</td>\n      <td>74.194175</td>\n      <td>53.834951</td>\n      <td>78.213592</td>\n      <td>71.524272</td>\n      <td>82.077670</td>\n      <td>...</td>\n      <td>0.0</td>\n      <td>0.0</td>\n      <td>0.067961</td>\n      <td>0.07767</td>\n      <td>0.300971</td>\n      <td>0.0</td>\n      <td>0.009709</td>\n      <td>4.0</td>\n      <td>79.873786</td>\n      <td>82.592233</td>\n    </tr>\n    <tr>\n      <th>std</th>\n      <td>32385.761768</td>\n      <td>4.028926</td>\n      <td>5.590353</td>\n      <td>5.540791</td>\n      <td>6.073053</td>\n      <td>5.289757</td>\n      <td>11.081779</td>\n      <td>4.847984</td>\n      <td>6.690416</td>\n      <td>4.538915</td>\n      <td>...</td>\n      <td>0.0</td>\n      <td>0.0</td>\n      <td>0.252910</td>\n      <td>0.26896</td>\n      <td>0.460923</td>\n      <td>0.0</td>\n      <td>0.098533</td>\n      <td>0.0</td>\n      <td>3.607399</td>\n      <td>3.687384</td>\n    </tr>\n    <tr>\n      <th>min</th>\n      <td>20775.000000</td>\n      <td>18.000000</td>\n      <td>163.000000</td>\n      <td>59.000000</td>\n      <td>64.000000</td>\n      <td>62.000000</td>\n      <td>30.000000</td>\n      <td>68.000000</td>\n      <td>57.000000</td>\n      <td>71.000000</td>\n      <td>...</td>\n      <td>0.0</td>\n      <td>0.0</td>\n      <td>0.000000</td>\n      <td>0.00000</td>\n      <td>0.000000</td>\n      <td>0.0</td>\n      <td>0.000000</td>\n      <td>4.0</td>\n      <td>73.000000</td>\n      <td>77.000000</td>\n    </tr>\n    <tr>\n      <th>25%</th>\n      <td>189115.000000</td>\n      <td>23.500000</td>\n      <td>173.500000</td>\n      <td>68.000000</td>\n      <td>72.000000</td>\n      <td>70.500000</td>\n      <td>45.500000</td>\n      <td>75.000000</td>\n      <td>68.000000</td>\n      <td>80.000000</td>\n      <td>...</td>\n      <td>0.0</td>\n      <td>0.0</td>\n      <td>0.000000</td>\n      <td>0.00000</td>\n      <td>0.000000</td>\n      <td>0.0</td>\n      <td>0.000000</td>\n      <td>4.0</td>\n      <td>78.000000</td>\n      <td>80.000000</td>\n    </tr>\n    <tr>\n      <th>50%</th>\n      <td>207734.000000</td>\n      <td>26.000000</td>\n      <td>178.000000</td>\n      <td>73.000000</td>\n      <td>76.000000</td>\n      <td>74.000000</td>\n      <td>53.000000</td>\n      <td>78.000000</td>\n      <td>72.000000</td>\n      <td>82.000000</td>\n      <td>...</td>\n      <td>0.0</td>\n      <td>0.0</td>\n      <td>0.000000</td>\n      <td>0.00000</td>\n      <td>0.000000</td>\n      <td>0.0</td>\n      <td>0.000000</td>\n      <td>4.0</td>\n      <td>79.000000</td>\n      <td>82.000000</td>\n    </tr>\n    <tr>\n      <th>75%</th>\n      <td>226053.500000</td>\n      <td>29.500000</td>\n      <td>181.000000</td>\n      <td>75.000000</td>\n      <td>81.000000</td>\n      <td>77.000000</td>\n      <td>61.000000</td>\n      <td>81.500000</td>\n      <td>76.000000</td>\n      <td>85.000000</td>\n      <td>...</td>\n      <td>0.0</td>\n      <td>0.0</td>\n      <td>0.000000</td>\n      <td>0.00000</td>\n      <td>1.000000</td>\n      <td>0.0</td>\n      <td>0.000000</td>\n      <td>4.0</td>\n      <td>82.000000</td>\n      <td>86.000000</td>\n    </tr>\n    <tr>\n      <th>max</th>\n      <td>244369.000000</td>\n      <td>37.000000</td>\n      <td>193.000000</td>\n      <td>92.000000</td>\n      <td>91.000000</td>\n      <td>89.000000</td>\n      <td>78.000000</td>\n      <td>92.000000</td>\n      <td>90.000000</td>\n      <td>96.000000</td>\n      <td>...</td>\n      <td>0.0</td>\n      <td>0.0</td>\n      <td>1.000000</td>\n      <td>1.00000</td>\n      <td>1.000000</td>\n      <td>0.0</td>\n      <td>1.000000</td>\n      <td>4.0</td>\n      <td>92.000000</td>\n      <td>92.000000</td>\n    </tr>\n  </tbody>\n</table>\n<p>8 rows × 80 columns</p>\n</div>"
     },
     "execution_count": 253,
     "metadata": {},
     "output_type": "execute_result"
    }
   ],
   "source": [
    "data[data['Cluster'] == 4].describe()"
   ],
   "metadata": {
    "collapsed": false,
    "pycharm": {
     "name": "#%%\n"
    }
   }
  },
  {
   "cell_type": "code",
   "execution_count": 254,
   "outputs": [
    {
     "data": {
      "text/plain": "           sofifa_id         age   height_cm   weight_kg  attacking_crossing  \\\ncount     106.000000  106.000000  106.000000  106.000000          106.000000   \nmean   230066.858491   22.245283  175.198113   69.518868           65.132075   \nstd     12859.260682    2.036857    5.697819    5.467185            6.839765   \nmin    172049.000000   16.000000  161.000000   58.000000           39.000000   \n25%    224517.250000   21.000000  171.000000   66.000000           62.000000   \n50%    233256.000000   22.000000  175.000000   70.000000           65.000000   \n75%    239903.500000   24.000000  180.000000   72.750000           69.000000   \nmax    247000.000000   32.000000  190.000000   87.000000           80.000000   \n\n       attacking_finishing  attacking_heading_accuracy  \\\ncount           106.000000                  106.000000   \nmean             65.613208                   49.707547   \nstd               6.970100                    9.337040   \nmin              38.000000                   30.000000   \n25%              63.000000                   43.000000   \n50%              66.500000                   49.000000   \n75%              70.000000                   55.750000   \nmax              79.000000                   75.000000   \n\n       attacking_short_passing  attacking_volleys  skill_dribbling  ...  \\\ncount               106.000000         106.000000       106.000000  ...   \nmean                 69.198113          57.858491        74.754717  ...   \nstd                   5.526421           8.569535         6.787680  ...   \nmin                  44.000000          36.000000        42.000000  ...   \n25%                  67.000000          52.250000        73.000000  ...   \n50%                  70.000000          59.000000        76.000000  ...   \n75%                  72.000000          65.000000        78.000000  ...   \nmax                  83.000000          75.000000        87.000000  ...   \n\n       trait_Leadership  trait_Long Shot Taker (CPU AI Only)  \\\ncount        106.000000                                106.0   \nmean           0.009434                                  0.0   \nstd            0.097129                                  0.0   \nmin            0.000000                                  0.0   \n25%            0.000000                                  0.0   \n50%            0.000000                                  0.0   \n75%            0.000000                                  0.0   \nmax            1.000000                                  0.0   \n\n       trait_Long Throw-in  trait_Power Free-Kick  trait_Selfish  \\\ncount           106.000000             106.000000     106.000000   \nmean              0.009434               0.028302       0.235849   \nstd               0.097129               0.166622       0.426545   \nmin               0.000000               0.000000       0.000000   \n25%               0.000000               0.000000       0.000000   \n50%               0.000000               0.000000       0.000000   \n75%               0.000000               0.000000       0.000000   \nmax               1.000000               1.000000       1.000000   \n\n       trait_Skilled Dribbling  trait_Speed Dribbler (CPU AI Only)  Cluster  \\\ncount               106.000000                          106.000000    106.0   \nmean                  0.009434                            0.009434      0.0   \nstd                   0.097129                            0.097129      0.0   \nmin                   0.000000                            0.000000      0.0   \n25%                   0.000000                            0.000000      0.0   \n50%                   0.000000                            0.000000      0.0   \n75%                   0.000000                            0.000000      0.0   \nmax                   1.000000                            1.000000      0.0   \n\n          overall   potential  \ncount  106.000000  106.000000  \nmean    71.783019   79.858491  \nstd      4.848180    5.105438  \nmin     49.000000   53.000000  \n25%     70.000000   78.000000  \n50%     72.000000   80.000000  \n75%     74.000000   83.000000  \nmax     80.000000   87.000000  \n\n[8 rows x 80 columns]",
      "text/html": "<div>\n<style scoped>\n    .dataframe tbody tr th:only-of-type {\n        vertical-align: middle;\n    }\n\n    .dataframe tbody tr th {\n        vertical-align: top;\n    }\n\n    .dataframe thead th {\n        text-align: right;\n    }\n</style>\n<table border=\"1\" class=\"dataframe\">\n  <thead>\n    <tr style=\"text-align: right;\">\n      <th></th>\n      <th>sofifa_id</th>\n      <th>age</th>\n      <th>height_cm</th>\n      <th>weight_kg</th>\n      <th>attacking_crossing</th>\n      <th>attacking_finishing</th>\n      <th>attacking_heading_accuracy</th>\n      <th>attacking_short_passing</th>\n      <th>attacking_volleys</th>\n      <th>skill_dribbling</th>\n      <th>...</th>\n      <th>trait_Leadership</th>\n      <th>trait_Long Shot Taker (CPU AI Only)</th>\n      <th>trait_Long Throw-in</th>\n      <th>trait_Power Free-Kick</th>\n      <th>trait_Selfish</th>\n      <th>trait_Skilled Dribbling</th>\n      <th>trait_Speed Dribbler (CPU AI Only)</th>\n      <th>Cluster</th>\n      <th>overall</th>\n      <th>potential</th>\n    </tr>\n  </thead>\n  <tbody>\n    <tr>\n      <th>count</th>\n      <td>106.000000</td>\n      <td>106.000000</td>\n      <td>106.000000</td>\n      <td>106.000000</td>\n      <td>106.000000</td>\n      <td>106.000000</td>\n      <td>106.000000</td>\n      <td>106.000000</td>\n      <td>106.000000</td>\n      <td>106.000000</td>\n      <td>...</td>\n      <td>106.000000</td>\n      <td>106.0</td>\n      <td>106.000000</td>\n      <td>106.000000</td>\n      <td>106.000000</td>\n      <td>106.000000</td>\n      <td>106.000000</td>\n      <td>106.0</td>\n      <td>106.000000</td>\n      <td>106.000000</td>\n    </tr>\n    <tr>\n      <th>mean</th>\n      <td>230066.858491</td>\n      <td>22.245283</td>\n      <td>175.198113</td>\n      <td>69.518868</td>\n      <td>65.132075</td>\n      <td>65.613208</td>\n      <td>49.707547</td>\n      <td>69.198113</td>\n      <td>57.858491</td>\n      <td>74.754717</td>\n      <td>...</td>\n      <td>0.009434</td>\n      <td>0.0</td>\n      <td>0.009434</td>\n      <td>0.028302</td>\n      <td>0.235849</td>\n      <td>0.009434</td>\n      <td>0.009434</td>\n      <td>0.0</td>\n      <td>71.783019</td>\n      <td>79.858491</td>\n    </tr>\n    <tr>\n      <th>std</th>\n      <td>12859.260682</td>\n      <td>2.036857</td>\n      <td>5.697819</td>\n      <td>5.467185</td>\n      <td>6.839765</td>\n      <td>6.970100</td>\n      <td>9.337040</td>\n      <td>5.526421</td>\n      <td>8.569535</td>\n      <td>6.787680</td>\n      <td>...</td>\n      <td>0.097129</td>\n      <td>0.0</td>\n      <td>0.097129</td>\n      <td>0.166622</td>\n      <td>0.426545</td>\n      <td>0.097129</td>\n      <td>0.097129</td>\n      <td>0.0</td>\n      <td>4.848180</td>\n      <td>5.105438</td>\n    </tr>\n    <tr>\n      <th>min</th>\n      <td>172049.000000</td>\n      <td>16.000000</td>\n      <td>161.000000</td>\n      <td>58.000000</td>\n      <td>39.000000</td>\n      <td>38.000000</td>\n      <td>30.000000</td>\n      <td>44.000000</td>\n      <td>36.000000</td>\n      <td>42.000000</td>\n      <td>...</td>\n      <td>0.000000</td>\n      <td>0.0</td>\n      <td>0.000000</td>\n      <td>0.000000</td>\n      <td>0.000000</td>\n      <td>0.000000</td>\n      <td>0.000000</td>\n      <td>0.0</td>\n      <td>49.000000</td>\n      <td>53.000000</td>\n    </tr>\n    <tr>\n      <th>25%</th>\n      <td>224517.250000</td>\n      <td>21.000000</td>\n      <td>171.000000</td>\n      <td>66.000000</td>\n      <td>62.000000</td>\n      <td>63.000000</td>\n      <td>43.000000</td>\n      <td>67.000000</td>\n      <td>52.250000</td>\n      <td>73.000000</td>\n      <td>...</td>\n      <td>0.000000</td>\n      <td>0.0</td>\n      <td>0.000000</td>\n      <td>0.000000</td>\n      <td>0.000000</td>\n      <td>0.000000</td>\n      <td>0.000000</td>\n      <td>0.0</td>\n      <td>70.000000</td>\n      <td>78.000000</td>\n    </tr>\n    <tr>\n      <th>50%</th>\n      <td>233256.000000</td>\n      <td>22.000000</td>\n      <td>175.000000</td>\n      <td>70.000000</td>\n      <td>65.000000</td>\n      <td>66.500000</td>\n      <td>49.000000</td>\n      <td>70.000000</td>\n      <td>59.000000</td>\n      <td>76.000000</td>\n      <td>...</td>\n      <td>0.000000</td>\n      <td>0.0</td>\n      <td>0.000000</td>\n      <td>0.000000</td>\n      <td>0.000000</td>\n      <td>0.000000</td>\n      <td>0.000000</td>\n      <td>0.0</td>\n      <td>72.000000</td>\n      <td>80.000000</td>\n    </tr>\n    <tr>\n      <th>75%</th>\n      <td>239903.500000</td>\n      <td>24.000000</td>\n      <td>180.000000</td>\n      <td>72.750000</td>\n      <td>69.000000</td>\n      <td>70.000000</td>\n      <td>55.750000</td>\n      <td>72.000000</td>\n      <td>65.000000</td>\n      <td>78.000000</td>\n      <td>...</td>\n      <td>0.000000</td>\n      <td>0.0</td>\n      <td>0.000000</td>\n      <td>0.000000</td>\n      <td>0.000000</td>\n      <td>0.000000</td>\n      <td>0.000000</td>\n      <td>0.0</td>\n      <td>74.000000</td>\n      <td>83.000000</td>\n    </tr>\n    <tr>\n      <th>max</th>\n      <td>247000.000000</td>\n      <td>32.000000</td>\n      <td>190.000000</td>\n      <td>87.000000</td>\n      <td>80.000000</td>\n      <td>79.000000</td>\n      <td>75.000000</td>\n      <td>83.000000</td>\n      <td>75.000000</td>\n      <td>87.000000</td>\n      <td>...</td>\n      <td>1.000000</td>\n      <td>0.0</td>\n      <td>1.000000</td>\n      <td>1.000000</td>\n      <td>1.000000</td>\n      <td>1.000000</td>\n      <td>1.000000</td>\n      <td>0.0</td>\n      <td>80.000000</td>\n      <td>87.000000</td>\n    </tr>\n  </tbody>\n</table>\n<p>8 rows × 80 columns</p>\n</div>"
     },
     "execution_count": 254,
     "metadata": {},
     "output_type": "execute_result"
    }
   ],
   "source": [
    "data[data['Cluster'] == 0].describe()"
   ],
   "metadata": {
    "collapsed": false,
    "pycharm": {
     "name": "#%%\n"
    }
   }
  }
 ],
 "metadata": {
  "kernelspec": {
   "display_name": "Python 3",
   "language": "python",
   "name": "python3"
  },
  "language_info": {
   "codemirror_mode": {
    "name": "ipython",
    "version": 2
   },
   "file_extension": ".py",
   "mimetype": "text/x-python",
   "name": "python",
   "nbconvert_exporter": "python",
   "pygments_lexer": "ipython2",
   "version": "2.7.6"
  }
 },
 "nbformat": 4,
 "nbformat_minor": 0
}