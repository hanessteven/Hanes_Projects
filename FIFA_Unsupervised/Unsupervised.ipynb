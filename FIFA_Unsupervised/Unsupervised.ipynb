{
 "cells": [
  {
   "cell_type": "markdown",
   "metadata": {
    "collapsed": true,
    "pycharm": {
     "name": "#%% md\n"
    }
   },
   "source": [
    "#Test\n"
   ]
  },
  {
   "cell_type": "code",
   "execution_count": 1,
   "outputs": [],
   "source": [
    "from sklearn import preprocessing\n",
    "import pandas as pd\n",
    "import numpy as np\n",
    "import prince\n",
    "import seaborn as sns\n",
    "from kmodes.kprototypes import KPrototypes\n",
    "import matplotlib.pyplot as plt\n",
    "from matplotlib import style\n",
    "style.use(\"fivethirtyeight\")\n",
    "colors = ['b', 'orange', 'g', 'r', 'c', 'm', 'y', 'k', 'Brown', 'ForestGreen']\n",
    "%matplotlib inline"
   ],
   "metadata": {
    "collapsed": false,
    "pycharm": {
     "name": "#%%\n"
    }
   }
  },
  {
   "cell_type": "markdown",
   "source": [
    "First we read the data and view the data"
   ],
   "metadata": {
    "collapsed": false,
    "pycharm": {
     "name": "#%% md\n"
    }
   }
  },
  {
   "cell_type": "code",
   "execution_count": 2,
   "outputs": [
    {
     "data": {
      "text/plain": "   sofifa_id                                         player_url  \\\n0     158023  https://sofifa.com/player/158023/lionel-messi/...   \n1      20801  https://sofifa.com/player/20801/c-ronaldo-dos-...   \n2     190871  https://sofifa.com/player/190871/neymar-da-sil...   \n3     200389  https://sofifa.com/player/200389/jan-oblak/20/...   \n4     183277  https://sofifa.com/player/183277/eden-hazard/2...   \n\n          short_name                            long_name  age         dob  \\\n0           L. Messi       Lionel Andrés Messi Cuccittini   32  1987-06-24   \n1  Cristiano Ronaldo  Cristiano Ronaldo dos Santos Aveiro   34  1985-02-05   \n2          Neymar Jr        Neymar da Silva Santos Junior   27  1992-02-05   \n3           J. Oblak                            Jan Oblak   26  1993-01-07   \n4          E. Hazard                          Eden Hazard   28  1991-01-07   \n\n   height_cm  weight_kg nationality                 club  ...   lwb   ldm  \\\n0        170         72   Argentina         FC Barcelona  ...  68+2  66+2   \n1        187         83    Portugal             Juventus  ...  65+3  61+3   \n2        175         68      Brazil  Paris Saint-Germain  ...  66+3  61+3   \n3        188         87    Slovenia      Atlético Madrid  ...   NaN   NaN   \n4        175         74     Belgium          Real Madrid  ...  66+3  63+3   \n\n    cdm   rdm   rwb    lb   lcb    cb   rcb    rb  \n0  66+2  66+2  68+2  63+2  52+2  52+2  52+2  63+2  \n1  61+3  61+3  65+3  61+3  53+3  53+3  53+3  61+3  \n2  61+3  61+3  66+3  61+3  46+3  46+3  46+3  61+3  \n3   NaN   NaN   NaN   NaN   NaN   NaN   NaN   NaN  \n4  63+3  63+3  66+3  61+3  49+3  49+3  49+3  61+3  \n\n[5 rows x 104 columns]",
      "text/html": "<div>\n<style scoped>\n    .dataframe tbody tr th:only-of-type {\n        vertical-align: middle;\n    }\n\n    .dataframe tbody tr th {\n        vertical-align: top;\n    }\n\n    .dataframe thead th {\n        text-align: right;\n    }\n</style>\n<table border=\"1\" class=\"dataframe\">\n  <thead>\n    <tr style=\"text-align: right;\">\n      <th></th>\n      <th>sofifa_id</th>\n      <th>player_url</th>\n      <th>short_name</th>\n      <th>long_name</th>\n      <th>age</th>\n      <th>dob</th>\n      <th>height_cm</th>\n      <th>weight_kg</th>\n      <th>nationality</th>\n      <th>club</th>\n      <th>...</th>\n      <th>lwb</th>\n      <th>ldm</th>\n      <th>cdm</th>\n      <th>rdm</th>\n      <th>rwb</th>\n      <th>lb</th>\n      <th>lcb</th>\n      <th>cb</th>\n      <th>rcb</th>\n      <th>rb</th>\n    </tr>\n  </thead>\n  <tbody>\n    <tr>\n      <th>0</th>\n      <td>158023</td>\n      <td>https://sofifa.com/player/158023/lionel-messi/...</td>\n      <td>L. Messi</td>\n      <td>Lionel Andrés Messi Cuccittini</td>\n      <td>32</td>\n      <td>1987-06-24</td>\n      <td>170</td>\n      <td>72</td>\n      <td>Argentina</td>\n      <td>FC Barcelona</td>\n      <td>...</td>\n      <td>68+2</td>\n      <td>66+2</td>\n      <td>66+2</td>\n      <td>66+2</td>\n      <td>68+2</td>\n      <td>63+2</td>\n      <td>52+2</td>\n      <td>52+2</td>\n      <td>52+2</td>\n      <td>63+2</td>\n    </tr>\n    <tr>\n      <th>1</th>\n      <td>20801</td>\n      <td>https://sofifa.com/player/20801/c-ronaldo-dos-...</td>\n      <td>Cristiano Ronaldo</td>\n      <td>Cristiano Ronaldo dos Santos Aveiro</td>\n      <td>34</td>\n      <td>1985-02-05</td>\n      <td>187</td>\n      <td>83</td>\n      <td>Portugal</td>\n      <td>Juventus</td>\n      <td>...</td>\n      <td>65+3</td>\n      <td>61+3</td>\n      <td>61+3</td>\n      <td>61+3</td>\n      <td>65+3</td>\n      <td>61+3</td>\n      <td>53+3</td>\n      <td>53+3</td>\n      <td>53+3</td>\n      <td>61+3</td>\n    </tr>\n    <tr>\n      <th>2</th>\n      <td>190871</td>\n      <td>https://sofifa.com/player/190871/neymar-da-sil...</td>\n      <td>Neymar Jr</td>\n      <td>Neymar da Silva Santos Junior</td>\n      <td>27</td>\n      <td>1992-02-05</td>\n      <td>175</td>\n      <td>68</td>\n      <td>Brazil</td>\n      <td>Paris Saint-Germain</td>\n      <td>...</td>\n      <td>66+3</td>\n      <td>61+3</td>\n      <td>61+3</td>\n      <td>61+3</td>\n      <td>66+3</td>\n      <td>61+3</td>\n      <td>46+3</td>\n      <td>46+3</td>\n      <td>46+3</td>\n      <td>61+3</td>\n    </tr>\n    <tr>\n      <th>3</th>\n      <td>200389</td>\n      <td>https://sofifa.com/player/200389/jan-oblak/20/...</td>\n      <td>J. Oblak</td>\n      <td>Jan Oblak</td>\n      <td>26</td>\n      <td>1993-01-07</td>\n      <td>188</td>\n      <td>87</td>\n      <td>Slovenia</td>\n      <td>Atlético Madrid</td>\n      <td>...</td>\n      <td>NaN</td>\n      <td>NaN</td>\n      <td>NaN</td>\n      <td>NaN</td>\n      <td>NaN</td>\n      <td>NaN</td>\n      <td>NaN</td>\n      <td>NaN</td>\n      <td>NaN</td>\n      <td>NaN</td>\n    </tr>\n    <tr>\n      <th>4</th>\n      <td>183277</td>\n      <td>https://sofifa.com/player/183277/eden-hazard/2...</td>\n      <td>E. Hazard</td>\n      <td>Eden Hazard</td>\n      <td>28</td>\n      <td>1991-01-07</td>\n      <td>175</td>\n      <td>74</td>\n      <td>Belgium</td>\n      <td>Real Madrid</td>\n      <td>...</td>\n      <td>66+3</td>\n      <td>63+3</td>\n      <td>63+3</td>\n      <td>63+3</td>\n      <td>66+3</td>\n      <td>61+3</td>\n      <td>49+3</td>\n      <td>49+3</td>\n      <td>49+3</td>\n      <td>61+3</td>\n    </tr>\n  </tbody>\n</table>\n<p>5 rows × 104 columns</p>\n</div>"
     },
     "execution_count": 2,
     "metadata": {},
     "output_type": "execute_result"
    }
   ],
   "source": [
    "data = pd.read_csv(r'players_20.csv')\n",
    "data.head()"
   ],
   "metadata": {
    "collapsed": false,
    "pycharm": {
     "name": "#%%\n"
    }
   }
  },
  {
   "cell_type": "code",
   "execution_count": 5,
   "outputs": [],
   "source": [
    "def get_cat(series: pd.Series, empty_flag: bool) -> str:\n",
    "    \"\"\"\n",
    "    :param series: a pandas series of data (should be of one data type)\n",
    "    :param empty_flag: a boolean to call out an empty column (containing all NaNs)\n",
    "    :return: a string that is the 'category of the datatype'\n",
    "\n",
    "    This function will take a given series and return a generalized category for the datatype.\n",
    "    This is necessary for readability as df.dtypes will return ungrouped types (i.e. float64, int64)\n",
    "    as well as return some options that do not provide much insight (i.e. object)\n",
    "    \"\"\"\n",
    "    if empty_flag:  # Catch Empty Columns\n",
    "        return 'Empty'\n",
    "    elif pd.api.types.is_numeric_dtype(series):\n",
    "        return 'Numerical'\n",
    "    elif pd.api.types.is_datetime64_dtype(series):\n",
    "        return 'Date'\n",
    "    elif pd.api.types.is_bool_dtype(series):\n",
    "        return 'Boolean'\n",
    "    elif pd.api.types.is_categorical_dtype(series):\n",
    "        return 'Categorical'\n",
    "    elif pd.api.types.is_string_dtype(series):\n",
    "        return 'Text'\n",
    "    else:  # Catches all others for review\n",
    "        return 'Unknown'\n",
    "\n",
    "\n",
    "def col_categories(data: pd.DataFrame):\n",
    "    \"\"\"\n",
    "    :param data: a pandas Dataframe consisting of columns of data you want to explore their categories\n",
    "    :return: None\n",
    "    Prints the column name and data type of each column in the dataframe\n",
    "    \"\"\"\n",
    "    # if data.dropna().empty:  # Catches Error\n",
    "    #     raise ValueError('DataFrame Provided Contains is either empty or only contains NaNs')\n",
    "    #     # sys.exit(1)\n",
    "    for col in data.columns:  # For Each Column\n",
    "        if data[col].dropna().empty:  # Catch Empty Columns\n",
    "            empty = True  # Set Flag\n",
    "        else:\n",
    "            empty = False  # Set Flag\n",
    "        count = data[col].nunique()\n",
    "        print(col, ': ', get_cat(data[col], empty), ' -- #Unique: ', count)  # Print and Call Column Categories"
   ],
   "metadata": {
    "collapsed": false,
    "pycharm": {
     "name": "#%%\n"
    }
   }
  },
  {
   "cell_type": "code",
   "execution_count": 6,
   "outputs": [
    {
     "name": "stdout",
     "output_type": "stream",
     "text": [
      "sofifa_id :  Numerical  -- #Unique:  18278\n",
      "player_url :  Text  -- #Unique:  18278\n",
      "short_name :  Text  -- #Unique:  17354\n",
      "long_name :  Text  -- #Unique:  18218\n",
      "age :  Numerical  -- #Unique:  27\n",
      "dob :  Text  -- #Unique:  6142\n",
      "height_cm :  Numerical  -- #Unique:  49\n",
      "weight_kg :  Numerical  -- #Unique:  56\n",
      "nationality :  Text  -- #Unique:  162\n",
      "club :  Text  -- #Unique:  698\n",
      "overall :  Numerical  -- #Unique:  47\n",
      "potential :  Numerical  -- #Unique:  47\n",
      "value_eur :  Numerical  -- #Unique:  214\n",
      "wage_eur :  Numerical  -- #Unique:  141\n",
      "player_positions :  Text  -- #Unique:  643\n",
      "preferred_foot :  Text  -- #Unique:  2\n",
      "international_reputation :  Numerical  -- #Unique:  5\n",
      "weak_foot :  Numerical  -- #Unique:  5\n",
      "skill_moves :  Numerical  -- #Unique:  5\n",
      "work_rate :  Text  -- #Unique:  9\n",
      "body_type :  Text  -- #Unique:  10\n",
      "real_face :  Text  -- #Unique:  2\n",
      "release_clause_eur :  Numerical  -- #Unique:  1224\n",
      "player_tags :  Text  -- #Unique:  83\n",
      "team_position :  Text  -- #Unique:  29\n",
      "team_jersey_number :  Numerical  -- #Unique:  99\n",
      "loaned_from :  Text  -- #Unique:  316\n",
      "joined :  Text  -- #Unique:  1760\n",
      "contract_valid_until :  Numerical  -- #Unique:  8\n",
      "nation_position :  Text  -- #Unique:  26\n",
      "nation_jersey_number :  Numerical  -- #Unique:  30\n",
      "pace :  Numerical  -- #Unique:  70\n",
      "shooting :  Numerical  -- #Unique:  79\n",
      "passing :  Numerical  -- #Unique:  68\n",
      "dribbling :  Numerical  -- #Unique:  71\n",
      "defending :  Numerical  -- #Unique:  76\n",
      "physic :  Numerical  -- #Unique:  61\n",
      "gk_diving :  Numerical  -- #Unique:  47\n",
      "gk_handling :  Numerical  -- #Unique:  47\n",
      "gk_kicking :  Numerical  -- #Unique:  52\n",
      "gk_reflexes :  Numerical  -- #Unique:  48\n",
      "gk_speed :  Numerical  -- #Unique:  53\n",
      "gk_positioning :  Numerical  -- #Unique:  50\n",
      "player_traits :  Text  -- #Unique:  921\n",
      "attacking_crossing :  Numerical  -- #Unique:  88\n",
      "attacking_finishing :  Numerical  -- #Unique:  93\n",
      "attacking_heading_accuracy :  Numerical  -- #Unique:  89\n",
      "attacking_short_passing :  Numerical  -- #Unique:  84\n",
      "attacking_volleys :  Numerical  -- #Unique:  87\n",
      "skill_dribbling :  Numerical  -- #Unique:  92\n",
      "skill_curve :  Numerical  -- #Unique:  89\n",
      "skill_fk_accuracy :  Numerical  -- #Unique:  89\n",
      "skill_long_passing :  Numerical  -- #Unique:  85\n",
      "skill_ball_control :  Numerical  -- #Unique:  90\n",
      "movement_acceleration :  Numerical  -- #Unique:  86\n",
      "movement_sprint_speed :  Numerical  -- #Unique:  86\n",
      "movement_agility :  Numerical  -- #Unique:  83\n",
      "movement_reactions :  Numerical  -- #Unique:  72\n",
      "movement_balance :  Numerical  -- #Unique:  81\n",
      "power_shot_power :  Numerical  -- #Unique:  80\n",
      "power_jumping :  Numerical  -- #Unique:  74\n",
      "power_stamina :  Numerical  -- #Unique:  86\n",
      "power_strength :  Numerical  -- #Unique:  75\n",
      "power_long_shots :  Numerical  -- #Unique:  90\n",
      "mentality_aggression :  Numerical  -- #Unique:  87\n",
      "mentality_interceptions :  Numerical  -- #Unique:  89\n",
      "mentality_positioning :  Numerical  -- #Unique:  94\n",
      "mentality_vision :  Numerical  -- #Unique:  85\n",
      "mentality_penalties :  Numerical  -- #Unique:  86\n",
      "mentality_composure :  Numerical  -- #Unique:  85\n",
      "defending_marking :  Numerical  -- #Unique:  92\n",
      "defending_standing_tackle :  Numerical  -- #Unique:  88\n",
      "defending_sliding_tackle :  Numerical  -- #Unique:  88\n",
      "goalkeeping_diving :  Numerical  -- #Unique:  73\n",
      "goalkeeping_handling :  Numerical  -- #Unique:  71\n",
      "goalkeeping_kicking :  Numerical  -- #Unique:  81\n",
      "goalkeeping_positioning :  Numerical  -- #Unique:  76\n",
      "goalkeeping_reflexes :  Numerical  -- #Unique:  75\n",
      "ls :  Text  -- #Unique:  94\n",
      "st :  Text  -- #Unique:  94\n",
      "rs :  Text  -- #Unique:  94\n",
      "lw :  Text  -- #Unique:  107\n",
      "lf :  Text  -- #Unique:  103\n",
      "cf :  Text  -- #Unique:  103\n",
      "rf :  Text  -- #Unique:  103\n",
      "rw :  Text  -- #Unique:  107\n",
      "lam :  Text  -- #Unique:  103\n",
      "cam :  Text  -- #Unique:  103\n",
      "ram :  Text  -- #Unique:  103\n",
      "lm :  Text  -- #Unique:  100\n",
      "lcm :  Text  -- #Unique:  88\n",
      "cm :  Text  -- #Unique:  88\n",
      "rcm :  Text  -- #Unique:  88\n",
      "rm :  Text  -- #Unique:  100\n",
      "lwb :  Text  -- #Unique:  98\n",
      "ldm :  Text  -- #Unique:  98\n",
      "cdm :  Text  -- #Unique:  98\n",
      "rdm :  Text  -- #Unique:  98\n",
      "rwb :  Text  -- #Unique:  98\n",
      "lb :  Text  -- #Unique:  96\n",
      "lcb :  Text  -- #Unique:  110\n",
      "cb :  Text  -- #Unique:  110\n",
      "rcb :  Text  -- #Unique:  110\n",
      "rb :  Text  -- #Unique:  96\n"
     ]
    }
   ],
   "source": [
    "col_categories(data)\n",
    "\n"
   ],
   "metadata": {
    "collapsed": false,
    "pycharm": {
     "name": "#%%\n"
    }
   }
  },
  {
   "cell_type": "markdown",
   "source": [
    "Need to drop certain columns that do not make sense for clustering\n",
    "- Short Name\n",
    "- Long Name\n",
    "- URL\n",
    "\n",
    "Need to Dummify Position\n",
    "player traits\n",
    "player tag\n",
    "\n",
    "DOB Remove\n",
    "Joined date for how long with team\n",
    "\n",
    "Remove GK\n",
    "remove national team and loan columns"
   ],
   "metadata": {
    "collapsed": false,
    "pycharm": {
     "name": "#%% md\n"
    }
   }
  },
  {
   "cell_type": "markdown",
   "source": [
    "Explain what we see, flags as numerical (but are binary) should be fine in our cluster\n",
    "\n",
    "Lets look through a few of the variables to see the distribution (numerical with few options so\n",
    "that our visuals are clean)\n",
    "\n",
    "\n",
    "\n"
   ],
   "metadata": {
    "collapsed": false,
    "pycharm": {
     "name": "#%% md\n"
    }
   }
  },
  {
   "cell_type": "code",
   "execution_count": 12,
   "outputs": [
    {
     "data": {
      "text/plain": "array([[<matplotlib.axes._subplots.AxesSubplot object at 0x000001C2A356B548>,\n        <matplotlib.axes._subplots.AxesSubplot object at 0x000001C2A31D18C8>],\n       [<matplotlib.axes._subplots.AxesSubplot object at 0x000001C2A2B90B88>,\n        <matplotlib.axes._subplots.AxesSubplot object at 0x000001C2A1816708>]],\n      dtype=object)"
     },
     "execution_count": 12,
     "metadata": {},
     "output_type": "execute_result"
    },
    {
     "data": {
      "text/plain": "<Figure size 432x288 with 4 Axes>",
      "image/png": "[encoded data removed]"
     },
     "metadata": {
      "needs_background": "light"
     },
     "output_type": "display_data"
    }
   ],
   "source": [
    "data = data[data['team_position'] != 'GK']\n",
    "data[['age', 'team_jersey_number', 'defending', 'shooting']].hist()\n"
   ],
   "metadata": {
    "collapsed": false,
    "pycharm": {
     "name": "#%%\n"
    }
   }
  },
  {
   "cell_type": "code",
   "execution_count": 13,
   "outputs": [
    {
     "name": "stdout",
     "output_type": "stream",
     "text": [
      "-------Percentage of Null values count------\n",
      "sofifa_id --> 0.0\n",
      "player_url --> 0.0\n",
      "short_name --> 0.0\n",
      "long_name --> 0.0\n",
      "age --> 0.0\n",
      "dob --> 0.0\n",
      "height_cm --> 0.0\n",
      "weight_kg --> 0.0\n",
      "nationality --> 0.0\n",
      "club --> 0.0\n",
      "overall --> 0.0\n",
      "potential --> 0.0\n",
      "value_eur --> 0.0\n",
      "wage_eur --> 0.0\n",
      "player_positions --> 0.0\n",
      "preferred_foot --> 0.0\n",
      "international_reputation --> 0.0\n",
      "weak_foot --> 0.0\n",
      "skill_moves --> 0.0\n",
      "work_rate --> 0.0\n",
      "body_type --> 0.0\n",
      "real_face --> 0.0\n",
      "release_clause_eur --> 7.135558583106267\n",
      "player_tags --> 91.49069028156222\n",
      "team_position --> 1.3623978201634876\n",
      "team_jersey_number --> 1.3623978201634876\n",
      "loaned_from --> 94.28360581289736\n",
      "joined --> 7.078792007266122\n",
      "contract_valid_until --> 1.3623978201634876\n",
      "nation_position --> 94.07924613987284\n",
      "nation_jersey_number --> 94.07924613987284\n",
      "pace --> 7.799727520435967\n",
      "shooting --> 7.799727520435967\n",
      "passing --> 7.799727520435967\n",
      "dribbling --> 7.799727520435967\n",
      "defending --> 7.799727520435967\n",
      "physic --> 7.799727520435967\n",
      "gk_diving --> 92.20027247956403\n",
      "gk_handling --> 92.20027247956403\n",
      "gk_kicking --> 92.20027247956403\n",
      "gk_reflexes --> 92.20027247956403\n",
      "gk_speed --> 92.20027247956403\n",
      "gk_positioning --> 92.20027247956403\n",
      "player_traits --> 59.014532243415076\n",
      "attacking_crossing --> 0.0\n",
      "attacking_finishing --> 0.0\n",
      "attacking_heading_accuracy --> 0.0\n",
      "attacking_short_passing --> 0.0\n",
      "attacking_volleys --> 0.0\n",
      "skill_dribbling --> 0.0\n",
      "skill_curve --> 0.0\n",
      "skill_fk_accuracy --> 0.0\n",
      "skill_long_passing --> 0.0\n",
      "skill_ball_control --> 0.0\n",
      "movement_acceleration --> 0.0\n",
      "movement_sprint_speed --> 0.0\n",
      "movement_agility --> 0.0\n",
      "movement_reactions --> 0.0\n",
      "movement_balance --> 0.0\n",
      "power_shot_power --> 0.0\n",
      "power_jumping --> 0.0\n",
      "power_stamina --> 0.0\n",
      "power_strength --> 0.0\n",
      "power_long_shots --> 0.0\n",
      "mentality_aggression --> 0.0\n",
      "mentality_interceptions --> 0.0\n",
      "mentality_positioning --> 0.0\n",
      "mentality_vision --> 0.0\n",
      "mentality_penalties --> 0.0\n",
      "mentality_composure --> 0.0\n",
      "defending_marking --> 0.0\n",
      "defending_standing_tackle --> 0.0\n",
      "defending_sliding_tackle --> 0.0\n",
      "goalkeeping_diving --> 0.0\n",
      "goalkeeping_handling --> 0.0\n",
      "goalkeeping_kicking --> 0.0\n",
      "goalkeeping_positioning --> 0.0\n",
      "goalkeeping_reflexes --> 0.0\n",
      "ls --> 7.799727520435967\n",
      "st --> 7.799727520435967\n",
      "rs --> 7.799727520435967\n",
      "lw --> 7.799727520435967\n",
      "lf --> 7.799727520435967\n",
      "cf --> 7.799727520435967\n",
      "rf --> 7.799727520435967\n",
      "rw --> 7.799727520435967\n",
      "lam --> 7.799727520435967\n",
      "cam --> 7.799727520435967\n",
      "ram --> 7.799727520435967\n",
      "lm --> 7.799727520435967\n",
      "lcm --> 7.799727520435967\n",
      "cm --> 7.799727520435967\n",
      "rcm --> 7.799727520435967\n",
      "rm --> 7.799727520435967\n",
      "lwb --> 7.799727520435967\n",
      "ldm --> 7.799727520435967\n",
      "cdm --> 7.799727520435967\n",
      "rdm --> 7.799727520435967\n",
      "rwb --> 7.799727520435967\n",
      "lb --> 7.799727520435967\n",
      "lcb --> 7.799727520435967\n",
      "cb --> 7.799727520435967\n",
      "rcb --> 7.799727520435967\n",
      "rb --> 7.799727520435967\n"
     ]
    }
   ],
   "source": [
    "print(\"-------Percentage of Null values count------\")\n",
    "for feature in data.columns.values:\n",
    "    print(feature,\"-->\",100*data[feature].isnull().sum()/len(data))\n"
   ],
   "metadata": {
    "collapsed": false,
    "pycharm": {
     "name": "#%%\n"
    }
   }
  },
  {
   "cell_type": "markdown",
   "source": [
    "lots of missing features, but most still have atleast 35% values, so we will not be\n",
    "removing any full features"
   ],
   "metadata": {
    "collapsed": false,
    "pycharm": {
     "name": "#%% md\n"
    }
   }
  },
  {
   "cell_type": "code",
   "execution_count": 18,
   "outputs": [],
   "source": [
    "# Drop the columns/rows where all elements are nan:\n",
    "data.dropna(axis=1, how='all', inplace=True)\n",
    "data.dropna(axis=0, inplace=True)  # For future should instead impute these\n",
    "\n",
    "# Step 2: shall I standardise the data?\n",
    "# What is the magnitude of data range?\n",
    "# Only numerical variables needs to be scaled because catagorical variable cannot be scaled\n",
    "\n",
    "num_col = data.select_dtypes(include=np.number).columns.tolist()\n",
    "num_col.remove('SK_ID_CURR')"
   ],
   "metadata": {
    "collapsed": false,
    "pycharm": {
     "name": "#%%\n"
    }
   }
  },
  {
   "cell_type": "code",
   "execution_count": 19,
   "outputs": [],
   "source": [
    "for i in num_col:\n",
    "    data[i] = preprocessing.StandardScaler().fit_transform(data[[i]])"
   ],
   "metadata": {
    "collapsed": false,
    "pycharm": {
     "name": "#%%\n"
    }
   }
  },
  {
   "cell_type": "markdown",
   "source": [
    "Onto clustering, explain why not kmean or kmode - mixed data type\n",
    "explain algo\n"
   ],
   "metadata": {
    "collapsed": false,
    "pycharm": {
     "name": "#%% md\n"
    }
   }
  },
  {
   "cell_type": "code",
   "execution_count": 20,
   "outputs": [],
   "source": [
    "X = data[data.columns.values[1:]].values\n",
    "cat_col = list(set(data.columns) - set(num_col))\n",
    "cat_col.remove('SK_ID_CURR')\n",
    "cat_col = sorted([data.columns.get_loc(c) -1 for c in cat_col if c in data])\n"
   ],
   "metadata": {
    "collapsed": false,
    "pycharm": {
     "name": "#%%\n"
    }
   }
  },
  {
   "cell_type": "code",
   "execution_count": 21,
   "outputs": [
    {
     "data": {
      "text/plain": "[<matplotlib.lines.Line2D at 0x20bf47270c8>]"
     },
     "execution_count": 21,
     "metadata": {},
     "output_type": "execute_result"
    },
    {
     "data": {
      "text/plain": "<Figure size 432x288 with 1 Axes>",
      "image/png": "[encoded data removed]"
     },
     "metadata": {
      "needs_background": "light"
     },
     "output_type": "display_data"
    }
   ],
   "source": [
    "X2 = X[np.random.choice(len(X), size=6000, replace=True,)]\n",
    "#Choosing optimal K\n",
    "cost = []\n",
    "for num_clusters in list(range(1,14)):\n",
    "    kproto = KPrototypes(n_clusters=num_clusters, init='Cao')\n",
    "    kproto.fit_predict(X2, categorical=cat_col)\n",
    "    cost.append(kproto.cost_)\n",
    "\n",
    "plt.plot(cost)"
   ],
   "metadata": {
    "collapsed": false,
    "pycharm": {
     "name": "#%%\n"
    }
   }
  },
  {
   "cell_type": "markdown",
   "source": [],
   "metadata": {
    "collapsed": false,
    "pycharm": {
     "name": "#%% md\n"
    }
   }
  },
  {
   "cell_type": "code",
   "execution_count": 22,
   "outputs": [
    {
     "ename": "KeyboardInterrupt",
     "evalue": "",
     "output_type": "error",
     "traceback": [
      "\u001B[1;31m---------------------------------------------------------------------------\u001B[0m",
      "\u001B[1;31mKeyboardInterrupt\u001B[0m                         Traceback (most recent call last)",
      "\u001B[1;32m<ipython-input-22-f0568566c339>\u001B[0m in \u001B[0;36m<module>\u001B[1;34m\u001B[0m\n\u001B[0;32m      1\u001B[0m \u001B[0mkproto\u001B[0m \u001B[1;33m=\u001B[0m \u001B[0mKPrototypes\u001B[0m\u001B[1;33m(\u001B[0m\u001B[0mn_clusters\u001B[0m\u001B[1;33m=\u001B[0m\u001B[1;36m6\u001B[0m\u001B[1;33m,\u001B[0m \u001B[0minit\u001B[0m\u001B[1;33m=\u001B[0m\u001B[1;34m'Cao'\u001B[0m\u001B[1;33m)\u001B[0m\u001B[1;33m\u001B[0m\u001B[1;33m\u001B[0m\u001B[0m\n\u001B[1;32m----> 2\u001B[1;33m \u001B[0mclusters\u001B[0m \u001B[1;33m=\u001B[0m \u001B[0mkproto\u001B[0m\u001B[1;33m.\u001B[0m\u001B[0mfit_predict\u001B[0m\u001B[1;33m(\u001B[0m\u001B[0mX\u001B[0m\u001B[1;33m,\u001B[0m \u001B[0mcategorical\u001B[0m\u001B[1;33m=\u001B[0m\u001B[0mcat_col\u001B[0m\u001B[1;33m)\u001B[0m\u001B[1;33m\u001B[0m\u001B[1;33m\u001B[0m\u001B[0m\n\u001B[0m\u001B[0;32m      3\u001B[0m \u001B[1;33m\u001B[0m\u001B[0m\n\u001B[0;32m      4\u001B[0m \u001B[1;33m\u001B[0m\u001B[0m\n",
      "\u001B[1;32mc:\\users\\hanes\\ideaprojects\\venv\\dataquest64\\lib\\site-packages\\kmodes\\kmodes.py\u001B[0m in \u001B[0;36mfit_predict\u001B[1;34m(self, X, y, **kwargs)\u001B[0m\n\u001B[0;32m    416\u001B[0m         \u001B[0mpredict\u001B[0m\u001B[1;33m(\u001B[0m\u001B[0mX\u001B[0m\u001B[1;33m)\u001B[0m\u001B[1;33m.\u001B[0m\u001B[1;33m\u001B[0m\u001B[1;33m\u001B[0m\u001B[0m\n\u001B[0;32m    417\u001B[0m         \"\"\"\n\u001B[1;32m--> 418\u001B[1;33m         \u001B[1;32mreturn\u001B[0m \u001B[0mself\u001B[0m\u001B[1;33m.\u001B[0m\u001B[0mfit\u001B[0m\u001B[1;33m(\u001B[0m\u001B[0mX\u001B[0m\u001B[1;33m,\u001B[0m \u001B[1;33m**\u001B[0m\u001B[0mkwargs\u001B[0m\u001B[1;33m)\u001B[0m\u001B[1;33m.\u001B[0m\u001B[0mpredict\u001B[0m\u001B[1;33m(\u001B[0m\u001B[0mX\u001B[0m\u001B[1;33m,\u001B[0m \u001B[1;33m**\u001B[0m\u001B[0mkwargs\u001B[0m\u001B[1;33m)\u001B[0m\u001B[1;33m\u001B[0m\u001B[1;33m\u001B[0m\u001B[0m\n\u001B[0m\u001B[0;32m    419\u001B[0m \u001B[1;33m\u001B[0m\u001B[0m\n\u001B[0;32m    420\u001B[0m     \u001B[1;32mdef\u001B[0m \u001B[0mpredict\u001B[0m\u001B[1;33m(\u001B[0m\u001B[0mself\u001B[0m\u001B[1;33m,\u001B[0m \u001B[0mX\u001B[0m\u001B[1;33m,\u001B[0m \u001B[1;33m**\u001B[0m\u001B[0mkwargs\u001B[0m\u001B[1;33m)\u001B[0m\u001B[1;33m:\u001B[0m\u001B[1;33m\u001B[0m\u001B[1;33m\u001B[0m\u001B[0m\n",
      "\u001B[1;32mc:\\users\\hanes\\ideaprojects\\venv\\dataquest64\\lib\\site-packages\\kmodes\\kprototypes.py\u001B[0m in \u001B[0;36mfit\u001B[1;34m(self, X, y, categorical)\u001B[0m\n\u001B[0;32m    469\u001B[0m             \u001B[0mself\u001B[0m\u001B[1;33m.\u001B[0m\u001B[0mverbose\u001B[0m\u001B[1;33m,\u001B[0m\u001B[1;33m\u001B[0m\u001B[1;33m\u001B[0m\u001B[0m\n\u001B[0;32m    470\u001B[0m             \u001B[0mrandom_state\u001B[0m\u001B[1;33m,\u001B[0m\u001B[1;33m\u001B[0m\u001B[1;33m\u001B[0m\u001B[0m\n\u001B[1;32m--> 471\u001B[1;33m             \u001B[0mself\u001B[0m\u001B[1;33m.\u001B[0m\u001B[0mn_jobs\u001B[0m\u001B[1;33m\u001B[0m\u001B[1;33m\u001B[0m\u001B[0m\n\u001B[0m\u001B[0;32m    472\u001B[0m         )\n\u001B[0;32m    473\u001B[0m \u001B[1;33m\u001B[0m\u001B[0m\n",
      "\u001B[1;32mc:\\users\\hanes\\ideaprojects\\venv\\dataquest64\\lib\\site-packages\\kmodes\\kprototypes.py\u001B[0m in \u001B[0;36mk_prototypes\u001B[1;34m(X, categorical, n_clusters, max_iter, num_dissim, cat_dissim, gamma, init, n_init, verbose, random_state, n_jobs)\u001B[0m\n\u001B[0;32m    314\u001B[0m                                                \u001B[0mn_clusters\u001B[0m\u001B[1;33m,\u001B[0m \u001B[0mn_points\u001B[0m\u001B[1;33m,\u001B[0m \u001B[0mmax_iter\u001B[0m\u001B[1;33m,\u001B[0m\u001B[1;33m\u001B[0m\u001B[1;33m\u001B[0m\u001B[0m\n\u001B[0;32m    315\u001B[0m                                                \u001B[0mnum_dissim\u001B[0m\u001B[1;33m,\u001B[0m \u001B[0mcat_dissim\u001B[0m\u001B[1;33m,\u001B[0m \u001B[0mgamma\u001B[0m\u001B[1;33m,\u001B[0m\u001B[1;33m\u001B[0m\u001B[1;33m\u001B[0m\u001B[0m\n\u001B[1;32m--> 316\u001B[1;33m                                                init, init_no, verbose, seeds[init_no]))\n\u001B[0m\u001B[0;32m    317\u001B[0m     \u001B[1;32melse\u001B[0m\u001B[1;33m:\u001B[0m\u001B[1;33m\u001B[0m\u001B[1;33m\u001B[0m\u001B[0m\n\u001B[0;32m    318\u001B[0m         results = Parallel(n_jobs=n_jobs, verbose=0)(\n",
      "\u001B[1;32mc:\\users\\hanes\\ideaprojects\\venv\\dataquest64\\lib\\site-packages\\kmodes\\kprototypes.py\u001B[0m in \u001B[0;36mk_prototypes_single\u001B[1;34m(Xnum, Xcat, nnumattrs, ncatattrs, n_clusters, n_points, max_iter, num_dissim, cat_dissim, gamma, init, init_no, verbose, random_state)\u001B[0m\n\u001B[0;32m    247\u001B[0m         \u001B[1;31m# All points seen in this iteration\u001B[0m\u001B[1;33m\u001B[0m\u001B[1;33m\u001B[0m\u001B[1;33m\u001B[0m\u001B[0m\n\u001B[0;32m    248\u001B[0m         labels, ncost = _labels_cost(Xnum, Xcat, centroids,\n\u001B[1;32m--> 249\u001B[1;33m                                      num_dissim, cat_dissim, gamma, membship)\n\u001B[0m\u001B[0;32m    250\u001B[0m         \u001B[0mconverged\u001B[0m \u001B[1;33m=\u001B[0m \u001B[1;33m(\u001B[0m\u001B[0mmoves\u001B[0m \u001B[1;33m==\u001B[0m \u001B[1;36m0\u001B[0m\u001B[1;33m)\u001B[0m \u001B[1;32mor\u001B[0m \u001B[1;33m(\u001B[0m\u001B[0mncost\u001B[0m \u001B[1;33m>=\u001B[0m \u001B[0mcost\u001B[0m\u001B[1;33m)\u001B[0m\u001B[1;33m\u001B[0m\u001B[1;33m\u001B[0m\u001B[0m\n\u001B[0;32m    251\u001B[0m         \u001B[0mepoch_costs\u001B[0m\u001B[1;33m.\u001B[0m\u001B[0mappend\u001B[0m\u001B[1;33m(\u001B[0m\u001B[0mncost\u001B[0m\u001B[1;33m)\u001B[0m\u001B[1;33m\u001B[0m\u001B[1;33m\u001B[0m\u001B[0m\n",
      "\u001B[1;32mc:\\users\\hanes\\ideaprojects\\venv\\dataquest64\\lib\\site-packages\\kmodes\\kprototypes.py\u001B[0m in \u001B[0;36m_labels_cost\u001B[1;34m(Xnum, Xcat, centroids, num_dissim, cat_dissim, gamma, membship)\u001B[0m\n\u001B[0;32m     67\u001B[0m         \u001B[1;31m# Gamma relates the categorical cost to the numerical cost.\u001B[0m\u001B[1;33m\u001B[0m\u001B[1;33m\u001B[0m\u001B[1;33m\u001B[0m\u001B[0m\n\u001B[0;32m     68\u001B[0m         \u001B[0mtot_costs\u001B[0m \u001B[1;33m=\u001B[0m \u001B[0mnum_costs\u001B[0m \u001B[1;33m+\u001B[0m \u001B[0mgamma\u001B[0m \u001B[1;33m*\u001B[0m \u001B[0mcat_costs\u001B[0m\u001B[1;33m\u001B[0m\u001B[1;33m\u001B[0m\u001B[0m\n\u001B[1;32m---> 69\u001B[1;33m         \u001B[0mclust\u001B[0m \u001B[1;33m=\u001B[0m \u001B[0mnp\u001B[0m\u001B[1;33m.\u001B[0m\u001B[0margmin\u001B[0m\u001B[1;33m(\u001B[0m\u001B[0mtot_costs\u001B[0m\u001B[1;33m)\u001B[0m\u001B[1;33m\u001B[0m\u001B[1;33m\u001B[0m\u001B[0m\n\u001B[0m\u001B[0;32m     70\u001B[0m         \u001B[0mlabels\u001B[0m\u001B[1;33m[\u001B[0m\u001B[0mipoint\u001B[0m\u001B[1;33m]\u001B[0m \u001B[1;33m=\u001B[0m \u001B[0mclust\u001B[0m\u001B[1;33m\u001B[0m\u001B[1;33m\u001B[0m\u001B[0m\n\u001B[0;32m     71\u001B[0m         \u001B[0mcost\u001B[0m \u001B[1;33m+=\u001B[0m \u001B[0mtot_costs\u001B[0m\u001B[1;33m[\u001B[0m\u001B[0mclust\u001B[0m\u001B[1;33m]\u001B[0m\u001B[1;33m\u001B[0m\u001B[1;33m\u001B[0m\u001B[0m\n",
      "\u001B[1;32m<__array_function__ internals>\u001B[0m in \u001B[0;36margmin\u001B[1;34m(*args, **kwargs)\u001B[0m\n",
      "\u001B[1;32mc:\\users\\hanes\\ideaprojects\\venv\\dataquest64\\lib\\site-packages\\numpy\\core\\fromnumeric.py\u001B[0m in \u001B[0;36margmin\u001B[1;34m(a, axis, out)\u001B[0m\n\u001B[0;32m   1267\u001B[0m \u001B[1;33m\u001B[0m\u001B[0m\n\u001B[0;32m   1268\u001B[0m     \"\"\"\n\u001B[1;32m-> 1269\u001B[1;33m     \u001B[1;32mreturn\u001B[0m \u001B[0m_wrapfunc\u001B[0m\u001B[1;33m(\u001B[0m\u001B[0ma\u001B[0m\u001B[1;33m,\u001B[0m \u001B[1;34m'argmin'\u001B[0m\u001B[1;33m,\u001B[0m \u001B[0maxis\u001B[0m\u001B[1;33m=\u001B[0m\u001B[0maxis\u001B[0m\u001B[1;33m,\u001B[0m \u001B[0mout\u001B[0m\u001B[1;33m=\u001B[0m\u001B[0mout\u001B[0m\u001B[1;33m)\u001B[0m\u001B[1;33m\u001B[0m\u001B[1;33m\u001B[0m\u001B[0m\n\u001B[0m\u001B[0;32m   1270\u001B[0m \u001B[1;33m\u001B[0m\u001B[0m\n\u001B[0;32m   1271\u001B[0m \u001B[1;33m\u001B[0m\u001B[0m\n",
      "\u001B[1;32mc:\\users\\hanes\\ideaprojects\\venv\\dataquest64\\lib\\site-packages\\numpy\\core\\fromnumeric.py\u001B[0m in \u001B[0;36m_wrapfunc\u001B[1;34m(obj, method, *args, **kwds)\u001B[0m\n\u001B[0;32m     56\u001B[0m \u001B[1;33m\u001B[0m\u001B[0m\n\u001B[0;32m     57\u001B[0m     \u001B[1;32mtry\u001B[0m\u001B[1;33m:\u001B[0m\u001B[1;33m\u001B[0m\u001B[1;33m\u001B[0m\u001B[0m\n\u001B[1;32m---> 58\u001B[1;33m         \u001B[1;32mreturn\u001B[0m \u001B[0mbound\u001B[0m\u001B[1;33m(\u001B[0m\u001B[1;33m*\u001B[0m\u001B[0margs\u001B[0m\u001B[1;33m,\u001B[0m \u001B[1;33m**\u001B[0m\u001B[0mkwds\u001B[0m\u001B[1;33m)\u001B[0m\u001B[1;33m\u001B[0m\u001B[1;33m\u001B[0m\u001B[0m\n\u001B[0m\u001B[0;32m     59\u001B[0m     \u001B[1;32mexcept\u001B[0m \u001B[0mTypeError\u001B[0m\u001B[1;33m:\u001B[0m\u001B[1;33m\u001B[0m\u001B[1;33m\u001B[0m\u001B[0m\n\u001B[0;32m     60\u001B[0m         \u001B[1;31m# A TypeError occurs if the object does have such a method in its\u001B[0m\u001B[1;33m\u001B[0m\u001B[1;33m\u001B[0m\u001B[1;33m\u001B[0m\u001B[0m\n",
      "\u001B[1;31mKeyboardInterrupt\u001B[0m: "
     ]
    }
   ],
   "source": [
    "kproto = KPrototypes(n_clusters=6, init='Cao')\n",
    "clusters = kproto.fit_predict(X, categorical=cat_col)\n",
    "\n"
   ],
   "metadata": {
    "collapsed": false,
    "pycharm": {
     "name": "#%%\n"
    }
   }
  },
  {
   "cell_type": "code",
   "execution_count": null,
   "outputs": [],
   "source": [
    "data['Cluster'] = kproto.labels_\n",
    "sns.barplot(x=data.index, y = data['Cluster'])\n"
   ],
   "metadata": {
    "collapsed": false,
    "pycharm": {
     "name": "#%%\n"
    }
   }
  },
  {
   "cell_type": "markdown",
   "source": [
    "Step 4: Dimensionality Reduction ###\n",
    "Now we want to visualize the data from n diminesiton to 2 dimesion so we have to reduce the dimensionality of the\n",
    "data.since our data has both categorical and numerical values so we have to use \"facotor analysis for mixed data\" technique\n",
    "\"Prince\" package has this implementation"
   ],
   "metadata": {
    "collapsed": false,
    "pycharm": {
     "name": "#%% md\n"
    }
   }
  },
  {
   "cell_type": "code",
   "execution_count": null,
   "outputs": [],
   "source": [
    "famd = prince.FAMD(n_components=2, n_iter=3, copy=True, check_input=True, engine='auto')\n",
    "famd = famd.fit(data)\n",
    "\n",
    "ax = famd.plot_row_coordinates(data, ax=None, figsize=(12, 12), x_component=0, y_component=1,ellipse_outline=False,\n",
    "                               ellipse_fill=True, show_points=True, color_labels=data['Cluster'])\n",
    "\n",
    "\n",
    "\n"
   ],
   "metadata": {
    "collapsed": false,
    "pycharm": {
     "name": "#%%\n"
    }
   }
  },
  {
   "cell_type": "code",
   "execution_count": null,
   "outputs": [],
   "source": [
    "# # Step 5: profile the clusters (for a target variable)\n",
    "# data.groupby('Cluster')['Rx'].mean().reset_index()"
   ],
   "metadata": {
    "collapsed": false,
    "pycharm": {
     "name": "#%%\n"
    }
   }
  }
 ],
 "metadata": {
  "kernelspec": {
   "display_name": "Python 3",
   "language": "python",
   "name": "python3"
  },
  "language_info": {
   "codemirror_mode": {
    "name": "ipython",
    "version": 2
   },
   "file_extension": ".py",
   "mimetype": "text/x-python",
   "name": "python",
   "nbconvert_exporter": "python",
   "pygments_lexer": "ipython2",
   "version": "2.7.6"
  }
 },
 "nbformat": 4,
 "nbformat_minor": 0
}