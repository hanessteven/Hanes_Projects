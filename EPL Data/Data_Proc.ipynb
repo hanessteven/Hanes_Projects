{
 "cells": [
  {
   "cell_type": "markdown",
   "metadata": {
    "collapsed": true,
    "pycharm": {
     "name": "#%% md\n"
    }
   },
   "source": [
    "# Data Processing\n",
    "While we have the required raw data to begin an endeavor into data visualization,\n",
    "there are some transformations necessary to get the best result.\n",
    "\n",
    "## 1.0 Opening & Exploring the Data"
   ]
  },
  {
   "cell_type": "code",
   "execution_count": 5,
   "outputs": [],
   "source": [
    "# IMPORTS\n",
    "import numpy as np\n",
    "import pandas as pd\n"
   ],
   "metadata": {
    "collapsed": false,
    "pycharm": {
     "name": "#%%\n"
    }
   }
  },
  {
   "cell_type": "code",
   "execution_count": 6,
   "outputs": [
    {
     "data": {
      "text/plain": "   Unnamed: 0  assists  bonus  bps  clean_sheets  creativity  element  \\\n0        1097        0      0    0             0         0.0      543   \n1        1098        0      0    0             0         0.0      543   \n2        1099        0      0    0             0         0.0      543   \n3        1100        0      0    0             0         0.0      543   \n4        1101        0      0    0             0         0.0      543   \n\n   fixture  goals_conceded  goals_scored  ...  total_points  \\\n0       56               0             0  ...             0   \n1       69               0             0  ...             0   \n2       72               0             0  ...             0   \n3       89               0             0  ...             0   \n4       94               0             0  ...             0   \n\n   transfers_balance transfers_in  transfers_out value  was_home  \\\n0                  0            0              0   4.0     False   \n1               7377         8129            752   4.0      True   \n2               3735         4819           1084   4.0     False   \n3               2501         3859           1358   4.0      True   \n4                720         1398            678   4.0     False   \n\n   yellow_cards            full       team  ppm  \n0             0  Alfie Whiteman  Tottenham  0.0  \n1             0  Alfie Whiteman  Tottenham  0.0  \n2             0  Alfie Whiteman  Tottenham  0.0  \n3             0  Alfie Whiteman  Tottenham  0.0  \n4             0  Alfie Whiteman  Tottenham  0.0  \n\n[5 rows x 35 columns]",
      "text/html": "<div>\n<style scoped>\n    .dataframe tbody tr th:only-of-type {\n        vertical-align: middle;\n    }\n\n    .dataframe tbody tr th {\n        vertical-align: top;\n    }\n\n    .dataframe thead th {\n        text-align: right;\n    }\n</style>\n<table border=\"1\" class=\"dataframe\">\n  <thead>\n    <tr style=\"text-align: right;\">\n      <th></th>\n      <th>Unnamed: 0</th>\n      <th>assists</th>\n      <th>bonus</th>\n      <th>bps</th>\n      <th>clean_sheets</th>\n      <th>creativity</th>\n      <th>element</th>\n      <th>fixture</th>\n      <th>goals_conceded</th>\n      <th>goals_scored</th>\n      <th>...</th>\n      <th>total_points</th>\n      <th>transfers_balance</th>\n      <th>transfers_in</th>\n      <th>transfers_out</th>\n      <th>value</th>\n      <th>was_home</th>\n      <th>yellow_cards</th>\n      <th>full</th>\n      <th>team</th>\n      <th>ppm</th>\n    </tr>\n  </thead>\n  <tbody>\n    <tr>\n      <th>0</th>\n      <td>1097</td>\n      <td>0</td>\n      <td>0</td>\n      <td>0</td>\n      <td>0</td>\n      <td>0.0</td>\n      <td>543</td>\n      <td>56</td>\n      <td>0</td>\n      <td>0</td>\n      <td>...</td>\n      <td>0</td>\n      <td>0</td>\n      <td>0</td>\n      <td>0</td>\n      <td>4.0</td>\n      <td>False</td>\n      <td>0</td>\n      <td>Alfie Whiteman</td>\n      <td>Tottenham</td>\n      <td>0.0</td>\n    </tr>\n    <tr>\n      <th>1</th>\n      <td>1098</td>\n      <td>0</td>\n      <td>0</td>\n      <td>0</td>\n      <td>0</td>\n      <td>0.0</td>\n      <td>543</td>\n      <td>69</td>\n      <td>0</td>\n      <td>0</td>\n      <td>...</td>\n      <td>0</td>\n      <td>7377</td>\n      <td>8129</td>\n      <td>752</td>\n      <td>4.0</td>\n      <td>True</td>\n      <td>0</td>\n      <td>Alfie Whiteman</td>\n      <td>Tottenham</td>\n      <td>0.0</td>\n    </tr>\n    <tr>\n      <th>2</th>\n      <td>1099</td>\n      <td>0</td>\n      <td>0</td>\n      <td>0</td>\n      <td>0</td>\n      <td>0.0</td>\n      <td>543</td>\n      <td>72</td>\n      <td>0</td>\n      <td>0</td>\n      <td>...</td>\n      <td>0</td>\n      <td>3735</td>\n      <td>4819</td>\n      <td>1084</td>\n      <td>4.0</td>\n      <td>False</td>\n      <td>0</td>\n      <td>Alfie Whiteman</td>\n      <td>Tottenham</td>\n      <td>0.0</td>\n    </tr>\n    <tr>\n      <th>3</th>\n      <td>1100</td>\n      <td>0</td>\n      <td>0</td>\n      <td>0</td>\n      <td>0</td>\n      <td>0.0</td>\n      <td>543</td>\n      <td>89</td>\n      <td>0</td>\n      <td>0</td>\n      <td>...</td>\n      <td>0</td>\n      <td>2501</td>\n      <td>3859</td>\n      <td>1358</td>\n      <td>4.0</td>\n      <td>True</td>\n      <td>0</td>\n      <td>Alfie Whiteman</td>\n      <td>Tottenham</td>\n      <td>0.0</td>\n    </tr>\n    <tr>\n      <th>4</th>\n      <td>1101</td>\n      <td>0</td>\n      <td>0</td>\n      <td>0</td>\n      <td>0</td>\n      <td>0.0</td>\n      <td>543</td>\n      <td>94</td>\n      <td>0</td>\n      <td>0</td>\n      <td>...</td>\n      <td>0</td>\n      <td>720</td>\n      <td>1398</td>\n      <td>678</td>\n      <td>4.0</td>\n      <td>False</td>\n      <td>0</td>\n      <td>Alfie Whiteman</td>\n      <td>Tottenham</td>\n      <td>0.0</td>\n    </tr>\n  </tbody>\n</table>\n<p>5 rows × 35 columns</p>\n</div>"
     },
     "execution_count": 6,
     "metadata": {},
     "output_type": "execute_result"
    }
   ],
   "source": [
    "Raw = pd.read_csv(r'Tot_2020_partial.csv')\n",
    "Raw.head()"
   ],
   "metadata": {
    "collapsed": false,
    "pycharm": {
     "name": "#%%\n"
    }
   }
  }
 ],
 "metadata": {
  "kernelspec": {
   "display_name": "Python 3",
   "language": "python",
   "name": "python3"
  },
  "language_info": {
   "codemirror_mode": {
    "name": "ipython",
    "version": 2
   },
   "file_extension": ".py",
   "mimetype": "text/x-python",
   "name": "python",
   "nbconvert_exporter": "python",
   "pygments_lexer": "ipython2",
   "version": "2.7.6"
  }
 },
 "nbformat": 4,
 "nbformat_minor": 0
}