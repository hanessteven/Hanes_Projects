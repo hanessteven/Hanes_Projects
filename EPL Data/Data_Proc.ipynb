{
 "cells": [
  {
   "cell_type": "markdown",
   "metadata": {
    "collapsed": true,
    "pycharm": {
     "name": "#%% md\n"
    }
   },
   "source": [
    "# Data Processing\n",
    "While we have the required raw data to begin an endeavor into data visualization,\n",
    "there are some transformations necessary to get the best result.\n",
    "\n",
    "## 1.0 Opening & Exploring the Data"
   ]
  },
  {
   "cell_type": "code",
   "execution_count": 22,
   "outputs": [],
   "source": [
    "# IMPORTS\n",
    "import numpy as np\n",
    "import pandas as pd\n"
   ],
   "metadata": {
    "collapsed": false,
    "pycharm": {
     "name": "#%%\n"
    }
   }
  },
  {
   "cell_type": "code",
   "execution_count": 23,
   "outputs": [
    {
     "data": {
      "text/plain": "   assists  bonus  bps  clean_sheets  creativity  element  fixture  \\\n0        0      0    0             0         0.0      543       56   \n1        0      0    0             0         0.0      543       69   \n2        0      0    0             0         0.0      543       72   \n3        0      0    0             0         0.0      543       89   \n4        0      0    0             0         0.0      543       94   \n\n   goals_conceded  goals_scored  ict_index  ...  total_points  \\\n0               0             0        0.0  ...             0   \n1               0             0        0.0  ...             0   \n2               0             0        0.0  ...             0   \n3               0             0        0.0  ...             0   \n4               0             0        0.0  ...             0   \n\n  transfers_balance  transfers_in transfers_out  value  was_home  \\\n0                 0             0             0    4.0     False   \n1              7377          8129           752    4.0      True   \n2              3735          4819          1084    4.0     False   \n3              2501          3859          1358    4.0      True   \n4               720          1398           678    4.0     False   \n\n   yellow_cards            full       team  ppm  \n0             0  Alfie Whiteman  Tottenham  0.0  \n1             0  Alfie Whiteman  Tottenham  0.0  \n2             0  Alfie Whiteman  Tottenham  0.0  \n3             0  Alfie Whiteman  Tottenham  0.0  \n4             0  Alfie Whiteman  Tottenham  0.0  \n\n[5 rows x 34 columns]",
      "text/html": "<div>\n<style scoped>\n    .dataframe tbody tr th:only-of-type {\n        vertical-align: middle;\n    }\n\n    .dataframe tbody tr th {\n        vertical-align: top;\n    }\n\n    .dataframe thead th {\n        text-align: right;\n    }\n</style>\n<table border=\"1\" class=\"dataframe\">\n  <thead>\n    <tr style=\"text-align: right;\">\n      <th></th>\n      <th>assists</th>\n      <th>bonus</th>\n      <th>bps</th>\n      <th>clean_sheets</th>\n      <th>creativity</th>\n      <th>element</th>\n      <th>fixture</th>\n      <th>goals_conceded</th>\n      <th>goals_scored</th>\n      <th>ict_index</th>\n      <th>...</th>\n      <th>total_points</th>\n      <th>transfers_balance</th>\n      <th>transfers_in</th>\n      <th>transfers_out</th>\n      <th>value</th>\n      <th>was_home</th>\n      <th>yellow_cards</th>\n      <th>full</th>\n      <th>team</th>\n      <th>ppm</th>\n    </tr>\n  </thead>\n  <tbody>\n    <tr>\n      <th>0</th>\n      <td>0</td>\n      <td>0</td>\n      <td>0</td>\n      <td>0</td>\n      <td>0.0</td>\n      <td>543</td>\n      <td>56</td>\n      <td>0</td>\n      <td>0</td>\n      <td>0.0</td>\n      <td>...</td>\n      <td>0</td>\n      <td>0</td>\n      <td>0</td>\n      <td>0</td>\n      <td>4.0</td>\n      <td>False</td>\n      <td>0</td>\n      <td>Alfie Whiteman</td>\n      <td>Tottenham</td>\n      <td>0.0</td>\n    </tr>\n    <tr>\n      <th>1</th>\n      <td>0</td>\n      <td>0</td>\n      <td>0</td>\n      <td>0</td>\n      <td>0.0</td>\n      <td>543</td>\n      <td>69</td>\n      <td>0</td>\n      <td>0</td>\n      <td>0.0</td>\n      <td>...</td>\n      <td>0</td>\n      <td>7377</td>\n      <td>8129</td>\n      <td>752</td>\n      <td>4.0</td>\n      <td>True</td>\n      <td>0</td>\n      <td>Alfie Whiteman</td>\n      <td>Tottenham</td>\n      <td>0.0</td>\n    </tr>\n    <tr>\n      <th>2</th>\n      <td>0</td>\n      <td>0</td>\n      <td>0</td>\n      <td>0</td>\n      <td>0.0</td>\n      <td>543</td>\n      <td>72</td>\n      <td>0</td>\n      <td>0</td>\n      <td>0.0</td>\n      <td>...</td>\n      <td>0</td>\n      <td>3735</td>\n      <td>4819</td>\n      <td>1084</td>\n      <td>4.0</td>\n      <td>False</td>\n      <td>0</td>\n      <td>Alfie Whiteman</td>\n      <td>Tottenham</td>\n      <td>0.0</td>\n    </tr>\n    <tr>\n      <th>3</th>\n      <td>0</td>\n      <td>0</td>\n      <td>0</td>\n      <td>0</td>\n      <td>0.0</td>\n      <td>543</td>\n      <td>89</td>\n      <td>0</td>\n      <td>0</td>\n      <td>0.0</td>\n      <td>...</td>\n      <td>0</td>\n      <td>2501</td>\n      <td>3859</td>\n      <td>1358</td>\n      <td>4.0</td>\n      <td>True</td>\n      <td>0</td>\n      <td>Alfie Whiteman</td>\n      <td>Tottenham</td>\n      <td>0.0</td>\n    </tr>\n    <tr>\n      <th>4</th>\n      <td>0</td>\n      <td>0</td>\n      <td>0</td>\n      <td>0</td>\n      <td>0.0</td>\n      <td>543</td>\n      <td>94</td>\n      <td>0</td>\n      <td>0</td>\n      <td>0.0</td>\n      <td>...</td>\n      <td>0</td>\n      <td>720</td>\n      <td>1398</td>\n      <td>678</td>\n      <td>4.0</td>\n      <td>False</td>\n      <td>0</td>\n      <td>Alfie Whiteman</td>\n      <td>Tottenham</td>\n      <td>0.0</td>\n    </tr>\n  </tbody>\n</table>\n<p>5 rows × 34 columns</p>\n</div>"
     },
     "execution_count": 23,
     "metadata": {},
     "output_type": "execute_result"
    }
   ],
   "source": [
    "Raw = pd.read_csv(r'Tot_2020_partial.csv').drop(columns=['Unnamed: 0'])\n",
    "Raw.head()"
   ],
   "metadata": {
    "collapsed": false,
    "pycharm": {
     "name": "#%%\n"
    }
   }
  },
  {
   "cell_type": "markdown",
   "source": [
    "To have a better understanding of our data, it is often best to understand how the data is\n",
    "framed in columns, and what data type are said columns"
   ],
   "metadata": {
    "collapsed": false,
    "pycharm": {
     "name": "#%% md\n"
    }
   }
  },
  {
   "cell_type": "code",
   "execution_count": 24,
   "outputs": [],
   "source": [
    "def get_cat(series: pd.Series, empty_flag: bool) -> str:\n",
    "    \"\"\"\n",
    "    :param series: a pandas series of data (should be of one data type)\n",
    "    :param empty_flag: a boolean to call out an empty column (containing all NaNs)\n",
    "    :return: a string that is the 'category of the datatype'\n",
    "\n",
    "    This function will take a given series and return a generalized category for the datatype.\n",
    "    This is necessary for readability as df.dtypes will return ungrouped types (i.e. float64, int64)\n",
    "    as well as return some options that do not provide much insight (i.e. object)\n",
    "    \"\"\"\n",
    "    if empty_flag:  # Catch Empty Columns\n",
    "        return 'Empty'\n",
    "    elif pd.api.types.is_numeric_dtype(series):\n",
    "        return 'Numerical'\n",
    "    elif pd.api.types.is_datetime64_dtype(series):\n",
    "        return 'Date'\n",
    "    elif pd.api.types.is_bool_dtype(series):\n",
    "        return 'Boolean'\n",
    "    elif pd.api.types.is_categorical_dtype(series):\n",
    "        return 'Categorical'\n",
    "    elif pd.api.types.is_string_dtype(series):\n",
    "        return 'Text'\n",
    "    else:  # Catches all others for review\n",
    "        return 'Unknown'\n",
    "\n",
    "\n",
    "def col_categories(data: pd.DataFrame):\n",
    "    \"\"\"\n",
    "    :param data: a pandas Dataframe consisting of columns of data you want to explore their categories\n",
    "    :return: None\n",
    "    Prints the column name and data type of each column in the dataframe\n",
    "    \"\"\"\n",
    "    if data.dropna().empty:  # Catches Error\n",
    "        raise ValueError('DataFrame Provided Contains is either empty or only contains NaNs')\n",
    "        # sys.exit(1)\n",
    "    for col in data.columns:  # For Each Column\n",
    "        if data[col].dropna().empty:  # Catch Empty Columns\n",
    "            empty = True  # Set Flag\n",
    "        else:\n",
    "            empty = False  # Set Flag\n",
    "        print(col, ': ', get_cat(data[col], empty))  # Print and Call Column Categories"
   ],
   "metadata": {
    "collapsed": false,
    "pycharm": {
     "name": "#%%\n"
    }
   }
  },
  {
   "cell_type": "code",
   "execution_count": 25,
   "outputs": [
    {
     "name": "stdout",
     "output_type": "stream",
     "text": [
      "assists :  Numerical\n",
      "bonus :  Numerical\n",
      "bps :  Numerical\n",
      "clean_sheets :  Numerical\n",
      "creativity :  Numerical\n",
      "element :  Numerical\n",
      "fixture :  Numerical\n",
      "goals_conceded :  Numerical\n",
      "goals_scored :  Numerical\n",
      "ict_index :  Numerical\n",
      "influence :  Numerical\n",
      "kickoff_time :  Text\n",
      "minutes :  Numerical\n",
      "opponent_team :  Text\n",
      "own_goals :  Numerical\n",
      "penalties_missed :  Numerical\n",
      "penalties_saved :  Numerical\n",
      "red_cards :  Numerical\n",
      "round :  Numerical\n",
      "saves :  Numerical\n",
      "selected :  Numerical\n",
      "team_a_score :  Numerical\n",
      "team_h_score :  Numerical\n",
      "threat :  Numerical\n",
      "total_points :  Numerical\n",
      "transfers_balance :  Numerical\n",
      "transfers_in :  Numerical\n",
      "transfers_out :  Numerical\n",
      "value :  Numerical\n",
      "was_home :  Numerical\n",
      "yellow_cards :  Numerical\n",
      "full :  Text\n",
      "team :  Text\n",
      "ppm :  Numerical\n"
     ]
    }
   ],
   "source": [
    "col_categories(Raw)"
   ],
   "metadata": {
    "collapsed": false,
    "pycharm": {
     "name": "#%%\n"
    }
   }
  },
  {
   "cell_type": "markdown",
   "source": [
    "As we can see, we have quite a few columns that we may need a better definition for.\n",
    "I will have to check back with the source of this data to expand on these definitions.\n",
    "\n",
    "It will also be good at this time to identify what other variables we may want to aggregate on\n",
    "through a simple grouping process."
   ],
   "metadata": {
    "collapsed": false,
    "pycharm": {
     "name": "#%% md\n"
    }
   }
  },
  {
   "cell_type": "markdown",
   "source": [
    "- assists :  Numerical\n",
    "    - Number of Assists by Player\n",
    "- bonus :  Numerical\n",
    "    - Number of Bonus Points (Fantasy Football)\n",
    "    - They are devised and allocated post-match according to a Bonus Points System (BPS)\n",
    "- bps :  Numerical\n",
    "    - Unknown\n",
    "    - **Without knowing this metric, we should probably remove it**\n",
    "- clean_sheets :  Numerical\n",
    "    - Fantasy Football\n",
    "    - 0 or 1, 1 indication a clean sheet kept, while the player was on the field\n",
    "- creativity :  Numerical\n",
    "    - Creativity Index (Fantasy Football)\n",
    "    - Creativity assesses player performance in terms of producing goalscoring opportunities for others.\n",
    "- element :  Numerical\n",
    "    - Player ID\n",
    "- fixture :  Numerical\n",
    "    - Fixture ID\n",
    "- goals_conceded :  Numerical\n",
    "    - Goals Conceded While Player was On\n",
    "- goals_scored :  Numerical\n",
    "    - Goals Scored By Player\n",
    "- ict_index :  Numerical\n",
    "    - Fantasy Football\n",
    "    - Includes Influence, Creativity, and Threat\n",
    "- influence :  Numerical\n",
    "    - Fantasy Football\n",
    "    - Influence Score\n",
    "- kickoff_time :  Text\n",
    "    - Match Time\n",
    "- minutes :  Numerical\n",
    "    - Minutes Played\n",
    "- opponent_team :  Text\n",
    "    - Opposing Team\n",
    "- own_goals :  Numerical\n",
    "    - Own Goal Scored by Player\n",
    "- penalties_missed :  Numerical\n",
    "    - Penalties Missed\n",
    "- penalties_saved :  Numerical\n",
    "    - Penalties Saved\n",
    "- red_cards :  Numerical\n",
    "    - Red Cards to Player\n",
    "- round :  Numerical\n",
    "    - Gameweek\n",
    "    - **Need to Aggregate By**\n",
    "- saves :  Numerical\n",
    "    - Total Saved\n",
    "- selected :  Numerical\n",
    "    - Fantasy Football - Number of time Player was selected\n",
    "- team_a_score :  Numerical\n",
    "    - Away Team Goals\n",
    "- team_h_score :  Numerical\n",
    "    - Home Team Goals\n",
    "- threat :  Numerical\n",
    "    - Fantasy Football\n",
    "    - Threat Index\n",
    "- total_points :  Numerical\n",
    "    - Fantasy Football Total Points for Game\n",
    "- transfers_balance :  Numerical\n",
    "    - Fantasy Football\n",
    "    - Transfers In - Transfers Out\n",
    "- transfers_in :  Numerical\n",
    "    - Number of FPL users that transferred player in this gameweek\n",
    "- transfers_out :  Numerical\n",
    "    - Number of FPL users that transferred player out this gameweek\n",
    "- value :  Numerical\n",
    "    - Price in Fantasy Football\n",
    "- was_home :  Numerical\n",
    "    - Binary Variable if team was home\n",
    "- yellow_cards :  Numerical\n",
    "    - Yellow Card Received by Player\n",
    "- full :  Text\n",
    "    - Player Name\n",
    "    - **Need to Aggregate By**\n",
    "- team :  Text\n",
    "    - Team Name\n",
    "- ppm :  Numerical\n",
    "    - Fantasy Football\n",
    "    - Points Per Million Index - Points Per Game Per Cost in Millions"
   ],
   "metadata": {
    "collapsed": false,
    "pycharm": {
     "name": "#%% md\n"
    }
   }
  }
 ],
 "metadata": {
  "kernelspec": {
   "display_name": "Python 3",
   "language": "python",
   "name": "python3"
  },
  "language_info": {
   "codemirror_mode": {
    "name": "ipython",
    "version": 2
   },
   "file_extension": ".py",
   "mimetype": "text/x-python",
   "name": "python",
   "nbconvert_exporter": "python",
   "pygments_lexer": "ipython2",
   "version": "2.7.6"
  }
 },
 "nbformat": 4,
 "nbformat_minor": 0
}